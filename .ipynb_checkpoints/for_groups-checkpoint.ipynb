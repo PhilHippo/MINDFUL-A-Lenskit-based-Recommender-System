{
 "cells": [
  {
   "cell_type": "code",
   "execution_count": 1,
   "id": "01e7a91f",
   "metadata": {},
   "outputs": [],
   "source": [
    "from lenskit.algorithms.als import ImplicitMF\n",
    "import numpy as np\n",
    "import pandas as pd\n",
    "from lenskit import batch, topn, util\n",
    "from lenskit import crossfold as xf\n",
    "\n",
    "from scipy.sparse import coo_matrix\n",
    "from sklearn.feature_extraction.text import TfidfVectorizer\n",
    "from lenskit.algorithms.user_knn import UserUser\n",
    "\n",
    "from lenskit.algorithms import Recommender, Predictor\n",
    "from lenskit.algorithms.item_knn import ItemItem\n",
    "from lenskit.algorithms.basic import Bias\n",
    "from lenskit.metrics.predict import rmse\n",
    "from sklearn.metrics.pairwise import cosine_similarity"
   ]
  },
  {
   "cell_type": "code",
   "execution_count": 2,
   "id": "ca79c420",
   "metadata": {},
   "outputs": [
    {
     "data": {
      "text/html": [
       "<div>\n",
       "<style scoped>\n",
       "    .dataframe tbody tr th:only-of-type {\n",
       "        vertical-align: middle;\n",
       "    }\n",
       "\n",
       "    .dataframe tbody tr th {\n",
       "        vertical-align: top;\n",
       "    }\n",
       "\n",
       "    .dataframe thead th {\n",
       "        text-align: right;\n",
       "    }\n",
       "</style>\n",
       "<table border=\"1\" class=\"dataframe\">\n",
       "  <thead>\n",
       "    <tr style=\"text-align: right;\">\n",
       "      <th></th>\n",
       "      <th>user</th>\n",
       "      <th>item</th>\n",
       "      <th>rating</th>\n",
       "    </tr>\n",
       "  </thead>\n",
       "  <tbody>\n",
       "    <tr>\n",
       "      <th>0</th>\n",
       "      <td>13740</td>\n",
       "      <td>55689</td>\n",
       "      <td>1.0</td>\n",
       "    </tr>\n",
       "    <tr>\n",
       "      <th>1</th>\n",
       "      <td>91836</td>\n",
       "      <td>17059</td>\n",
       "      <td>1.0</td>\n",
       "    </tr>\n",
       "    <tr>\n",
       "      <th>2</th>\n",
       "      <td>73700</td>\n",
       "      <td>23814</td>\n",
       "      <td>1.0</td>\n",
       "    </tr>\n",
       "    <tr>\n",
       "      <th>3</th>\n",
       "      <td>34670</td>\n",
       "      <td>49685</td>\n",
       "      <td>1.0</td>\n",
       "    </tr>\n",
       "    <tr>\n",
       "      <th>4</th>\n",
       "      <td>8125</td>\n",
       "      <td>8400</td>\n",
       "      <td>1.0</td>\n",
       "    </tr>\n",
       "    <tr>\n",
       "      <th>...</th>\n",
       "      <td>...</td>\n",
       "      <td>...</td>\n",
       "      <td>...</td>\n",
       "    </tr>\n",
       "    <tr>\n",
       "      <th>156963</th>\n",
       "      <td>44625</td>\n",
       "      <td>50007</td>\n",
       "      <td>1.0</td>\n",
       "    </tr>\n",
       "    <tr>\n",
       "      <th>156963</th>\n",
       "      <td>44625</td>\n",
       "      <td>366</td>\n",
       "      <td>1.0</td>\n",
       "    </tr>\n",
       "    <tr>\n",
       "      <th>156963</th>\n",
       "      <td>44625</td>\n",
       "      <td>18573</td>\n",
       "      <td>1.0</td>\n",
       "    </tr>\n",
       "    <tr>\n",
       "      <th>156963</th>\n",
       "      <td>44625</td>\n",
       "      <td>20630</td>\n",
       "      <td>1.0</td>\n",
       "    </tr>\n",
       "    <tr>\n",
       "      <th>156964</th>\n",
       "      <td>64800</td>\n",
       "      <td>33828</td>\n",
       "      <td>1.0</td>\n",
       "    </tr>\n",
       "  </tbody>\n",
       "</table>\n",
       "<p>236344 rows × 3 columns</p>\n",
       "</div>"
      ],
      "text/plain": [
       "         user   item  rating\n",
       "0       13740  55689     1.0\n",
       "1       91836  17059     1.0\n",
       "2       73700  23814     1.0\n",
       "3       34670  49685     1.0\n",
       "4        8125   8400     1.0\n",
       "...       ...    ...     ...\n",
       "156963  44625  50007     1.0\n",
       "156963  44625    366     1.0\n",
       "156963  44625  18573     1.0\n",
       "156963  44625  20630     1.0\n",
       "156964  64800  33828     1.0\n",
       "\n",
       "[236344 rows x 3 columns]"
      ]
     },
     "execution_count": 2,
     "metadata": {},
     "output_type": "execute_result"
    }
   ],
   "source": [
    "# Load data\n",
    "all_behaviors = pd.read_csv('./small_training_data/behaviors.tsv', delimiter='\\t', header=None)\n",
    "all_news = pd.read_csv('./small_training_data/news.tsv', delimiter='\\t', header=None)\n",
    "\n",
    "# Naming columns\n",
    "all_behaviors.columns = [\"impression_id\", \"user_id\", \"time\", \"history\", \"impressions\"]\n",
    "all_news.columns = [\"news_id\", \"category\", \"subcategory\", \"title\", \"abstract\", \"url\", \"title_entities\", \"abstract_entities\"]\n",
    "\n",
    "# Remove NaN values in the 'abstract' column\n",
    "all_news = all_news.dropna(subset=['abstract'])\n",
    "\n",
    "# Extracting clicked news from behaviors, this is a column of lists of the clicked news (tagget with 1) for each impression\n",
    "all_behaviors['clicked_news'] = all_behaviors['impressions'].apply(lambda x: [imp.split('-')[0] for imp in x.split() if imp.split('-')[1] == '1'])\n",
    "all_clicks = all_behaviors.explode('clicked_news')[['user_id', 'clicked_news']].dropna()\n",
    "all_clicks.columns = ['user', 'item']\n",
    "all_clicks['rating'] = np.ones(len(all_clicks))\n",
    "all_clicks['user'] = all_clicks['user'].str[1:].astype(int)\n",
    "all_clicks['item'] = all_clicks['item'].str[1:].astype(int)\n",
    "\n",
    "all_clicks"
   ]
  },
  {
   "cell_type": "code",
   "execution_count": 3,
   "id": "6d50b78a",
   "metadata": {},
   "outputs": [
    {
     "data": {
      "text/plain": [
       "<lenskit.algorithms.als.ImplicitMF at 0x1cf08841550>"
      ]
     },
     "execution_count": 3,
     "metadata": {},
     "output_type": "execute_result"
    }
   ],
   "source": [
    "# Create an implicit feedback model with 50 features and 20 iterations\n",
    "model = ImplicitMF(features=50, iterations=20, reg=0.1)\n",
    "\n",
    "# Train the model\n",
    "model.fit(all_clicks)"
   ]
  },
  {
   "cell_type": "code",
   "execution_count": 4,
   "id": "fe6911e6",
   "metadata": {},
   "outputs": [
    {
     "name": "stdout",
     "output_type": "stream",
     "text": [
      "Top 10 recommended items for user 62470:\n",
      "23877    1.278271\n",
      "16148    1.245736\n",
      "7809     1.217857\n",
      "10960    1.100213\n",
      "55689    1.055545\n",
      "3123     1.047330\n",
      "41578    0.996690\n",
      "49712    0.978590\n",
      "21420    0.963932\n",
      "10812    0.956730\n",
      "dtype: float64\n"
     ]
    }
   ],
   "source": [
    "\n",
    "# For individual users\n",
    "user = 62470\n",
    "recs_user = model.predict_for_user(user, all_clicks.item.unique().tolist())\n",
    "read_items = all_clicks[all_clicks['user'] == user]['item'].tolist()\n",
    "\n",
    "# 2. Exclude these items from the predicted recommendations\n",
    "recs_user = recs_user.drop(read_items, errors='ignore')\n",
    "# Sort the predictions in descending order and select the top 10\n",
    "top_10_items = recs_user.sort_values(ascending=False).head(10)\n",
    "\n",
    "print(f\"Top 10 recommended items for user {user}:\")\n",
    "print(top_10_items)"
   ]
  },
  {
   "cell_type": "code",
   "execution_count": 5,
   "id": "df01228b",
   "metadata": {},
   "outputs": [],
   "source": [
    "# for group (aggregation)"
   ]
  },
  {
   "cell_type": "code",
   "execution_count": 6,
   "id": "8af5b780",
   "metadata": {},
   "outputs": [],
   "source": [
    "def group_recommendations(user_group, model, all_items, user_item_data):\n",
    "    # A dictionary to aggregate scores\n",
    "    aggregated_scores = {}\n",
    "\n",
    "    # A set to collect items already read by any user in the group\n",
    "    read_by_group = set()\n",
    "\n",
    "    for user in user_group:\n",
    "        # Get individual user recommendations\n",
    "        recs_user = model.predict_for_user(user, all_items)\n",
    "        \n",
    "        # Exclude items already read by the user\n",
    "        read_items = user_item_data[user_item_data['user'] == user]['item'].tolist()\n",
    "        recs_user = recs_user.drop(read_items, errors='ignore')\n",
    "\n",
    "        # Add these read items to the group set\n",
    "        read_by_group.update(read_items)\n",
    "\n",
    "        # Aggregate scores\n",
    "        for item, score in recs_user.items():\n",
    "            if item in aggregated_scores:\n",
    "                aggregated_scores[item] += score\n",
    "            else:\n",
    "                aggregated_scores[item] = score\n",
    "\n",
    "    # Convert to pandas series for easier manipulation\n",
    "    aggregated_scores = pd.Series(aggregated_scores)\n",
    "\n",
    "    # Remove items read by any user in the group\n",
    "    aggregated_scores = aggregated_scores.drop(list(read_by_group), errors='ignore')\n",
    "\n",
    "    # Sort and get the top items\n",
    "    top_items = aggregated_scores.sort_values(ascending=False).head(10)\n",
    "\n",
    "    return top_items"
   ]
  },
  {
   "cell_type": "code",
   "execution_count": 7,
   "id": "90f0c741",
   "metadata": {},
   "outputs": [
    {
     "data": {
      "text/plain": [
       "[69084, 31631, 57214, 21331, 1331, 64554, 42643, 80596]"
      ]
     },
     "execution_count": 7,
     "metadata": {},
     "output_type": "execute_result"
    }
   ],
   "source": [
    "import json\n",
    "# Load JSON string from a file\n",
    "with open(\"grouped_dict.json\", \"r\") as f:\n",
    "    grouped_dict_json = f.read()\n",
    "\n",
    "# Convert the JSON string back to a dictionary\n",
    "groups_dict = json.loads(grouped_dict_json)\n",
    "\n",
    "group = groups_dict['Group 6']\n",
    "group = [int(item[1:]) if item[1:].isdigit() else item for item in group]\n",
    "group"
   ]
  },
  {
   "cell_type": "code",
   "execution_count": 8,
   "id": "ae22e994",
   "metadata": {},
   "outputs": [
    {
     "name": "stdout",
     "output_type": "stream",
     "text": [
      "Top 10 recommended items for the group:\n",
      "12029    4.805334\n",
      "56211    4.501323\n",
      "45523    3.842434\n",
      "28047    3.820224\n",
      "57132    3.709945\n",
      "17307    3.692024\n",
      "63106    3.536385\n",
      "42515    3.529362\n",
      "36545    3.426949\n",
      "7821     3.350823\n",
      "dtype: float64\n"
     ]
    }
   ],
   "source": [
    "all_items = all_clicks.item.unique().tolist()\n",
    "top_10_group_recs = group_recommendations(group, model, all_items, all_clicks)\n",
    "\n",
    "print(\"Top 10 recommended items for the group:\")\n",
    "print(top_10_group_recs)"
   ]
  },
  {
   "cell_type": "code",
   "execution_count": 9,
   "id": "014c2791",
   "metadata": {},
   "outputs": [],
   "source": [
    "def explain_group_recs(group_users, model, user_item_data, news, all_items):\n",
    "    explanations = {}\n",
    "\n",
    "    for item in all_items:\n",
    "        # Check for topic\n",
    "        filtered_news = news.loc[news['news_id'] == 'N' + str(item), 'subcategory']\n",
    "        if not filtered_news.empty:\n",
    "            topic = filtered_news.values[0]\n",
    "        else:\n",
    "            topic = \"Unknown\"  \n",
    "\n",
    "        # Generate explanation string\n",
    "        user_string = ', '.join(map(str, group_users))\n",
    "        explanations[item] = f\"Recommended because users {user_string} showed a high average preference score for {topic}.\\n\"\n",
    "\n",
    "    return explanations\n"
   ]
  },
  {
   "cell_type": "code",
   "execution_count": null,
   "id": "468480f4",
   "metadata": {},
   "outputs": [],
   "source": [
    "# Example Usage\n",
    "explanations = explain_group_recs(group, model, all_clicks, all_news, all_items)\n",
    "print(explanations)"
   ]
  }
 ],
 "metadata": {
  "kernelspec": {
   "display_name": "Python 3 (ipykernel)",
   "language": "python",
   "name": "python3"
  },
  "language_info": {
   "codemirror_mode": {
    "name": "ipython",
    "version": 3
   },
   "file_extension": ".py",
   "mimetype": "text/x-python",
   "name": "python",
   "nbconvert_exporter": "python",
   "pygments_lexer": "ipython3",
   "version": "3.8.16"
  }
 },
 "nbformat": 4,
 "nbformat_minor": 5
}

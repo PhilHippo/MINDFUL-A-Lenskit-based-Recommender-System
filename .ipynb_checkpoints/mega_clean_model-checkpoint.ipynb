{
 "cells": [
  {
   "cell_type": "code",
   "execution_count": 1,
   "id": "b2350fd8",
   "metadata": {},
   "outputs": [],
   "source": [
    "import pandas as pd\n",
    "import numpy as np\n",
    "import matplotlib.pyplot as plt\n",
    "import seaborn as sns\n",
    "import random\n",
    "import math\n",
    "import json\n",
    "\n",
    "from sklearn.feature_extraction.text import TfidfVectorizer\n",
    "from sklearn.metrics.pairwise import cosine_similarity\n",
    "from scipy.sparse import coo_matrix\n",
    "from sklearn.metrics.pairwise import cosine_similarity"
   ]
  },
  {
   "cell_type": "markdown",
   "id": "37307b34",
   "metadata": {},
   "source": [
    " # Data preprocessing"
   ]
  },
  {
   "cell_type": "code",
   "execution_count": 2,
   "id": "b6c971fb",
   "metadata": {},
   "outputs": [],
   "source": [
    "# Load data\n",
    "behaviors = pd.read_csv('./small_training_data/behaviors.tsv', delimiter='\\t', header=None)\n",
    "news = pd.read_csv('./small_training_data/news.tsv', delimiter='\\t', header=None)\n",
    "\n",
    "# Naming columns\n",
    "behaviors.columns = [\"impression_id\", \"user_id\", \"time\", \"history\", \"impressions\"]\n",
    "news.columns = [\"news_id\", \"category\", \"subcategory\", \"title\", \"abstract\", \"url\", \"title_entities\", \"abstract_entities\"]"
   ]
  },
  {
   "cell_type": "code",
   "execution_count": 3,
   "id": "5931b2bf",
   "metadata": {},
   "outputs": [],
   "source": [
    "# Remove NaN values in the 'abstract' column\n",
    "news = news.dropna(subset=['abstract'])\n",
    "\n",
    "# list of valid news (with some abstract)\n",
    "valid_news_ids = set(news['news_id'])"
   ]
  },
  {
   "cell_type": "code",
   "execution_count": 4,
   "id": "03927cb7",
   "metadata": {},
   "outputs": [],
   "source": [
    "# Extracting clicked news from behaviors, this is a column of lists of the clicked news (tagget with 1) for each impression\n",
    "behaviors['clicked_news'] = behaviors['impressions'].apply(lambda x: [imp.split('-')[0] for imp in x.split() if imp.split('-')[1] == '1'])"
   ]
  },
  {
   "cell_type": "code",
   "execution_count": 5,
   "id": "7cb35b74",
   "metadata": {},
   "outputs": [],
   "source": [
    "#removing unused columns\n",
    "behaviors = behaviors[[\"impression_id\", \"user_id\", \"clicked_news\"]]"
   ]
  },
  {
   "cell_type": "code",
   "execution_count": 6,
   "id": "6382eae2",
   "metadata": {},
   "outputs": [],
   "source": [
    "# Flattening the clicked news and associating with user_id, that means we divide the lists into one row for each clicked news\n",
    "clicked_news = behaviors.explode('clicked_news')[['user_id', 'clicked_news']]"
   ]
  },
  {
   "cell_type": "code",
   "execution_count": 7,
   "id": "3c005d34",
   "metadata": {},
   "outputs": [],
   "source": [
    "#remove non valid news from interactions\n",
    "clicked_news = clicked_news[clicked_news['clicked_news'].isin(valid_news_ids)]"
   ]
  },
  {
   "cell_type": "code",
   "execution_count": 8,
   "id": "4212f68e",
   "metadata": {},
   "outputs": [],
   "source": [
    "# Filtering users with more than 4 news clicked since the distribution is 'ultra-skewed'\n",
    "clicked_news = clicked_news.groupby('user_id').filter(lambda x: len(x) > 4)"
   ]
  },
  {
   "cell_type": "code",
   "execution_count": 9,
   "id": "ba6e56aa",
   "metadata": {},
   "outputs": [],
   "source": [
    "# Rename 'clicked_news' column to 'news_id'\n",
    "clicked_news = clicked_news.rename(columns={'clicked_news': 'news_id'})"
   ]
  },
  {
   "cell_type": "code",
   "execution_count": 10,
   "id": "f9b9765c",
   "metadata": {},
   "outputs": [
    {
     "name": "stdout",
     "output_type": "stream",
     "text": [
      "Number of unique clicked news: 6522\n",
      "Number of unique users:        15418 \n",
      "\n"
     ]
    }
   ],
   "source": [
    "print(f\"Number of unique clicked news: {clicked_news['news_id'].nunique()}\")\n",
    "print(f\"Number of unique users:        {clicked_news['user_id'].nunique()} \\n\")"
   ]
  },
  {
   "cell_type": "code",
   "execution_count": 11,
   "id": "e983ce59",
   "metadata": {},
   "outputs": [],
   "source": [
    "news = news.reset_index()"
   ]
  },
  {
   "cell_type": "markdown",
   "id": "9261f15b",
   "metadata": {},
   "source": [
    "## in the cell below we create mappings from real id's to indexes, and create clicked_news_encoded"
   ]
  },
  {
   "cell_type": "code",
   "execution_count": 12,
   "id": "a66c0c07",
   "metadata": {},
   "outputs": [],
   "source": [
    "# Create categorical types without encoding them yet\n",
    "clicked_news['user_id_cat'] = clicked_news['user_id'].astype(\"category\")\n",
    "clicked_news['news_id_cat'] = clicked_news['news_id'].astype(\"category\")\n",
    "\n",
    "# Creating mappings from original IDs to encoded IDs\n",
    "id_to_user = dict(enumerate(clicked_news['user_id_cat'].cat.categories))\n",
    "id_to_news = dict(enumerate(clicked_news['news_id_cat'].cat.categories))\n",
    "\n",
    "# Convert categories to codes (integer encoding)\n",
    "clicked_news_encoded = pd.DataFrame(columns=['user', 'item'])\n",
    "clicked_news_encoded['user'] = clicked_news['user_id_cat'].cat.codes\n",
    "clicked_news_encoded['item'] = clicked_news['news_id_cat'].cat.codes\n",
    "\n",
    "# Drop the additional categorical columns if they are not needed\n",
    "clicked_news = clicked_news.drop(columns=['user_id_cat', 'news_id_cat'])\n",
    "\n",
    "# Creating reverse mappings from original IDs to encoded IDs\n",
    "user_to_id = {v: k for k, v in id_to_user.items()}\n",
    "news_to_id = {v: k for k, v in id_to_news.items()}"
   ]
  },
  {
   "cell_type": "code",
   "execution_count": 13,
   "id": "7d4d0e63",
   "metadata": {},
   "outputs": [
    {
     "name": "stdout",
     "output_type": "stream",
     "text": [
      "users: 15418 \n",
      "items: 6522\n"
     ]
    }
   ],
   "source": [
    "# Create a sparse user-item interaction matrix\n",
    "interaction_matrix = coo_matrix((np.ones(clicked_news_encoded.shape[0]),\n",
    "                                 (clicked_news_encoded['user'], clicked_news_encoded['item'])))\n",
    "\n",
    "print(f\"users: {interaction_matrix.shape[0]} \\nitems: {interaction_matrix.shape[1]}\")"
   ]
  },
  {
   "cell_type": "code",
   "execution_count": 14,
   "id": "dbeb967c",
   "metadata": {},
   "outputs": [],
   "source": [
    "#transform into compressed sparse row\n",
    "interaction_matrix_csr = interaction_matrix.tocsr()"
   ]
  },
  {
   "cell_type": "code",
   "execution_count": 15,
   "id": "173c8f04",
   "metadata": {},
   "outputs": [],
   "source": [
    "clicked_news_encoded['rating'] = np.ones(len(clicked_news_encoded))"
   ]
  },
  {
   "cell_type": "code",
   "execution_count": 16,
   "id": "5396cae1",
   "metadata": {},
   "outputs": [
    {
     "name": "stdout",
     "output_type": "stream",
     "text": [
      "         user  item  rating\n",
      "1       14889   756     1.0\n",
      "5        1803  1190     1.0\n",
      "5        1803  2565     1.0\n",
      "9        7888  4810     1.0\n",
      "10      14512  5700     1.0\n",
      "...       ...   ...     ...\n",
      "156963   6291  1261     1.0\n",
      "156963   6291  4396     1.0\n",
      "156963   6291  2904     1.0\n",
      "156963   6291   915     1.0\n",
      "156963   6291  1137     1.0\n",
      "\n",
      "[155443 rows x 3 columns]\n"
     ]
    }
   ],
   "source": [
    "print(clicked_news_encoded)"
   ]
  },
  {
   "cell_type": "code",
   "execution_count": 17,
   "id": "b2c158a9",
   "metadata": {
    "scrolled": true
   },
   "outputs": [
    {
     "name": "stdout",
     "output_type": "stream",
     "text": [
      "      user_id  num_of_clicks\n",
      "0      U53220            125\n",
      "1      U70550            118\n",
      "2      U63482            109\n",
      "3      U20833             95\n",
      "4      U32322             94\n",
      "...       ...            ...\n",
      "13230  U91963              5\n",
      "13231  U65567              5\n",
      "13232    U417              5\n",
      "13233  U63788              5\n",
      "15417   U5480              5\n",
      "\n",
      "[15418 rows x 2 columns]\n"
     ]
    }
   ],
   "source": [
    "user_click_counts = clicked_news['user_id'].value_counts().reset_index()\n",
    "user_click_counts.columns = ['user_id', 'num_of_clicks']\n",
    "user_click_counts_sorted = user_click_counts.sort_values(by='num_of_clicks', ascending=False)\n",
    "print(user_click_counts_sorted)"
   ]
  },
  {
   "cell_type": "markdown",
   "id": "2118b690",
   "metadata": {},
   "source": [
    "# Content based recommendations"
   ]
  },
  {
   "cell_type": "code",
   "execution_count": 18,
   "id": "fbaeefbf",
   "metadata": {},
   "outputs": [],
   "source": [
    "# Vectorizing the 'abstract' column of news\n",
    "vectorizer = TfidfVectorizer(stop_words='english', max_features=5000)\n",
    "news_profiles = vectorizer.fit_transform(news['abstract'])"
   ]
  },
  {
   "cell_type": "code",
   "execution_count": 19,
   "id": "79e09e72",
   "metadata": {},
   "outputs": [
    {
     "name": "stdout",
     "output_type": "stream",
     "text": [
      "royals\n"
     ]
    }
   ],
   "source": [
    "# Reversing the vocabulary dictionary\n",
    "reverse_vocab = {v: k for k, v in vectorizer.vocabulary_.items()}\n",
    "\n",
    "print(reverse_vocab.get(3845))"
   ]
  },
  {
   "cell_type": "markdown",
   "id": "92cb48ec",
   "metadata": {},
   "source": [
    "This is a matrix that holds the similarity scores between all pairs of news items. It's a  square matrix where each row and column corresponds to a news item, and the entry [i, j] gives the similarity between news item i and news item j. the diagonal is full of ones for obvious reasons"
   ]
  },
  {
   "cell_type": "code",
   "execution_count": 20,
   "id": "9c3112e8",
   "metadata": {},
   "outputs": [],
   "source": [
    "# Compute the cosine similarity matrix\n",
    "news_similarity = cosine_similarity(news_profiles, dense_output=False)"
   ]
  },
  {
   "cell_type": "code",
   "execution_count": 196,
   "id": "b64f0172",
   "metadata": {},
   "outputs": [],
   "source": [
    "all_id_to_news = news['news_id'].to_dict()\n",
    "all_news_to_id = {v: k for k, v in all_id_to_news.items()}"
   ]
  },
  {
   "cell_type": "code",
   "execution_count": 22,
   "id": "f1e6e9c3",
   "metadata": {},
   "outputs": [],
   "source": [
    "def recommend_news(user_id, interaction_matrix, news_similarity, top_n=5):\n",
    "    \"\"\"\n",
    "    Recommend top N news items for a given user.\n",
    "    \n",
    "    Parameters:\n",
    "        user_id (str): The user for whom to make recommendations.\n",
    "        interaction_matrix (csr_matrix): User-item interaction matrix.\n",
    "        news_similarity (csr_matrix): Item-item similarity matrix.\n",
    "        top_n (int): Number of items to recommend.\n",
    "        \n",
    "    Returns:\n",
    "        list: List of recommended item indices.\n",
    "    \"\"\"\n",
    "    user_id = user_to_id[user_id]\n",
    "    \n",
    "    # Get the user's past interactions (list of news ids that the user has interacted with)\n",
    "    user_interactions = interaction_matrix[user_id, :].nonzero()[1]\n",
    "    \n",
    "    # Sum the similarities of the interacted items \n",
    "    similarity_sum = np.sum(news_similarity[user_interactions, :], axis=0) #shape = (n_interactions, all_news)\n",
    "    \n",
    "    # Remove already interacted items\n",
    "    similarity_sum[0, user_interactions] = 0\n",
    "    \n",
    "    # Get top N item indices\n",
    "    recommended_news_ids = np.argsort(similarity_sum)[0, -top_n:][::-1]\n",
    "    \n",
    "    # Convert indices to original news IDs\n",
    "    recommended_news = [all_id_to_news[idx] for idx in recommended_news_ids.tolist()[0]]\n",
    "    \n",
    "    return recommended_news"
   ]
  },
  {
   "cell_type": "code",
   "execution_count": 23,
   "id": "c09405c7",
   "metadata": {},
   "outputs": [
    {
     "name": "stdout",
     "output_type": "stream",
     "text": [
      "Recommended news for user U53220:\n",
      "['N4830', 'N17496', 'N11545', 'N64885', 'N35290', 'N6405', 'N2445', 'N15320', 'N45022', 'N12262']\n"
     ]
    }
   ],
   "source": [
    "# Recommend for a user\n",
    "user_id = 'U53220'\n",
    "recommended_news_indices = recommend_news(user_id, interaction_matrix_csr, news_similarity, top_n=10)\n",
    "\n",
    "print(f\"Recommended news for user {user_id}:\")\n",
    "print(recommended_news_indices)"
   ]
  },
  {
   "cell_type": "markdown",
   "id": "0cf88419",
   "metadata": {},
   "source": [
    "## Test set"
   ]
  },
  {
   "cell_type": "code",
   "execution_count": 24,
   "id": "6ad33950",
   "metadata": {},
   "outputs": [],
   "source": [
    "# Load data\n",
    "test_behaviors = pd.read_csv('./small_test_data/behaviors.tsv', delimiter='\\t', header=None)\n",
    "test_news = pd.read_csv('./small_test_data/news.tsv', delimiter='\\t', header=None)\n",
    "\n",
    "# Naming columns\n",
    "test_behaviors.columns = [\"impression_id\", \"user_id\", \"time\", \"history\", \"impressions\"]\n",
    "test_news.columns = [\"news_id\", \"category\", \"subcategory\", \"title\", \"abstract\", \"url\", \"title_entities\", \"abstract_entities\"]"
   ]
  },
  {
   "cell_type": "code",
   "execution_count": 25,
   "id": "8899f871",
   "metadata": {},
   "outputs": [],
   "source": [
    "# Remove NaN values in the 'abstract' column\n",
    "test_news = test_news.dropna(subset=['abstract'])\n",
    "\n",
    "# list of valid news (with some abstract)\n",
    "test_valid_news_ids = set(test_news['news_id'])"
   ]
  },
  {
   "cell_type": "code",
   "execution_count": 26,
   "id": "a85f05d5",
   "metadata": {},
   "outputs": [],
   "source": [
    "# Extracting clicked news from behaviors, this is a column of lists of the clicked news (tagget with 1) for each impression\n",
    "test_behaviors['clicked_news'] = test_behaviors['impressions'].apply(lambda x: [imp.split('-')[0] for imp in x.split() if imp.split('-')[1] == '1'])\n",
    "\n",
    "#removing unused columns\n",
    "test_behaviors = test_behaviors[[\"impression_id\", \"user_id\", \"clicked_news\"]]\n",
    "\n",
    "# Flattening the clicked news and associating with user_id, that means we divide the lists into one row for each clicked news\n",
    "test_clicked_news = test_behaviors.explode('clicked_news')[['user_id', 'clicked_news']]\n",
    "\n",
    "#remove non valid news from interactions\n",
    "test_clicked_news = test_clicked_news[test_clicked_news['clicked_news'].isin(test_valid_news_ids)]\n",
    "\n",
    "# Rename 'clicked_news' column to 'news_id'\n",
    "test_data = test_clicked_news.rename(columns={'clicked_news': 'news_id'})"
   ]
  },
  {
   "cell_type": "code",
   "execution_count": 27,
   "id": "701cb1ef",
   "metadata": {},
   "outputs": [
    {
     "name": "stdout",
     "output_type": "stream",
     "text": [
      "Number of unique clicked news: 2115\n",
      "Number of unique users:        48139 \n",
      "\n"
     ]
    }
   ],
   "source": [
    "print(f\"Number of unique clicked news: {test_data['news_id'].nunique()}\")\n",
    "print(f\"Number of unique users:        {test_data['user_id'].nunique()} \\n\")"
   ]
  },
  {
   "cell_type": "markdown",
   "id": "ab015439",
   "metadata": {},
   "source": [
    "### Since it's a content-based recommender system we ran into the cold start problem from users present in the test data but not in the training data, so we just recommend them items from the most popular news "
   ]
  },
  {
   "cell_type": "code",
   "execution_count": 28,
   "id": "21adffa5",
   "metadata": {},
   "outputs": [],
   "source": [
    "news_popularity = clicked_news['news_id'].value_counts()\n",
    "\n",
    "# Calculate the click threshold for the top percentile\n",
    "threshold = np.percentile(news_popularity, 98)\n",
    "\n",
    "# Get the most popular news items\n",
    "popular_news = news_popularity[news_popularity >= threshold].index.tolist()"
   ]
  },
  {
   "cell_type": "markdown",
   "id": "bb21a19a",
   "metadata": {},
   "source": [
    "## Model evaluation - Precision@k and Recall@k and nCDG@k"
   ]
  },
  {
   "cell_type": "code",
   "execution_count": 29,
   "id": "39ddf2d3",
   "metadata": {},
   "outputs": [],
   "source": [
    "recommendations = {} #{'user_id': [list of recommended news_ids]}"
   ]
  },
  {
   "cell_type": "code",
   "execution_count": 30,
   "id": "4f33f644",
   "metadata": {},
   "outputs": [],
   "source": [
    "# Set of user_ids from test_data and training data\n",
    "test_data_user_ids = set(test_data['user_id'].unique())\n",
    "\n",
    "train_data_user_ids = set(clicked_news['user_id'].unique())"
   ]
  },
  {
   "cell_type": "code",
   "execution_count": 31,
   "id": "48dfd296",
   "metadata": {
    "scrolled": true
   },
   "outputs": [],
   "source": [
    "for user_id in test_data_user_ids:\n",
    "    if user_id not in train_data_user_ids:\n",
    "        # New user or user not in test data\n",
    "        recommendations[user_id] = random.sample(popular_news, 5)  # Recommend random news from popular news items\n",
    "    else:\n",
    "        recommended_news_indices = recommend_news(user_id, interaction_matrix_csr, news_similarity, top_n=10)\n",
    "        recommendations[user_id] = [idx for idx in recommended_news_indices]"
   ]
  },
  {
   "cell_type": "code",
   "execution_count": 32,
   "id": "ec05261b",
   "metadata": {},
   "outputs": [],
   "source": [
    "def precision_at_k(recommended_list, relevant_list, k):\n",
    "    \"\"\"\n",
    "    Compute Precision at K.\n",
    "    \n",
    "    Parameters:\n",
    "        recommended_list (list): List of recommended items.\n",
    "        relevant_list (list): List of relevant items.\n",
    "        k (int): Number of recommendations to consider.\n",
    "        \n",
    "    Returns:\n",
    "        float: Precision at K score.\n",
    "    \"\"\"\n",
    "    return len(set(recommended_list[:k]) & set(relevant_list)) / k"
   ]
  },
  {
   "cell_type": "code",
   "execution_count": 33,
   "id": "7f320af9",
   "metadata": {},
   "outputs": [],
   "source": [
    "def recall_at_k(recommended_list, relevant_set, k):\n",
    "    \"\"\"Return the recall at k.\"\"\"\n",
    "    return len(set(recommended_list[:k]) & set(relevant_set)) / len(relevant_set)"
   ]
  },
  {
   "cell_type": "code",
   "execution_count": 34,
   "id": "03ad74f0",
   "metadata": {},
   "outputs": [],
   "source": [
    "def ndcg_at_k(recommended_list, relevant_set, k):\n",
    "    \"\"\"Return the NDCG at k.\"\"\"\n",
    "    dcg = 0\n",
    "    idcg = sum([1 / math.log(i + 2, 2) for i in range(min(k, len(relevant_set)))])\n",
    "    for i, item in enumerate(recommended_list[:k]):\n",
    "        if item in relevant_set:\n",
    "            dcg += 1 / math.log(i + 2, 2)\n",
    "    return dcg / idcg"
   ]
  },
  {
   "cell_type": "code",
   "execution_count": 35,
   "id": "e1dae9c6",
   "metadata": {},
   "outputs": [
    {
     "name": "stdout",
     "output_type": "stream",
     "text": [
      "Mean Precision@5: 0.0003\n",
      "Mean Recall@5: 0.0005\n",
      "Mean NDCG@5: 0.0004\n"
     ]
    }
   ],
   "source": [
    "k = 5 # or any value you choose\n",
    "\n",
    "precision_values = []\n",
    "recall_values = []\n",
    "ndcg_values = []\n",
    "\n",
    "for user_id, recommended_items in recommendations.items():\n",
    "    relevant_items = test_data[test_data['user_id'] == user_id]['news_id'].tolist()\n",
    "    \n",
    "    if relevant_items:  # if the user has any relevant items\n",
    "        \n",
    "        precision = precision_at_k(recommended_items, relevant_items, k)\n",
    "        recall = recall_at_k(recommended_items, relevant_items, k)\n",
    "        ndcg = ndcg_at_k(recommended_items, relevant_items, k)\n",
    "        \n",
    "        precision_values.append(precision)\n",
    "        recall_values.append(recall)\n",
    "        ndcg_values.append(ndcg)\n",
    "\n",
    "# Averaging across all users to get the final metric value\n",
    "mean_precision = np.mean(precision_values)\n",
    "mean_recall = np.mean(recall_values)\n",
    "mean_ndcg = np.mean(ndcg_values)\n",
    "\n",
    "print(f\"Mean Precision@{k}: {mean_precision:.4f}\")\n",
    "print(f\"Mean Recall@{k}: {mean_recall:.4f}\")\n",
    "print(f\"Mean NDCG@{k}: {mean_ndcg:.4f}\")"
   ]
  },
  {
   "cell_type": "markdown",
   "id": "74d79a91",
   "metadata": {},
   "source": [
    "I think it's due to the sparsity and cold start problem, we have many users without interactions"
   ]
  },
  {
   "cell_type": "code",
   "execution_count": 36,
   "id": "082109a9",
   "metadata": {},
   "outputs": [],
   "source": [
    "filtered_test_data = test_data.groupby('user_id').filter(lambda x: len(x) > 10)"
   ]
  },
  {
   "cell_type": "code",
   "execution_count": 37,
   "id": "a2b1fe19",
   "metadata": {},
   "outputs": [],
   "source": [
    "recommendations = {} #{'user_id': [list of recommended news_ids]}\n",
    "\n",
    "# Set of user_ids from test_data and training data\n",
    "test_data_user_ids = set(filtered_test_data['user_id'].unique())\n",
    "\n",
    "train_data_user_ids = set(clicked_news['user_id'].unique())\n",
    "\n",
    "for user_id in test_data_user_ids:\n",
    "    if user_id not in train_data_user_ids:\n",
    "        # New user or user not in test data\n",
    "        recommendations[user_id] = random.sample(popular_news, 5)  # Recommend random news from popular news items\n",
    "    else:\n",
    "        recommended_news_indices = recommend_news(user_id, interaction_matrix_csr, news_similarity, top_n=10)\n",
    "        recommendations[user_id] = [idx for idx in recommended_news_indices]"
   ]
  },
  {
   "cell_type": "code",
   "execution_count": 38,
   "id": "5fda5dbc",
   "metadata": {},
   "outputs": [
    {
     "name": "stdout",
     "output_type": "stream",
     "text": [
      "Mean Precision@5: 0.0009\n",
      "Mean Recall@5: 0.0003\n",
      "Mean NDCG@5: 0.0006\n"
     ]
    }
   ],
   "source": [
    "k = 5  # or any value you choose\n",
    "\n",
    "precision_values = []\n",
    "recall_values = []\n",
    "ndcg_values = []\n",
    "\n",
    "for user_id, recommended_items in recommendations.items():\n",
    "    relevant_items = test_data[test_data['user_id'] == user_id]['news_id'].tolist()\n",
    "    \n",
    "    if relevant_items:  # if the user has any relevant items\n",
    "        \n",
    "        precision = precision_at_k(recommended_items, relevant_items, k)\n",
    "        recall = recall_at_k(recommended_items, relevant_items, k)\n",
    "        ndcg = ndcg_at_k(recommended_items, relevant_items, k)\n",
    "        \n",
    "        precision_values.append(precision)\n",
    "        recall_values.append(recall)\n",
    "        ndcg_values.append(ndcg)\n",
    "\n",
    "# Averaging across all users to get the final metric value\n",
    "mean_precision = np.mean(precision_values)\n",
    "mean_recall = np.mean(recall_values)\n",
    "mean_ndcg = np.mean(ndcg_values)\n",
    "\n",
    "print(f\"Mean Precision@{k}: {mean_precision:.4f}\")\n",
    "print(f\"Mean Recall@{k}: {mean_recall:.4f}\")\n",
    "print(f\"Mean NDCG@{k}: {mean_ndcg:.4f}\")"
   ]
  },
  {
   "cell_type": "markdown",
   "id": "6299b60d",
   "metadata": {},
   "source": [
    "### In fact we can see that is precision increases if we consider users with more than n = 10 interactions"
   ]
  },
  {
   "cell_type": "markdown",
   "id": "4d517852",
   "metadata": {},
   "source": [
    "# Group recommendations"
   ]
  },
  {
   "cell_type": "code",
   "execution_count": 106,
   "id": "727a47ac",
   "metadata": {},
   "outputs": [],
   "source": [
    "from lenskit.algorithms.als import ImplicitMF"
   ]
  },
  {
   "cell_type": "code",
   "execution_count": 107,
   "id": "1fe8d11c",
   "metadata": {},
   "outputs": [],
   "source": [
    "# Load JSON string from a file\n",
    "with open(\"grouped_dict.json\", \"r\") as f:\n",
    "    grouped_dict_json = f.read()\n",
    "\n",
    "# Convert the JSON string back to a dictionary\n",
    "groups_dict = json.loads(grouped_dict_json)"
   ]
  },
  {
   "cell_type": "code",
   "execution_count": 108,
   "id": "b4c5879b",
   "metadata": {
    "scrolled": true
   },
   "outputs": [],
   "source": [
    "all_clicks = clicked_news_encoded.reset_index()\n",
    "all_clicks = all_clicks[['user', 'item', 'rating']]"
   ]
  },
  {
   "cell_type": "code",
   "execution_count": 109,
   "id": "219cba4f",
   "metadata": {},
   "outputs": [
    {
     "data": {
      "text/plain": [
       "<lenskit.algorithms.als.ImplicitMF at 0x175f0533640>"
      ]
     },
     "execution_count": 109,
     "metadata": {},
     "output_type": "execute_result"
    }
   ],
   "source": [
    "# Create an implicit feedback model with 50 features and 20 iterations\n",
    "model = ImplicitMF(features=50, iterations=20, reg=0.1)\n",
    "\n",
    "# Train the model\n",
    "model.fit(all_clicks)"
   ]
  },
  {
   "cell_type": "code",
   "execution_count": 153,
   "id": "b00776fd",
   "metadata": {},
   "outputs": [],
   "source": [
    "def group_recommendations(user_group, model, all_items, user_item_data):\n",
    "    #getting user_idexes\n",
    "    user_group = [user_to_id[user] for user in groups if user in user_to_id]\n",
    "    \n",
    "    # A dictionary to aggregate scores\n",
    "    aggregated_scores = {}\n",
    "\n",
    "    # A set to collect items already read by any user in the group\n",
    "    read_by_group = set()\n",
    "\n",
    "    for user in user_group:\n",
    "        # Get individual user recommendations\n",
    "        recs_user = model.predict_for_user(user, all_items)\n",
    "        \n",
    "        # Exclude items already read by the user\n",
    "        read_items = user_item_data[user_item_data['user'] == user]['item'].tolist()\n",
    "        recs_user = recs_user.drop(read_items, errors='ignore')\n",
    "\n",
    "        # Add these read items to the group set\n",
    "        read_by_group.update(read_items)\n",
    "\n",
    "        # Aggregate scores\n",
    "        for item, score in recs_user.items():\n",
    "            if item in aggregated_scores:\n",
    "                aggregated_scores[item] += score\n",
    "            else:\n",
    "                aggregated_scores[item] = score\n",
    "\n",
    "    # Convert to pandas series for easier manipulation\n",
    "    aggregated_scores = pd.Series(aggregated_scores)\n",
    "\n",
    "    # Remove items read by any user in the group\n",
    "    aggregated_scores = aggregated_scores.drop(list(read_by_group), errors='ignore')\n",
    "\n",
    "    # Sort and get the top items\n",
    "    top_items = aggregated_scores.sort_values(ascending=False).head(10)\n",
    "\n",
    "    # Convert the index to news ids using the dictionary\n",
    "    top_items.index = top_items.index.map(id_to_news)\n",
    "    \n",
    "    return top_items"
   ]
  },
  {
   "cell_type": "code",
   "execution_count": 158,
   "id": "dfafd881",
   "metadata": {},
   "outputs": [],
   "source": [
    "def explain_group_recs(group_users, news, top_items):\n",
    "    explanations = {}\n",
    "    \n",
    "    for item in top_items:\n",
    "        # Check for topic\n",
    "        filtered_news = news.loc[news['news_id'] == item, 'subcategory']\n",
    "        if not filtered_news.empty:\n",
    "            topic = filtered_news.values[0]\n",
    "        else:\n",
    "            topic = \"Unknown\"  \n",
    "        \n",
    "        user_group = [user for user in groups if user in id_to_user]\n",
    "        \n",
    "        # Generate explanation string\n",
    "        explanations[item] = f\"Recommended because users {group_users} showed a high average preference score for {topic}.\"\n",
    "\n",
    "    return explanations"
   ]
  },
  {
   "cell_type": "code",
   "execution_count": 159,
   "id": "1d7accbb",
   "metadata": {},
   "outputs": [
    {
     "data": {
      "text/plain": [
       "['U69084', 'U31631', 'U57214', 'U21331', 'U1331', 'U64554', 'U42643', 'U80596']"
      ]
     },
     "execution_count": 159,
     "metadata": {},
     "output_type": "execute_result"
    }
   ],
   "source": [
    "all_items = clicked_news_encoded.item.unique().tolist()\n",
    "\n",
    "group = groups_dict['Group 6']\n",
    "group"
   ]
  },
  {
   "cell_type": "code",
   "execution_count": 160,
   "id": "b1b7322d",
   "metadata": {
    "scrolled": true
   },
   "outputs": [
    {
     "name": "stdout",
     "output_type": "stream",
     "text": [
      "Top 10 recommended items for the group:\n",
      "N41178    4.497051\n",
      "N24272    3.613691\n",
      "N18870    3.467665\n",
      "N7328     3.240432\n",
      "N41881    3.221370\n",
      "N55606    3.169339\n",
      "N23548    2.868267\n",
      "N14780    2.861550\n",
      "N3930     2.727446\n",
      "N62762    2.680939\n",
      "dtype: float64\n"
     ]
    }
   ],
   "source": [
    "top_10_group_recs = group_recommendations(group, model, all_items, all_clicks)\n",
    "\n",
    "print(\"Top 10 recommended items for the group:\")\n",
    "print(top_10_group_recs)"
   ]
  },
  {
   "cell_type": "code",
   "execution_count": 162,
   "id": "7e6c70b8",
   "metadata": {},
   "outputs": [],
   "source": [
    "explanations = explain_group_recs(group, all_news, top_10_group_recs.index)"
   ]
  },
  {
   "cell_type": "code",
   "execution_count": 163,
   "id": "28ec9255",
   "metadata": {},
   "outputs": [
    {
     "data": {
      "text/plain": [
       "{'N41178': \"Recommended because users ['U69084', 'U31631', 'U57214', 'U21331', 'U1331', 'U64554', 'U42643', 'U80596'] showed a high average preference score for newspolitics.\",\n",
       " 'N24272': \"Recommended because users ['U69084', 'U31631', 'U57214', 'U21331', 'U1331', 'U64554', 'U42643', 'U80596'] showed a high average preference score for movies-celebrity.\",\n",
       " 'N18870': \"Recommended because users ['U69084', 'U31631', 'U57214', 'U21331', 'U1331', 'U64554', 'U42643', 'U80596'] showed a high average preference score for shop-holidays.\",\n",
       " 'N7328': \"Recommended because users ['U69084', 'U31631', 'U57214', 'U21331', 'U1331', 'U64554', 'U42643', 'U80596'] showed a high average preference score for restaurantsandnews.\",\n",
       " 'N41881': \"Recommended because users ['U69084', 'U31631', 'U57214', 'U21331', 'U1331', 'U64554', 'U42643', 'U80596'] showed a high average preference score for tv-celebrity.\",\n",
       " 'N55606': \"Recommended because users ['U69084', 'U31631', 'U57214', 'U21331', 'U1331', 'U64554', 'U42643', 'U80596'] showed a high average preference score for newsworld.\",\n",
       " 'N23548': \"Recommended because users ['U69084', 'U31631', 'U57214', 'U21331', 'U1331', 'U64554', 'U42643', 'U80596'] showed a high average preference score for newscrime.\",\n",
       " 'N14780': \"Recommended because users ['U69084', 'U31631', 'U57214', 'U21331', 'U1331', 'U64554', 'U42643', 'U80596'] showed a high average preference score for tv-celebrity.\",\n",
       " 'N3930': \"Recommended because users ['U69084', 'U31631', 'U57214', 'U21331', 'U1331', 'U64554', 'U42643', 'U80596'] showed a high average preference score for football_nfl.\",\n",
       " 'N62762': \"Recommended because users ['U69084', 'U31631', 'U57214', 'U21331', 'U1331', 'U64554', 'U42643', 'U80596'] showed a high average preference score for newsworld.\"}"
      ]
     },
     "execution_count": 163,
     "metadata": {},
     "output_type": "execute_result"
    }
   ],
   "source": [
    "explanations"
   ]
  },
  {
   "cell_type": "markdown",
   "id": "93251d71",
   "metadata": {},
   "source": [
    "# Survey recommendations"
   ]
  },
  {
   "cell_type": "code",
   "execution_count": 193,
   "id": "e55aa698",
   "metadata": {},
   "outputs": [],
   "source": [
    "survey_news = [\"N55468\", \"N8091\", \"N61914\", \"N7857\", \"N32907\", \"N33584\", \"N50566\", \"N47845\", \"N20212\", \"N37038\", \"N39173\", \"N54950\", \"N63975\", \"N28867\", \"N62996\",\n",
    "               \"N35703\", \"N9680\", \"N50299\", \"N61837\", \"N59295\", \"N13113\", \"N57018\", \"N48320\", \"N49981\", \"N11200\", \"N10470\", \"N46481\", \"N27435\", \"N39125\", \"N24808\",\n",
    "               \"N1587\", \"N22605\", \"N10886\", \"N52386\", \"N52620\", \"N30867\", \"N47140\", \"N29552\", \"N55528\", \"N55610\"]"
   ]
  },
  {
   "cell_type": "code",
   "execution_count": 203,
   "id": "13ae1506",
   "metadata": {},
   "outputs": [],
   "source": [
    "survey_news_ids = [all_news_to_id[item] for item in survey_news if item in all_news_to_id]"
   ]
  },
  {
   "cell_type": "code",
   "execution_count": 207,
   "id": "df162bdc",
   "metadata": {},
   "outputs": [
    {
     "name": "stdout",
     "output_type": "stream",
     "text": [
      "[4690, 14338, 154, 1807, 317, 675, 18571, 21184, 1759, 11189, 116, 1023, 3774, 4040, 49, 360, 2, 7, 3455, 393, 431, 13433, 29181, 59, 2720, 7627, 3346, 67, 68, 7872, 20997, 3458, 11150, 0, 15]\n"
     ]
    }
   ],
   "source": [
    "print(survey_news_ids)"
   ]
  },
  {
   "cell_type": "code",
   "execution_count": 218,
   "id": "67c9715c",
   "metadata": {},
   "outputs": [
    {
     "data": {
      "text/html": [
       "<div>\n",
       "<style scoped>\n",
       "    .dataframe tbody tr th:only-of-type {\n",
       "        vertical-align: middle;\n",
       "    }\n",
       "\n",
       "    .dataframe tbody tr th {\n",
       "        vertical-align: top;\n",
       "    }\n",
       "\n",
       "    .dataframe thead th {\n",
       "        text-align: right;\n",
       "    }\n",
       "</style>\n",
       "<table border=\"1\" class=\"dataframe\">\n",
       "  <thead>\n",
       "    <tr style=\"text-align: right;\">\n",
       "      <th></th>\n",
       "      <th>user</th>\n",
       "      <th>item</th>\n",
       "    </tr>\n",
       "  </thead>\n",
       "  <tbody>\n",
       "    <tr>\n",
       "      <th>0</th>\n",
       "      <td>A</td>\n",
       "      <td>[]</td>\n",
       "    </tr>\n",
       "    <tr>\n",
       "      <th>1</th>\n",
       "      <td>B</td>\n",
       "      <td>[]</td>\n",
       "    </tr>\n",
       "    <tr>\n",
       "      <th>2</th>\n",
       "      <td>C</td>\n",
       "      <td>[]</td>\n",
       "    </tr>\n",
       "    <tr>\n",
       "      <th>3</th>\n",
       "      <td>D</td>\n",
       "      <td>[]</td>\n",
       "    </tr>\n",
       "    <tr>\n",
       "      <th>4</th>\n",
       "      <td>E</td>\n",
       "      <td>[]</td>\n",
       "    </tr>\n",
       "    <tr>\n",
       "      <th>5</th>\n",
       "      <td>F</td>\n",
       "      <td>[]</td>\n",
       "    </tr>\n",
       "    <tr>\n",
       "      <th>6</th>\n",
       "      <td>G</td>\n",
       "      <td>[]</td>\n",
       "    </tr>\n",
       "    <tr>\n",
       "      <th>7</th>\n",
       "      <td>H</td>\n",
       "      <td>[]</td>\n",
       "    </tr>\n",
       "    <tr>\n",
       "      <th>8</th>\n",
       "      <td>I</td>\n",
       "      <td>[]</td>\n",
       "    </tr>\n",
       "    <tr>\n",
       "      <th>9</th>\n",
       "      <td>J</td>\n",
       "      <td>[]</td>\n",
       "    </tr>\n",
       "    <tr>\n",
       "      <th>10</th>\n",
       "      <td>K</td>\n",
       "      <td>[]</td>\n",
       "    </tr>\n",
       "    <tr>\n",
       "      <th>11</th>\n",
       "      <td>L</td>\n",
       "      <td>[]</td>\n",
       "    </tr>\n",
       "    <tr>\n",
       "      <th>12</th>\n",
       "      <td>M</td>\n",
       "      <td>[]</td>\n",
       "    </tr>\n",
       "    <tr>\n",
       "      <th>13</th>\n",
       "      <td>N</td>\n",
       "      <td>[]</td>\n",
       "    </tr>\n",
       "    <tr>\n",
       "      <th>14</th>\n",
       "      <td>O</td>\n",
       "      <td>[]</td>\n",
       "    </tr>\n",
       "  </tbody>\n",
       "</table>\n",
       "</div>"
      ],
      "text/plain": [
       "   user item\n",
       "0     A   []\n",
       "1     B   []\n",
       "2     C   []\n",
       "3     D   []\n",
       "4     E   []\n",
       "5     F   []\n",
       "6     G   []\n",
       "7     H   []\n",
       "8     I   []\n",
       "9     J   []\n",
       "10    K   []\n",
       "11    L   []\n",
       "12    M   []\n",
       "13    N   []\n",
       "14    O   []"
      ]
     },
     "execution_count": 218,
     "metadata": {},
     "output_type": "execute_result"
    }
   ],
   "source": [
    "# Create a list of letters A to O\n",
    "users = [chr(i) for i in range(ord('A'), ord('O')+1)]\n",
    "\n",
    "# Create a DataFrame with 'user' column filled with letters A to O and 'clicked_news' with empty lists\n",
    "survey_interactions = pd.DataFrame({\n",
    "    'user': users,\n",
    "    'item': [[] for _ in users]  # Create an empty list for each user\n",
    "})\n",
    "\n",
    "survey_interactions"
   ]
  },
  {
   "cell_type": "code",
   "execution_count": 221,
   "id": "4fe3d638",
   "metadata": {},
   "outputs": [
    {
     "data": {
      "text/html": [
       "<div>\n",
       "<style scoped>\n",
       "    .dataframe tbody tr th:only-of-type {\n",
       "        vertical-align: middle;\n",
       "    }\n",
       "\n",
       "    .dataframe tbody tr th {\n",
       "        vertical-align: top;\n",
       "    }\n",
       "\n",
       "    .dataframe thead th {\n",
       "        text-align: right;\n",
       "    }\n",
       "</style>\n",
       "<table border=\"1\" class=\"dataframe\">\n",
       "  <thead>\n",
       "    <tr style=\"text-align: right;\">\n",
       "      <th></th>\n",
       "      <th>user</th>\n",
       "      <th>item</th>\n",
       "    </tr>\n",
       "  </thead>\n",
       "  <tbody>\n",
       "    <tr>\n",
       "      <th>0</th>\n",
       "      <td>A</td>\n",
       "      <td>[N7857, N33584, N50566, N47845, N39173, N54950...</td>\n",
       "    </tr>\n",
       "    <tr>\n",
       "      <th>1</th>\n",
       "      <td>B</td>\n",
       "      <td>[N7857, N33584, N50566, N47845, N39173, N54950...</td>\n",
       "    </tr>\n",
       "    <tr>\n",
       "      <th>2</th>\n",
       "      <td>C</td>\n",
       "      <td>[]</td>\n",
       "    </tr>\n",
       "    <tr>\n",
       "      <th>3</th>\n",
       "      <td>D</td>\n",
       "      <td>[]</td>\n",
       "    </tr>\n",
       "    <tr>\n",
       "      <th>4</th>\n",
       "      <td>E</td>\n",
       "      <td>[]</td>\n",
       "    </tr>\n",
       "    <tr>\n",
       "      <th>5</th>\n",
       "      <td>F</td>\n",
       "      <td>[]</td>\n",
       "    </tr>\n",
       "    <tr>\n",
       "      <th>6</th>\n",
       "      <td>G</td>\n",
       "      <td>[]</td>\n",
       "    </tr>\n",
       "    <tr>\n",
       "      <th>7</th>\n",
       "      <td>H</td>\n",
       "      <td>[]</td>\n",
       "    </tr>\n",
       "    <tr>\n",
       "      <th>8</th>\n",
       "      <td>I</td>\n",
       "      <td>[]</td>\n",
       "    </tr>\n",
       "    <tr>\n",
       "      <th>9</th>\n",
       "      <td>J</td>\n",
       "      <td>[]</td>\n",
       "    </tr>\n",
       "    <tr>\n",
       "      <th>10</th>\n",
       "      <td>K</td>\n",
       "      <td>[]</td>\n",
       "    </tr>\n",
       "    <tr>\n",
       "      <th>11</th>\n",
       "      <td>L</td>\n",
       "      <td>[]</td>\n",
       "    </tr>\n",
       "    <tr>\n",
       "      <th>12</th>\n",
       "      <td>M</td>\n",
       "      <td>[]</td>\n",
       "    </tr>\n",
       "    <tr>\n",
       "      <th>13</th>\n",
       "      <td>N</td>\n",
       "      <td>[]</td>\n",
       "    </tr>\n",
       "    <tr>\n",
       "      <th>14</th>\n",
       "      <td>O</td>\n",
       "      <td>[]</td>\n",
       "    </tr>\n",
       "  </tbody>\n",
       "</table>\n",
       "</div>"
      ],
      "text/plain": [
       "   user                                               item\n",
       "0     A  [N7857, N33584, N50566, N47845, N39173, N54950...\n",
       "1     B  [N7857, N33584, N50566, N47845, N39173, N54950...\n",
       "2     C                                                 []\n",
       "3     D                                                 []\n",
       "4     E                                                 []\n",
       "5     F                                                 []\n",
       "6     G                                                 []\n",
       "7     H                                                 []\n",
       "8     I                                                 []\n",
       "9     J                                                 []\n",
       "10    K                                                 []\n",
       "11    L                                                 []\n",
       "12    M                                                 []\n",
       "13    N                                                 []\n",
       "14    O                                                 []"
      ]
     },
     "execution_count": 221,
     "metadata": {},
     "output_type": "execute_result"
    }
   ],
   "source": [
    "survey_interactions.at[0, 'item'].extend([\"N7857\", \"N33584\", \"N50566\", \"N47845\", \"N39173\", \"N54950\", \"N11200\", \"N22605\", \"N52620\"])\n",
    "survey_interactions.at[1, 'item'].extend([\"N55468\", \"N61914\", \"N50566\", \"N20212\", \"N37038\", \"N39173\", \"N54950\", \"N35703\", \"N50299\", \"N61837\", \"N11200\", \"N10470\", \"N46481\", \"N27435\", \"N1587\", \"N22605\", \"N10886\", \"N52386\", \"N30867\", \"N55528\"])\n",
    "survey_interactions.at[2, 'item'].extend([\"N55468\", \"N8091\", \"N7857\", \"N32907\", \"N33584\", \"N50566\", \"N47845\", \"N20212\", \"N37038\", \"N39173\", \"N54950\", \"N22605\", \"N10886\"])\n",
    "survey_interactions.at[3, 'item'].extend([])\n",
    "survey_interactions.at[4, 'item'].extend([])\n",
    "survey_interactions.at[5, 'item'].extend([])\n",
    "survey_interactions.at[6, 'item'].extend([])\n",
    "survey_interactions.at[7, 'item'].extend([])\n",
    "survey_interactions.at[8, 'item'].extend([])\n",
    "survey_interactions.at[9, 'item'].extend([])\n",
    "survey_interactions.at[10, 'item'].extend([])\n",
    "survey_interactions.at[11, 'item'].extend([])\n",
    "survey_interactions.at[12, 'item'].extend([])\n",
    "survey_interactions.at[13, 'item'].extend([])\n",
    "\n"
   ]
  },
  {
   "cell_type": "code",
   "execution_count": 217,
   "id": "65de040d",
   "metadata": {},
   "outputs": [
    {
     "data": {
      "text/html": [
       "<div>\n",
       "<style scoped>\n",
       "    .dataframe tbody tr th:only-of-type {\n",
       "        vertical-align: middle;\n",
       "    }\n",
       "\n",
       "    .dataframe tbody tr th {\n",
       "        vertical-align: top;\n",
       "    }\n",
       "\n",
       "    .dataframe thead th {\n",
       "        text-align: right;\n",
       "    }\n",
       "</style>\n",
       "<table border=\"1\" class=\"dataframe\">\n",
       "  <thead>\n",
       "    <tr style=\"text-align: right;\">\n",
       "      <th></th>\n",
       "      <th>user</th>\n",
       "      <th>item</th>\n",
       "    </tr>\n",
       "  </thead>\n",
       "  <tbody>\n",
       "    <tr>\n",
       "      <th>0</th>\n",
       "      <td>A</td>\n",
       "      <td>[News_2, News_3]</td>\n",
       "    </tr>\n",
       "    <tr>\n",
       "      <th>1</th>\n",
       "      <td>B</td>\n",
       "      <td>[]</td>\n",
       "    </tr>\n",
       "    <tr>\n",
       "      <th>2</th>\n",
       "      <td>C</td>\n",
       "      <td>[]</td>\n",
       "    </tr>\n",
       "    <tr>\n",
       "      <th>3</th>\n",
       "      <td>D</td>\n",
       "      <td>[]</td>\n",
       "    </tr>\n",
       "    <tr>\n",
       "      <th>4</th>\n",
       "      <td>E</td>\n",
       "      <td>[]</td>\n",
       "    </tr>\n",
       "    <tr>\n",
       "      <th>5</th>\n",
       "      <td>F</td>\n",
       "      <td>[]</td>\n",
       "    </tr>\n",
       "    <tr>\n",
       "      <th>6</th>\n",
       "      <td>G</td>\n",
       "      <td>[]</td>\n",
       "    </tr>\n",
       "    <tr>\n",
       "      <th>7</th>\n",
       "      <td>H</td>\n",
       "      <td>[]</td>\n",
       "    </tr>\n",
       "    <tr>\n",
       "      <th>8</th>\n",
       "      <td>I</td>\n",
       "      <td>[]</td>\n",
       "    </tr>\n",
       "    <tr>\n",
       "      <th>9</th>\n",
       "      <td>J</td>\n",
       "      <td>[]</td>\n",
       "    </tr>\n",
       "    <tr>\n",
       "      <th>10</th>\n",
       "      <td>K</td>\n",
       "      <td>[]</td>\n",
       "    </tr>\n",
       "    <tr>\n",
       "      <th>11</th>\n",
       "      <td>L</td>\n",
       "      <td>[]</td>\n",
       "    </tr>\n",
       "    <tr>\n",
       "      <th>12</th>\n",
       "      <td>M</td>\n",
       "      <td>[]</td>\n",
       "    </tr>\n",
       "    <tr>\n",
       "      <th>13</th>\n",
       "      <td>N</td>\n",
       "      <td>[]</td>\n",
       "    </tr>\n",
       "    <tr>\n",
       "      <th>14</th>\n",
       "      <td>O</td>\n",
       "      <td>[]</td>\n",
       "    </tr>\n",
       "  </tbody>\n",
       "</table>\n",
       "</div>"
      ],
      "text/plain": [
       "   user              item\n",
       "0     A  [News_2, News_3]\n",
       "1     B                []\n",
       "2     C                []\n",
       "3     D                []\n",
       "4     E                []\n",
       "5     F                []\n",
       "6     G                []\n",
       "7     H                []\n",
       "8     I                []\n",
       "9     J                []\n",
       "10    K                []\n",
       "11    L                []\n",
       "12    M                []\n",
       "13    N                []\n",
       "14    O                []"
      ]
     },
     "execution_count": 217,
     "metadata": {},
     "output_type": "execute_result"
    }
   ],
   "source": []
  },
  {
   "cell_type": "code",
   "execution_count": null,
   "id": "1d5acd36",
   "metadata": {},
   "outputs": [],
   "source": []
  }
 ],
 "metadata": {
  "kernelspec": {
   "display_name": "Python 3 (ipykernel)",
   "language": "python",
   "name": "python3"
  },
  "language_info": {
   "codemirror_mode": {
    "name": "ipython",
    "version": 3
   },
   "file_extension": ".py",
   "mimetype": "text/x-python",
   "name": "python",
   "nbconvert_exporter": "python",
   "pygments_lexer": "ipython3",
   "version": "3.8.16"
  }
 },
 "nbformat": 4,
 "nbformat_minor": 5
}

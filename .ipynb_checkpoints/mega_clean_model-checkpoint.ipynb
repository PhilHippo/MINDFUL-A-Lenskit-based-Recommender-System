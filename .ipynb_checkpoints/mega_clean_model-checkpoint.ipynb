{
 "cells": [
  {
   "cell_type": "code",
   "execution_count": 1,
   "id": "b2350fd8",
   "metadata": {
    "ExecuteTime": {
     "end_time": "2023-10-15T12:25:00.101260200Z",
     "start_time": "2023-10-15T12:24:58.841696700Z"
    }
   },
   "outputs": [],
   "source": [
    "import pandas as pd\n",
    "import numpy as np\n",
    "import matplotlib.pyplot as plt\n",
    "import seaborn as sns\n",
    "import random\n",
    "import math\n",
    "import json\n",
    "\n",
    "from sklearn.feature_extraction.text import TfidfVectorizer\n",
    "from sklearn.metrics.pairwise import cosine_similarity\n",
    "from scipy.sparse import coo_matrix\n",
    "from sklearn.metrics.pairwise import cosine_similarity"
   ]
  },
  {
   "cell_type": "markdown",
   "id": "37307b34",
   "metadata": {},
   "source": [
    " # Data preprocessing"
   ]
  },
  {
   "cell_type": "code",
   "execution_count": 2,
   "id": "b6c971fb",
   "metadata": {
    "ExecuteTime": {
     "end_time": "2023-10-15T12:25:19.169615400Z",
     "start_time": "2023-10-15T12:25:14.679279100Z"
    }
   },
   "outputs": [],
   "source": [
    "# Load data\n",
    "behaviors = pd.read_csv('./small_training_data/behaviors.tsv', delimiter='\\t', header=None)\n",
    "news = pd.read_csv('./small_training_data/news.tsv', delimiter='\\t', header=None)\n",
    "\n",
    "# Naming columns\n",
    "behaviors.columns = [\"impression_id\", \"user_id\", \"time\", \"history\", \"impressions\"]\n",
    "news.columns = [\"news_id\", \"category\", \"subcategory\", \"title\", \"abstract\", \"url\", \"title_entities\", \"abstract_entities\"]"
   ]
  },
  {
   "cell_type": "code",
   "execution_count": 3,
   "id": "5931b2bf",
   "metadata": {
    "ExecuteTime": {
     "end_time": "2023-10-15T12:25:19.972788700Z",
     "start_time": "2023-10-15T12:25:19.892783100Z"
    }
   },
   "outputs": [],
   "source": [
    "# Remove NaN values in the 'abstract' column\n",
    "news = news.dropna(subset=['abstract'])\n",
    "\n",
    "# list of valid news (with some abstract)\n",
    "valid_news_ids = set(news['news_id'])"
   ]
  },
  {
   "cell_type": "code",
   "execution_count": 4,
   "id": "03927cb7",
   "metadata": {
    "ExecuteTime": {
     "end_time": "2023-10-15T12:25:24.180604700Z",
     "start_time": "2023-10-15T12:25:20.943585800Z"
    }
   },
   "outputs": [],
   "source": [
    "# Extracting clicked news from behaviors, this is a column of lists of the clicked news (tagget with 1) for each impression\n",
    "behaviors['clicked_news'] = behaviors['impressions'].apply(lambda x: [imp.split('-')[0] for imp in x.split() if imp.split('-')[1] == '1'])"
   ]
  },
  {
   "cell_type": "code",
   "execution_count": 5,
   "id": "7cb35b74",
   "metadata": {
    "ExecuteTime": {
     "end_time": "2023-10-15T12:25:25.402729Z",
     "start_time": "2023-10-15T12:25:25.257117900Z"
    }
   },
   "outputs": [],
   "source": [
    "#removing unused columns\n",
    "behaviors = behaviors[[\"impression_id\", \"user_id\", \"clicked_news\"]]"
   ]
  },
  {
   "cell_type": "code",
   "execution_count": 6,
   "id": "6382eae2",
   "metadata": {
    "ExecuteTime": {
     "end_time": "2023-10-15T12:25:26.615855800Z",
     "start_time": "2023-10-15T12:25:26.360979500Z"
    }
   },
   "outputs": [],
   "source": [
    "# Flattening the clicked news and associating with user_id, that means we divide the lists into one row for each clicked news\n",
    "clicked_news = behaviors.explode('clicked_news')[['user_id', 'clicked_news']]"
   ]
  },
  {
   "cell_type": "code",
   "execution_count": 7,
   "id": "3c005d34",
   "metadata": {
    "ExecuteTime": {
     "end_time": "2023-10-15T12:25:27.480461800Z",
     "start_time": "2023-10-15T12:25:27.302937100Z"
    }
   },
   "outputs": [],
   "source": [
    "#remove non valid news from interactions\n",
    "clicked_news = clicked_news[clicked_news['clicked_news'].isin(valid_news_ids)]"
   ]
  },
  {
   "cell_type": "code",
   "execution_count": 8,
   "id": "4212f68e",
   "metadata": {
    "ExecuteTime": {
     "end_time": "2023-10-15T12:25:30.368290100Z",
     "start_time": "2023-10-15T12:25:28.065521Z"
    }
   },
   "outputs": [],
   "source": [
    "# Filtering users with more than 4 news clicked since the distribution is 'ultra-skewed'\n",
    "clicked_news = clicked_news.groupby('user_id').filter(lambda x: len(x) > 4)"
   ]
  },
  {
   "cell_type": "code",
   "execution_count": 9,
   "id": "ba6e56aa",
   "metadata": {
    "ExecuteTime": {
     "end_time": "2023-10-15T12:25:31.055661100Z",
     "start_time": "2023-10-15T12:25:31.036673100Z"
    }
   },
   "outputs": [],
   "source": [
    "# Rename 'clicked_news' column to 'news_id'\n",
    "clicked_news = clicked_news.rename(columns={'clicked_news': 'news_id'})"
   ]
  },
  {
   "cell_type": "code",
   "execution_count": 10,
   "id": "f9b9765c",
   "metadata": {
    "ExecuteTime": {
     "end_time": "2023-10-15T12:25:32.510631400Z",
     "start_time": "2023-10-15T12:25:32.415884500Z"
    }
   },
   "outputs": [
    {
     "name": "stdout",
     "output_type": "stream",
     "text": [
      "Number of unique clicked news: 6522\n",
      "Number of unique users:        15418 \n",
      "\n"
     ]
    }
   ],
   "source": [
    "print(f\"Number of unique clicked news: {clicked_news['news_id'].nunique()}\")\n",
    "print(f\"Number of unique users:        {clicked_news['user_id'].nunique()} \\n\")"
   ]
  },
  {
   "cell_type": "code",
   "execution_count": 11,
   "id": "e983ce59",
   "metadata": {
    "ExecuteTime": {
     "end_time": "2023-10-15T12:25:33.987361500Z",
     "start_time": "2023-10-15T12:25:33.902078700Z"
    }
   },
   "outputs": [],
   "source": [
    "news = news.reset_index()"
   ]
  },
  {
   "cell_type": "markdown",
   "id": "9261f15b",
   "metadata": {},
   "source": [
    "## in the cell below we create mappings from real id's to indexes, and create clicked_news_encoded"
   ]
  },
  {
   "cell_type": "code",
   "execution_count": 12,
   "id": "a66c0c07",
   "metadata": {
    "ExecuteTime": {
     "end_time": "2023-10-15T12:25:38.254141400Z",
     "start_time": "2023-10-15T12:25:38.207265200Z"
    }
   },
   "outputs": [],
   "source": [
    "# Create categorical types without encoding them yet\n",
    "clicked_news['user_id_cat'] = clicked_news['user_id'].astype(\"category\")\n",
    "clicked_news['news_id_cat'] = clicked_news['news_id'].astype(\"category\")\n",
    "\n",
    "# Creating mappings from original IDs to encoded IDs\n",
    "id_to_user = dict(enumerate(clicked_news['user_id_cat'].cat.categories))\n",
    "id_to_news = dict(enumerate(clicked_news['news_id_cat'].cat.categories))\n",
    "\n",
    "# Convert categories to codes (integer encoding)\n",
    "clicked_news_encoded = pd.DataFrame(columns=['user', 'item'])\n",
    "clicked_news_encoded['user'] = clicked_news['user_id_cat'].cat.codes\n",
    "clicked_news_encoded['item'] = clicked_news['news_id_cat'].cat.codes\n",
    "\n",
    "# Drop the additional categorical columns if they are not needed\n",
    "clicked_news = clicked_news.drop(columns=['user_id_cat', 'news_id_cat'])\n",
    "\n",
    "# Creating reverse mappings from original IDs to encoded IDs\n",
    "user_to_id = {v: k for k, v in id_to_user.items()}\n",
    "news_to_id = {v: k for k, v in id_to_news.items()}"
   ]
  },
  {
   "cell_type": "code",
   "execution_count": 13,
   "id": "7d4d0e63",
   "metadata": {
    "ExecuteTime": {
     "end_time": "2023-10-15T12:25:39.522700Z",
     "start_time": "2023-10-15T12:25:39.493473600Z"
    }
   },
   "outputs": [
    {
     "name": "stdout",
     "output_type": "stream",
     "text": [
      "users: 15418 \n",
      "items: 6522\n"
     ]
    }
   ],
   "source": [
    "# Create a sparse user-item interaction matrix\n",
    "interaction_matrix = coo_matrix((np.ones(clicked_news_encoded.shape[0]),\n",
    "                                 (clicked_news_encoded['user'], clicked_news_encoded['item'])))\n",
    "\n",
    "print(f\"users: {interaction_matrix.shape[0]} \\nitems: {interaction_matrix.shape[1]}\")"
   ]
  },
  {
   "cell_type": "code",
   "execution_count": 14,
   "id": "dbeb967c",
   "metadata": {
    "ExecuteTime": {
     "end_time": "2023-10-15T12:25:40.539794Z",
     "start_time": "2023-10-15T12:25:40.489096200Z"
    }
   },
   "outputs": [],
   "source": [
    "#transform into compressed sparse row\n",
    "interaction_matrix_csr = interaction_matrix.tocsr()"
   ]
  },
  {
   "cell_type": "code",
   "execution_count": 15,
   "id": "173c8f04",
   "metadata": {
    "ExecuteTime": {
     "end_time": "2023-10-15T12:25:42.208078200Z",
     "start_time": "2023-10-15T12:25:42.185885600Z"
    }
   },
   "outputs": [],
   "source": [
    "clicked_news_encoded['rating'] = np.ones(len(clicked_news_encoded))"
   ]
  },
  {
   "cell_type": "code",
   "execution_count": 16,
   "id": "5396cae1",
   "metadata": {
    "ExecuteTime": {
     "end_time": "2023-10-15T12:25:43.055241600Z",
     "start_time": "2023-10-15T12:25:43.013354100Z"
    }
   },
   "outputs": [
    {
     "name": "stdout",
     "output_type": "stream",
     "text": [
      "         user  item  rating\n",
      "1       14889   756     1.0\n",
      "5        1803  1190     1.0\n",
      "5        1803  2565     1.0\n",
      "9        7888  4810     1.0\n",
      "10      14512  5700     1.0\n",
      "...       ...   ...     ...\n",
      "156963   6291  1261     1.0\n",
      "156963   6291  4396     1.0\n",
      "156963   6291  2904     1.0\n",
      "156963   6291   915     1.0\n",
      "156963   6291  1137     1.0\n",
      "\n",
      "[155443 rows x 3 columns]\n"
     ]
    }
   ],
   "source": [
    "print(clicked_news_encoded)"
   ]
  },
  {
   "cell_type": "code",
   "execution_count": 17,
   "id": "b2c158a9",
   "metadata": {
    "ExecuteTime": {
     "end_time": "2023-10-15T12:25:44.263012500Z",
     "start_time": "2023-10-15T12:25:44.207163400Z"
    },
    "scrolled": true
   },
   "outputs": [
    {
     "name": "stdout",
     "output_type": "stream",
     "text": [
      "      user_id  num_of_clicks\n",
      "0      U53220            125\n",
      "1      U70550            118\n",
      "2      U63482            109\n",
      "3      U20833             95\n",
      "4      U32322             94\n",
      "...       ...            ...\n",
      "13230  U91963              5\n",
      "13231  U65567              5\n",
      "13232    U417              5\n",
      "13233  U63788              5\n",
      "15417   U5480              5\n",
      "\n",
      "[15418 rows x 2 columns]\n"
     ]
    }
   ],
   "source": [
    "user_click_counts = clicked_news['user_id'].value_counts().reset_index()\n",
    "user_click_counts.columns = ['user_id', 'num_of_clicks']\n",
    "user_click_counts_sorted = user_click_counts.sort_values(by='num_of_clicks', ascending=False)\n",
    "print(user_click_counts_sorted)"
   ]
  },
  {
   "cell_type": "markdown",
   "id": "2118b690",
   "metadata": {},
   "source": [
    "# Content based recommendations"
   ]
  },
  {
   "cell_type": "code",
   "execution_count": 18,
   "id": "fbaeefbf",
   "metadata": {
    "ExecuteTime": {
     "end_time": "2023-10-15T12:25:48.981649700Z",
     "start_time": "2023-10-15T12:25:46.850305300Z"
    }
   },
   "outputs": [],
   "source": [
    "# Vectorizing the 'abstract' column of news\n",
    "vectorizer = TfidfVectorizer(stop_words='english', max_features=5000)\n",
    "news_profiles = vectorizer.fit_transform(news['abstract'])"
   ]
  },
  {
   "cell_type": "code",
   "execution_count": 19,
   "id": "79e09e72",
   "metadata": {
    "ExecuteTime": {
     "end_time": "2023-10-15T12:25:53.033908Z",
     "start_time": "2023-10-15T12:25:52.996797900Z"
    }
   },
   "outputs": [
    {
     "name": "stdout",
     "output_type": "stream",
     "text": [
      "royals\n"
     ]
    }
   ],
   "source": [
    "# Reversing the vocabulary dictionary\n",
    "reverse_vocab = {v: k for k, v in vectorizer.vocabulary_.items()}\n",
    "\n",
    "print(reverse_vocab.get(3845))"
   ]
  },
  {
   "cell_type": "markdown",
   "id": "92cb48ec",
   "metadata": {},
   "source": [
    "This is a matrix that holds the similarity scores between all pairs of news items. It's a  square matrix where each row and column corresponds to a news item, and the entry [i, j] gives the similarity between news item i and news item j. the diagonal is full of ones for obvious reasons"
   ]
  },
  {
   "cell_type": "code",
   "execution_count": 20,
   "id": "9c3112e8",
   "metadata": {
    "ExecuteTime": {
     "end_time": "2023-10-15T12:26:40.882999600Z",
     "start_time": "2023-10-15T12:26:01.244613800Z"
    }
   },
   "outputs": [],
   "source": [
    "# Compute the cosine similarity matrix\n",
    "news_similarity = cosine_similarity(news_profiles, dense_output=False)"
   ]
  },
  {
   "cell_type": "code",
   "execution_count": 21,
   "id": "b64f0172",
   "metadata": {
    "ExecuteTime": {
     "end_time": "2023-10-15T12:27:12.356020400Z",
     "start_time": "2023-10-15T12:27:09.637895Z"
    }
   },
   "outputs": [],
   "source": [
    "all_id_to_news = news['news_id'].to_dict()\n",
    "all_news_to_id = {v: k for k, v in all_id_to_news.items()}"
   ]
  },
  {
   "cell_type": "code",
   "execution_count": 22,
   "id": "f1e6e9c3",
   "metadata": {
    "ExecuteTime": {
     "end_time": "2023-10-15T13:46:17.338842600Z",
     "start_time": "2023-10-15T13:46:17.324879900Z"
    }
   },
   "outputs": [],
   "source": [
    "def recommend_news(user_id, interaction_matrix, news_similarity, user_to_id = user_to_id, top_n=5):\n",
    "    \"\"\"\n",
    "    Recommend top N news items for a given user.\n",
    "    \n",
    "    Parameters:\n",
    "        user_id (str): The user for whom to make recommendations.\n",
    "        interaction_matrix (csr_matrix): User-item interaction matrix.\n",
    "        news_similarity (csr_matrix): Item-item similarity matrix.\n",
    "        top_n (int): Number of items to recommend.\n",
    "        \n",
    "    Returns:\n",
    "        list: List of recommended item indices.\n",
    "    \"\"\"\n",
    "    user_id = user_to_id[user_id]\n",
    "    \n",
    "    # Get the user's past interactions (list of news ids that the user has interacted with)\n",
    "    user_interactions = interaction_matrix[user_id, :].nonzero()[1]\n",
    "    \n",
    "    # Sum the similarities of the interacted items \n",
    "    similarity_sum = np.sum(news_similarity[user_interactions, :], axis=0) #shape = (n_interactions, all_news)\n",
    "    \n",
    "    # Remove already interacted items\n",
    "    similarity_sum[0, user_interactions] = 0\n",
    "    \n",
    "    # Get top N item indices\n",
    "    recommended_news_ids = np.argsort(similarity_sum)[0, -top_n:][::-1]\n",
    "\n",
    "    #get similarity scores of top N items\n",
    "    similarity_scores = [similarity_sum[0, idx] for idx in recommended_news_ids.tolist()[0][::-1]]\n",
    "\n",
    "    # Convert indices to original news IDs\n",
    "    recommended_news = [all_id_to_news[idx] for idx in recommended_news_ids.tolist()[0]]\n",
    "    \n",
    "    return recommended_news, similarity_scores"
   ]
  },
  {
   "cell_type": "code",
   "execution_count": 23,
   "id": "e8a57578",
   "metadata": {
    "ExecuteTime": {
     "end_time": "2023-10-15T15:48:27.867072100Z",
     "start_time": "2023-10-15T15:48:27.843379300Z"
    }
   },
   "outputs": [],
   "source": [
    "def explain_individual(user_id, recommended_items, interaction_matrix, similarity_scores):\n",
    "\n",
    "    # Get the user's past interactions (list of news ids that the user has interacted with)\n",
    "    user_id_letter = user_id\n",
    "    user_id = user_to_id[user_id]\n",
    "    user_interactions = interaction_matrix[user_id, :].nonzero()[1][:5]\n",
    "    explanation = f\"{user_id_letter}: You previously watched these articles:\\n{user_interactions}\\n\"\n",
    "    explanation += f\"Based off of your click history and similar content, we recommend these articles:\\n{recommended_items}.\\nThese are their respective similarity scores:\\n{similarity_scores}\"\n",
    "\n",
    "    return explanation"
   ]
  },
  {
   "cell_type": "code",
   "execution_count": 24,
   "id": "c09405c7",
   "metadata": {
    "ExecuteTime": {
     "end_time": "2023-10-15T15:48:28.996624100Z",
     "start_time": "2023-10-15T15:48:28.940691800Z"
    }
   },
   "outputs": [
    {
     "name": "stdout",
     "output_type": "stream",
     "text": [
      "U53220: You previously watched these articles:\n",
      "[ 64  91 181 184 208]\n",
      "Based off of your click history and similar content, we recommend these articles:\n",
      "['N4830', 'N17496', 'N11545', 'N64885', 'N35290', 'N6405', 'N2445', 'N15320', 'N45022', 'N12262'].\n",
      "These are their respective similarity scores:\n",
      "[2.985750511470631, 2.756920555907457, 2.744329483002449, 2.6892713962617187, 2.6892713962617187, 2.6565837180483913, 2.6106609239726457, 2.562446860836066, 2.5504442878516675, 2.5362196562507755]\n"
     ]
    }
   ],
   "source": [
    "# Recommend for a user\n",
    "user_id = 'U53220'\n",
    "recommended_news_indices, similarities = recommend_news(user_id, interaction_matrix_csr, news_similarity, top_n=10)\n",
    "\n",
    "print(explain_individual(user_id, recommended_news_indices, interaction_matrix_csr, similarities))"
   ]
  },
  {
   "cell_type": "markdown",
   "id": "0cf88419",
   "metadata": {},
   "source": [
    "## Test set"
   ]
  },
  {
   "cell_type": "code",
   "execution_count": 25,
   "id": "6ad33950",
   "metadata": {
    "ExecuteTime": {
     "end_time": "2023-10-15T13:52:01.351924600Z",
     "start_time": "2023-10-15T13:51:59.512842300Z"
    }
   },
   "outputs": [],
   "source": [
    "# Load data\n",
    "test_behaviors = pd.read_csv('./small_test_data/behaviors.tsv', delimiter='\\t', header=None)\n",
    "test_news = pd.read_csv('./small_test_data/news.tsv', delimiter='\\t', header=None)\n",
    "\n",
    "# Naming columns\n",
    "test_behaviors.columns = [\"impression_id\", \"user_id\", \"time\", \"history\", \"impressions\"]\n",
    "test_news.columns = [\"news_id\", \"category\", \"subcategory\", \"title\", \"abstract\", \"url\", \"title_entities\", \"abstract_entities\"]"
   ]
  },
  {
   "cell_type": "code",
   "execution_count": 26,
   "id": "8899f871",
   "metadata": {
    "ExecuteTime": {
     "end_time": "2023-10-15T13:52:02.152946100Z",
     "start_time": "2023-10-15T13:52:02.091300500Z"
    }
   },
   "outputs": [],
   "source": [
    "# Remove NaN values in the 'abstract' column\n",
    "test_news = test_news.dropna(subset=['abstract'])\n",
    "\n",
    "# list of valid news (with some abstract)\n",
    "test_valid_news_ids = set(test_news['news_id'])"
   ]
  },
  {
   "cell_type": "code",
   "execution_count": 27,
   "id": "a85f05d5",
   "metadata": {
    "ExecuteTime": {
     "end_time": "2023-10-15T13:52:05.349462Z",
     "start_time": "2023-10-15T13:52:03.666960100Z"
    }
   },
   "outputs": [],
   "source": [
    "# Extracting clicked news from behaviors, this is a column of lists of the clicked news (tagget with 1) for each impression\n",
    "test_behaviors['clicked_news'] = test_behaviors['impressions'].apply(lambda x: [imp.split('-')[0] for imp in x.split() if imp.split('-')[1] == '1'])\n",
    "\n",
    "#removing unused columns\n",
    "test_behaviors = test_behaviors[[\"impression_id\", \"user_id\", \"clicked_news\"]]\n",
    "\n",
    "# Flattening the clicked news and associating with user_id, that means we divide the lists into one row for each clicked news\n",
    "test_clicked_news = test_behaviors.explode('clicked_news')[['user_id', 'clicked_news']]\n",
    "\n",
    "#remove non valid news from interactions\n",
    "test_clicked_news = test_clicked_news[test_clicked_news['clicked_news'].isin(test_valid_news_ids)]\n",
    "\n",
    "# Rename 'clicked_news' column to 'news_id'\n",
    "test_data = test_clicked_news.rename(columns={'clicked_news': 'news_id'})"
   ]
  },
  {
   "cell_type": "code",
   "execution_count": 28,
   "id": "701cb1ef",
   "metadata": {
    "ExecuteTime": {
     "end_time": "2023-10-15T13:52:06.088580700Z",
     "start_time": "2023-10-15T13:52:06.009602200Z"
    }
   },
   "outputs": [
    {
     "name": "stdout",
     "output_type": "stream",
     "text": [
      "Number of unique clicked news: 2115\n",
      "Number of unique users:        48139 \n",
      "\n"
     ]
    }
   ],
   "source": [
    "print(f\"Number of unique clicked news: {test_data['news_id'].nunique()}\")\n",
    "print(f\"Number of unique users:        {test_data['user_id'].nunique()} \\n\")"
   ]
  },
  {
   "cell_type": "markdown",
   "id": "ab015439",
   "metadata": {},
   "source": [
    "### Since it's a content-based recommender system we ran into the cold start problem from users present in the test data but not in the training data, so we just recommend them items from the most popular news "
   ]
  },
  {
   "cell_type": "code",
   "execution_count": 29,
   "id": "21adffa5",
   "metadata": {
    "ExecuteTime": {
     "end_time": "2023-10-15T13:52:09.279291100Z",
     "start_time": "2023-10-15T13:52:09.216163700Z"
    }
   },
   "outputs": [],
   "source": [
    "news_popularity = clicked_news['news_id'].value_counts()\n",
    "\n",
    "# Calculate the click threshold for the top percentile\n",
    "threshold = np.percentile(news_popularity, 95)\n",
    "\n",
    "# Get the most popular news items\n",
    "popular_news = news_popularity[news_popularity >= threshold].index.tolist()"
   ]
  },
  {
   "cell_type": "markdown",
   "id": "bb21a19a",
   "metadata": {},
   "source": [
    "## Model evaluation - Precision@k and Recall@k and nCDG@k"
   ]
  },
  {
   "cell_type": "code",
   "execution_count": 30,
   "id": "39ddf2d3",
   "metadata": {
    "ExecuteTime": {
     "end_time": "2023-10-15T13:52:12.780444600Z",
     "start_time": "2023-10-15T13:52:12.763463Z"
    }
   },
   "outputs": [],
   "source": [
    "recommendations = {} #{'user_id': [list of recommended news_ids]}"
   ]
  },
  {
   "cell_type": "code",
   "execution_count": 31,
   "id": "4f33f644",
   "metadata": {
    "ExecuteTime": {
     "end_time": "2023-10-15T13:52:14.117691800Z",
     "start_time": "2023-10-15T13:52:14.054832700Z"
    }
   },
   "outputs": [],
   "source": [
    "# Set of user_ids from test_data and training data\n",
    "test_data_user_ids = set(test_data['user_id'].unique())\n",
    "\n",
    "train_data_user_ids = set(clicked_news['user_id'].unique())"
   ]
  },
  {
   "cell_type": "code",
   "execution_count": 32,
   "id": "48dfd296",
   "metadata": {
    "ExecuteTime": {
     "end_time": "2023-10-15T13:52:25.678074200Z",
     "start_time": "2023-10-15T13:52:15.099659100Z"
    },
    "scrolled": true
   },
   "outputs": [],
   "source": [
    "for user_id in test_data_user_ids:\n",
    "    if user_id not in train_data_user_ids:\n",
    "        # New user or user not in test data\n",
    "        recommendations[user_id] = random.sample(popular_news, 5)  # Recommend random news from popular news items\n",
    "    else:\n",
    "        recommended_news_indices = recommend_news(user_id, interaction_matrix_csr, news_similarity, top_n=10)[0]\n",
    "        recommendations[user_id] = [idx for idx in recommended_news_indices]"
   ]
  },
  {
   "cell_type": "code",
   "execution_count": 33,
   "id": "ec05261b",
   "metadata": {
    "ExecuteTime": {
     "end_time": "2023-10-15T13:52:26.487629300Z",
     "start_time": "2023-10-15T13:52:26.444578500Z"
    }
   },
   "outputs": [],
   "source": [
    "def precision_at_k(recommended_list, relevant_list, k):\n",
    "    \"\"\"\n",
    "    Compute Precision at K.\n",
    "    \n",
    "    Parameters:\n",
    "        recommended_list (list): List of recommended items.\n",
    "        relevant_list (list): List of relevant items.\n",
    "        k (int): Number of recommendations to consider.\n",
    "        \n",
    "    Returns:\n",
    "        float: Precision at K score.\n",
    "    \"\"\"\n",
    "    return len(set(recommended_list[:k]) & set(relevant_list)) / k"
   ]
  },
  {
   "cell_type": "code",
   "execution_count": 34,
   "id": "7f320af9",
   "metadata": {
    "ExecuteTime": {
     "end_time": "2023-10-15T13:52:27.862222Z",
     "start_time": "2023-10-15T13:52:27.816345Z"
    }
   },
   "outputs": [],
   "source": [
    "def recall_at_k(recommended_list, relevant_set, k):\n",
    "    \"\"\"Return the recall at k.\"\"\"\n",
    "    return len(set(recommended_list[:k]) & set(relevant_set)) / len(relevant_set)"
   ]
  },
  {
   "cell_type": "code",
   "execution_count": 35,
   "id": "03ad74f0",
   "metadata": {
    "ExecuteTime": {
     "end_time": "2023-10-15T13:52:29.112089300Z",
     "start_time": "2023-10-15T13:52:29.069177900Z"
    }
   },
   "outputs": [],
   "source": [
    "def ndcg_at_k(recommended_list, relevant_set, k):\n",
    "    \"\"\"Return the NDCG at k.\"\"\"\n",
    "    dcg = 0\n",
    "    idcg = sum([1 / math.log(i + 2, 2) for i in range(min(k, len(relevant_set)))])\n",
    "    for i, item in enumerate(recommended_list[:k]):\n",
    "        if item in relevant_set:\n",
    "            dcg += 1 / math.log(i + 2, 2)\n",
    "    return dcg / idcg"
   ]
  },
  {
   "cell_type": "code",
   "execution_count": 36,
   "id": "e1dae9c6",
   "metadata": {
    "ExecuteTime": {
     "end_time": "2023-10-15T13:55:36.055102900Z",
     "start_time": "2023-10-15T13:55:35.833551700Z"
    },
    "scrolled": true
   },
   "outputs": [
    {
     "name": "stdout",
     "output_type": "stream",
     "text": [
      "Mean Precision@5: 0.0004\n",
      "Mean Recall@5: 0.0008\n",
      "Mean NDCG@5: 0.0007\n"
     ]
    }
   ],
   "source": [
    "k = 5 # or any value you choose\n",
    "\n",
    "precision_values = []\n",
    "recall_values = []\n",
    "ndcg_values = []\n",
    "\n",
    "for user_id, recommended_items in recommendations.items():\n",
    "    relevant_items = tuple(test_data[test_data['user_id'] == user_id]['news_id'].tolist()) \n",
    "    if relevant_items:  # if the user has any relevant items\n",
    "        precision = precision_at_k(recommended_items, relevant_items, k)\n",
    "        recall = recall_at_k(recommended_items, relevant_items, k)\n",
    "        ndcg = ndcg_at_k(recommended_items, relevant_items, k)\n",
    "        \n",
    "        precision_values.append(precision)\n",
    "        recall_values.append(recall)\n",
    "        ndcg_values.append(ndcg)\n",
    "\n",
    "# Averaging across all users to get the final metric value\n",
    "mean_precision = np.mean(precision_values)\n",
    "mean_recall = np.mean(recall_values)\n",
    "mean_ndcg = np.mean(ndcg_values)\n",
    "\n",
    "print(f\"Mean Precision@{k}: {mean_precision:.4f}\")\n",
    "print(f\"Mean Recall@{k}: {mean_recall:.4f}\")\n",
    "print(f\"Mean NDCG@{k}: {mean_ndcg:.4f}\")"
   ]
  },
  {
   "cell_type": "markdown",
   "id": "74d79a91",
   "metadata": {},
   "source": [
    "I think it's due to the sparsity and cold start problem, we have many users without interactions"
   ]
  },
  {
   "cell_type": "code",
   "execution_count": 37,
   "id": "082109a9",
   "metadata": {
    "ExecuteTime": {
     "end_time": "2023-10-15T13:55:43.162592300Z",
     "start_time": "2023-10-15T13:55:41.984177500Z"
    }
   },
   "outputs": [],
   "source": [
    "filtered_test_data = test_data.groupby('user_id').filter(lambda x: len(x) > 15)"
   ]
  },
  {
   "cell_type": "code",
   "execution_count": 38,
   "id": "a2b1fe19",
   "metadata": {
    "ExecuteTime": {
     "end_time": "2023-10-15T14:04:05.334441300Z",
     "start_time": "2023-10-15T14:04:05.233710800Z"
    }
   },
   "outputs": [],
   "source": [
    "recommendations = {} #{'user_id': [list of recommended news_ids]}\n",
    "\n",
    "# Set of user_ids from test_data and training data\n",
    "test_data_user_ids = set(filtered_test_data['user_id'].unique())\n",
    "\n",
    "train_data_user_ids = set(clicked_news['user_id'].unique())\n",
    "\n",
    "for user_id in test_data_user_ids:\n",
    "    if user_id not in train_data_user_ids:\n",
    "        # New user or user not in test data\n",
    "        recommendations[user_id] = random.sample(popular_news, 5)  # Recommend random news from popular news items\n",
    "    else:\n",
    "        recommended_news_indices = recommend_news(user_id, interaction_matrix_csr, news_similarity, top_n=10)[0]\n",
    "        recommendations[user_id] = [idx for idx in recommended_news_indices]"
   ]
  },
  {
   "cell_type": "code",
   "execution_count": 39,
   "id": "5fda5dbc",
   "metadata": {
    "ExecuteTime": {
     "end_time": "2023-10-15T14:04:07.563123400Z",
     "start_time": "2023-10-15T14:04:07.533167900Z"
    }
   },
   "outputs": [
    {
     "name": "stdout",
     "output_type": "stream",
     "text": [
      "Mean Precision@5: 0.0063\n",
      "Mean Recall@5: 0.0014\n",
      "Mean NDCG@5: 0.0065\n"
     ]
    }
   ],
   "source": [
    "k = 5  # or any value you choose\n",
    "\n",
    "precision_values = []\n",
    "recall_values = []\n",
    "ndcg_values = []\n",
    "\n",
    "for user_id, recommended_items in recommendations.items():\n",
    "    relevant_items = test_data[test_data['user_id'] == user_id]['news_id'].tolist()\n",
    "    \n",
    "    if relevant_items:  # if the user has any relevant items\n",
    "        \n",
    "        precision = precision_at_k(recommended_items, relevant_items, k)\n",
    "        recall = recall_at_k(recommended_items, relevant_items, k)\n",
    "        ndcg = ndcg_at_k(recommended_items, relevant_items, k)\n",
    "        \n",
    "        precision_values.append(precision)\n",
    "        recall_values.append(recall)\n",
    "        ndcg_values.append(ndcg)\n",
    "\n",
    "# Averaging across all users to get the final metric value\n",
    "mean_precision = np.mean(precision_values)\n",
    "mean_recall = np.mean(recall_values)\n",
    "mean_ndcg = np.mean(ndcg_values)\n",
    "\n",
    "print(f\"Mean Precision@{k}: {mean_precision:.4f}\")\n",
    "print(f\"Mean Recall@{k}: {mean_recall:.4f}\")\n",
    "print(f\"Mean NDCG@{k}: {mean_ndcg:.4f}\")"
   ]
  },
  {
   "cell_type": "markdown",
   "id": "6299b60d",
   "metadata": {},
   "source": [
    "### In fact we can see that is precision increases if we consider users with more than n = 10 interactions"
   ]
  },
  {
   "cell_type": "markdown",
   "id": "4d517852",
   "metadata": {},
   "source": [
    "# Group recommendations"
   ]
  },
  {
   "cell_type": "code",
   "execution_count": 40,
   "id": "727a47ac",
   "metadata": {
    "ExecuteTime": {
     "end_time": "2023-10-15T14:04:11.514413Z",
     "start_time": "2023-10-15T14:04:11.496462800Z"
    }
   },
   "outputs": [],
   "source": [
    "from lenskit.algorithms.als import ImplicitMF"
   ]
  },
  {
   "cell_type": "code",
   "execution_count": 41,
   "id": "1fe8d11c",
   "metadata": {
    "ExecuteTime": {
     "end_time": "2023-10-15T14:04:12.101735300Z",
     "start_time": "2023-10-15T14:04:12.069821500Z"
    }
   },
   "outputs": [],
   "source": [
    "# Load JSON string from a file\n",
    "with open(\"grouped_dict.json\", \"r\") as f:\n",
    "    grouped_dict_json = f.read()\n",
    "\n",
    "# Convert the JSON string back to a dictionary\n",
    "groups_dict = json.loads(grouped_dict_json)"
   ]
  },
  {
   "cell_type": "code",
   "execution_count": 42,
   "id": "b4c5879b",
   "metadata": {
    "ExecuteTime": {
     "end_time": "2023-10-15T14:04:12.568554800Z",
     "start_time": "2023-10-15T14:04:12.545617600Z"
    },
    "scrolled": true
   },
   "outputs": [],
   "source": [
    "all_clicks = clicked_news_encoded.reset_index()\n",
    "all_clicks = all_clicks[['user', 'item', 'rating']]"
   ]
  },
  {
   "cell_type": "code",
   "execution_count": 43,
   "id": "219cba4f",
   "metadata": {
    "ExecuteTime": {
     "end_time": "2023-10-15T14:04:16.708328Z",
     "start_time": "2023-10-15T14:04:12.881560500Z"
    }
   },
   "outputs": [
    {
     "data": {
      "text/plain": [
       "<lenskit.algorithms.als.ImplicitMF at 0x143e25b0f10>"
      ]
     },
     "execution_count": 43,
     "metadata": {},
     "output_type": "execute_result"
    }
   ],
   "source": [
    "# Create an implicit feedback model with 50 features and 20 iterations\n",
    "model = ImplicitMF(features=50, iterations=20, reg=0.1)\n",
    "\n",
    "# Train the model\n",
    "model.fit(all_clicks)"
   ]
  },
  {
   "cell_type": "code",
   "execution_count": 44,
   "id": "b00776fd",
   "metadata": {
    "ExecuteTime": {
     "end_time": "2023-10-15T14:04:16.711320100Z",
     "start_time": "2023-10-15T14:04:16.658462200Z"
    }
   },
   "outputs": [],
   "source": [
    "def group_recommendations(user_group, model, all_items, user_item_data):\n",
    "    #getting user_idexes\n",
    "    user_group = [user_to_id[user] for user in user_group if user in user_to_id]\n",
    "    \n",
    "    # A dictionary to aggregate scores\n",
    "    aggregated_scores = {}\n",
    "\n",
    "    # A set to collect items already read by any user in the group\n",
    "    read_by_group = set()\n",
    "\n",
    "    for user in user_group:\n",
    "        # Get individual user recommendations\n",
    "        recs_user = model.predict_for_user(user, all_items)\n",
    "        \n",
    "        # Exclude items already read by the user\n",
    "        read_items = user_item_data[user_item_data['user'] == user]['item'].tolist()\n",
    "        recs_user = recs_user.drop(read_items, errors='ignore')\n",
    "\n",
    "        # Add these read items to the group set\n",
    "        read_by_group.update(read_items)\n",
    "\n",
    "        # Aggregate scores\n",
    "        for item, score in recs_user.items():\n",
    "            if item in aggregated_scores:\n",
    "                aggregated_scores[item] += score\n",
    "            else:\n",
    "                aggregated_scores[item] = score\n",
    "\n",
    "    # Convert to pandas series for easier manipulation\n",
    "    aggregated_scores = pd.Series(aggregated_scores)\n",
    "\n",
    "    # Remove items read by any user in the group\n",
    "    aggregated_scores = aggregated_scores.drop(list(read_by_group), errors='ignore')\n",
    "\n",
    "    # Sort and get the top items\n",
    "    top_items = aggregated_scores.sort_values(ascending=False).head(10)\n",
    "\n",
    "    # Convert the index to news ids using the dictionary\n",
    "    top_items.index = top_items.index.map(id_to_news)\n",
    "    \n",
    "    return top_items"
   ]
  },
  {
   "cell_type": "code",
   "execution_count": 45,
   "id": "dfafd881",
   "metadata": {
    "ExecuteTime": {
     "end_time": "2023-10-15T13:52:58.799316900Z",
     "start_time": "2023-10-15T13:52:58.758053400Z"
    }
   },
   "outputs": [],
   "source": [
    "def explain_group_recs(group_users, news, top_items):\n",
    "    explanations = {}\n",
    "    \n",
    "    for item in top_items:\n",
    "        # Check for topic\n",
    "        filtered_news = news.loc[news['news_id'] == item, 'subcategory']\n",
    "        if not filtered_news.empty:\n",
    "            topic = filtered_news.values[0]\n",
    "        else:\n",
    "            topic = \"Unknown\"  \n",
    "        \n",
    "        user_group = [user for user in group_users if user in id_to_user]\n",
    "        \n",
    "        # Generate explanation string\n",
    "        explanations[item] = f\"Recommended because users {group_users} showed a high average preference score for {topic}.\"\n",
    "\n",
    "    return explanations"
   ]
  },
  {
   "cell_type": "code",
   "execution_count": 46,
   "id": "1d7accbb",
   "metadata": {
    "ExecuteTime": {
     "end_time": "2023-10-15T13:53:00.333138500Z",
     "start_time": "2023-10-15T13:53:00.189215500Z"
    }
   },
   "outputs": [
    {
     "data": {
      "text/plain": [
       "['U69084', 'U31631', 'U57214', 'U21331', 'U1331', 'U64554', 'U42643', 'U80596']"
      ]
     },
     "execution_count": 46,
     "metadata": {},
     "output_type": "execute_result"
    }
   ],
   "source": [
    "all_items = clicked_news_encoded.item.unique().tolist()\n",
    "\n",
    "group = groups_dict['Group 6']\n",
    "group"
   ]
  },
  {
   "cell_type": "code",
   "execution_count": 47,
   "id": "b1b7322d",
   "metadata": {
    "ExecuteTime": {
     "end_time": "2023-10-15T13:53:01.775594600Z",
     "start_time": "2023-10-15T13:53:01.546208400Z"
    },
    "scrolled": true
   },
   "outputs": [
    {
     "name": "stdout",
     "output_type": "stream",
     "text": [
      "Top 10 recommended items for the group:\n",
      "N33885    4.710758\n",
      "N7821     4.303284\n",
      "N56211    4.020681\n",
      "N49685    3.952753\n",
      "N62366    3.654688\n",
      "N59252    3.513958\n",
      "N28047    3.503249\n",
      "N20134    3.428160\n",
      "N41881    3.335301\n",
      "N12029    3.222161\n",
      "dtype: float64\n"
     ]
    }
   ],
   "source": [
    "top_10_group_recs = group_recommendations(group, model, all_items, all_clicks)\n",
    "\n",
    "print(\"Top 10 recommended items for the group:\")\n",
    "print(top_10_group_recs)"
   ]
  },
  {
   "cell_type": "code",
   "execution_count": 48,
   "id": "7e6c70b8",
   "metadata": {
    "ExecuteTime": {
     "end_time": "2023-10-15T13:53:03.008240900Z",
     "start_time": "2023-10-15T13:53:02.942389900Z"
    }
   },
   "outputs": [],
   "source": [
    "explanations = explain_group_recs(group, news, top_10_group_recs.index)"
   ]
  },
  {
   "cell_type": "code",
   "execution_count": 49,
   "id": "28ec9255",
   "metadata": {
    "ExecuteTime": {
     "end_time": "2023-10-15T13:53:05.120591700Z",
     "start_time": "2023-10-15T13:53:05.083546700Z"
    }
   },
   "outputs": [
    {
     "data": {
      "text/plain": [
       "{'N33885': \"Recommended because users ['U69084', 'U31631', 'U57214', 'U21331', 'U1331', 'U64554', 'U42643', 'U80596'] showed a high average preference score for finance-companies.\",\n",
       " 'N7821': \"Recommended because users ['U69084', 'U31631', 'U57214', 'U21331', 'U1331', 'U64554', 'U42643', 'U80596'] showed a high average preference score for football_nfl.\",\n",
       " 'N56211': \"Recommended because users ['U69084', 'U31631', 'U57214', 'U21331', 'U1331', 'U64554', 'U42643', 'U80596'] showed a high average preference score for newsus.\",\n",
       " 'N49685': \"Recommended because users ['U69084', 'U31631', 'U57214', 'U21331', 'U1331', 'U64554', 'U42643', 'U80596'] showed a high average preference score for music-celebrity.\",\n",
       " 'N62366': \"Recommended because users ['U69084', 'U31631', 'U57214', 'U21331', 'U1331', 'U64554', 'U42643', 'U80596'] showed a high average preference score for newspolitics.\",\n",
       " 'N59252': \"Recommended because users ['U69084', 'U31631', 'U57214', 'U21331', 'U1331', 'U64554', 'U42643', 'U80596'] showed a high average preference score for newspolitics.\",\n",
       " 'N28047': \"Recommended because users ['U69084', 'U31631', 'U57214', 'U21331', 'U1331', 'U64554', 'U42643', 'U80596'] showed a high average preference score for newsus.\",\n",
       " 'N20134': \"Recommended because users ['U69084', 'U31631', 'U57214', 'U21331', 'U1331', 'U64554', 'U42643', 'U80596'] showed a high average preference score for newspolitics.\",\n",
       " 'N41881': \"Recommended because users ['U69084', 'U31631', 'U57214', 'U21331', 'U1331', 'U64554', 'U42643', 'U80596'] showed a high average preference score for tv-celebrity.\",\n",
       " 'N12029': \"Recommended because users ['U69084', 'U31631', 'U57214', 'U21331', 'U1331', 'U64554', 'U42643', 'U80596'] showed a high average preference score for music-celebrity.\"}"
      ]
     },
     "execution_count": 49,
     "metadata": {},
     "output_type": "execute_result"
    }
   ],
   "source": [
    "explanations"
   ]
  },
  {
   "cell_type": "markdown",
   "id": "93251d71",
   "metadata": {},
   "source": [
    "# Survey recommendations"
   ]
  },
  {
   "cell_type": "code",
   "execution_count": 50,
   "id": "e55aa698",
   "metadata": {
    "ExecuteTime": {
     "end_time": "2023-10-15T13:53:07.658446800Z",
     "start_time": "2023-10-15T13:53:07.596612600Z"
    }
   },
   "outputs": [],
   "source": [
    "survey_news = [\"N55468\", \"N8091\", \"N61914\", \"N7857\", \"N32907\", \"N33584\", \"N50566\", \"N47845\", \"N20212\", \"N37038\", \"N39173\", \"N54950\", \"N63975\", \"N28867\", \"N62996\",\n",
    "               \"N35703\", \"N9680\", \"N50299\", \"N61837\", \"N59295\", \"N13113\", \"N57018\", \"N48320\", \"N49981\", \"N11200\", \"N10470\", \"N46481\", \"N27435\", \"N39125\", \"N24808\",\n",
    "               \"N1587\", \"N22605\", \"N10886\", \"N52386\", \"N52620\", \"N30867\", \"N47140\", \"N29552\", \"N55528\", \"N55610\"]"
   ]
  },
  {
   "cell_type": "code",
   "execution_count": 51,
   "id": "9ace07c0",
   "metadata": {
    "ExecuteTime": {
     "end_time": "2023-10-15T13:53:08.709686700Z",
     "start_time": "2023-10-15T13:53:08.689703500Z"
    }
   },
   "outputs": [],
   "source": [
    "#news for which we don't have the mapping for\n",
    "invalid_list = [item for item in survey_news if item not in all_news_to_id]"
   ]
  },
  {
   "cell_type": "code",
   "execution_count": 52,
   "id": "ae1fe5c2",
   "metadata": {
    "ExecuteTime": {
     "end_time": "2023-10-15T13:53:09.431402100Z",
     "start_time": "2023-10-15T13:53:09.392505900Z"
    }
   },
   "outputs": [
    {
     "name": "stdout",
     "output_type": "stream",
     "text": [
      "['N63975', 'N28867', 'N57018', 'N46481', 'N22605']\n"
     ]
    }
   ],
   "source": [
    "print(invalid_list)"
   ]
  },
  {
   "cell_type": "code",
   "execution_count": 53,
   "id": "13ae1506",
   "metadata": {
    "ExecuteTime": {
     "end_time": "2023-10-15T13:53:23.228034900Z",
     "start_time": "2023-10-15T13:53:23.199115100Z"
    }
   },
   "outputs": [],
   "source": [
    "survey_news_ids = [all_news_to_id[item] for item in survey_news if item in all_news_to_id]"
   ]
  },
  {
   "cell_type": "code",
   "execution_count": 54,
   "id": "67c9715c",
   "metadata": {
    "ExecuteTime": {
     "end_time": "2023-10-15T13:53:24.035953900Z",
     "start_time": "2023-10-15T13:53:24.010843200Z"
    }
   },
   "outputs": [],
   "source": [
    "# Create a list of letters A to O\n",
    "users = [chr(i) for i in range(ord('A'), ord('O')+1)]\n",
    "\n",
    "# Create a DataFrame with 'user' column filled with letters A to O and 'clicked_news' with empty lists\n",
    "survey_interactions = pd.DataFrame({\n",
    "    'user': users,\n",
    "    'item': [[] for _ in users]  # Create an empty list for each user\n",
    "})\n"
   ]
  },
  {
   "cell_type": "code",
   "execution_count": 55,
   "id": "4fe3d638",
   "metadata": {
    "ExecuteTime": {
     "end_time": "2023-10-15T13:53:25.634376300Z",
     "start_time": "2023-10-15T13:53:25.615051200Z"
    }
   },
   "outputs": [],
   "source": [
    "survey_interactions.at[0, 'item'].extend([\"N7857\", \"N33584\", \"N50566\", \"N47845\", \"N39173\", \"N54950\", \"N11200\", \"N22605\", \"N52620\"])\n",
    "survey_interactions.at[1, 'item'].extend([\"N55468\", \"N61914\", \"N50566\", \"N20212\", \"N37038\", \"N39173\", \"N54950\", \"N35703\", \"N50299\", \"N61837\", \"N11200\", \"N10470\", \"N46481\", \"N27435\", \"N1587\", \"N22605\", \"N10886\", \"N52386\", \"N30867\", \"N55528\"])\n",
    "survey_interactions.at[2, 'item'].extend([\"N55468\", \"N8091\", \"N7857\", \"N32907\", \"N33584\", \"N50566\", \"N47845\", \"N20212\", \"N37038\", \"N39173\", \"N54950\", \"N22605\", \"N10886\"])\n",
    "survey_interactions.at[3, 'item'].extend([\"N8091\",\"N7857\",\"N50566\",\"N47845\",\"N20212\",\"N37038\",\"N39173\",\"N54950\",\"N28867\",\"N62996\",\"N35703\",\"N9680\",\"N50299\",\"N61837\",\"N59295\",\"N48320\",\"N46481\",\"N39125\",\"N24808\",\"N22605\",\"N10886\",\"N52386\",\"N52620\",\"N29552\",\"N55528\",\"N55610\"])\n",
    "survey_interactions.at[4, 'item'].extend([\"N61914\",\"N47845\",\"N20212\",\"N39173\",\"N28867\",\"N62996\",\"N35703\",\"N61837\",\"N13113\",\"N48320\",\"N11200\",\"N46481\",\"N39125\",\"N24808\",\"N10886\",\"N52386\",\"N47140\",\"N29552\",\"N55528\"])\n",
    "survey_interactions.at[5, 'item'].extend([\"N55468\",\"N8091\",\"N7857\",\"N47845\",\"N20212\",\"N35703\",\"N9680\",\"N59295\",\"N48320\",\"N49981\",\"N10470\",\"N24808\",\"N1587\",\"N22605\",\"N10886\",\"N30867\"])\n",
    "survey_interactions.at[6, 'item'].extend([\"N55468\",\"N7857\",\"N47845\",\"N62996\",\"N9680\",\"N11200\",\"N10886\",\"N47140\",\"N29552\"])\n",
    "survey_interactions.at[7, 'item'].extend([\"N55468\",\"N8091\",\"N7857\",\"N33584\",\"N50566\",\"N47845\",\"N39173\",\"N59295\",\"N11200\",\"N39125\",\"N22605\",\"N10886\",\"N30867\",\"N29552\"])\n",
    "survey_interactions.at[8, 'item'].extend([\"N55468\",\"N61914\",\"N50566\",\"N47845\",\"N20212\",\"N37038\",\"N39173\",\"N54950\",\"N62996\",\"N35703\",\"N61837\",\"N59295\",\"N57018\",\"N39125\",\"N24808\",\"N1587\",\"N52620\",\"N29552\"])\n",
    "survey_interactions.at[9, 'item'].extend([\"N8091\",\"N7857\",\"N33584\",\"N61837\",\"N57018\",\"N10470\",\"N1587\",\"N10886\",\"N52620\",\"N55528\",\"N55610\"])\n",
    "survey_interactions.at[10, 'item'].extend([\"N8091\",\"N61914\",\"N7857\",\"N33584\",\"N47845\",\"N37038\",\"N24808\",\"N10886\",\"N52620\",\"N30867\"])\n",
    "survey_interactions.at[11, 'item'].extend([\"N61914\",\"N33584\",\"N20212\",\"N37038\",\"N28867\",\"N57018\",\"N49981\",\"N11200\",\"N10470\",\"N27435\",\"N39125\",\"N24808\",\"N10886\",\"N52386\",\"N52620\",\"N30867\",\"N47140\",\"N29552\"])\n",
    "survey_interactions.at[12, 'item'].extend([\"N7857\",\"N32907\",\"N50566\",\"N47845\",\"N62996\",\"N35703\",\"N39125\",\"N24808\"])\n",
    "survey_interactions.at[13, 'item'].extend([\"N55468\",\"N8091\",\"N50566\",\"N20212\",\"N62996\",\"N35703\",\"N59295\",\"N57018\",\"N10470\",\"N39125\",\"N22605\",\"N10886\",\"N52620\",\"N30867\"])\n",
    "survey_interactions.at[14, 'item'].extend([\"N39173\",\"N54950\",\"N59295\",\"N13113\",\"N10886\"])"
   ]
  },
  {
   "cell_type": "code",
   "execution_count": 56,
   "id": "1d5acd36",
   "metadata": {
    "ExecuteTime": {
     "end_time": "2023-10-15T13:53:26.729739Z",
     "start_time": "2023-10-15T13:53:26.695829600Z"
    }
   },
   "outputs": [],
   "source": [
    "survey_interactions['item'] = survey_interactions['item'].apply(lambda x: [item for item in x if item not in invalid_list])"
   ]
  },
  {
   "cell_type": "code",
   "execution_count": 57,
   "id": "78895a2e",
   "metadata": {
    "ExecuteTime": {
     "end_time": "2023-10-15T13:53:27.890850400Z",
     "start_time": "2023-10-15T13:53:27.663162Z"
    }
   },
   "outputs": [
    {
     "data": {
      "text/html": [
       "<div>\n",
       "<style scoped>\n",
       "    .dataframe tbody tr th:only-of-type {\n",
       "        vertical-align: middle;\n",
       "    }\n",
       "\n",
       "    .dataframe tbody tr th {\n",
       "        vertical-align: top;\n",
       "    }\n",
       "\n",
       "    .dataframe thead th {\n",
       "        text-align: right;\n",
       "    }\n",
       "</style>\n",
       "<table border=\"1\" class=\"dataframe\">\n",
       "  <thead>\n",
       "    <tr style=\"text-align: right;\">\n",
       "      <th></th>\n",
       "      <th>user</th>\n",
       "      <th>item</th>\n",
       "    </tr>\n",
       "  </thead>\n",
       "  <tbody>\n",
       "    <tr>\n",
       "      <th>0</th>\n",
       "      <td>A</td>\n",
       "      <td>[N7857, N33584, N50566, N47845, N39173, N54950...</td>\n",
       "    </tr>\n",
       "    <tr>\n",
       "      <th>1</th>\n",
       "      <td>B</td>\n",
       "      <td>[N55468, N61914, N50566, N20212, N37038, N3917...</td>\n",
       "    </tr>\n",
       "    <tr>\n",
       "      <th>2</th>\n",
       "      <td>C</td>\n",
       "      <td>[N55468, N8091, N7857, N32907, N33584, N50566,...</td>\n",
       "    </tr>\n",
       "    <tr>\n",
       "      <th>3</th>\n",
       "      <td>D</td>\n",
       "      <td>[N8091, N7857, N50566, N47845, N20212, N37038,...</td>\n",
       "    </tr>\n",
       "    <tr>\n",
       "      <th>4</th>\n",
       "      <td>E</td>\n",
       "      <td>[N61914, N47845, N20212, N39173, N62996, N3570...</td>\n",
       "    </tr>\n",
       "    <tr>\n",
       "      <th>5</th>\n",
       "      <td>F</td>\n",
       "      <td>[N55468, N8091, N7857, N47845, N20212, N35703,...</td>\n",
       "    </tr>\n",
       "    <tr>\n",
       "      <th>6</th>\n",
       "      <td>G</td>\n",
       "      <td>[N55468, N7857, N47845, N62996, N9680, N11200,...</td>\n",
       "    </tr>\n",
       "    <tr>\n",
       "      <th>7</th>\n",
       "      <td>H</td>\n",
       "      <td>[N55468, N8091, N7857, N33584, N50566, N47845,...</td>\n",
       "    </tr>\n",
       "    <tr>\n",
       "      <th>8</th>\n",
       "      <td>I</td>\n",
       "      <td>[N55468, N61914, N50566, N47845, N20212, N3703...</td>\n",
       "    </tr>\n",
       "    <tr>\n",
       "      <th>9</th>\n",
       "      <td>J</td>\n",
       "      <td>[N8091, N7857, N33584, N61837, N10470, N1587, ...</td>\n",
       "    </tr>\n",
       "    <tr>\n",
       "      <th>10</th>\n",
       "      <td>K</td>\n",
       "      <td>[N8091, N61914, N7857, N33584, N47845, N37038,...</td>\n",
       "    </tr>\n",
       "    <tr>\n",
       "      <th>11</th>\n",
       "      <td>L</td>\n",
       "      <td>[N61914, N33584, N20212, N37038, N49981, N1120...</td>\n",
       "    </tr>\n",
       "    <tr>\n",
       "      <th>12</th>\n",
       "      <td>M</td>\n",
       "      <td>[N7857, N32907, N50566, N47845, N62996, N35703...</td>\n",
       "    </tr>\n",
       "    <tr>\n",
       "      <th>13</th>\n",
       "      <td>N</td>\n",
       "      <td>[N55468, N8091, N50566, N20212, N62996, N35703...</td>\n",
       "    </tr>\n",
       "    <tr>\n",
       "      <th>14</th>\n",
       "      <td>O</td>\n",
       "      <td>[N39173, N54950, N59295, N13113, N10886]</td>\n",
       "    </tr>\n",
       "  </tbody>\n",
       "</table>\n",
       "</div>"
      ],
      "text/plain": [
       "   user                                               item\n",
       "0     A  [N7857, N33584, N50566, N47845, N39173, N54950...\n",
       "1     B  [N55468, N61914, N50566, N20212, N37038, N3917...\n",
       "2     C  [N55468, N8091, N7857, N32907, N33584, N50566,...\n",
       "3     D  [N8091, N7857, N50566, N47845, N20212, N37038,...\n",
       "4     E  [N61914, N47845, N20212, N39173, N62996, N3570...\n",
       "5     F  [N55468, N8091, N7857, N47845, N20212, N35703,...\n",
       "6     G  [N55468, N7857, N47845, N62996, N9680, N11200,...\n",
       "7     H  [N55468, N8091, N7857, N33584, N50566, N47845,...\n",
       "8     I  [N55468, N61914, N50566, N47845, N20212, N3703...\n",
       "9     J  [N8091, N7857, N33584, N61837, N10470, N1587, ...\n",
       "10    K  [N8091, N61914, N7857, N33584, N47845, N37038,...\n",
       "11    L  [N61914, N33584, N20212, N37038, N49981, N1120...\n",
       "12    M  [N7857, N32907, N50566, N47845, N62996, N35703...\n",
       "13    N  [N55468, N8091, N50566, N20212, N62996, N35703...\n",
       "14    O           [N39173, N54950, N59295, N13113, N10886]"
      ]
     },
     "execution_count": 57,
     "metadata": {},
     "output_type": "execute_result"
    }
   ],
   "source": [
    "survey_interactions"
   ]
  },
  {
   "cell_type": "code",
   "execution_count": 58,
   "id": "6df420be",
   "metadata": {
    "ExecuteTime": {
     "end_time": "2023-10-15T13:53:30.080355200Z",
     "start_time": "2023-10-15T13:53:30.045414600Z"
    }
   },
   "outputs": [],
   "source": [
    "# Flattening the clicked news and associating with user_id, that means we divide the lists into one row for each clicked news\n",
    "survey_interactions = survey_interactions.explode('item')[['user', 'item']]"
   ]
  },
  {
   "cell_type": "code",
   "execution_count": 59,
   "id": "a1159848",
   "metadata": {
    "ExecuteTime": {
     "end_time": "2023-10-15T13:53:31.178397500Z",
     "start_time": "2023-10-15T13:53:31.024823Z"
    },
    "scrolled": true
   },
   "outputs": [
    {
     "data": {
      "text/html": [
       "<div>\n",
       "<style scoped>\n",
       "    .dataframe tbody tr th:only-of-type {\n",
       "        vertical-align: middle;\n",
       "    }\n",
       "\n",
       "    .dataframe tbody tr th {\n",
       "        vertical-align: top;\n",
       "    }\n",
       "\n",
       "    .dataframe thead th {\n",
       "        text-align: right;\n",
       "    }\n",
       "</style>\n",
       "<table border=\"1\" class=\"dataframe\">\n",
       "  <thead>\n",
       "    <tr style=\"text-align: right;\">\n",
       "      <th></th>\n",
       "      <th>user</th>\n",
       "      <th>item</th>\n",
       "    </tr>\n",
       "  </thead>\n",
       "  <tbody>\n",
       "    <tr>\n",
       "      <th>0</th>\n",
       "      <td>A</td>\n",
       "      <td>N7857</td>\n",
       "    </tr>\n",
       "    <tr>\n",
       "      <th>0</th>\n",
       "      <td>A</td>\n",
       "      <td>N33584</td>\n",
       "    </tr>\n",
       "    <tr>\n",
       "      <th>0</th>\n",
       "      <td>A</td>\n",
       "      <td>N50566</td>\n",
       "    </tr>\n",
       "    <tr>\n",
       "      <th>0</th>\n",
       "      <td>A</td>\n",
       "      <td>N47845</td>\n",
       "    </tr>\n",
       "    <tr>\n",
       "      <th>0</th>\n",
       "      <td>A</td>\n",
       "      <td>N39173</td>\n",
       "    </tr>\n",
       "    <tr>\n",
       "      <th>...</th>\n",
       "      <td>...</td>\n",
       "      <td>...</td>\n",
       "    </tr>\n",
       "    <tr>\n",
       "      <th>14</th>\n",
       "      <td>O</td>\n",
       "      <td>N39173</td>\n",
       "    </tr>\n",
       "    <tr>\n",
       "      <th>14</th>\n",
       "      <td>O</td>\n",
       "      <td>N54950</td>\n",
       "    </tr>\n",
       "    <tr>\n",
       "      <th>14</th>\n",
       "      <td>O</td>\n",
       "      <td>N59295</td>\n",
       "    </tr>\n",
       "    <tr>\n",
       "      <th>14</th>\n",
       "      <td>O</td>\n",
       "      <td>N13113</td>\n",
       "    </tr>\n",
       "    <tr>\n",
       "      <th>14</th>\n",
       "      <td>O</td>\n",
       "      <td>N10886</td>\n",
       "    </tr>\n",
       "  </tbody>\n",
       "</table>\n",
       "<p>193 rows × 2 columns</p>\n",
       "</div>"
      ],
      "text/plain": [
       "   user    item\n",
       "0     A   N7857\n",
       "0     A  N33584\n",
       "0     A  N50566\n",
       "0     A  N47845\n",
       "0     A  N39173\n",
       "..  ...     ...\n",
       "14    O  N39173\n",
       "14    O  N54950\n",
       "14    O  N59295\n",
       "14    O  N13113\n",
       "14    O  N10886\n",
       "\n",
       "[193 rows x 2 columns]"
      ]
     },
     "execution_count": 59,
     "metadata": {},
     "output_type": "execute_result"
    }
   ],
   "source": [
    "survey_interactions"
   ]
  },
  {
   "cell_type": "code",
   "execution_count": 60,
   "id": "6d50c88d",
   "metadata": {
    "ExecuteTime": {
     "end_time": "2023-10-15T13:53:32.620980500Z",
     "start_time": "2023-10-15T13:53:32.603526900Z"
    }
   },
   "outputs": [
    {
     "name": "stdout",
     "output_type": "stream",
     "text": [
      "Number of unique users:        15 \n",
      "\n",
      "Number of unique clicked news: 35\n"
     ]
    }
   ],
   "source": [
    "print(f\"Number of unique users:        {survey_interactions['user'].nunique()} \\n\")\n",
    "print(f\"Number of unique clicked news: {survey_interactions['item'].nunique()}\")"
   ]
  },
  {
   "cell_type": "code",
   "execution_count": 61,
   "id": "61023401",
   "metadata": {
    "ExecuteTime": {
     "end_time": "2023-10-15T13:53:34.344904500Z",
     "start_time": "2023-10-15T13:53:34.111778700Z"
    }
   },
   "outputs": [
    {
     "name": "stdout",
     "output_type": "stream",
     "text": [
      "users: 15433 \n",
      "items: 6556\n",
      "         user  item  rating\n",
      "0       14904   760     1.0\n",
      "1        1818  1195     1.0\n",
      "2        1818  2576     1.0\n",
      "3        7903  4833     1.0\n",
      "4       14527  5728     1.0\n",
      "...       ...   ...     ...\n",
      "155631     14  3230     1.0\n",
      "155632     14  4978     1.0\n",
      "155633     14  5454     1.0\n",
      "155634     14   355     1.0\n",
      "155635     14    98     1.0\n",
      "\n",
      "[155636 rows x 3 columns]\n"
     ]
    }
   ],
   "source": [
    "#concat new user data\n",
    "clicked_news.columns = ['user', 'item']\n",
    "survey_interactions = pd.concat([clicked_news, survey_interactions], ignore_index=True, axis = 0)\n",
    "# Create categorical types without encoding them yet\n",
    "survey_interactions['user_id_cat'] = survey_interactions['user'].astype(\"category\")\n",
    "survey_interactions['news_id_cat'] = survey_interactions['item'].astype(\"category\")\n",
    "\n",
    "# Creating mappings from original IDs to encoded IDs\n",
    "id_to_user = dict(enumerate(survey_interactions['user_id_cat'].cat.categories))\n",
    "id_to_news = dict(enumerate(survey_interactions['news_id_cat'].cat.categories))\n",
    "\n",
    "# Convert categories to codes (integer encoding)\n",
    "survey_interactions_encoded = pd.DataFrame(columns=['user', 'item'])\n",
    "survey_interactions_encoded['user'] = survey_interactions['user_id_cat'].cat.codes\n",
    "survey_interactions_encoded['item'] = survey_interactions['news_id_cat'].cat.codes\n",
    "\n",
    "# Drop the additional categorical columns if they are not needed\n",
    "survey_interactions = survey_interactions.drop(columns=['user_id_cat', 'news_id_cat'])\n",
    "\n",
    "# Creating reverse mappings from original IDs to encoded IDs\n",
    "user_to_id = {v: k for k, v in id_to_user.items()}\n",
    "news_to_id = {v: k for k, v in id_to_news.items()}\n",
    "\n",
    "# Create a sparse user-item interaction matrix\n",
    "interaction_matrix = coo_matrix((np.ones(survey_interactions_encoded.shape[0]),\n",
    "                                 (survey_interactions_encoded['user'], survey_interactions_encoded['item'])))\n",
    "\n",
    "print(f\"users: {interaction_matrix.shape[0]} \\nitems: {interaction_matrix.shape[1]}\")\n",
    "\n",
    "#transform into compressed sparse row\n",
    "interaction_matrix_csr = interaction_matrix.tocsr()\n",
    "\n",
    "survey_interactions_encoded['rating'] = np.ones(len(survey_interactions_encoded))\n",
    "\n",
    "print(survey_interactions_encoded)"
   ]
  },
  {
   "cell_type": "code",
   "execution_count": 62,
   "id": "32c76519",
   "metadata": {
    "ExecuteTime": {
     "end_time": "2023-10-15T13:53:35.255221800Z",
     "start_time": "2023-10-15T13:53:35.097641800Z"
    }
   },
   "outputs": [],
   "source": [
    "user_id = 'B'\n",
    "recommended_news_indices = recommend_news('A', interaction_matrix_csr, news_similarity, user_to_id, top_n=10)"
   ]
  },
  {
   "cell_type": "code",
   "execution_count": 63,
   "id": "bce375e9",
   "metadata": {
    "ExecuteTime": {
     "end_time": "2023-10-15T13:53:36.019177300Z",
     "start_time": "2023-10-15T13:53:35.995242Z"
    }
   },
   "outputs": [],
   "source": [
    "users = list('ABCDEFGHIJKLMNO')"
   ]
  },
  {
   "cell_type": "code",
   "execution_count": 64,
   "id": "593654e9",
   "metadata": {
    "ExecuteTime": {
     "end_time": "2023-10-15T15:49:29.160736600Z",
     "start_time": "2023-10-15T15:49:28.966182500Z"
    }
   },
   "outputs": [
    {
     "name": "stdout",
     "output_type": "stream",
     "text": [
      "A: You previously watched these articles:\n",
      "[ 124 2573 3230 4177 4499]\n",
      "Based off of your click history and similar content, we recommend these articles:\n",
      "['N51923', 'N35778', 'N62171', 'N63004', 'N13589'].\n",
      "These are their respective similarity scores:\n",
      "[0.5798973804199299, 0.5538830162498715, 0.525525562409543, 0.5217986832414446, 0.5129110803151521]\n",
      "B: You previously watched these articles:\n",
      "[  54   98  124  627 1086]\n",
      "Based off of your click history and similar content, we recommend these articles:\n",
      "['N10617', 'N732', 'N64778', 'N723', 'N20167'].\n",
      "These are their respective similarity scores:\n",
      "[0.9901153258164977, 0.8059423130067741, 0.7685992367111084, 0.7581549423846585, 0.7543851863944394]\n",
      "C: You previously watched these articles:\n",
      "[  98 1086 2505 2573 2982]\n",
      "Based off of your click history and similar content, we recommend these articles:\n",
      "['N14598', 'N55628', 'N37062', 'N9470', 'N58055'].\n",
      "These are their respective similarity scores:\n",
      "[0.7922353633086818, 0.7434540610570919, 0.7038559853711308, 0.6949625903500387, 0.6857294433946879]\n",
      "D: You previously watched these articles:\n",
      "[  98 1086 1592 2142 2818]\n",
      "Based off of your click history and similar content, we recommend these articles:\n",
      "['N57715', 'N37062', 'N21212', 'N40099', 'N22556'].\n",
      "These are their respective similarity scores:\n",
      "[1.084696778710408, 1.013835934679487, 0.9726325005189844, 0.9511169939285952, 0.9496680535818504]\n",
      "E: You previously watched these articles:\n",
      "[  98  124  355 1086 1592]\n",
      "Based off of your click history and similar content, we recommend these articles:\n",
      "['N39961', 'N36954', 'N57715', 'N53891', 'N22556'].\n",
      "These are their respective similarity scores:\n",
      "[0.994948332944306, 0.9461104884615255, 0.9322978856597641, 0.9108699229834263, 0.8598052987573525]\n",
      "F: You previously watched these articles:\n",
      "[  54   98  627 1086 1592]\n",
      "Based off of your click history and similar content, we recommend these articles:\n",
      "['N9800', 'N9261', 'N20536', 'N57796', 'N37062'].\n",
      "These are their respective similarity scores:\n",
      "[0.8740958261609132, 0.7449040884935969, 0.7449040884935969, 0.6765072600653678, 0.6718092689621613]\n",
      "G: You previously watched these articles:\n",
      "[  98  124 2142 4104 4177]\n",
      "Based off of your click history and similar content, we recommend these articles:\n",
      "['N63406', 'N48316', 'N40683', 'N13589', 'N9470'].\n",
      "These are their respective similarity scores:\n",
      "[0.5924841002370524, 0.5798973804199299, 0.5718083187455812, 0.5668458448239335, 0.5636017526115858]\n",
      "H: You previously watched these articles:\n",
      "[  98  124 2142 2282 2573]\n",
      "Based off of your click history and similar content, we recommend these articles:\n",
      "['N26457', 'N22556', 'N55628', 'N39961', 'N57715'].\n",
      "These are their respective similarity scores:\n",
      "[1.018700477826489, 0.9772576252285645, 0.8616844523267124, 0.8490268371404909, 0.8418421861937438]\n",
      "I: You previously watched these articles:\n",
      "[ 627 1086 1592 2142 2818]\n",
      "Based off of your click history and similar content, we recommend these articles:\n",
      "['N3081', 'N39961', 'N57715', 'N22556', 'N40099'].\n",
      "These are their respective similarity scores:\n",
      "[0.9973721456321968, 0.9871227724839782, 0.9035822357081554, 0.8919999238221517, 0.8901034664104022]\n",
      "J: You previously watched these articles:\n",
      "[  54   98  627 2573 4727]\n",
      "Based off of your click history and similar content, we recommend these articles:\n",
      "['N12352', 'N4244', 'N732', 'N56687', 'N20306'].\n",
      "These are their respective similarity scores:\n",
      "[0.6567977168684938, 0.6567977168684938, 0.6376282198830201, 0.6144418398684237, 0.6121545652959777]\n",
      "K: You previously watched these articles:\n",
      "[  98 1592 2282 2573 2982]\n",
      "Based off of your click history and similar content, we recommend these articles:\n",
      "['N43036', 'N36781', 'N19085', 'N3081', 'N21212'].\n",
      "These are their respective similarity scores:\n",
      "[0.8043573770877939, 0.8035157340642572, 0.7805250585291504, 0.7643838040080876, 0.7404961911851131]\n",
      "L: You previously watched these articles:\n",
      "[  54   98  124 1086 1592]\n",
      "Based off of your click history and similar content, we recommend these articles:\n",
      "['N40099', 'N3081', 'N22556', 'N57715', 'N21212'].\n",
      "These are their respective similarity scores:\n",
      "[0.9741947623029467, 0.9501346915604043, 0.9023106241917627, 0.8936304276478568, 0.8615006109887674]\n",
      "M: You previously watched these articles:\n",
      "[1592 2505 2818 3226 4177]\n",
      "Based off of your click history and similar content, we recommend these articles:\n",
      "['N17788', 'N26457', 'N39961', 'N57715', 'N22556'].\n",
      "These are their respective similarity scores:\n",
      "[0.8852907209218386, 0.8430996643083174, 0.8284648594147224, 0.7917652965588009, 0.790424400383833]\n",
      "N: You previously watched these articles:\n",
      "[  54   98 1086 2282 2818]\n",
      "Based off of your click history and similar content, we recommend these articles:\n",
      "['N37062', 'N55628', 'N39961', 'N57715', 'N22556'].\n",
      "These are their respective similarity scores:\n",
      "[1.0543808435569553, 0.9847437968208009, 0.9772576252285645, 0.8616844523267124, 0.8519874875160148]\n",
      "O: You previously watched these articles:\n",
      "[  98  355 3230 4978 5454]\n",
      "Based off of your click history and similar content, we recommend these articles:\n",
      "['N63004', 'N58055', 'N723', 'N36954', 'N40198'].\n",
      "These are their respective similarity scores:\n",
      "[0.6173854841383837, 0.609763658038805, 0.5544722536907291, 0.537790240427074, 0.5115506709932076]\n"
     ]
    }
   ],
   "source": [
    "recommendations = {}\n",
    "\n",
    "\n",
    "# Iterate through all users and print individual explanations\n",
    "for user in users:\n",
    "    recommended_news_indices, similarity_scores = recommend_news(user, interaction_matrix_csr, news_similarity, user_to_id, top_n=5)\n",
    "    print(explain_individual(user, recommended_news_indices, interaction_matrix_csr, similarity_scores))\n",
    "    recommendations[user] = recommended_news_indices"
   ]
  },
  {
   "cell_type": "code",
   "execution_count": 65,
   "id": "0fb67b36",
   "metadata": {
    "ExecuteTime": {
     "end_time": "2023-10-15T15:20:05.009821600Z",
     "start_time": "2023-10-15T15:20:04.489927500Z"
    }
   },
   "outputs": [
    {
     "data": {
      "text/html": [
       "<div>\n",
       "<style scoped>\n",
       "    .dataframe tbody tr th:only-of-type {\n",
       "        vertical-align: middle;\n",
       "    }\n",
       "\n",
       "    .dataframe tbody tr th {\n",
       "        vertical-align: top;\n",
       "    }\n",
       "\n",
       "    .dataframe thead th {\n",
       "        text-align: right;\n",
       "    }\n",
       "</style>\n",
       "<table border=\"1\" class=\"dataframe\">\n",
       "  <thead>\n",
       "    <tr style=\"text-align: right;\">\n",
       "      <th></th>\n",
       "      <th>0</th>\n",
       "      <th>1</th>\n",
       "      <th>2</th>\n",
       "      <th>3</th>\n",
       "      <th>4</th>\n",
       "    </tr>\n",
       "  </thead>\n",
       "  <tbody>\n",
       "    <tr>\n",
       "      <th>A</th>\n",
       "      <td>N51923</td>\n",
       "      <td>N35778</td>\n",
       "      <td>N62171</td>\n",
       "      <td>N63004</td>\n",
       "      <td>N13589</td>\n",
       "    </tr>\n",
       "    <tr>\n",
       "      <th>B</th>\n",
       "      <td>N10617</td>\n",
       "      <td>N732</td>\n",
       "      <td>N64778</td>\n",
       "      <td>N723</td>\n",
       "      <td>N20167</td>\n",
       "    </tr>\n",
       "    <tr>\n",
       "      <th>C</th>\n",
       "      <td>N14598</td>\n",
       "      <td>N55628</td>\n",
       "      <td>N37062</td>\n",
       "      <td>N9470</td>\n",
       "      <td>N58055</td>\n",
       "    </tr>\n",
       "    <tr>\n",
       "      <th>D</th>\n",
       "      <td>N57715</td>\n",
       "      <td>N37062</td>\n",
       "      <td>N21212</td>\n",
       "      <td>N40099</td>\n",
       "      <td>N22556</td>\n",
       "    </tr>\n",
       "    <tr>\n",
       "      <th>E</th>\n",
       "      <td>N39961</td>\n",
       "      <td>N36954</td>\n",
       "      <td>N57715</td>\n",
       "      <td>N53891</td>\n",
       "      <td>N22556</td>\n",
       "    </tr>\n",
       "    <tr>\n",
       "      <th>F</th>\n",
       "      <td>N9800</td>\n",
       "      <td>N9261</td>\n",
       "      <td>N20536</td>\n",
       "      <td>N57796</td>\n",
       "      <td>N37062</td>\n",
       "    </tr>\n",
       "    <tr>\n",
       "      <th>G</th>\n",
       "      <td>N63406</td>\n",
       "      <td>N48316</td>\n",
       "      <td>N40683</td>\n",
       "      <td>N13589</td>\n",
       "      <td>N9470</td>\n",
       "    </tr>\n",
       "    <tr>\n",
       "      <th>H</th>\n",
       "      <td>N26457</td>\n",
       "      <td>N22556</td>\n",
       "      <td>N55628</td>\n",
       "      <td>N39961</td>\n",
       "      <td>N57715</td>\n",
       "    </tr>\n",
       "    <tr>\n",
       "      <th>I</th>\n",
       "      <td>N3081</td>\n",
       "      <td>N39961</td>\n",
       "      <td>N57715</td>\n",
       "      <td>N22556</td>\n",
       "      <td>N40099</td>\n",
       "    </tr>\n",
       "    <tr>\n",
       "      <th>J</th>\n",
       "      <td>N12352</td>\n",
       "      <td>N4244</td>\n",
       "      <td>N732</td>\n",
       "      <td>N56687</td>\n",
       "      <td>N20306</td>\n",
       "    </tr>\n",
       "    <tr>\n",
       "      <th>K</th>\n",
       "      <td>N43036</td>\n",
       "      <td>N36781</td>\n",
       "      <td>N19085</td>\n",
       "      <td>N3081</td>\n",
       "      <td>N21212</td>\n",
       "    </tr>\n",
       "    <tr>\n",
       "      <th>L</th>\n",
       "      <td>N40099</td>\n",
       "      <td>N3081</td>\n",
       "      <td>N22556</td>\n",
       "      <td>N57715</td>\n",
       "      <td>N21212</td>\n",
       "    </tr>\n",
       "    <tr>\n",
       "      <th>M</th>\n",
       "      <td>N17788</td>\n",
       "      <td>N26457</td>\n",
       "      <td>N39961</td>\n",
       "      <td>N57715</td>\n",
       "      <td>N22556</td>\n",
       "    </tr>\n",
       "    <tr>\n",
       "      <th>N</th>\n",
       "      <td>N37062</td>\n",
       "      <td>N55628</td>\n",
       "      <td>N39961</td>\n",
       "      <td>N57715</td>\n",
       "      <td>N22556</td>\n",
       "    </tr>\n",
       "    <tr>\n",
       "      <th>O</th>\n",
       "      <td>N63004</td>\n",
       "      <td>N58055</td>\n",
       "      <td>N723</td>\n",
       "      <td>N36954</td>\n",
       "      <td>N40198</td>\n",
       "    </tr>\n",
       "  </tbody>\n",
       "</table>\n",
       "</div>"
      ],
      "text/plain": [
       "        0       1       2       3       4\n",
       "A  N51923  N35778  N62171  N63004  N13589\n",
       "B  N10617    N732  N64778    N723  N20167\n",
       "C  N14598  N55628  N37062   N9470  N58055\n",
       "D  N57715  N37062  N21212  N40099  N22556\n",
       "E  N39961  N36954  N57715  N53891  N22556\n",
       "F   N9800   N9261  N20536  N57796  N37062\n",
       "G  N63406  N48316  N40683  N13589   N9470\n",
       "H  N26457  N22556  N55628  N39961  N57715\n",
       "I   N3081  N39961  N57715  N22556  N40099\n",
       "J  N12352   N4244    N732  N56687  N20306\n",
       "K  N43036  N36781  N19085   N3081  N21212\n",
       "L  N40099   N3081  N22556  N57715  N21212\n",
       "M  N17788  N26457  N39961  N57715  N22556\n",
       "N  N37062  N55628  N39961  N57715  N22556\n",
       "O  N63004  N58055    N723  N36954  N40198"
      ]
     },
     "execution_count": 65,
     "metadata": {},
     "output_type": "execute_result"
    }
   ],
   "source": [
    "recommendations_df = pd.DataFrame.from_dict(recommendations, orient='index')\n",
    "recommendations_df"
   ]
  },
  {
   "cell_type": "code",
   "execution_count": 66,
   "id": "718d5199",
   "metadata": {
    "ExecuteTime": {
     "end_time": "2023-10-15T15:16:28.697265500Z",
     "start_time": "2023-10-15T15:16:28.353991600Z"
    }
   },
   "outputs": [
    {
     "data": {
      "text/html": [
       "<div>\n",
       "<style scoped>\n",
       "    .dataframe tbody tr th:only-of-type {\n",
       "        vertical-align: middle;\n",
       "    }\n",
       "\n",
       "    .dataframe tbody tr th {\n",
       "        vertical-align: top;\n",
       "    }\n",
       "\n",
       "    .dataframe thead th {\n",
       "        text-align: right;\n",
       "    }\n",
       "</style>\n",
       "<table border=\"1\" class=\"dataframe\">\n",
       "  <thead>\n",
       "    <tr style=\"text-align: right;\">\n",
       "      <th></th>\n",
       "      <th>index</th>\n",
       "      <th>news_id</th>\n",
       "      <th>category</th>\n",
       "      <th>subcategory</th>\n",
       "      <th>title</th>\n",
       "      <th>abstract</th>\n",
       "      <th>url</th>\n",
       "      <th>title_entities</th>\n",
       "      <th>abstract_entities</th>\n",
       "    </tr>\n",
       "  </thead>\n",
       "  <tbody>\n",
       "  </tbody>\n",
       "</table>\n",
       "</div>"
      ],
      "text/plain": [
       "Empty DataFrame\n",
       "Columns: [index, news_id, category, subcategory, title, abstract, url, title_entities, abstract_entities]\n",
       "Index: []"
      ]
     },
     "execution_count": 66,
     "metadata": {},
     "output_type": "execute_result"
    }
   ],
   "source": [
    "filtered_news = pd.DataFrame(columns=news.columns)\n",
    "for recommended_indices_arr in recommendations_df[0]:\n",
    "    for recommended_index in recommended_indices_arr:\n",
    "        recommended_item_row = news.loc[news['news_id'] == recommended_index]\n",
    "        filtered_news = pd.concat([filtered_news, recommended_item_row])\n",
    "filtered_news"
   ]
  },
  {
   "cell_type": "markdown",
   "id": "2e38faaa",
   "metadata": {},
   "source": [
    "## Grouping"
   ]
  },
  {
   "cell_type": "code",
   "execution_count": 67,
   "id": "9a24d20d",
   "metadata": {
    "ExecuteTime": {
     "end_time": "2023-10-15T13:53:39.805392300Z",
     "start_time": "2023-10-15T13:53:39.743530800Z"
    }
   },
   "outputs": [],
   "source": [
    "survey_groups = {\n",
    "    'Group 1': ['A', 'C', 'E', 'G', 'I'],\n",
    "    'Group 2': ['B', 'D', 'F', 'H', 'J'],\n",
    "    'Group 3': ['K', 'L', 'O', 'A', 'B'],\n",
    "    'Group 4': ['M', 'N', 'K', 'F', 'I']\n",
    "}"
   ]
  },
  {
   "cell_type": "code",
   "execution_count": 68,
   "id": "cac8f5cf",
   "metadata": {
    "ExecuteTime": {
     "end_time": "2023-10-15T13:53:40.480028200Z",
     "start_time": "2023-10-15T13:53:40.429191700Z"
    }
   },
   "outputs": [],
   "source": [
    "all_clicks = survey_interactions_encoded.reset_index()"
   ]
  },
  {
   "cell_type": "code",
   "execution_count": 69,
   "id": "4e656e30",
   "metadata": {
    "ExecuteTime": {
     "end_time": "2023-10-15T13:53:41.033115200Z",
     "start_time": "2023-10-15T13:53:41.001200500Z"
    }
   },
   "outputs": [
    {
     "data": {
      "text/html": [
       "<div>\n",
       "<style scoped>\n",
       "    .dataframe tbody tr th:only-of-type {\n",
       "        vertical-align: middle;\n",
       "    }\n",
       "\n",
       "    .dataframe tbody tr th {\n",
       "        vertical-align: top;\n",
       "    }\n",
       "\n",
       "    .dataframe thead th {\n",
       "        text-align: right;\n",
       "    }\n",
       "</style>\n",
       "<table border=\"1\" class=\"dataframe\">\n",
       "  <thead>\n",
       "    <tr style=\"text-align: right;\">\n",
       "      <th></th>\n",
       "      <th>index</th>\n",
       "      <th>user</th>\n",
       "      <th>item</th>\n",
       "      <th>rating</th>\n",
       "    </tr>\n",
       "  </thead>\n",
       "  <tbody>\n",
       "    <tr>\n",
       "      <th>0</th>\n",
       "      <td>0</td>\n",
       "      <td>14904</td>\n",
       "      <td>760</td>\n",
       "      <td>1.0</td>\n",
       "    </tr>\n",
       "    <tr>\n",
       "      <th>1</th>\n",
       "      <td>1</td>\n",
       "      <td>1818</td>\n",
       "      <td>1195</td>\n",
       "      <td>1.0</td>\n",
       "    </tr>\n",
       "    <tr>\n",
       "      <th>2</th>\n",
       "      <td>2</td>\n",
       "      <td>1818</td>\n",
       "      <td>2576</td>\n",
       "      <td>1.0</td>\n",
       "    </tr>\n",
       "    <tr>\n",
       "      <th>3</th>\n",
       "      <td>3</td>\n",
       "      <td>7903</td>\n",
       "      <td>4833</td>\n",
       "      <td>1.0</td>\n",
       "    </tr>\n",
       "    <tr>\n",
       "      <th>4</th>\n",
       "      <td>4</td>\n",
       "      <td>14527</td>\n",
       "      <td>5728</td>\n",
       "      <td>1.0</td>\n",
       "    </tr>\n",
       "    <tr>\n",
       "      <th>...</th>\n",
       "      <td>...</td>\n",
       "      <td>...</td>\n",
       "      <td>...</td>\n",
       "      <td>...</td>\n",
       "    </tr>\n",
       "    <tr>\n",
       "      <th>155631</th>\n",
       "      <td>155631</td>\n",
       "      <td>14</td>\n",
       "      <td>3230</td>\n",
       "      <td>1.0</td>\n",
       "    </tr>\n",
       "    <tr>\n",
       "      <th>155632</th>\n",
       "      <td>155632</td>\n",
       "      <td>14</td>\n",
       "      <td>4978</td>\n",
       "      <td>1.0</td>\n",
       "    </tr>\n",
       "    <tr>\n",
       "      <th>155633</th>\n",
       "      <td>155633</td>\n",
       "      <td>14</td>\n",
       "      <td>5454</td>\n",
       "      <td>1.0</td>\n",
       "    </tr>\n",
       "    <tr>\n",
       "      <th>155634</th>\n",
       "      <td>155634</td>\n",
       "      <td>14</td>\n",
       "      <td>355</td>\n",
       "      <td>1.0</td>\n",
       "    </tr>\n",
       "    <tr>\n",
       "      <th>155635</th>\n",
       "      <td>155635</td>\n",
       "      <td>14</td>\n",
       "      <td>98</td>\n",
       "      <td>1.0</td>\n",
       "    </tr>\n",
       "  </tbody>\n",
       "</table>\n",
       "<p>155636 rows × 4 columns</p>\n",
       "</div>"
      ],
      "text/plain": [
       "         index   user  item  rating\n",
       "0            0  14904   760     1.0\n",
       "1            1   1818  1195     1.0\n",
       "2            2   1818  2576     1.0\n",
       "3            3   7903  4833     1.0\n",
       "4            4  14527  5728     1.0\n",
       "...        ...    ...   ...     ...\n",
       "155631  155631     14  3230     1.0\n",
       "155632  155632     14  4978     1.0\n",
       "155633  155633     14  5454     1.0\n",
       "155634  155634     14   355     1.0\n",
       "155635  155635     14    98     1.0\n",
       "\n",
       "[155636 rows x 4 columns]"
      ]
     },
     "execution_count": 69,
     "metadata": {},
     "output_type": "execute_result"
    }
   ],
   "source": [
    "all_clicks"
   ]
  },
  {
   "cell_type": "code",
   "execution_count": 70,
   "id": "ccbbc21f",
   "metadata": {
    "ExecuteTime": {
     "end_time": "2023-10-15T13:53:45.491623400Z",
     "start_time": "2023-10-15T13:53:41.995971800Z"
    }
   },
   "outputs": [
    {
     "data": {
      "text/plain": [
       "<lenskit.algorithms.als.ImplicitMF at 0x143e37d51c0>"
      ]
     },
     "execution_count": 70,
     "metadata": {},
     "output_type": "execute_result"
    }
   ],
   "source": [
    "# Create an implicit feedback model with 50 features and 20 iterations\n",
    "model = ImplicitMF(features=50, iterations=20, reg=0.1)\n",
    "\n",
    "# Train the model\n",
    "model.fit(all_clicks)"
   ]
  },
  {
   "cell_type": "code",
   "execution_count": 71,
   "id": "875030da",
   "metadata": {
    "ExecuteTime": {
     "end_time": "2023-10-15T16:12:33.206764900Z",
     "start_time": "2023-10-15T16:12:33.160848100Z"
    }
   },
   "outputs": [],
   "source": [
    "all_items = survey_interactions_encoded.item.unique().tolist()\n",
    "survey_groups_recommendations = {}\n",
    "explanations = []"
   ]
  },
  {
   "cell_type": "code",
   "execution_count": 72,
   "id": "2d157e66",
   "metadata": {
    "ExecuteTime": {
     "end_time": "2023-10-15T16:45:34.551808100Z",
     "start_time": "2023-10-15T16:45:34.233659Z"
    }
   },
   "outputs": [],
   "source": [
    "for group_name, group in survey_groups.items():\n",
    "    top_10_group_recs = group_recommendations(group, model, all_items, all_clicks)\n",
    "    explanations.append(explain_group_recs(group, news, top_10_group_recs.index))\n",
    "    survey_groups_recommendations[group_name] = top_10_group_recs"
   ]
  },
  {
   "cell_type": "code",
   "execution_count": 73,
   "id": "3ab5439e",
   "metadata": {
    "ExecuteTime": {
     "end_time": "2023-10-15T16:45:35.186284400Z",
     "start_time": "2023-10-15T16:45:35.156365100Z"
    }
   },
   "outputs": [
    {
     "name": "stdout",
     "output_type": "stream",
     "text": [
      "Group 1\n",
      "N32691    4.916315\n",
      "N43502    4.841764\n",
      "N59267    4.436607\n",
      "N43083    3.855361\n",
      "N14184    3.845436\n",
      "N39010    3.824397\n",
      "N52723    3.753384\n",
      "N8957     3.626516\n",
      "N23814    3.613584\n",
      "N64851    3.579932\n",
      "dtype: float64\n",
      "Group 2\n",
      "N32691    5.356681\n",
      "N43502    5.262572\n",
      "N59267    4.837103\n",
      "N43083    4.188864\n",
      "N14184    4.169224\n",
      "N39010    4.150050\n",
      "N52723    4.093013\n",
      "N23814    3.963080\n",
      "N8957     3.931205\n",
      "N64851    3.897182\n",
      "dtype: float64\n",
      "Group 3\n",
      "N32691    4.653915\n",
      "N43502    4.578521\n",
      "N59267    4.200742\n",
      "N43083    3.638959\n",
      "N14184    3.621068\n",
      "N39010    3.600225\n",
      "N52723    3.550620\n",
      "N23814    3.428664\n",
      "N8957     3.418934\n",
      "N64851    3.387455\n",
      "dtype: float64\n",
      "Group 4\n",
      "N32691    4.918325\n",
      "N43502    4.836203\n",
      "N59267    4.438738\n",
      "N43083    3.845624\n",
      "N14184    3.828534\n",
      "N39010    3.806192\n",
      "N52723    3.754688\n",
      "N23814    3.627754\n",
      "N8957     3.611449\n",
      "N64851    3.578092\n",
      "dtype: float64\n"
     ]
    }
   ],
   "source": [
    "for group_name, recommendations in survey_groups_recommendations.items():\n",
    "    print(group_name)\n",
    "    print(recommendations)"
   ]
  },
  {
   "cell_type": "code",
   "execution_count": 74,
   "id": "61d8507c",
   "metadata": {
    "ExecuteTime": {
     "end_time": "2023-10-15T17:57:10.664056400Z",
     "start_time": "2023-10-15T17:57:10.327100800Z"
    }
   },
   "outputs": [
    {
     "name": "stdout",
     "output_type": "stream",
     "text": [
      "{\n",
      "\"N32691\": \"Recommended because users ['A', 'C', 'E', 'G', 'I'] showed a high average preference score for lifestylebeauty.\",\n",
      "\"N43502\": \"Recommended because users ['A', 'C', 'E', 'G', 'I'] showed a high average preference score for newspolitics.\",\n",
      "\"N59267\": \"Recommended because users ['A', 'C', 'E', 'G', 'I'] showed a high average preference score for music-celebrity.\",\n",
      "\"N43083\": \"Recommended because users ['A', 'C', 'E', 'G', 'I'] showed a high average preference score for lifestylehomeandgarden.\",\n",
      "\"N14184\": \"Recommended because users ['A', 'C', 'E', 'G', 'I'] showed a high average preference score for newsus.\",\n",
      "\"N39010\": \"Recommended because users ['A', 'C', 'E', 'G', 'I'] showed a high average preference score for newsus.\",\n",
      "\"N52723\": \"Recommended because users ['A', 'C', 'E', 'G', 'I'] showed a high average preference score for newsus.\",\n",
      "\"N8957\": \"Recommended because users ['A', 'C', 'E', 'G', 'I'] showed a high average preference score for cma-awards.\",\n",
      "\"N23814\": \"Recommended because users ['A', 'C', 'E', 'G', 'I'] showed a high average preference score for voices.\",\n",
      "\"N64851\": \"Recommended because users ['A', 'C', 'E', 'G', 'I'] showed a high average preference score for newsus.\"\n",
      "}\n",
      "\n",
      "\n",
      "{\n",
      "\"N32691\": \"Recommended because users ['B', 'D', 'F', 'H', 'J'] showed a high average preference score for lifestylebeauty.\",\n",
      "\"N43502\": \"Recommended because users ['B', 'D', 'F', 'H', 'J'] showed a high average preference score for newspolitics.\",\n",
      "\"N59267\": \"Recommended because users ['B', 'D', 'F', 'H', 'J'] showed a high average preference score for music-celebrity.\",\n",
      "\"N43083\": \"Recommended because users ['B', 'D', 'F', 'H', 'J'] showed a high average preference score for lifestylehomeandgarden.\",\n",
      "\"N14184\": \"Recommended because users ['B', 'D', 'F', 'H', 'J'] showed a high average preference score for newsus.\",\n",
      "\"N39010\": \"Recommended because users ['B', 'D', 'F', 'H', 'J'] showed a high average preference score for newsus.\",\n",
      "\"N52723\": \"Recommended because users ['B', 'D', 'F', 'H', 'J'] showed a high average preference score for newsus.\",\n",
      "\"N23814\": \"Recommended because users ['B', 'D', 'F', 'H', 'J'] showed a high average preference score for voices.\",\n",
      "\"N8957\": \"Recommended because users ['B', 'D', 'F', 'H', 'J'] showed a high average preference score for cma-awards.\",\n",
      "\"N64851\": \"Recommended because users ['B', 'D', 'F', 'H', 'J'] showed a high average preference score for newsus.\"\n",
      "}\n",
      "\n",
      "\n",
      "{\n",
      "\"N32691\": \"Recommended because users ['K', 'L', 'O', 'A', 'B'] showed a high average preference score for lifestylebeauty.\",\n",
      "\"N43502\": \"Recommended because users ['K', 'L', 'O', 'A', 'B'] showed a high average preference score for newspolitics.\",\n",
      "\"N59267\": \"Recommended because users ['K', 'L', 'O', 'A', 'B'] showed a high average preference score for music-celebrity.\",\n",
      "\"N43083\": \"Recommended because users ['K', 'L', 'O', 'A', 'B'] showed a high average preference score for lifestylehomeandgarden.\",\n",
      "\"N14184\": \"Recommended because users ['K', 'L', 'O', 'A', 'B'] showed a high average preference score for newsus.\",\n",
      "\"N39010\": \"Recommended because users ['K', 'L', 'O', 'A', 'B'] showed a high average preference score for newsus.\",\n",
      "\"N52723\": \"Recommended because users ['K', 'L', 'O', 'A', 'B'] showed a high average preference score for newsus.\",\n",
      "\"N23814\": \"Recommended because users ['K', 'L', 'O', 'A', 'B'] showed a high average preference score for voices.\",\n",
      "\"N8957\": \"Recommended because users ['K', 'L', 'O', 'A', 'B'] showed a high average preference score for cma-awards.\",\n",
      "\"N64851\": \"Recommended because users ['K', 'L', 'O', 'A', 'B'] showed a high average preference score for newsus.\"\n",
      "}\n",
      "\n",
      "\n",
      "{\n",
      "\"N32691\": \"Recommended because users ['M', 'N', 'K', 'F', 'I'] showed a high average preference score for lifestylebeauty.\",\n",
      "\"N43502\": \"Recommended because users ['M', 'N', 'K', 'F', 'I'] showed a high average preference score for newspolitics.\",\n",
      "\"N59267\": \"Recommended because users ['M', 'N', 'K', 'F', 'I'] showed a high average preference score for music-celebrity.\",\n",
      "\"N43083\": \"Recommended because users ['M', 'N', 'K', 'F', 'I'] showed a high average preference score for lifestylehomeandgarden.\",\n",
      "\"N14184\": \"Recommended because users ['M', 'N', 'K', 'F', 'I'] showed a high average preference score for newsus.\",\n",
      "\"N39010\": \"Recommended because users ['M', 'N', 'K', 'F', 'I'] showed a high average preference score for newsus.\",\n",
      "\"N52723\": \"Recommended because users ['M', 'N', 'K', 'F', 'I'] showed a high average preference score for newsus.\",\n",
      "\"N23814\": \"Recommended because users ['M', 'N', 'K', 'F', 'I'] showed a high average preference score for voices.\",\n",
      "\"N8957\": \"Recommended because users ['M', 'N', 'K', 'F', 'I'] showed a high average preference score for cma-awards.\",\n",
      "\"N64851\": \"Recommended because users ['M', 'N', 'K', 'F', 'I'] showed a high average preference score for newsus.\"\n",
      "}\n",
      "\n",
      "\n"
     ]
    }
   ],
   "source": [
    "for explanation in explanations:\n",
    "    pretty_string = json.dumps(explanation, indent=0)\n",
    "    print(f\"{pretty_string}\\n\\n\")"
   ]
  },
  {
   "cell_type": "code",
   "execution_count": 75,
   "id": "3353a28e",
   "metadata": {
    "ExecuteTime": {
     "end_time": "2023-10-15T17:58:11.319095100Z",
     "start_time": "2023-10-15T17:58:11.102673700Z"
    }
   },
   "outputs": [
    {
     "name": "stdout",
     "output_type": "stream",
     "text": [
      "N32691    4.918325\n",
      "N43502    4.836203\n",
      "N59267    4.438738\n",
      "N43083    3.845624\n",
      "N14184    3.828534\n",
      "N39010    3.806192\n",
      "N52723    3.754688\n",
      "N23814    3.627754\n",
      "N8957     3.611449\n",
      "N64851    3.578092\n",
      "dtype: float64\n"
     ]
    },
    {
     "data": {
      "text/html": [
       "<div>\n",
       "<style scoped>\n",
       "    .dataframe tbody tr th:only-of-type {\n",
       "        vertical-align: middle;\n",
       "    }\n",
       "\n",
       "    .dataframe tbody tr th {\n",
       "        vertical-align: top;\n",
       "    }\n",
       "\n",
       "    .dataframe thead th {\n",
       "        text-align: right;\n",
       "    }\n",
       "</style>\n",
       "<table border=\"1\" class=\"dataframe\">\n",
       "  <thead>\n",
       "    <tr style=\"text-align: right;\">\n",
       "      <th></th>\n",
       "      <th>index</th>\n",
       "      <th>news_id</th>\n",
       "      <th>category</th>\n",
       "      <th>subcategory</th>\n",
       "      <th>title</th>\n",
       "      <th>abstract</th>\n",
       "      <th>url</th>\n",
       "      <th>title_entities</th>\n",
       "      <th>abstract_entities</th>\n",
       "    </tr>\n",
       "  </thead>\n",
       "  <tbody>\n",
       "    <tr>\n",
       "      <th>41591</th>\n",
       "      <td>43766</td>\n",
       "      <td>N32691</td>\n",
       "      <td>lifestyle</td>\n",
       "      <td>lifestylebeauty</td>\n",
       "      <td>When You See Paris Jackson's Wheat-Blond Hair,...</td>\n",
       "      <td>Paris Jackson stepped out on Nov.</td>\n",
       "      <td>https://assets.msn.com/labs/mind/BBWtvGv.html</td>\n",
       "      <td>[{\"Label\": \"Blond\", \"Type\": \"C\", \"WikidataId\":...</td>\n",
       "      <td>[]</td>\n",
       "    </tr>\n",
       "    <tr>\n",
       "      <th>48319</th>\n",
       "      <td>50960</td>\n",
       "      <td>N43502</td>\n",
       "      <td>news</td>\n",
       "      <td>newspolitics</td>\n",
       "      <td>Donald Trump Jr walks out of Triggered book la...</td>\n",
       "      <td>Event at University of California is cut short...</td>\n",
       "      <td>https://assets.msn.com/labs/mind/BBWyrYC.html</td>\n",
       "      <td>[{\"Label\": \"Donald Trump Jr.\", \"Type\": \"P\", \"W...</td>\n",
       "      <td>[{\"Label\": \"University of California\", \"Type\":...</td>\n",
       "    </tr>\n",
       "    <tr>\n",
       "      <th>39973</th>\n",
       "      <td>42049</td>\n",
       "      <td>N59267</td>\n",
       "      <td>music</td>\n",
       "      <td>music-celebrity</td>\n",
       "      <td>Celine Dion Shares What She Misses Most About ...</td>\n",
       "      <td>'Rene will always be with me, but I'm not in p...</td>\n",
       "      <td>https://assets.msn.com/labs/mind/BBWL8jB.html</td>\n",
       "      <td>[{\"Label\": \"Celine Dion\", \"Type\": \"P\", \"Wikida...</td>\n",
       "      <td>[{\"Label\": \"Ren\\u00e9 Ang\\u00e9lil\", \"Type\": \"...</td>\n",
       "    </tr>\n",
       "    <tr>\n",
       "      <th>20938</th>\n",
       "      <td>21975</td>\n",
       "      <td>N43083</td>\n",
       "      <td>lifestyle</td>\n",
       "      <td>lifestylehomeandgarden</td>\n",
       "      <td>What It Was Like Inside the Homes of the Pilgrims</td>\n",
       "      <td>There's a lot of folklore surrounding the firs...</td>\n",
       "      <td>https://assets.msn.com/labs/mind/AAJOJle.html</td>\n",
       "      <td>[{\"Label\": \"Pilgrims (Plymouth Colony)\", \"Type...</td>\n",
       "      <td>[{\"Label\": \"Pilgrims (Plymouth Colony)\", \"Type...</td>\n",
       "    </tr>\n",
       "    <tr>\n",
       "      <th>38481</th>\n",
       "      <td>40456</td>\n",
       "      <td>N14184</td>\n",
       "      <td>news</td>\n",
       "      <td>newsus</td>\n",
       "      <td>Man cuffed for eating sandwich on train platfo...</td>\n",
       "      <td>Bay Area Rapid Transit was slammed for its han...</td>\n",
       "      <td>https://assets.msn.com/labs/mind/BBWBDWu.html</td>\n",
       "      <td>[]</td>\n",
       "      <td>[{\"Label\": \"Bay Area Rapid Transit\", \"Type\": \"...</td>\n",
       "    </tr>\n",
       "    <tr>\n",
       "      <th>34604</th>\n",
       "      <td>36332</td>\n",
       "      <td>N39010</td>\n",
       "      <td>news</td>\n",
       "      <td>newsus</td>\n",
       "      <td>Ruth Bader Ginsburg misses court due to illness</td>\n",
       "      <td>Supreme Court Justice Ruth Bader Ginsburg was ...</td>\n",
       "      <td>https://assets.msn.com/labs/mind/BBWHJti.html</td>\n",
       "      <td>[{\"Label\": \"Ruth Bader Ginsburg\", \"Type\": \"P\",...</td>\n",
       "      <td>[{\"Label\": \"Ruth Bader Ginsburg\", \"Type\": \"P\",...</td>\n",
       "    </tr>\n",
       "    <tr>\n",
       "      <th>30966</th>\n",
       "      <td>32479</td>\n",
       "      <td>N52723</td>\n",
       "      <td>news</td>\n",
       "      <td>newsus</td>\n",
       "      <td>Cat \"repeatedly\" breaks his friends out of ani...</td>\n",
       "      <td>A mischievous cat named Quilty has earned inte...</td>\n",
       "      <td>https://assets.msn.com/labs/mind/BBWGeR0.html</td>\n",
       "      <td>[]</td>\n",
       "      <td>[{\"Label\": \"Texas\", \"Type\": \"G\", \"WikidataId\":...</td>\n",
       "    </tr>\n",
       "    <tr>\n",
       "      <th>30318</th>\n",
       "      <td>31795</td>\n",
       "      <td>N8957</td>\n",
       "      <td>music</td>\n",
       "      <td>cma-awards</td>\n",
       "      <td>Best country music albums of all time</td>\n",
       "      <td>Stacker has compiled a list of the best countr...</td>\n",
       "      <td>https://assets.msn.com/labs/mind/BBVxt0T.html</td>\n",
       "      <td>[{\"Label\": \"Country music\", \"Type\": \"B\", \"Wiki...</td>\n",
       "      <td>[{\"Label\": \"Stac Electronics\", \"Type\": \"O\", \"W...</td>\n",
       "    </tr>\n",
       "    <tr>\n",
       "      <th>5523</th>\n",
       "      <td>5766</td>\n",
       "      <td>N23814</td>\n",
       "      <td>lifestyle</td>\n",
       "      <td>voices</td>\n",
       "      <td>I moved from the US to the UK. Here are the 8 ...</td>\n",
       "      <td>I've found that living in England comes with a...</td>\n",
       "      <td>https://assets.msn.com/labs/mind/AAHr37p.html</td>\n",
       "      <td>[{\"Label\": \"United States\", \"Type\": \"G\", \"Wiki...</td>\n",
       "      <td>[{\"Label\": \"England\", \"Type\": \"G\", \"WikidataId...</td>\n",
       "    </tr>\n",
       "    <tr>\n",
       "      <th>39684</th>\n",
       "      <td>41741</td>\n",
       "      <td>N64851</td>\n",
       "      <td>news</td>\n",
       "      <td>newsus</td>\n",
       "      <td>Former U.S. President Carter recovering in hos...</td>\n",
       "      <td>Former U.S. President Jimmy Carter was recover...</td>\n",
       "      <td>https://assets.msn.com/labs/mind/BBWEoZ6.html</td>\n",
       "      <td>[{\"Label\": \"Jimmy Carter\", \"Type\": \"P\", \"Wikid...</td>\n",
       "      <td>[{\"Label\": \"Jimmy Carter\", \"Type\": \"P\", \"Wikid...</td>\n",
       "    </tr>\n",
       "    <tr>\n",
       "      <th>41591</th>\n",
       "      <td>43766</td>\n",
       "      <td>N32691</td>\n",
       "      <td>lifestyle</td>\n",
       "      <td>lifestylebeauty</td>\n",
       "      <td>When You See Paris Jackson's Wheat-Blond Hair,...</td>\n",
       "      <td>Paris Jackson stepped out on Nov.</td>\n",
       "      <td>https://assets.msn.com/labs/mind/BBWtvGv.html</td>\n",
       "      <td>[{\"Label\": \"Blond\", \"Type\": \"C\", \"WikidataId\":...</td>\n",
       "      <td>[]</td>\n",
       "    </tr>\n",
       "    <tr>\n",
       "      <th>48319</th>\n",
       "      <td>50960</td>\n",
       "      <td>N43502</td>\n",
       "      <td>news</td>\n",
       "      <td>newspolitics</td>\n",
       "      <td>Donald Trump Jr walks out of Triggered book la...</td>\n",
       "      <td>Event at University of California is cut short...</td>\n",
       "      <td>https://assets.msn.com/labs/mind/BBWyrYC.html</td>\n",
       "      <td>[{\"Label\": \"Donald Trump Jr.\", \"Type\": \"P\", \"W...</td>\n",
       "      <td>[{\"Label\": \"University of California\", \"Type\":...</td>\n",
       "    </tr>\n",
       "    <tr>\n",
       "      <th>39973</th>\n",
       "      <td>42049</td>\n",
       "      <td>N59267</td>\n",
       "      <td>music</td>\n",
       "      <td>music-celebrity</td>\n",
       "      <td>Celine Dion Shares What She Misses Most About ...</td>\n",
       "      <td>'Rene will always be with me, but I'm not in p...</td>\n",
       "      <td>https://assets.msn.com/labs/mind/BBWL8jB.html</td>\n",
       "      <td>[{\"Label\": \"Celine Dion\", \"Type\": \"P\", \"Wikida...</td>\n",
       "      <td>[{\"Label\": \"Ren\\u00e9 Ang\\u00e9lil\", \"Type\": \"...</td>\n",
       "    </tr>\n",
       "    <tr>\n",
       "      <th>20938</th>\n",
       "      <td>21975</td>\n",
       "      <td>N43083</td>\n",
       "      <td>lifestyle</td>\n",
       "      <td>lifestylehomeandgarden</td>\n",
       "      <td>What It Was Like Inside the Homes of the Pilgrims</td>\n",
       "      <td>There's a lot of folklore surrounding the firs...</td>\n",
       "      <td>https://assets.msn.com/labs/mind/AAJOJle.html</td>\n",
       "      <td>[{\"Label\": \"Pilgrims (Plymouth Colony)\", \"Type...</td>\n",
       "      <td>[{\"Label\": \"Pilgrims (Plymouth Colony)\", \"Type...</td>\n",
       "    </tr>\n",
       "    <tr>\n",
       "      <th>38481</th>\n",
       "      <td>40456</td>\n",
       "      <td>N14184</td>\n",
       "      <td>news</td>\n",
       "      <td>newsus</td>\n",
       "      <td>Man cuffed for eating sandwich on train platfo...</td>\n",
       "      <td>Bay Area Rapid Transit was slammed for its han...</td>\n",
       "      <td>https://assets.msn.com/labs/mind/BBWBDWu.html</td>\n",
       "      <td>[]</td>\n",
       "      <td>[{\"Label\": \"Bay Area Rapid Transit\", \"Type\": \"...</td>\n",
       "    </tr>\n",
       "    <tr>\n",
       "      <th>34604</th>\n",
       "      <td>36332</td>\n",
       "      <td>N39010</td>\n",
       "      <td>news</td>\n",
       "      <td>newsus</td>\n",
       "      <td>Ruth Bader Ginsburg misses court due to illness</td>\n",
       "      <td>Supreme Court Justice Ruth Bader Ginsburg was ...</td>\n",
       "      <td>https://assets.msn.com/labs/mind/BBWHJti.html</td>\n",
       "      <td>[{\"Label\": \"Ruth Bader Ginsburg\", \"Type\": \"P\",...</td>\n",
       "      <td>[{\"Label\": \"Ruth Bader Ginsburg\", \"Type\": \"P\",...</td>\n",
       "    </tr>\n",
       "    <tr>\n",
       "      <th>30966</th>\n",
       "      <td>32479</td>\n",
       "      <td>N52723</td>\n",
       "      <td>news</td>\n",
       "      <td>newsus</td>\n",
       "      <td>Cat \"repeatedly\" breaks his friends out of ani...</td>\n",
       "      <td>A mischievous cat named Quilty has earned inte...</td>\n",
       "      <td>https://assets.msn.com/labs/mind/BBWGeR0.html</td>\n",
       "      <td>[]</td>\n",
       "      <td>[{\"Label\": \"Texas\", \"Type\": \"G\", \"WikidataId\":...</td>\n",
       "    </tr>\n",
       "    <tr>\n",
       "      <th>5523</th>\n",
       "      <td>5766</td>\n",
       "      <td>N23814</td>\n",
       "      <td>lifestyle</td>\n",
       "      <td>voices</td>\n",
       "      <td>I moved from the US to the UK. Here are the 8 ...</td>\n",
       "      <td>I've found that living in England comes with a...</td>\n",
       "      <td>https://assets.msn.com/labs/mind/AAHr37p.html</td>\n",
       "      <td>[{\"Label\": \"United States\", \"Type\": \"G\", \"Wiki...</td>\n",
       "      <td>[{\"Label\": \"England\", \"Type\": \"G\", \"WikidataId...</td>\n",
       "    </tr>\n",
       "    <tr>\n",
       "      <th>30318</th>\n",
       "      <td>31795</td>\n",
       "      <td>N8957</td>\n",
       "      <td>music</td>\n",
       "      <td>cma-awards</td>\n",
       "      <td>Best country music albums of all time</td>\n",
       "      <td>Stacker has compiled a list of the best countr...</td>\n",
       "      <td>https://assets.msn.com/labs/mind/BBVxt0T.html</td>\n",
       "      <td>[{\"Label\": \"Country music\", \"Type\": \"B\", \"Wiki...</td>\n",
       "      <td>[{\"Label\": \"Stac Electronics\", \"Type\": \"O\", \"W...</td>\n",
       "    </tr>\n",
       "    <tr>\n",
       "      <th>39684</th>\n",
       "      <td>41741</td>\n",
       "      <td>N64851</td>\n",
       "      <td>news</td>\n",
       "      <td>newsus</td>\n",
       "      <td>Former U.S. President Carter recovering in hos...</td>\n",
       "      <td>Former U.S. President Jimmy Carter was recover...</td>\n",
       "      <td>https://assets.msn.com/labs/mind/BBWEoZ6.html</td>\n",
       "      <td>[{\"Label\": \"Jimmy Carter\", \"Type\": \"P\", \"Wikid...</td>\n",
       "      <td>[{\"Label\": \"Jimmy Carter\", \"Type\": \"P\", \"Wikid...</td>\n",
       "    </tr>\n",
       "    <tr>\n",
       "      <th>41591</th>\n",
       "      <td>43766</td>\n",
       "      <td>N32691</td>\n",
       "      <td>lifestyle</td>\n",
       "      <td>lifestylebeauty</td>\n",
       "      <td>When You See Paris Jackson's Wheat-Blond Hair,...</td>\n",
       "      <td>Paris Jackson stepped out on Nov.</td>\n",
       "      <td>https://assets.msn.com/labs/mind/BBWtvGv.html</td>\n",
       "      <td>[{\"Label\": \"Blond\", \"Type\": \"C\", \"WikidataId\":...</td>\n",
       "      <td>[]</td>\n",
       "    </tr>\n",
       "    <tr>\n",
       "      <th>48319</th>\n",
       "      <td>50960</td>\n",
       "      <td>N43502</td>\n",
       "      <td>news</td>\n",
       "      <td>newspolitics</td>\n",
       "      <td>Donald Trump Jr walks out of Triggered book la...</td>\n",
       "      <td>Event at University of California is cut short...</td>\n",
       "      <td>https://assets.msn.com/labs/mind/BBWyrYC.html</td>\n",
       "      <td>[{\"Label\": \"Donald Trump Jr.\", \"Type\": \"P\", \"W...</td>\n",
       "      <td>[{\"Label\": \"University of California\", \"Type\":...</td>\n",
       "    </tr>\n",
       "    <tr>\n",
       "      <th>39973</th>\n",
       "      <td>42049</td>\n",
       "      <td>N59267</td>\n",
       "      <td>music</td>\n",
       "      <td>music-celebrity</td>\n",
       "      <td>Celine Dion Shares What She Misses Most About ...</td>\n",
       "      <td>'Rene will always be with me, but I'm not in p...</td>\n",
       "      <td>https://assets.msn.com/labs/mind/BBWL8jB.html</td>\n",
       "      <td>[{\"Label\": \"Celine Dion\", \"Type\": \"P\", \"Wikida...</td>\n",
       "      <td>[{\"Label\": \"Ren\\u00e9 Ang\\u00e9lil\", \"Type\": \"...</td>\n",
       "    </tr>\n",
       "    <tr>\n",
       "      <th>20938</th>\n",
       "      <td>21975</td>\n",
       "      <td>N43083</td>\n",
       "      <td>lifestyle</td>\n",
       "      <td>lifestylehomeandgarden</td>\n",
       "      <td>What It Was Like Inside the Homes of the Pilgrims</td>\n",
       "      <td>There's a lot of folklore surrounding the firs...</td>\n",
       "      <td>https://assets.msn.com/labs/mind/AAJOJle.html</td>\n",
       "      <td>[{\"Label\": \"Pilgrims (Plymouth Colony)\", \"Type...</td>\n",
       "      <td>[{\"Label\": \"Pilgrims (Plymouth Colony)\", \"Type...</td>\n",
       "    </tr>\n",
       "    <tr>\n",
       "      <th>38481</th>\n",
       "      <td>40456</td>\n",
       "      <td>N14184</td>\n",
       "      <td>news</td>\n",
       "      <td>newsus</td>\n",
       "      <td>Man cuffed for eating sandwich on train platfo...</td>\n",
       "      <td>Bay Area Rapid Transit was slammed for its han...</td>\n",
       "      <td>https://assets.msn.com/labs/mind/BBWBDWu.html</td>\n",
       "      <td>[]</td>\n",
       "      <td>[{\"Label\": \"Bay Area Rapid Transit\", \"Type\": \"...</td>\n",
       "    </tr>\n",
       "    <tr>\n",
       "      <th>34604</th>\n",
       "      <td>36332</td>\n",
       "      <td>N39010</td>\n",
       "      <td>news</td>\n",
       "      <td>newsus</td>\n",
       "      <td>Ruth Bader Ginsburg misses court due to illness</td>\n",
       "      <td>Supreme Court Justice Ruth Bader Ginsburg was ...</td>\n",
       "      <td>https://assets.msn.com/labs/mind/BBWHJti.html</td>\n",
       "      <td>[{\"Label\": \"Ruth Bader Ginsburg\", \"Type\": \"P\",...</td>\n",
       "      <td>[{\"Label\": \"Ruth Bader Ginsburg\", \"Type\": \"P\",...</td>\n",
       "    </tr>\n",
       "    <tr>\n",
       "      <th>30966</th>\n",
       "      <td>32479</td>\n",
       "      <td>N52723</td>\n",
       "      <td>news</td>\n",
       "      <td>newsus</td>\n",
       "      <td>Cat \"repeatedly\" breaks his friends out of ani...</td>\n",
       "      <td>A mischievous cat named Quilty has earned inte...</td>\n",
       "      <td>https://assets.msn.com/labs/mind/BBWGeR0.html</td>\n",
       "      <td>[]</td>\n",
       "      <td>[{\"Label\": \"Texas\", \"Type\": \"G\", \"WikidataId\":...</td>\n",
       "    </tr>\n",
       "    <tr>\n",
       "      <th>5523</th>\n",
       "      <td>5766</td>\n",
       "      <td>N23814</td>\n",
       "      <td>lifestyle</td>\n",
       "      <td>voices</td>\n",
       "      <td>I moved from the US to the UK. Here are the 8 ...</td>\n",
       "      <td>I've found that living in England comes with a...</td>\n",
       "      <td>https://assets.msn.com/labs/mind/AAHr37p.html</td>\n",
       "      <td>[{\"Label\": \"United States\", \"Type\": \"G\", \"Wiki...</td>\n",
       "      <td>[{\"Label\": \"England\", \"Type\": \"G\", \"WikidataId...</td>\n",
       "    </tr>\n",
       "    <tr>\n",
       "      <th>30318</th>\n",
       "      <td>31795</td>\n",
       "      <td>N8957</td>\n",
       "      <td>music</td>\n",
       "      <td>cma-awards</td>\n",
       "      <td>Best country music albums of all time</td>\n",
       "      <td>Stacker has compiled a list of the best countr...</td>\n",
       "      <td>https://assets.msn.com/labs/mind/BBVxt0T.html</td>\n",
       "      <td>[{\"Label\": \"Country music\", \"Type\": \"B\", \"Wiki...</td>\n",
       "      <td>[{\"Label\": \"Stac Electronics\", \"Type\": \"O\", \"W...</td>\n",
       "    </tr>\n",
       "    <tr>\n",
       "      <th>39684</th>\n",
       "      <td>41741</td>\n",
       "      <td>N64851</td>\n",
       "      <td>news</td>\n",
       "      <td>newsus</td>\n",
       "      <td>Former U.S. President Carter recovering in hos...</td>\n",
       "      <td>Former U.S. President Jimmy Carter was recover...</td>\n",
       "      <td>https://assets.msn.com/labs/mind/BBWEoZ6.html</td>\n",
       "      <td>[{\"Label\": \"Jimmy Carter\", \"Type\": \"P\", \"Wikid...</td>\n",
       "      <td>[{\"Label\": \"Jimmy Carter\", \"Type\": \"P\", \"Wikid...</td>\n",
       "    </tr>\n",
       "    <tr>\n",
       "      <th>41591</th>\n",
       "      <td>43766</td>\n",
       "      <td>N32691</td>\n",
       "      <td>lifestyle</td>\n",
       "      <td>lifestylebeauty</td>\n",
       "      <td>When You See Paris Jackson's Wheat-Blond Hair,...</td>\n",
       "      <td>Paris Jackson stepped out on Nov.</td>\n",
       "      <td>https://assets.msn.com/labs/mind/BBWtvGv.html</td>\n",
       "      <td>[{\"Label\": \"Blond\", \"Type\": \"C\", \"WikidataId\":...</td>\n",
       "      <td>[]</td>\n",
       "    </tr>\n",
       "    <tr>\n",
       "      <th>48319</th>\n",
       "      <td>50960</td>\n",
       "      <td>N43502</td>\n",
       "      <td>news</td>\n",
       "      <td>newspolitics</td>\n",
       "      <td>Donald Trump Jr walks out of Triggered book la...</td>\n",
       "      <td>Event at University of California is cut short...</td>\n",
       "      <td>https://assets.msn.com/labs/mind/BBWyrYC.html</td>\n",
       "      <td>[{\"Label\": \"Donald Trump Jr.\", \"Type\": \"P\", \"W...</td>\n",
       "      <td>[{\"Label\": \"University of California\", \"Type\":...</td>\n",
       "    </tr>\n",
       "    <tr>\n",
       "      <th>39973</th>\n",
       "      <td>42049</td>\n",
       "      <td>N59267</td>\n",
       "      <td>music</td>\n",
       "      <td>music-celebrity</td>\n",
       "      <td>Celine Dion Shares What She Misses Most About ...</td>\n",
       "      <td>'Rene will always be with me, but I'm not in p...</td>\n",
       "      <td>https://assets.msn.com/labs/mind/BBWL8jB.html</td>\n",
       "      <td>[{\"Label\": \"Celine Dion\", \"Type\": \"P\", \"Wikida...</td>\n",
       "      <td>[{\"Label\": \"Ren\\u00e9 Ang\\u00e9lil\", \"Type\": \"...</td>\n",
       "    </tr>\n",
       "    <tr>\n",
       "      <th>20938</th>\n",
       "      <td>21975</td>\n",
       "      <td>N43083</td>\n",
       "      <td>lifestyle</td>\n",
       "      <td>lifestylehomeandgarden</td>\n",
       "      <td>What It Was Like Inside the Homes of the Pilgrims</td>\n",
       "      <td>There's a lot of folklore surrounding the firs...</td>\n",
       "      <td>https://assets.msn.com/labs/mind/AAJOJle.html</td>\n",
       "      <td>[{\"Label\": \"Pilgrims (Plymouth Colony)\", \"Type...</td>\n",
       "      <td>[{\"Label\": \"Pilgrims (Plymouth Colony)\", \"Type...</td>\n",
       "    </tr>\n",
       "    <tr>\n",
       "      <th>38481</th>\n",
       "      <td>40456</td>\n",
       "      <td>N14184</td>\n",
       "      <td>news</td>\n",
       "      <td>newsus</td>\n",
       "      <td>Man cuffed for eating sandwich on train platfo...</td>\n",
       "      <td>Bay Area Rapid Transit was slammed for its han...</td>\n",
       "      <td>https://assets.msn.com/labs/mind/BBWBDWu.html</td>\n",
       "      <td>[]</td>\n",
       "      <td>[{\"Label\": \"Bay Area Rapid Transit\", \"Type\": \"...</td>\n",
       "    </tr>\n",
       "    <tr>\n",
       "      <th>34604</th>\n",
       "      <td>36332</td>\n",
       "      <td>N39010</td>\n",
       "      <td>news</td>\n",
       "      <td>newsus</td>\n",
       "      <td>Ruth Bader Ginsburg misses court due to illness</td>\n",
       "      <td>Supreme Court Justice Ruth Bader Ginsburg was ...</td>\n",
       "      <td>https://assets.msn.com/labs/mind/BBWHJti.html</td>\n",
       "      <td>[{\"Label\": \"Ruth Bader Ginsburg\", \"Type\": \"P\",...</td>\n",
       "      <td>[{\"Label\": \"Ruth Bader Ginsburg\", \"Type\": \"P\",...</td>\n",
       "    </tr>\n",
       "    <tr>\n",
       "      <th>30966</th>\n",
       "      <td>32479</td>\n",
       "      <td>N52723</td>\n",
       "      <td>news</td>\n",
       "      <td>newsus</td>\n",
       "      <td>Cat \"repeatedly\" breaks his friends out of ani...</td>\n",
       "      <td>A mischievous cat named Quilty has earned inte...</td>\n",
       "      <td>https://assets.msn.com/labs/mind/BBWGeR0.html</td>\n",
       "      <td>[]</td>\n",
       "      <td>[{\"Label\": \"Texas\", \"Type\": \"G\", \"WikidataId\":...</td>\n",
       "    </tr>\n",
       "    <tr>\n",
       "      <th>5523</th>\n",
       "      <td>5766</td>\n",
       "      <td>N23814</td>\n",
       "      <td>lifestyle</td>\n",
       "      <td>voices</td>\n",
       "      <td>I moved from the US to the UK. Here are the 8 ...</td>\n",
       "      <td>I've found that living in England comes with a...</td>\n",
       "      <td>https://assets.msn.com/labs/mind/AAHr37p.html</td>\n",
       "      <td>[{\"Label\": \"United States\", \"Type\": \"G\", \"Wiki...</td>\n",
       "      <td>[{\"Label\": \"England\", \"Type\": \"G\", \"WikidataId...</td>\n",
       "    </tr>\n",
       "    <tr>\n",
       "      <th>30318</th>\n",
       "      <td>31795</td>\n",
       "      <td>N8957</td>\n",
       "      <td>music</td>\n",
       "      <td>cma-awards</td>\n",
       "      <td>Best country music albums of all time</td>\n",
       "      <td>Stacker has compiled a list of the best countr...</td>\n",
       "      <td>https://assets.msn.com/labs/mind/BBVxt0T.html</td>\n",
       "      <td>[{\"Label\": \"Country music\", \"Type\": \"B\", \"Wiki...</td>\n",
       "      <td>[{\"Label\": \"Stac Electronics\", \"Type\": \"O\", \"W...</td>\n",
       "    </tr>\n",
       "    <tr>\n",
       "      <th>39684</th>\n",
       "      <td>41741</td>\n",
       "      <td>N64851</td>\n",
       "      <td>news</td>\n",
       "      <td>newsus</td>\n",
       "      <td>Former U.S. President Carter recovering in hos...</td>\n",
       "      <td>Former U.S. President Jimmy Carter was recover...</td>\n",
       "      <td>https://assets.msn.com/labs/mind/BBWEoZ6.html</td>\n",
       "      <td>[{\"Label\": \"Jimmy Carter\", \"Type\": \"P\", \"Wikid...</td>\n",
       "      <td>[{\"Label\": \"Jimmy Carter\", \"Type\": \"P\", \"Wikid...</td>\n",
       "    </tr>\n",
       "  </tbody>\n",
       "</table>\n",
       "</div>"
      ],
      "text/plain": [
       "       index news_id   category             subcategory  \\\n",
       "41591  43766  N32691  lifestyle         lifestylebeauty   \n",
       "48319  50960  N43502       news            newspolitics   \n",
       "39973  42049  N59267      music         music-celebrity   \n",
       "20938  21975  N43083  lifestyle  lifestylehomeandgarden   \n",
       "38481  40456  N14184       news                  newsus   \n",
       "34604  36332  N39010       news                  newsus   \n",
       "30966  32479  N52723       news                  newsus   \n",
       "30318  31795   N8957      music              cma-awards   \n",
       "5523    5766  N23814  lifestyle                  voices   \n",
       "39684  41741  N64851       news                  newsus   \n",
       "41591  43766  N32691  lifestyle         lifestylebeauty   \n",
       "48319  50960  N43502       news            newspolitics   \n",
       "39973  42049  N59267      music         music-celebrity   \n",
       "20938  21975  N43083  lifestyle  lifestylehomeandgarden   \n",
       "38481  40456  N14184       news                  newsus   \n",
       "34604  36332  N39010       news                  newsus   \n",
       "30966  32479  N52723       news                  newsus   \n",
       "5523    5766  N23814  lifestyle                  voices   \n",
       "30318  31795   N8957      music              cma-awards   \n",
       "39684  41741  N64851       news                  newsus   \n",
       "41591  43766  N32691  lifestyle         lifestylebeauty   \n",
       "48319  50960  N43502       news            newspolitics   \n",
       "39973  42049  N59267      music         music-celebrity   \n",
       "20938  21975  N43083  lifestyle  lifestylehomeandgarden   \n",
       "38481  40456  N14184       news                  newsus   \n",
       "34604  36332  N39010       news                  newsus   \n",
       "30966  32479  N52723       news                  newsus   \n",
       "5523    5766  N23814  lifestyle                  voices   \n",
       "30318  31795   N8957      music              cma-awards   \n",
       "39684  41741  N64851       news                  newsus   \n",
       "41591  43766  N32691  lifestyle         lifestylebeauty   \n",
       "48319  50960  N43502       news            newspolitics   \n",
       "39973  42049  N59267      music         music-celebrity   \n",
       "20938  21975  N43083  lifestyle  lifestylehomeandgarden   \n",
       "38481  40456  N14184       news                  newsus   \n",
       "34604  36332  N39010       news                  newsus   \n",
       "30966  32479  N52723       news                  newsus   \n",
       "5523    5766  N23814  lifestyle                  voices   \n",
       "30318  31795   N8957      music              cma-awards   \n",
       "39684  41741  N64851       news                  newsus   \n",
       "\n",
       "                                                   title  \\\n",
       "41591  When You See Paris Jackson's Wheat-Blond Hair,...   \n",
       "48319  Donald Trump Jr walks out of Triggered book la...   \n",
       "39973  Celine Dion Shares What She Misses Most About ...   \n",
       "20938  What It Was Like Inside the Homes of the Pilgrims   \n",
       "38481  Man cuffed for eating sandwich on train platfo...   \n",
       "34604    Ruth Bader Ginsburg misses court due to illness   \n",
       "30966  Cat \"repeatedly\" breaks his friends out of ani...   \n",
       "30318              Best country music albums of all time   \n",
       "5523   I moved from the US to the UK. Here are the 8 ...   \n",
       "39684  Former U.S. President Carter recovering in hos...   \n",
       "41591  When You See Paris Jackson's Wheat-Blond Hair,...   \n",
       "48319  Donald Trump Jr walks out of Triggered book la...   \n",
       "39973  Celine Dion Shares What She Misses Most About ...   \n",
       "20938  What It Was Like Inside the Homes of the Pilgrims   \n",
       "38481  Man cuffed for eating sandwich on train platfo...   \n",
       "34604    Ruth Bader Ginsburg misses court due to illness   \n",
       "30966  Cat \"repeatedly\" breaks his friends out of ani...   \n",
       "5523   I moved from the US to the UK. Here are the 8 ...   \n",
       "30318              Best country music albums of all time   \n",
       "39684  Former U.S. President Carter recovering in hos...   \n",
       "41591  When You See Paris Jackson's Wheat-Blond Hair,...   \n",
       "48319  Donald Trump Jr walks out of Triggered book la...   \n",
       "39973  Celine Dion Shares What She Misses Most About ...   \n",
       "20938  What It Was Like Inside the Homes of the Pilgrims   \n",
       "38481  Man cuffed for eating sandwich on train platfo...   \n",
       "34604    Ruth Bader Ginsburg misses court due to illness   \n",
       "30966  Cat \"repeatedly\" breaks his friends out of ani...   \n",
       "5523   I moved from the US to the UK. Here are the 8 ...   \n",
       "30318              Best country music albums of all time   \n",
       "39684  Former U.S. President Carter recovering in hos...   \n",
       "41591  When You See Paris Jackson's Wheat-Blond Hair,...   \n",
       "48319  Donald Trump Jr walks out of Triggered book la...   \n",
       "39973  Celine Dion Shares What She Misses Most About ...   \n",
       "20938  What It Was Like Inside the Homes of the Pilgrims   \n",
       "38481  Man cuffed for eating sandwich on train platfo...   \n",
       "34604    Ruth Bader Ginsburg misses court due to illness   \n",
       "30966  Cat \"repeatedly\" breaks his friends out of ani...   \n",
       "5523   I moved from the US to the UK. Here are the 8 ...   \n",
       "30318              Best country music albums of all time   \n",
       "39684  Former U.S. President Carter recovering in hos...   \n",
       "\n",
       "                                                abstract  \\\n",
       "41591                  Paris Jackson stepped out on Nov.   \n",
       "48319  Event at University of California is cut short...   \n",
       "39973  'Rene will always be with me, but I'm not in p...   \n",
       "20938  There's a lot of folklore surrounding the firs...   \n",
       "38481  Bay Area Rapid Transit was slammed for its han...   \n",
       "34604  Supreme Court Justice Ruth Bader Ginsburg was ...   \n",
       "30966  A mischievous cat named Quilty has earned inte...   \n",
       "30318  Stacker has compiled a list of the best countr...   \n",
       "5523   I've found that living in England comes with a...   \n",
       "39684  Former U.S. President Jimmy Carter was recover...   \n",
       "41591                  Paris Jackson stepped out on Nov.   \n",
       "48319  Event at University of California is cut short...   \n",
       "39973  'Rene will always be with me, but I'm not in p...   \n",
       "20938  There's a lot of folklore surrounding the firs...   \n",
       "38481  Bay Area Rapid Transit was slammed for its han...   \n",
       "34604  Supreme Court Justice Ruth Bader Ginsburg was ...   \n",
       "30966  A mischievous cat named Quilty has earned inte...   \n",
       "5523   I've found that living in England comes with a...   \n",
       "30318  Stacker has compiled a list of the best countr...   \n",
       "39684  Former U.S. President Jimmy Carter was recover...   \n",
       "41591                  Paris Jackson stepped out on Nov.   \n",
       "48319  Event at University of California is cut short...   \n",
       "39973  'Rene will always be with me, but I'm not in p...   \n",
       "20938  There's a lot of folklore surrounding the firs...   \n",
       "38481  Bay Area Rapid Transit was slammed for its han...   \n",
       "34604  Supreme Court Justice Ruth Bader Ginsburg was ...   \n",
       "30966  A mischievous cat named Quilty has earned inte...   \n",
       "5523   I've found that living in England comes with a...   \n",
       "30318  Stacker has compiled a list of the best countr...   \n",
       "39684  Former U.S. President Jimmy Carter was recover...   \n",
       "41591                  Paris Jackson stepped out on Nov.   \n",
       "48319  Event at University of California is cut short...   \n",
       "39973  'Rene will always be with me, but I'm not in p...   \n",
       "20938  There's a lot of folklore surrounding the firs...   \n",
       "38481  Bay Area Rapid Transit was slammed for its han...   \n",
       "34604  Supreme Court Justice Ruth Bader Ginsburg was ...   \n",
       "30966  A mischievous cat named Quilty has earned inte...   \n",
       "5523   I've found that living in England comes with a...   \n",
       "30318  Stacker has compiled a list of the best countr...   \n",
       "39684  Former U.S. President Jimmy Carter was recover...   \n",
       "\n",
       "                                                 url  \\\n",
       "41591  https://assets.msn.com/labs/mind/BBWtvGv.html   \n",
       "48319  https://assets.msn.com/labs/mind/BBWyrYC.html   \n",
       "39973  https://assets.msn.com/labs/mind/BBWL8jB.html   \n",
       "20938  https://assets.msn.com/labs/mind/AAJOJle.html   \n",
       "38481  https://assets.msn.com/labs/mind/BBWBDWu.html   \n",
       "34604  https://assets.msn.com/labs/mind/BBWHJti.html   \n",
       "30966  https://assets.msn.com/labs/mind/BBWGeR0.html   \n",
       "30318  https://assets.msn.com/labs/mind/BBVxt0T.html   \n",
       "5523   https://assets.msn.com/labs/mind/AAHr37p.html   \n",
       "39684  https://assets.msn.com/labs/mind/BBWEoZ6.html   \n",
       "41591  https://assets.msn.com/labs/mind/BBWtvGv.html   \n",
       "48319  https://assets.msn.com/labs/mind/BBWyrYC.html   \n",
       "39973  https://assets.msn.com/labs/mind/BBWL8jB.html   \n",
       "20938  https://assets.msn.com/labs/mind/AAJOJle.html   \n",
       "38481  https://assets.msn.com/labs/mind/BBWBDWu.html   \n",
       "34604  https://assets.msn.com/labs/mind/BBWHJti.html   \n",
       "30966  https://assets.msn.com/labs/mind/BBWGeR0.html   \n",
       "5523   https://assets.msn.com/labs/mind/AAHr37p.html   \n",
       "30318  https://assets.msn.com/labs/mind/BBVxt0T.html   \n",
       "39684  https://assets.msn.com/labs/mind/BBWEoZ6.html   \n",
       "41591  https://assets.msn.com/labs/mind/BBWtvGv.html   \n",
       "48319  https://assets.msn.com/labs/mind/BBWyrYC.html   \n",
       "39973  https://assets.msn.com/labs/mind/BBWL8jB.html   \n",
       "20938  https://assets.msn.com/labs/mind/AAJOJle.html   \n",
       "38481  https://assets.msn.com/labs/mind/BBWBDWu.html   \n",
       "34604  https://assets.msn.com/labs/mind/BBWHJti.html   \n",
       "30966  https://assets.msn.com/labs/mind/BBWGeR0.html   \n",
       "5523   https://assets.msn.com/labs/mind/AAHr37p.html   \n",
       "30318  https://assets.msn.com/labs/mind/BBVxt0T.html   \n",
       "39684  https://assets.msn.com/labs/mind/BBWEoZ6.html   \n",
       "41591  https://assets.msn.com/labs/mind/BBWtvGv.html   \n",
       "48319  https://assets.msn.com/labs/mind/BBWyrYC.html   \n",
       "39973  https://assets.msn.com/labs/mind/BBWL8jB.html   \n",
       "20938  https://assets.msn.com/labs/mind/AAJOJle.html   \n",
       "38481  https://assets.msn.com/labs/mind/BBWBDWu.html   \n",
       "34604  https://assets.msn.com/labs/mind/BBWHJti.html   \n",
       "30966  https://assets.msn.com/labs/mind/BBWGeR0.html   \n",
       "5523   https://assets.msn.com/labs/mind/AAHr37p.html   \n",
       "30318  https://assets.msn.com/labs/mind/BBVxt0T.html   \n",
       "39684  https://assets.msn.com/labs/mind/BBWEoZ6.html   \n",
       "\n",
       "                                          title_entities  \\\n",
       "41591  [{\"Label\": \"Blond\", \"Type\": \"C\", \"WikidataId\":...   \n",
       "48319  [{\"Label\": \"Donald Trump Jr.\", \"Type\": \"P\", \"W...   \n",
       "39973  [{\"Label\": \"Celine Dion\", \"Type\": \"P\", \"Wikida...   \n",
       "20938  [{\"Label\": \"Pilgrims (Plymouth Colony)\", \"Type...   \n",
       "38481                                                 []   \n",
       "34604  [{\"Label\": \"Ruth Bader Ginsburg\", \"Type\": \"P\",...   \n",
       "30966                                                 []   \n",
       "30318  [{\"Label\": \"Country music\", \"Type\": \"B\", \"Wiki...   \n",
       "5523   [{\"Label\": \"United States\", \"Type\": \"G\", \"Wiki...   \n",
       "39684  [{\"Label\": \"Jimmy Carter\", \"Type\": \"P\", \"Wikid...   \n",
       "41591  [{\"Label\": \"Blond\", \"Type\": \"C\", \"WikidataId\":...   \n",
       "48319  [{\"Label\": \"Donald Trump Jr.\", \"Type\": \"P\", \"W...   \n",
       "39973  [{\"Label\": \"Celine Dion\", \"Type\": \"P\", \"Wikida...   \n",
       "20938  [{\"Label\": \"Pilgrims (Plymouth Colony)\", \"Type...   \n",
       "38481                                                 []   \n",
       "34604  [{\"Label\": \"Ruth Bader Ginsburg\", \"Type\": \"P\",...   \n",
       "30966                                                 []   \n",
       "5523   [{\"Label\": \"United States\", \"Type\": \"G\", \"Wiki...   \n",
       "30318  [{\"Label\": \"Country music\", \"Type\": \"B\", \"Wiki...   \n",
       "39684  [{\"Label\": \"Jimmy Carter\", \"Type\": \"P\", \"Wikid...   \n",
       "41591  [{\"Label\": \"Blond\", \"Type\": \"C\", \"WikidataId\":...   \n",
       "48319  [{\"Label\": \"Donald Trump Jr.\", \"Type\": \"P\", \"W...   \n",
       "39973  [{\"Label\": \"Celine Dion\", \"Type\": \"P\", \"Wikida...   \n",
       "20938  [{\"Label\": \"Pilgrims (Plymouth Colony)\", \"Type...   \n",
       "38481                                                 []   \n",
       "34604  [{\"Label\": \"Ruth Bader Ginsburg\", \"Type\": \"P\",...   \n",
       "30966                                                 []   \n",
       "5523   [{\"Label\": \"United States\", \"Type\": \"G\", \"Wiki...   \n",
       "30318  [{\"Label\": \"Country music\", \"Type\": \"B\", \"Wiki...   \n",
       "39684  [{\"Label\": \"Jimmy Carter\", \"Type\": \"P\", \"Wikid...   \n",
       "41591  [{\"Label\": \"Blond\", \"Type\": \"C\", \"WikidataId\":...   \n",
       "48319  [{\"Label\": \"Donald Trump Jr.\", \"Type\": \"P\", \"W...   \n",
       "39973  [{\"Label\": \"Celine Dion\", \"Type\": \"P\", \"Wikida...   \n",
       "20938  [{\"Label\": \"Pilgrims (Plymouth Colony)\", \"Type...   \n",
       "38481                                                 []   \n",
       "34604  [{\"Label\": \"Ruth Bader Ginsburg\", \"Type\": \"P\",...   \n",
       "30966                                                 []   \n",
       "5523   [{\"Label\": \"United States\", \"Type\": \"G\", \"Wiki...   \n",
       "30318  [{\"Label\": \"Country music\", \"Type\": \"B\", \"Wiki...   \n",
       "39684  [{\"Label\": \"Jimmy Carter\", \"Type\": \"P\", \"Wikid...   \n",
       "\n",
       "                                       abstract_entities  \n",
       "41591                                                 []  \n",
       "48319  [{\"Label\": \"University of California\", \"Type\":...  \n",
       "39973  [{\"Label\": \"Ren\\u00e9 Ang\\u00e9lil\", \"Type\": \"...  \n",
       "20938  [{\"Label\": \"Pilgrims (Plymouth Colony)\", \"Type...  \n",
       "38481  [{\"Label\": \"Bay Area Rapid Transit\", \"Type\": \"...  \n",
       "34604  [{\"Label\": \"Ruth Bader Ginsburg\", \"Type\": \"P\",...  \n",
       "30966  [{\"Label\": \"Texas\", \"Type\": \"G\", \"WikidataId\":...  \n",
       "30318  [{\"Label\": \"Stac Electronics\", \"Type\": \"O\", \"W...  \n",
       "5523   [{\"Label\": \"England\", \"Type\": \"G\", \"WikidataId...  \n",
       "39684  [{\"Label\": \"Jimmy Carter\", \"Type\": \"P\", \"Wikid...  \n",
       "41591                                                 []  \n",
       "48319  [{\"Label\": \"University of California\", \"Type\":...  \n",
       "39973  [{\"Label\": \"Ren\\u00e9 Ang\\u00e9lil\", \"Type\": \"...  \n",
       "20938  [{\"Label\": \"Pilgrims (Plymouth Colony)\", \"Type...  \n",
       "38481  [{\"Label\": \"Bay Area Rapid Transit\", \"Type\": \"...  \n",
       "34604  [{\"Label\": \"Ruth Bader Ginsburg\", \"Type\": \"P\",...  \n",
       "30966  [{\"Label\": \"Texas\", \"Type\": \"G\", \"WikidataId\":...  \n",
       "5523   [{\"Label\": \"England\", \"Type\": \"G\", \"WikidataId...  \n",
       "30318  [{\"Label\": \"Stac Electronics\", \"Type\": \"O\", \"W...  \n",
       "39684  [{\"Label\": \"Jimmy Carter\", \"Type\": \"P\", \"Wikid...  \n",
       "41591                                                 []  \n",
       "48319  [{\"Label\": \"University of California\", \"Type\":...  \n",
       "39973  [{\"Label\": \"Ren\\u00e9 Ang\\u00e9lil\", \"Type\": \"...  \n",
       "20938  [{\"Label\": \"Pilgrims (Plymouth Colony)\", \"Type...  \n",
       "38481  [{\"Label\": \"Bay Area Rapid Transit\", \"Type\": \"...  \n",
       "34604  [{\"Label\": \"Ruth Bader Ginsburg\", \"Type\": \"P\",...  \n",
       "30966  [{\"Label\": \"Texas\", \"Type\": \"G\", \"WikidataId\":...  \n",
       "5523   [{\"Label\": \"England\", \"Type\": \"G\", \"WikidataId...  \n",
       "30318  [{\"Label\": \"Stac Electronics\", \"Type\": \"O\", \"W...  \n",
       "39684  [{\"Label\": \"Jimmy Carter\", \"Type\": \"P\", \"Wikid...  \n",
       "41591                                                 []  \n",
       "48319  [{\"Label\": \"University of California\", \"Type\":...  \n",
       "39973  [{\"Label\": \"Ren\\u00e9 Ang\\u00e9lil\", \"Type\": \"...  \n",
       "20938  [{\"Label\": \"Pilgrims (Plymouth Colony)\", \"Type...  \n",
       "38481  [{\"Label\": \"Bay Area Rapid Transit\", \"Type\": \"...  \n",
       "34604  [{\"Label\": \"Ruth Bader Ginsburg\", \"Type\": \"P\",...  \n",
       "30966  [{\"Label\": \"Texas\", \"Type\": \"G\", \"WikidataId\":...  \n",
       "5523   [{\"Label\": \"England\", \"Type\": \"G\", \"WikidataId...  \n",
       "30318  [{\"Label\": \"Stac Electronics\", \"Type\": \"O\", \"W...  \n",
       "39684  [{\"Label\": \"Jimmy Carter\", \"Type\": \"P\", \"Wikid...  "
      ]
     },
     "execution_count": 75,
     "metadata": {},
     "output_type": "execute_result"
    }
   ],
   "source": [
    "filtered_news_groups = pd.DataFrame(columns=news.columns)\n",
    "keys = []\n",
    "print(recommendations)\n",
    "for group_name, recommendations in survey_groups_recommendations.items():\n",
    "\n",
    "    for key, value in recommendations.items():\n",
    "        #print(key)\n",
    "        keys.append(key)\n",
    "for key in keys:\n",
    "    recommended_item_row = news[news['news_id'] == key]\n",
    "    filtered_news_groups = pd.concat([filtered_news_groups, recommended_item_row])\n",
    "\n",
    "filtered_news_groups"
   ]
  }
 ],
 "metadata": {
  "kernelspec": {
   "display_name": "Python 3 (ipykernel)",
   "language": "python",
   "name": "python3"
  },
  "language_info": {
   "codemirror_mode": {
    "name": "ipython",
    "version": 3
   },
   "file_extension": ".py",
   "mimetype": "text/x-python",
   "name": "python",
   "nbconvert_exporter": "python",
   "pygments_lexer": "ipython3",
   "version": "3.8.16"
  }
 },
 "nbformat": 4,
 "nbformat_minor": 5
}

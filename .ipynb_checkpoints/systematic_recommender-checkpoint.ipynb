{
 "cells": [
  {
   "cell_type": "code",
   "execution_count": 1,
   "metadata": {
    "id": "ohjG8yik9HpG"
   },
   "outputs": [],
   "source": [
    "import pandas as pd\n",
    "import numpy as np\n",
    "import plotly.express as px\n",
    "import matplotlib.pyplot as plt\n",
    "import nltk\n",
    "from sklearn.feature_extraction.text import TfidfVectorizer\n",
    "from sklearn.metrics.pairwise import linear_kernel\n",
    "from sklearn.model_selection import train_test_split\n",
    "from wordcloud import WordCloud\n",
    "from nltk.corpus import stopwords\n",
    "from scipy.sparse import csr_matrix\n",
    "from sklearn.neighbors import NearestNeighbors"
   ]
  },
  {
   "cell_type": "code",
   "execution_count": 2,
   "metadata": {
    "id": "SuMw_mtHO4eV"
   },
   "outputs": [],
   "source": [
    "news = pd.read_csv('small_test_data/news.tsv',header=None,sep='\\t')"
   ]
  },
  {
   "cell_type": "code",
   "execution_count": 3,
   "metadata": {
    "id": "nWr1tSpL9WWp"
   },
   "outputs": [],
   "source": [
    "news.columns=['News ID',\n",
    "\"Category\",\n",
    "\"SubCategory\",\n",
    "\"Title\",\n",
    "\"Abstract\",\n",
    "\"URL\",\n",
    "\"Title Entities\",\n",
    "\"Abstract Entities \"]"
   ]
  },
  {
   "cell_type": "code",
   "execution_count": 4,
   "metadata": {
    "id": "wnO3MFD7-D89"
   },
   "outputs": [],
   "source": [
    "c = news[['Category','SubCategory']].value_counts()"
   ]
  },
  {
   "cell_type": "code",
   "execution_count": 5,
   "metadata": {
    "id": "LrK3j_kS_Hi6"
   },
   "outputs": [],
   "source": [
    "index=[]\n",
    "for i in c.index:\n",
    "    index.append(np.array(i))\n",
    "index=np.array(index)"
   ]
  },
  {
   "cell_type": "code",
   "execution_count": 6,
   "metadata": {
    "id": "kwT-4fsh_IHu"
   },
   "outputs": [],
   "source": [
    "news_df=pd.DataFrame(columns = ['Category','Sub Category','Values'])\n",
    "news_df['Category'] = index[:,0]\n",
    "news_df['Sub Category'] = index[:,1]\n",
    "news_df['Values'] = c.values"
   ]
  },
  {
   "cell_type": "code",
   "execution_count": 7,
   "metadata": {
    "colab": {
     "base_uri": "https://localhost:8080/",
     "height": 424
    },
    "id": "ZxJcJHfGrbRu",
    "outputId": "2989ecb9-fd2a-4ff0-9349-2fa1c936d98f"
   },
   "outputs": [
    {
     "data": {
      "text/html": [
       "<div>\n",
       "<style scoped>\n",
       "    .dataframe tbody tr th:only-of-type {\n",
       "        vertical-align: middle;\n",
       "    }\n",
       "\n",
       "    .dataframe tbody tr th {\n",
       "        vertical-align: top;\n",
       "    }\n",
       "\n",
       "    .dataframe thead th {\n",
       "        text-align: right;\n",
       "    }\n",
       "</style>\n",
       "<table border=\"1\" class=\"dataframe\">\n",
       "  <thead>\n",
       "    <tr style=\"text-align: right;\">\n",
       "      <th></th>\n",
       "      <th>Category</th>\n",
       "      <th>Sub Category</th>\n",
       "      <th>Values</th>\n",
       "    </tr>\n",
       "  </thead>\n",
       "  <tbody>\n",
       "    <tr>\n",
       "      <th>0</th>\n",
       "      <td>news</td>\n",
       "      <td>newsus</td>\n",
       "      <td>5335</td>\n",
       "    </tr>\n",
       "    <tr>\n",
       "      <th>1</th>\n",
       "      <td>sports</td>\n",
       "      <td>football_nfl</td>\n",
       "      <td>4747</td>\n",
       "    </tr>\n",
       "    <tr>\n",
       "      <th>2</th>\n",
       "      <td>news</td>\n",
       "      <td>newspolitics</td>\n",
       "      <td>2398</td>\n",
       "    </tr>\n",
       "    <tr>\n",
       "      <th>3</th>\n",
       "      <td>news</td>\n",
       "      <td>newscrime</td>\n",
       "      <td>1797</td>\n",
       "    </tr>\n",
       "    <tr>\n",
       "      <th>4</th>\n",
       "      <td>news</td>\n",
       "      <td>newsworld</td>\n",
       "      <td>1525</td>\n",
       "    </tr>\n",
       "    <tr>\n",
       "      <th>...</th>\n",
       "      <td>...</td>\n",
       "      <td>...</td>\n",
       "      <td>...</td>\n",
       "    </tr>\n",
       "    <tr>\n",
       "      <th>271</th>\n",
       "      <td>entertainment</td>\n",
       "      <td>tv</td>\n",
       "      <td>1</td>\n",
       "    </tr>\n",
       "    <tr>\n",
       "      <th>272</th>\n",
       "      <td>news</td>\n",
       "      <td>empowering-the-planet</td>\n",
       "      <td>1</td>\n",
       "    </tr>\n",
       "    <tr>\n",
       "      <th>273</th>\n",
       "      <td>travel</td>\n",
       "      <td>newstrends</td>\n",
       "      <td>1</td>\n",
       "    </tr>\n",
       "    <tr>\n",
       "      <th>274</th>\n",
       "      <td>health</td>\n",
       "      <td>healthyliving</td>\n",
       "      <td>1</td>\n",
       "    </tr>\n",
       "    <tr>\n",
       "      <th>275</th>\n",
       "      <td>entertainment</td>\n",
       "      <td>celebhub</td>\n",
       "      <td>1</td>\n",
       "    </tr>\n",
       "  </tbody>\n",
       "</table>\n",
       "<p>276 rows × 3 columns</p>\n",
       "</div>"
      ],
      "text/plain": [
       "          Category           Sub Category  Values\n",
       "0             news                 newsus    5335\n",
       "1           sports           football_nfl    4747\n",
       "2             news           newspolitics    2398\n",
       "3             news              newscrime    1797\n",
       "4             news              newsworld    1525\n",
       "..             ...                    ...     ...\n",
       "271  entertainment                     tv       1\n",
       "272           news  empowering-the-planet       1\n",
       "273         travel             newstrends       1\n",
       "274         health          healthyliving       1\n",
       "275  entertainment               celebhub       1\n",
       "\n",
       "[276 rows x 3 columns]"
      ]
     },
     "execution_count": 7,
     "metadata": {},
     "output_type": "execute_result"
    }
   ],
   "source": [
    "news_df\n"
   ]
  },
  {
   "cell_type": "code",
   "execution_count": 8,
   "metadata": {
    "colab": {
     "base_uri": "https://localhost:8080/",
     "height": 542
    },
    "id": "TvdfM6wa_PxW",
    "outputId": "36eb85df-b000-469c-c112-c9a87413973f"
   },
   "outputs": [
    {
     "data": {
      "application/vnd.plotly.v1+json": {
       "config": {
        "plotlyServerURL": "https://plot.ly"
       },
       "data": [
        {
         "alignmentgroup": "True",
         "hovertemplate": "Sub Category=newsus<br>Category=%{x}<br>Values=%{y}<extra></extra>",
         "legendgroup": "newsus",
         "marker": {
          "color": "#636efa",
          "pattern": {
           "shape": ""
          }
         },
         "name": "newsus",
         "offsetgroup": "newsus",
         "orientation": "v",
         "showlegend": true,
         "textposition": "auto",
         "type": "bar",
         "x": [
          "news"
         ],
         "xaxis": "x",
         "y": [
          5335
         ],
         "yaxis": "y"
        },
        {
         "alignmentgroup": "True",
         "hovertemplate": "Sub Category=football_nfl<br>Category=%{x}<br>Values=%{y}<extra></extra>",
         "legendgroup": "football_nfl",
         "marker": {
          "color": "#EF553B",
          "pattern": {
           "shape": ""
          }
         },
         "name": "football_nfl",
         "offsetgroup": "football_nfl",
         "orientation": "v",
         "showlegend": true,
         "textposition": "auto",
         "type": "bar",
         "x": [
          "sports"
         ],
         "xaxis": "x",
         "y": [
          4747
         ],
         "yaxis": "y"
        },
        {
         "alignmentgroup": "True",
         "hovertemplate": "Sub Category=newspolitics<br>Category=%{x}<br>Values=%{y}<extra></extra>",
         "legendgroup": "newspolitics",
         "marker": {
          "color": "#00cc96",
          "pattern": {
           "shape": ""
          }
         },
         "name": "newspolitics",
         "offsetgroup": "newspolitics",
         "orientation": "v",
         "showlegend": true,
         "textposition": "auto",
         "type": "bar",
         "x": [
          "news"
         ],
         "xaxis": "x",
         "y": [
          2398
         ],
         "yaxis": "y"
        },
        {
         "alignmentgroup": "True",
         "hovertemplate": "Sub Category=newscrime<br>Category=%{x}<br>Values=%{y}<extra></extra>",
         "legendgroup": "newscrime",
         "marker": {
          "color": "#ab63fa",
          "pattern": {
           "shape": ""
          }
         },
         "name": "newscrime",
         "offsetgroup": "newscrime",
         "orientation": "v",
         "showlegend": true,
         "textposition": "auto",
         "type": "bar",
         "x": [
          "news"
         ],
         "xaxis": "x",
         "y": [
          1797
         ],
         "yaxis": "y"
        },
        {
         "alignmentgroup": "True",
         "hovertemplate": "Sub Category=newsworld<br>Category=%{x}<br>Values=%{y}<extra></extra>",
         "legendgroup": "newsworld",
         "marker": {
          "color": "#FFA15A",
          "pattern": {
           "shape": ""
          }
         },
         "name": "newsworld",
         "offsetgroup": "newsworld",
         "orientation": "v",
         "showlegend": true,
         "textposition": "auto",
         "type": "bar",
         "x": [
          "news"
         ],
         "xaxis": "x",
         "y": [
          1525
         ],
         "yaxis": "y"
        },
        {
         "alignmentgroup": "True",
         "hovertemplate": "Sub Category=baseball_mlb<br>Category=%{x}<br>Values=%{y}<extra></extra>",
         "legendgroup": "baseball_mlb",
         "marker": {
          "color": "#19d3f3",
          "pattern": {
           "shape": ""
          }
         },
         "name": "baseball_mlb",
         "offsetgroup": "baseball_mlb",
         "orientation": "v",
         "showlegend": true,
         "textposition": "auto",
         "type": "bar",
         "x": [
          "sports"
         ],
         "xaxis": "x",
         "y": [
          1502
         ],
         "yaxis": "y"
        },
        {
         "alignmentgroup": "True",
         "hovertemplate": "Sub Category=weathertopstories<br>Category=%{x}<br>Values=%{y}<extra></extra>",
         "legendgroup": "weathertopstories",
         "marker": {
          "color": "#FF6692",
          "pattern": {
           "shape": ""
          }
         },
         "name": "weathertopstories",
         "offsetgroup": "weathertopstories",
         "orientation": "v",
         "showlegend": true,
         "textposition": "auto",
         "type": "bar",
         "x": [
          "weather"
         ],
         "xaxis": "x",
         "y": [
          1460
         ],
         "yaxis": "y"
        },
        {
         "alignmentgroup": "True",
         "hovertemplate": "Sub Category=football_ncaa<br>Category=%{x}<br>Values=%{y}<extra></extra>",
         "legendgroup": "football_ncaa",
         "marker": {
          "color": "#B6E880",
          "pattern": {
           "shape": ""
          }
         },
         "name": "football_ncaa",
         "offsetgroup": "football_ncaa",
         "orientation": "v",
         "showlegend": true,
         "textposition": "auto",
         "type": "bar",
         "x": [
          "sports"
         ],
         "xaxis": "x",
         "y": [
          1271
         ],
         "yaxis": "y"
        },
        {
         "alignmentgroup": "True",
         "hovertemplate": "Sub Category=basketball_nba<br>Category=%{x}<br>Values=%{y}<extra></extra>",
         "legendgroup": "basketball_nba",
         "marker": {
          "color": "#FF97FF",
          "pattern": {
           "shape": ""
          }
         },
         "name": "basketball_nba",
         "offsetgroup": "basketball_nba",
         "orientation": "v",
         "showlegend": true,
         "textposition": "auto",
         "type": "bar",
         "x": [
          "sports"
         ],
         "xaxis": "x",
         "y": [
          1221
         ],
         "yaxis": "y"
        },
        {
         "alignmentgroup": "True",
         "hovertemplate": "Sub Category=newsscienceandtechnology<br>Category=%{x}<br>Values=%{y}<extra></extra>",
         "legendgroup": "newsscienceandtechnology",
         "marker": {
          "color": "#FECB52",
          "pattern": {
           "shape": ""
          }
         },
         "name": "newsscienceandtechnology",
         "offsetgroup": "newsscienceandtechnology",
         "orientation": "v",
         "showlegend": true,
         "textposition": "auto",
         "type": "bar",
         "x": [
          "news"
         ],
         "xaxis": "x",
         "y": [
          971
         ],
         "yaxis": "y"
        },
        {
         "alignmentgroup": "True",
         "hovertemplate": "Sub Category=newstrends<br>Category=%{x}<br>Values=%{y}<extra></extra>",
         "legendgroup": "newstrends",
         "marker": {
          "color": "#636efa",
          "pattern": {
           "shape": ""
          }
         },
         "name": "newstrends",
         "offsetgroup": "newstrends",
         "orientation": "v",
         "showlegend": true,
         "textposition": "auto",
         "type": "bar",
         "x": [
          "foodanddrink",
          "travel"
         ],
         "xaxis": "x",
         "y": [
          944,
          1
         ],
         "yaxis": "y"
        },
        {
         "alignmentgroup": "True",
         "hovertemplate": "Sub Category=news<br>Category=%{x}<br>Values=%{y}<extra></extra>",
         "legendgroup": "news",
         "marker": {
          "color": "#EF553B",
          "pattern": {
           "shape": ""
          }
         },
         "name": "news",
         "offsetgroup": "news",
         "orientation": "v",
         "showlegend": true,
         "textposition": "auto",
         "type": "bar",
         "x": [
          "video",
          "entertainment"
         ],
         "xaxis": "x",
         "y": [
          774,
          12
         ],
         "yaxis": "y"
        },
        {
         "alignmentgroup": "True",
         "hovertemplate": "Sub Category=travelnews<br>Category=%{x}<br>Values=%{y}<extra></extra>",
         "legendgroup": "travelnews",
         "marker": {
          "color": "#00cc96",
          "pattern": {
           "shape": ""
          }
         },
         "name": "travelnews",
         "offsetgroup": "travelnews",
         "orientation": "v",
         "showlegend": true,
         "textposition": "auto",
         "type": "bar",
         "x": [
          "travel"
         ],
         "xaxis": "x",
         "y": [
          754
         ],
         "yaxis": "y"
        },
        {
         "alignmentgroup": "True",
         "hovertemplate": "Sub Category=more_sports<br>Category=%{x}<br>Values=%{y}<extra></extra>",
         "legendgroup": "more_sports",
         "marker": {
          "color": "#ab63fa",
          "pattern": {
           "shape": ""
          }
         },
         "name": "more_sports",
         "offsetgroup": "more_sports",
         "orientation": "v",
         "showlegend": true,
         "textposition": "auto",
         "type": "bar",
         "x": [
          "sports"
         ],
         "xaxis": "x",
         "y": [
          741
         ],
         "yaxis": "y"
        },
        {
         "alignmentgroup": "True",
         "hovertemplate": "Sub Category=autosnews<br>Category=%{x}<br>Values=%{y}<extra></extra>",
         "legendgroup": "autosnews",
         "marker": {
          "color": "#FFA15A",
          "pattern": {
           "shape": ""
          }
         },
         "name": "autosnews",
         "offsetgroup": "autosnews",
         "orientation": "v",
         "showlegend": true,
         "textposition": "auto",
         "type": "bar",
         "x": [
          "autos"
         ],
         "xaxis": "x",
         "y": [
          725
         ],
         "yaxis": "y"
        },
        {
         "alignmentgroup": "True",
         "hovertemplate": "Sub Category=travelarticle<br>Category=%{x}<br>Values=%{y}<extra></extra>",
         "legendgroup": "travelarticle",
         "marker": {
          "color": "#19d3f3",
          "pattern": {
           "shape": ""
          }
         },
         "name": "travelarticle",
         "offsetgroup": "travelarticle",
         "orientation": "v",
         "showlegend": true,
         "textposition": "auto",
         "type": "bar",
         "x": [
          "travel"
         ],
         "xaxis": "x",
         "y": [
          695
         ],
         "yaxis": "y"
        },
        {
         "alignmentgroup": "True",
         "hovertemplate": "Sub Category=lifestylebuzz<br>Category=%{x}<br>Values=%{y}<extra></extra>",
         "legendgroup": "lifestylebuzz",
         "marker": {
          "color": "#FF6692",
          "pattern": {
           "shape": ""
          }
         },
         "name": "lifestylebuzz",
         "offsetgroup": "lifestylebuzz",
         "orientation": "v",
         "showlegend": true,
         "textposition": "auto",
         "type": "bar",
         "x": [
          "lifestyle"
         ],
         "xaxis": "x",
         "y": [
          657
         ],
         "yaxis": "y"
        },
        {
         "alignmentgroup": "True",
         "hovertemplate": "Sub Category=finance-companies<br>Category=%{x}<br>Values=%{y}<extra></extra>",
         "legendgroup": "finance-companies",
         "marker": {
          "color": "#B6E880",
          "pattern": {
           "shape": ""
          }
         },
         "name": "finance-companies",
         "offsetgroup": "finance-companies",
         "orientation": "v",
         "showlegend": true,
         "textposition": "auto",
         "type": "bar",
         "x": [
          "finance"
         ],
         "xaxis": "x",
         "y": [
          504
         ],
         "yaxis": "y"
        },
        {
         "alignmentgroup": "True",
         "hovertemplate": "Sub Category=financenews<br>Category=%{x}<br>Values=%{y}<extra></extra>",
         "legendgroup": "financenews",
         "marker": {
          "color": "#FF97FF",
          "pattern": {
           "shape": ""
          }
         },
         "name": "financenews",
         "offsetgroup": "financenews",
         "orientation": "v",
         "showlegend": true,
         "textposition": "auto",
         "type": "bar",
         "x": [
          "finance"
         ],
         "xaxis": "x",
         "y": [
          486
         ],
         "yaxis": "y"
        },
        {
         "alignmentgroup": "True",
         "hovertemplate": "Sub Category=finance-real-estate<br>Category=%{x}<br>Values=%{y}<extra></extra>",
         "legendgroup": "finance-real-estate",
         "marker": {
          "color": "#FECB52",
          "pattern": {
           "shape": ""
          }
         },
         "name": "finance-real-estate",
         "offsetgroup": "finance-real-estate",
         "orientation": "v",
         "showlegend": true,
         "textposition": "auto",
         "type": "bar",
         "x": [
          "finance"
         ],
         "xaxis": "x",
         "y": [
          480
         ],
         "yaxis": "y"
        },
        {
         "alignmentgroup": "True",
         "hovertemplate": "Sub Category=basketball_ncaa<br>Category=%{x}<br>Values=%{y}<extra></extra>",
         "legendgroup": "basketball_ncaa",
         "marker": {
          "color": "#636efa",
          "pattern": {
           "shape": ""
          }
         },
         "name": "basketball_ncaa",
         "offsetgroup": "basketball_ncaa",
         "orientation": "v",
         "showlegend": true,
         "textposition": "auto",
         "type": "bar",
         "x": [
          "sports"
         ],
         "xaxis": "x",
         "y": [
          454
         ],
         "yaxis": "y"
        },
        {
         "alignmentgroup": "True",
         "hovertemplate": "Sub Category=health-news<br>Category=%{x}<br>Values=%{y}<extra></extra>",
         "legendgroup": "health-news",
         "marker": {
          "color": "#EF553B",
          "pattern": {
           "shape": ""
          }
         },
         "name": "health-news",
         "offsetgroup": "health-news",
         "orientation": "v",
         "showlegend": true,
         "textposition": "auto",
         "type": "bar",
         "x": [
          "health"
         ],
         "xaxis": "x",
         "y": [
          440
         ],
         "yaxis": "y"
        },
        {
         "alignmentgroup": "True",
         "hovertemplate": "Sub Category=recipes<br>Category=%{x}<br>Values=%{y}<extra></extra>",
         "legendgroup": "recipes",
         "marker": {
          "color": "#00cc96",
          "pattern": {
           "shape": ""
          }
         },
         "name": "recipes",
         "offsetgroup": "recipes",
         "orientation": "v",
         "showlegend": true,
         "textposition": "auto",
         "type": "bar",
         "x": [
          "foodanddrink",
          "health"
         ],
         "xaxis": "x",
         "y": [
          416,
          2
         ],
         "yaxis": "y"
        },
        {
         "alignmentgroup": "True",
         "hovertemplate": "Sub Category=medical<br>Category=%{x}<br>Values=%{y}<extra></extra>",
         "legendgroup": "medical",
         "marker": {
          "color": "#ab63fa",
          "pattern": {
           "shape": ""
          }
         },
         "name": "medical",
         "offsetgroup": "medical",
         "orientation": "v",
         "showlegend": true,
         "textposition": "auto",
         "type": "bar",
         "x": [
          "health"
         ],
         "xaxis": "x",
         "y": [
          403
         ],
         "yaxis": "y"
        },
        {
         "alignmentgroup": "True",
         "hovertemplate": "Sub Category=golf<br>Category=%{x}<br>Values=%{y}<extra></extra>",
         "legendgroup": "golf",
         "marker": {
          "color": "#FFA15A",
          "pattern": {
           "shape": ""
          }
         },
         "name": "golf",
         "offsetgroup": "golf",
         "orientation": "v",
         "showlegend": true,
         "textposition": "auto",
         "type": "bar",
         "x": [
          "sports"
         ],
         "xaxis": "x",
         "y": [
          397
         ],
         "yaxis": "y"
        },
        {
         "alignmentgroup": "True",
         "hovertemplate": "Sub Category=markets<br>Category=%{x}<br>Values=%{y}<extra></extra>",
         "legendgroup": "markets",
         "marker": {
          "color": "#19d3f3",
          "pattern": {
           "shape": ""
          }
         },
         "name": "markets",
         "offsetgroup": "markets",
         "orientation": "v",
         "showlegend": true,
         "textposition": "auto",
         "type": "bar",
         "x": [
          "finance"
         ],
         "xaxis": "x",
         "y": [
          376
         ],
         "yaxis": "y"
        },
        {
         "alignmentgroup": "True",
         "hovertemplate": "Sub Category=mma<br>Category=%{x}<br>Values=%{y}<extra></extra>",
         "legendgroup": "mma",
         "marker": {
          "color": "#FF6692",
          "pattern": {
           "shape": ""
          }
         },
         "name": "mma",
         "offsetgroup": "mma",
         "orientation": "v",
         "showlegend": true,
         "textposition": "auto",
         "type": "bar",
         "x": [
          "sports"
         ],
         "xaxis": "x",
         "y": [
          349
         ],
         "yaxis": "y"
        },
        {
         "alignmentgroup": "True",
         "hovertemplate": "Sub Category=tv-celebrity<br>Category=%{x}<br>Values=%{y}<extra></extra>",
         "legendgroup": "tv-celebrity",
         "marker": {
          "color": "#B6E880",
          "pattern": {
           "shape": ""
          }
         },
         "name": "tv-celebrity",
         "offsetgroup": "tv-celebrity",
         "orientation": "v",
         "showlegend": true,
         "textposition": "auto",
         "type": "bar",
         "x": [
          "tv"
         ],
         "xaxis": "x",
         "y": [
          336
         ],
         "yaxis": "y"
        },
        {
         "alignmentgroup": "True",
         "hovertemplate": "Sub Category=icehockey_nhl<br>Category=%{x}<br>Values=%{y}<extra></extra>",
         "legendgroup": "icehockey_nhl",
         "marker": {
          "color": "#FF97FF",
          "pattern": {
           "shape": ""
          }
         },
         "name": "icehockey_nhl",
         "offsetgroup": "icehockey_nhl",
         "orientation": "v",
         "showlegend": true,
         "textposition": "auto",
         "type": "bar",
         "x": [
          "sports"
         ],
         "xaxis": "x",
         "y": [
          334
         ],
         "yaxis": "y"
        },
        {
         "alignmentgroup": "True",
         "hovertemplate": "Sub Category=tvnews<br>Category=%{x}<br>Values=%{y}<extra></extra>",
         "legendgroup": "tvnews",
         "marker": {
          "color": "#FECB52",
          "pattern": {
           "shape": ""
          }
         },
         "name": "tvnews",
         "offsetgroup": "tvnews",
         "orientation": "v",
         "showlegend": true,
         "textposition": "auto",
         "type": "bar",
         "x": [
          "tv"
         ],
         "xaxis": "x",
         "y": [
          328
         ],
         "yaxis": "y"
        },
        {
         "alignmentgroup": "True",
         "hovertemplate": "Sub Category=newsopinion<br>Category=%{x}<br>Values=%{y}<extra></extra>",
         "legendgroup": "newsopinion",
         "marker": {
          "color": "#636efa",
          "pattern": {
           "shape": ""
          }
         },
         "name": "newsopinion",
         "offsetgroup": "newsopinion",
         "orientation": "v",
         "showlegend": true,
         "textposition": "auto",
         "type": "bar",
         "x": [
          "news"
         ],
         "xaxis": "x",
         "y": [
          305
         ],
         "yaxis": "y"
        },
        {
         "alignmentgroup": "True",
         "hovertemplate": "Sub Category=wellness<br>Category=%{x}<br>Values=%{y}<extra></extra>",
         "legendgroup": "wellness",
         "marker": {
          "color": "#EF553B",
          "pattern": {
           "shape": ""
          }
         },
         "name": "wellness",
         "offsetgroup": "wellness",
         "orientation": "v",
         "showlegend": true,
         "textposition": "auto",
         "type": "bar",
         "x": [
          "health"
         ],
         "xaxis": "x",
         "y": [
          298
         ],
         "yaxis": "y"
        },
        {
         "alignmentgroup": "True",
         "hovertemplate": "Sub Category=musicnews<br>Category=%{x}<br>Values=%{y}<extra></extra>",
         "legendgroup": "musicnews",
         "marker": {
          "color": "#00cc96",
          "pattern": {
           "shape": ""
          }
         },
         "name": "musicnews",
         "offsetgroup": "musicnews",
         "orientation": "v",
         "showlegend": true,
         "textposition": "auto",
         "type": "bar",
         "x": [
          "music"
         ],
         "xaxis": "x",
         "y": [
          293
         ],
         "yaxis": "y"
        },
        {
         "alignmentgroup": "True",
         "hovertemplate": "Sub Category=newsoffbeat<br>Category=%{x}<br>Values=%{y}<extra></extra>",
         "legendgroup": "newsoffbeat",
         "marker": {
          "color": "#ab63fa",
          "pattern": {
           "shape": ""
          }
         },
         "name": "newsoffbeat",
         "offsetgroup": "newsoffbeat",
         "orientation": "v",
         "showlegend": true,
         "textposition": "auto",
         "type": "bar",
         "x": [
          "news"
         ],
         "xaxis": "x",
         "y": [
          285
         ],
         "yaxis": "y"
        },
        {
         "alignmentgroup": "True",
         "hovertemplate": "Sub Category=foodnews<br>Category=%{x}<br>Values=%{y}<extra></extra>",
         "legendgroup": "foodnews",
         "marker": {
          "color": "#FFA15A",
          "pattern": {
           "shape": ""
          }
         },
         "name": "foodnews",
         "offsetgroup": "foodnews",
         "orientation": "v",
         "showlegend": true,
         "textposition": "auto",
         "type": "bar",
         "x": [
          "foodanddrink"
         ],
         "xaxis": "x",
         "y": [
          261
         ],
         "yaxis": "y"
        },
        {
         "alignmentgroup": "True",
         "hovertemplate": "Sub Category=tipsandtricks<br>Category=%{x}<br>Values=%{y}<extra></extra>",
         "legendgroup": "tipsandtricks",
         "marker": {
          "color": "#19d3f3",
          "pattern": {
           "shape": ""
          }
         },
         "name": "tipsandtricks",
         "offsetgroup": "tipsandtricks",
         "orientation": "v",
         "showlegend": true,
         "textposition": "auto",
         "type": "bar",
         "x": [
          "foodanddrink"
         ],
         "xaxis": "x",
         "y": [
          246
         ],
         "yaxis": "y"
        },
        {
         "alignmentgroup": "True",
         "hovertemplate": "Sub Category=animals<br>Category=%{x}<br>Values=%{y}<extra></extra>",
         "legendgroup": "animals",
         "marker": {
          "color": "#FF6692",
          "pattern": {
           "shape": ""
          }
         },
         "name": "animals",
         "offsetgroup": "animals",
         "orientation": "v",
         "showlegend": true,
         "textposition": "auto",
         "type": "bar",
         "x": [
          "video",
          "kids"
         ],
         "xaxis": "x",
         "y": [
          244,
          1
         ],
         "yaxis": "y"
        },
        {
         "alignmentgroup": "True",
         "hovertemplate": "Sub Category=racing<br>Category=%{x}<br>Values=%{y}<extra></extra>",
         "legendgroup": "racing",
         "marker": {
          "color": "#B6E880",
          "pattern": {
           "shape": ""
          }
         },
         "name": "racing",
         "offsetgroup": "racing",
         "orientation": "v",
         "showlegend": true,
         "textposition": "auto",
         "type": "bar",
         "x": [
          "sports"
         ],
         "xaxis": "x",
         "y": [
          240
         ],
         "yaxis": "y"
        },
        {
         "alignmentgroup": "True",
         "hovertemplate": "Sub Category=autosenthusiasts<br>Category=%{x}<br>Values=%{y}<extra></extra>",
         "legendgroup": "autosenthusiasts",
         "marker": {
          "color": "#FF97FF",
          "pattern": {
           "shape": ""
          }
         },
         "name": "autosenthusiasts",
         "offsetgroup": "autosenthusiasts",
         "orientation": "v",
         "showlegend": true,
         "textposition": "auto",
         "type": "bar",
         "x": [
          "autos"
         ],
         "xaxis": "x",
         "y": [
          239
         ],
         "yaxis": "y"
        },
        {
         "alignmentgroup": "True",
         "hovertemplate": "Sub Category=traveltripideas<br>Category=%{x}<br>Values=%{y}<extra></extra>",
         "legendgroup": "traveltripideas",
         "marker": {
          "color": "#FECB52",
          "pattern": {
           "shape": ""
          }
         },
         "name": "traveltripideas",
         "offsetgroup": "traveltripideas",
         "orientation": "v",
         "showlegend": true,
         "textposition": "auto",
         "type": "bar",
         "x": [
          "travel"
         ],
         "xaxis": "x",
         "y": [
          239
         ],
         "yaxis": "y"
        },
        {
         "alignmentgroup": "True",
         "hovertemplate": "Sub Category=lifestyleroyals<br>Category=%{x}<br>Values=%{y}<extra></extra>",
         "legendgroup": "lifestyleroyals",
         "marker": {
          "color": "#636efa",
          "pattern": {
           "shape": ""
          }
         },
         "name": "lifestyleroyals",
         "offsetgroup": "lifestyleroyals",
         "orientation": "v",
         "showlegend": true,
         "textposition": "auto",
         "type": "bar",
         "x": [
          "lifestyle"
         ],
         "xaxis": "x",
         "y": [
          232
         ],
         "yaxis": "y"
        },
        {
         "alignmentgroup": "True",
         "hovertemplate": "Sub Category=nutrition<br>Category=%{x}<br>Values=%{y}<extra></extra>",
         "legendgroup": "nutrition",
         "marker": {
          "color": "#EF553B",
          "pattern": {
           "shape": ""
          }
         },
         "name": "nutrition",
         "offsetgroup": "nutrition",
         "orientation": "v",
         "showlegend": true,
         "textposition": "auto",
         "type": "bar",
         "x": [
          "health"
         ],
         "xaxis": "x",
         "y": [
          223
         ],
         "yaxis": "y"
        },
        {
         "alignmentgroup": "True",
         "hovertemplate": "Sub Category=viral<br>Category=%{x}<br>Values=%{y}<extra></extra>",
         "legendgroup": "viral",
         "marker": {
          "color": "#00cc96",
          "pattern": {
           "shape": ""
          }
         },
         "name": "viral",
         "offsetgroup": "viral",
         "orientation": "v",
         "showlegend": true,
         "textposition": "auto",
         "type": "bar",
         "x": [
          "video"
         ],
         "xaxis": "x",
         "y": [
          212
         ],
         "yaxis": "y"
        },
        {
         "alignmentgroup": "True",
         "hovertemplate": "Sub Category=movies-celebrity<br>Category=%{x}<br>Values=%{y}<extra></extra>",
         "legendgroup": "movies-celebrity",
         "marker": {
          "color": "#ab63fa",
          "pattern": {
           "shape": ""
          }
         },
         "name": "movies-celebrity",
         "offsetgroup": "movies-celebrity",
         "orientation": "v",
         "showlegend": true,
         "textposition": "auto",
         "type": "bar",
         "x": [
          "movies"
         ],
         "xaxis": "x",
         "y": [
          197
         ],
         "yaxis": "y"
        },
        {
         "alignmentgroup": "True",
         "hovertemplate": "Sub Category=music-celebrity<br>Category=%{x}<br>Values=%{y}<extra></extra>",
         "legendgroup": "music-celebrity",
         "marker": {
          "color": "#FFA15A",
          "pattern": {
           "shape": ""
          }
         },
         "name": "music-celebrity",
         "offsetgroup": "music-celebrity",
         "orientation": "v",
         "showlegend": true,
         "textposition": "auto",
         "type": "bar",
         "x": [
          "music"
         ],
         "xaxis": "x",
         "y": [
          196
         ],
         "yaxis": "y"
        },
        {
         "alignmentgroup": "True",
         "hovertemplate": "Sub Category=movienews<br>Category=%{x}<br>Values=%{y}<extra></extra>",
         "legendgroup": "movienews",
         "marker": {
          "color": "#19d3f3",
          "pattern": {
           "shape": ""
          }
         },
         "name": "movienews",
         "offsetgroup": "movienews",
         "orientation": "v",
         "showlegend": true,
         "textposition": "auto",
         "type": "bar",
         "x": [
          "movies"
         ],
         "xaxis": "x",
         "y": [
          185
         ],
         "yaxis": "y"
        },
        {
         "alignmentgroup": "True",
         "hovertemplate": "Sub Category=newsgoodnews<br>Category=%{x}<br>Values=%{y}<extra></extra>",
         "legendgroup": "newsgoodnews",
         "marker": {
          "color": "#FF6692",
          "pattern": {
           "shape": ""
          }
         },
         "name": "newsgoodnews",
         "offsetgroup": "newsgoodnews",
         "orientation": "v",
         "showlegend": true,
         "textposition": "auto",
         "type": "bar",
         "x": [
          "news"
         ],
         "xaxis": "x",
         "y": [
          179
         ],
         "yaxis": "y"
        },
        {
         "alignmentgroup": "True",
         "hovertemplate": "Sub Category=lifestylehomeandgarden<br>Category=%{x}<br>Values=%{y}<extra></extra>",
         "legendgroup": "lifestylehomeandgarden",
         "marker": {
          "color": "#B6E880",
          "pattern": {
           "shape": ""
          }
         },
         "name": "lifestylehomeandgarden",
         "offsetgroup": "lifestylehomeandgarden",
         "orientation": "v",
         "showlegend": true,
         "textposition": "auto",
         "type": "bar",
         "x": [
          "lifestyle"
         ],
         "xaxis": "x",
         "y": [
          173
         ],
         "yaxis": "y"
        },
        {
         "alignmentgroup": "True",
         "hovertemplate": "Sub Category=restaurantsandnews<br>Category=%{x}<br>Values=%{y}<extra></extra>",
         "legendgroup": "restaurantsandnews",
         "marker": {
          "color": "#FF97FF",
          "pattern": {
           "shape": ""
          }
         },
         "name": "restaurantsandnews",
         "offsetgroup": "restaurantsandnews",
         "orientation": "v",
         "showlegend": true,
         "textposition": "auto",
         "type": "bar",
         "x": [
          "foodanddrink"
         ],
         "xaxis": "x",
         "y": [
          171
         ],
         "yaxis": "y"
        },
        {
         "alignmentgroup": "True",
         "hovertemplate": "Sub Category=celebrity<br>Category=%{x}<br>Values=%{y}<extra></extra>",
         "legendgroup": "celebrity",
         "marker": {
          "color": "#FECB52",
          "pattern": {
           "shape": ""
          }
         },
         "name": "celebrity",
         "offsetgroup": "celebrity",
         "orientation": "v",
         "showlegend": true,
         "textposition": "auto",
         "type": "bar",
         "x": [
          "entertainment"
         ],
         "xaxis": "x",
         "y": [
          142
         ],
         "yaxis": "y"
        },
        {
         "alignmentgroup": "True",
         "hovertemplate": "Sub Category=football_nfl_videos<br>Category=%{x}<br>Values=%{y}<extra></extra>",
         "legendgroup": "football_nfl_videos",
         "marker": {
          "color": "#636efa",
          "pattern": {
           "shape": ""
          }
         },
         "name": "football_nfl_videos",
         "offsetgroup": "football_nfl_videos",
         "orientation": "v",
         "showlegend": true,
         "textposition": "auto",
         "type": "bar",
         "x": [
          "sports"
         ],
         "xaxis": "x",
         "y": [
          137
         ],
         "yaxis": "y"
        },
        {
         "alignmentgroup": "True",
         "hovertemplate": "Sub Category=entertainment-celebrity<br>Category=%{x}<br>Values=%{y}<extra></extra>",
         "legendgroup": "entertainment-celebrity",
         "marker": {
          "color": "#EF553B",
          "pattern": {
           "shape": ""
          }
         },
         "name": "entertainment-celebrity",
         "offsetgroup": "entertainment-celebrity",
         "orientation": "v",
         "showlegend": true,
         "textposition": "auto",
         "type": "bar",
         "x": [
          "entertainment"
         ],
         "xaxis": "x",
         "y": [
          126
         ],
         "yaxis": "y"
        },
        {
         "alignmentgroup": "True",
         "hovertemplate": "Sub Category=weightloss<br>Category=%{x}<br>Values=%{y}<extra></extra>",
         "legendgroup": "weightloss",
         "marker": {
          "color": "#00cc96",
          "pattern": {
           "shape": ""
          }
         },
         "name": "weightloss",
         "offsetgroup": "weightloss",
         "orientation": "v",
         "showlegend": true,
         "textposition": "auto",
         "type": "bar",
         "x": [
          "health"
         ],
         "xaxis": "x",
         "y": [
          124
         ],
         "yaxis": "y"
        },
        {
         "alignmentgroup": "True",
         "hovertemplate": "Sub Category=science<br>Category=%{x}<br>Values=%{y}<extra></extra>",
         "legendgroup": "science",
         "marker": {
          "color": "#ab63fa",
          "pattern": {
           "shape": ""
          }
         },
         "name": "science",
         "offsetgroup": "science",
         "orientation": "v",
         "showlegend": true,
         "textposition": "auto",
         "type": "bar",
         "x": [
          "video"
         ],
         "xaxis": "x",
         "y": [
          123
         ],
         "yaxis": "y"
        },
        {
         "alignmentgroup": "True",
         "hovertemplate": "Sub Category=gaming<br>Category=%{x}<br>Values=%{y}<extra></extra>",
         "legendgroup": "gaming",
         "marker": {
          "color": "#FFA15A",
          "pattern": {
           "shape": ""
          }
         },
         "name": "gaming",
         "offsetgroup": "gaming",
         "orientation": "v",
         "showlegend": true,
         "textposition": "auto",
         "type": "bar",
         "x": [
          "entertainment"
         ],
         "xaxis": "x",
         "y": [
          117
         ],
         "yaxis": "y"
        },
        {
         "alignmentgroup": "True",
         "hovertemplate": "Sub Category=autosclassics<br>Category=%{x}<br>Values=%{y}<extra></extra>",
         "legendgroup": "autosclassics",
         "marker": {
          "color": "#19d3f3",
          "pattern": {
           "shape": ""
          }
         },
         "name": "autosclassics",
         "offsetgroup": "autosclassics",
         "orientation": "v",
         "showlegend": true,
         "textposition": "auto",
         "type": "bar",
         "x": [
          "autos"
         ],
         "xaxis": "x",
         "y": [
          115
         ],
         "yaxis": "y"
        },
        {
         "alignmentgroup": "True",
         "hovertemplate": "Sub Category=entertainment-books<br>Category=%{x}<br>Values=%{y}<extra></extra>",
         "legendgroup": "entertainment-books",
         "marker": {
          "color": "#FF6692",
          "pattern": {
           "shape": ""
          }
         },
         "name": "entertainment-books",
         "offsetgroup": "entertainment-books",
         "orientation": "v",
         "showlegend": true,
         "textposition": "auto",
         "type": "bar",
         "x": [
          "entertainment"
         ],
         "xaxis": "x",
         "y": [
          110
         ],
         "yaxis": "y"
        },
        {
         "alignmentgroup": "True",
         "hovertemplate": "Sub Category=personalfinance<br>Category=%{x}<br>Values=%{y}<extra></extra>",
         "legendgroup": "personalfinance",
         "marker": {
          "color": "#B6E880",
          "pattern": {
           "shape": ""
          }
         },
         "name": "personalfinance",
         "offsetgroup": "personalfinance",
         "orientation": "v",
         "showlegend": true,
         "textposition": "auto",
         "type": "bar",
         "x": [
          "finance",
          "news"
         ],
         "xaxis": "x",
         "y": [
          107,
          2
         ],
         "yaxis": "y"
        },
        {
         "alignmentgroup": "True",
         "hovertemplate": "Sub Category=lifestylefamily<br>Category=%{x}<br>Values=%{y}<extra></extra>",
         "legendgroup": "lifestylefamily",
         "marker": {
          "color": "#FF97FF",
          "pattern": {
           "shape": ""
          }
         },
         "name": "lifestylefamily",
         "offsetgroup": "lifestylefamily",
         "orientation": "v",
         "showlegend": true,
         "textposition": "auto",
         "type": "bar",
         "x": [
          "lifestyle"
         ],
         "xaxis": "x",
         "y": [
          105
         ],
         "yaxis": "y"
        },
        {
         "alignmentgroup": "True",
         "hovertemplate": "Sub Category=lifestyle<br>Category=%{x}<br>Values=%{y}<extra></extra>",
         "legendgroup": "lifestyle",
         "marker": {
          "color": "#FECB52",
          "pattern": {
           "shape": ""
          }
         },
         "name": "lifestyle",
         "offsetgroup": "lifestyle",
         "orientation": "v",
         "showlegend": true,
         "textposition": "auto",
         "type": "bar",
         "x": [
          "video",
          "lifestyle"
         ],
         "xaxis": "x",
         "y": [
          104,
          1
         ],
         "yaxis": "y"
        },
        {
         "alignmentgroup": "True",
         "hovertemplate": "Sub Category=fitness<br>Category=%{x}<br>Values=%{y}<extra></extra>",
         "legendgroup": "fitness",
         "marker": {
          "color": "#636efa",
          "pattern": {
           "shape": ""
          }
         },
         "name": "fitness",
         "offsetgroup": "fitness",
         "orientation": "v",
         "showlegend": true,
         "textposition": "auto",
         "type": "bar",
         "x": [
          "health"
         ],
         "xaxis": "x",
         "y": [
          102
         ],
         "yaxis": "y"
        },
        {
         "alignmentgroup": "True",
         "hovertemplate": "Sub Category=autosmotorcycles<br>Category=%{x}<br>Values=%{y}<extra></extra>",
         "legendgroup": "autosmotorcycles",
         "marker": {
          "color": "#EF553B",
          "pattern": {
           "shape": ""
          }
         },
         "name": "autosmotorcycles",
         "offsetgroup": "autosmotorcycles",
         "orientation": "v",
         "showlegend": true,
         "textposition": "auto",
         "type": "bar",
         "x": [
          "autos"
         ],
         "xaxis": "x",
         "y": [
          100
         ],
         "yaxis": "y"
        },
        {
         "alignmentgroup": "True",
         "hovertemplate": "Sub Category=soccer<br>Category=%{x}<br>Values=%{y}<extra></extra>",
         "legendgroup": "soccer",
         "marker": {
          "color": "#00cc96",
          "pattern": {
           "shape": ""
          }
         },
         "name": "soccer",
         "offsetgroup": "soccer",
         "orientation": "v",
         "showlegend": true,
         "textposition": "auto",
         "type": "bar",
         "x": [
          "sports"
         ],
         "xaxis": "x",
         "y": [
          100
         ],
         "yaxis": "y"
        },
        {
         "alignmentgroup": "True",
         "hovertemplate": "Sub Category=shop-holidays<br>Category=%{x}<br>Values=%{y}<extra></extra>",
         "legendgroup": "shop-holidays",
         "marker": {
          "color": "#ab63fa",
          "pattern": {
           "shape": ""
          }
         },
         "name": "shop-holidays",
         "offsetgroup": "shop-holidays",
         "orientation": "v",
         "showlegend": true,
         "textposition": "auto",
         "type": "bar",
         "x": [
          "lifestyle"
         ],
         "xaxis": "x",
         "y": [
          99
         ],
         "yaxis": "y"
        },
        {
         "alignmentgroup": "True",
         "hovertemplate": "Sub Category=finance-top-stocks<br>Category=%{x}<br>Values=%{y}<extra></extra>",
         "legendgroup": "finance-top-stocks",
         "marker": {
          "color": "#FFA15A",
          "pattern": {
           "shape": ""
          }
         },
         "name": "finance-top-stocks",
         "offsetgroup": "finance-top-stocks",
         "orientation": "v",
         "showlegend": true,
         "textposition": "auto",
         "type": "bar",
         "x": [
          "finance"
         ],
         "xaxis": "x",
         "y": [
          99
         ],
         "yaxis": "y"
        },
        {
         "alignmentgroup": "True",
         "hovertemplate": "Sub Category=tennis<br>Category=%{x}<br>Values=%{y}<extra></extra>",
         "legendgroup": "tennis",
         "marker": {
          "color": "#19d3f3",
          "pattern": {
           "shape": ""
          }
         },
         "name": "tennis",
         "offsetgroup": "tennis",
         "orientation": "v",
         "showlegend": true,
         "textposition": "auto",
         "type": "bar",
         "x": [
          "sports"
         ],
         "xaxis": "x",
         "y": [
          98
         ],
         "yaxis": "y"
        },
        {
         "alignmentgroup": "True",
         "hovertemplate": "Sub Category=lifestyledidyouknow<br>Category=%{x}<br>Values=%{y}<extra></extra>",
         "legendgroup": "lifestyledidyouknow",
         "marker": {
          "color": "#FF6692",
          "pattern": {
           "shape": ""
          }
         },
         "name": "lifestyledidyouknow",
         "offsetgroup": "lifestyledidyouknow",
         "orientation": "v",
         "showlegend": true,
         "textposition": "auto",
         "type": "bar",
         "x": [
          "lifestyle"
         ],
         "xaxis": "x",
         "y": [
          95
         ],
         "yaxis": "y"
        },
        {
         "alignmentgroup": "True",
         "hovertemplate": "Sub Category=videos<br>Category=%{x}<br>Values=%{y}<extra></extra>",
         "legendgroup": "videos",
         "marker": {
          "color": "#B6E880",
          "pattern": {
           "shape": ""
          }
         },
         "name": "videos",
         "offsetgroup": "videos",
         "orientation": "v",
         "showlegend": true,
         "textposition": "auto",
         "type": "bar",
         "x": [
          "foodanddrink"
         ],
         "xaxis": "x",
         "y": [
          87
         ],
         "yaxis": "y"
        },
        {
         "alignmentgroup": "True",
         "hovertemplate": "Sub Category=tv-gallery<br>Category=%{x}<br>Values=%{y}<extra></extra>",
         "legendgroup": "tv-gallery",
         "marker": {
          "color": "#FF97FF",
          "pattern": {
           "shape": ""
          }
         },
         "name": "tv-gallery",
         "offsetgroup": "tv-gallery",
         "orientation": "v",
         "showlegend": true,
         "textposition": "auto",
         "type": "bar",
         "x": [
          "tv"
         ],
         "xaxis": "x",
         "y": [
          81
         ],
         "yaxis": "y"
        },
        {
         "alignmentgroup": "True",
         "hovertemplate": "Sub Category=popculture<br>Category=%{x}<br>Values=%{y}<extra></extra>",
         "legendgroup": "popculture",
         "marker": {
          "color": "#FECB52",
          "pattern": {
           "shape": ""
          }
         },
         "name": "popculture",
         "offsetgroup": "popculture",
         "orientation": "v",
         "showlegend": true,
         "textposition": "auto",
         "type": "bar",
         "x": [
          "video"
         ],
         "xaxis": "x",
         "y": [
          79
         ],
         "yaxis": "y"
        },
        {
         "alignmentgroup": "True",
         "hovertemplate": "Sub Category=voices<br>Category=%{x}<br>Values=%{y}<extra></extra>",
         "legendgroup": "voices",
         "marker": {
          "color": "#636efa",
          "pattern": {
           "shape": ""
          }
         },
         "name": "voices",
         "offsetgroup": "voices",
         "orientation": "v",
         "showlegend": true,
         "textposition": "auto",
         "type": "bar",
         "x": [
          "lifestyle",
          "health",
          "travel"
         ],
         "xaxis": "x",
         "y": [
          76,
          49,
          6
         ],
         "yaxis": "y"
        },
        {
         "alignmentgroup": "True",
         "hovertemplate": "Sub Category=movievideo<br>Category=%{x}<br>Values=%{y}<extra></extra>",
         "legendgroup": "movievideo",
         "marker": {
          "color": "#EF553B",
          "pattern": {
           "shape": ""
          }
         },
         "name": "movievideo",
         "offsetgroup": "movievideo",
         "orientation": "v",
         "showlegend": true,
         "textposition": "auto",
         "type": "bar",
         "x": [
          "movies"
         ],
         "xaxis": "x",
         "y": [
          73
         ],
         "yaxis": "y"
        },
        {
         "alignmentgroup": "True",
         "hovertemplate": "Sub Category=finance-video<br>Category=%{x}<br>Values=%{y}<extra></extra>",
         "legendgroup": "finance-video",
         "marker": {
          "color": "#00cc96",
          "pattern": {
           "shape": ""
          }
         },
         "name": "finance-video",
         "offsetgroup": "finance-video",
         "orientation": "v",
         "showlegend": true,
         "textposition": "auto",
         "type": "bar",
         "x": [
          "finance"
         ],
         "xaxis": "x",
         "y": [
          73
         ],
         "yaxis": "y"
        },
        {
         "alignmentgroup": "True",
         "hovertemplate": "Sub Category=finance-retirement<br>Category=%{x}<br>Values=%{y}<extra></extra>",
         "legendgroup": "finance-retirement",
         "marker": {
          "color": "#ab63fa",
          "pattern": {
           "shape": ""
          }
         },
         "name": "finance-retirement",
         "offsetgroup": "finance-retirement",
         "orientation": "v",
         "showlegend": true,
         "textposition": "auto",
         "type": "bar",
         "x": [
          "finance"
         ],
         "xaxis": "x",
         "y": [
          72
         ],
         "yaxis": "y"
        },
        {
         "alignmentgroup": "True",
         "hovertemplate": "Sub Category=finance-career-education<br>Category=%{x}<br>Values=%{y}<extra></extra>",
         "legendgroup": "finance-career-education",
         "marker": {
          "color": "#FFA15A",
          "pattern": {
           "shape": ""
          }
         },
         "name": "finance-career-education",
         "offsetgroup": "finance-career-education",
         "orientation": "v",
         "showlegend": true,
         "textposition": "auto",
         "type": "bar",
         "x": [
          "finance"
         ],
         "xaxis": "x",
         "y": [
          72
         ],
         "yaxis": "y"
        },
        {
         "alignmentgroup": "True",
         "hovertemplate": "Sub Category=traveltips<br>Category=%{x}<br>Values=%{y}<extra></extra>",
         "legendgroup": "traveltips",
         "marker": {
          "color": "#19d3f3",
          "pattern": {
           "shape": ""
          }
         },
         "name": "traveltips",
         "offsetgroup": "traveltips",
         "orientation": "v",
         "showlegend": true,
         "textposition": "auto",
         "type": "bar",
         "x": [
          "travel"
         ],
         "xaxis": "x",
         "y": [
          71
         ],
         "yaxis": "y"
        },
        {
         "alignmentgroup": "True",
         "hovertemplate": "Sub Category=lifestylepets<br>Category=%{x}<br>Values=%{y}<extra></extra>",
         "legendgroup": "lifestylepets",
         "marker": {
          "color": "#FF6692",
          "pattern": {
           "shape": ""
          }
         },
         "name": "lifestylepets",
         "offsetgroup": "lifestylepets",
         "orientation": "v",
         "showlegend": true,
         "textposition": "auto",
         "type": "bar",
         "x": [
          "lifestyle"
         ],
         "xaxis": "x",
         "y": [
          67
         ],
         "yaxis": "y"
        },
        {
         "alignmentgroup": "True",
         "hovertemplate": "Sub Category=lifestylepetsanimals<br>Category=%{x}<br>Values=%{y}<extra></extra>",
         "legendgroup": "lifestylepetsanimals",
         "marker": {
          "color": "#B6E880",
          "pattern": {
           "shape": ""
          }
         },
         "name": "lifestylepetsanimals",
         "offsetgroup": "lifestylepetsanimals",
         "orientation": "v",
         "showlegend": true,
         "textposition": "auto",
         "type": "bar",
         "x": [
          "lifestyle"
         ],
         "xaxis": "x",
         "y": [
          66
         ],
         "yaxis": "y"
        },
        {
         "alignmentgroup": "True",
         "hovertemplate": "Sub Category=elections-2020-us<br>Category=%{x}<br>Values=%{y}<extra></extra>",
         "legendgroup": "elections-2020-us",
         "marker": {
          "color": "#FF97FF",
          "pattern": {
           "shape": ""
          }
         },
         "name": "elections-2020-us",
         "offsetgroup": "elections-2020-us",
         "orientation": "v",
         "showlegend": true,
         "textposition": "auto",
         "type": "bar",
         "x": [
          "news"
         ],
         "xaxis": "x",
         "y": [
          66
         ],
         "yaxis": "y"
        },
        {
         "alignmentgroup": "True",
         "hovertemplate": "Sub Category=movies-gallery<br>Category=%{x}<br>Values=%{y}<extra></extra>",
         "legendgroup": "movies-gallery",
         "marker": {
          "color": "#FECB52",
          "pattern": {
           "shape": ""
          }
         },
         "name": "movies-gallery",
         "offsetgroup": "movies-gallery",
         "orientation": "v",
         "showlegend": true,
         "textposition": "auto",
         "type": "bar",
         "x": [
          "movies"
         ],
         "xaxis": "x",
         "y": [
          65
         ],
         "yaxis": "y"
        },
        {
         "alignmentgroup": "True",
         "hovertemplate": "Sub Category=finance-savemoney<br>Category=%{x}<br>Values=%{y}<extra></extra>",
         "legendgroup": "finance-savemoney",
         "marker": {
          "color": "#636efa",
          "pattern": {
           "shape": ""
          }
         },
         "name": "finance-savemoney",
         "offsetgroup": "finance-savemoney",
         "orientation": "v",
         "showlegend": true,
         "textposition": "auto",
         "type": "bar",
         "x": [
          "finance"
         ],
         "xaxis": "x",
         "y": [
          65
         ],
         "yaxis": "y"
        },
        {
         "alignmentgroup": "True",
         "hovertemplate": "Sub Category=beverages<br>Category=%{x}<br>Values=%{y}<extra></extra>",
         "legendgroup": "beverages",
         "marker": {
          "color": "#EF553B",
          "pattern": {
           "shape": ""
          }
         },
         "name": "beverages",
         "offsetgroup": "beverages",
         "orientation": "v",
         "showlegend": true,
         "textposition": "auto",
         "type": "bar",
         "x": [
          "foodanddrink"
         ],
         "xaxis": "x",
         "y": [
          64
         ],
         "yaxis": "y"
        },
        {
         "alignmentgroup": "True",
         "hovertemplate": "Sub Category=autossports<br>Category=%{x}<br>Values=%{y}<extra></extra>",
         "legendgroup": "autossports",
         "marker": {
          "color": "#00cc96",
          "pattern": {
           "shape": ""
          }
         },
         "name": "autossports",
         "offsetgroup": "autossports",
         "orientation": "v",
         "showlegend": true,
         "textposition": "auto",
         "type": "bar",
         "x": [
          "autos"
         ],
         "xaxis": "x",
         "y": [
          63
         ],
         "yaxis": "y"
        },
        {
         "alignmentgroup": "True",
         "hovertemplate": "Sub Category=finance-saving-investing<br>Category=%{x}<br>Values=%{y}<extra></extra>",
         "legendgroup": "finance-saving-investing",
         "marker": {
          "color": "#ab63fa",
          "pattern": {
           "shape": ""
          }
         },
         "name": "finance-saving-investing",
         "offsetgroup": "finance-saving-investing",
         "orientation": "v",
         "showlegend": true,
         "textposition": "auto",
         "type": "bar",
         "x": [
          "finance"
         ],
         "xaxis": "x",
         "y": [
          63
         ],
         "yaxis": "y"
        },
        {
         "alignmentgroup": "True",
         "hovertemplate": "Sub Category=autossuvs<br>Category=%{x}<br>Values=%{y}<extra></extra>",
         "legendgroup": "autossuvs",
         "marker": {
          "color": "#FFA15A",
          "pattern": {
           "shape": ""
          }
         },
         "name": "autossuvs",
         "offsetgroup": "autossuvs",
         "orientation": "v",
         "showlegend": true,
         "textposition": "auto",
         "type": "bar",
         "x": [
          "autos"
         ],
         "xaxis": "x",
         "y": [
          61
         ],
         "yaxis": "y"
        },
        {
         "alignmentgroup": "True",
         "hovertemplate": "Sub Category=peopleandplaces<br>Category=%{x}<br>Values=%{y}<extra></extra>",
         "legendgroup": "peopleandplaces",
         "marker": {
          "color": "#19d3f3",
          "pattern": {
           "shape": ""
          }
         },
         "name": "peopleandplaces",
         "offsetgroup": "peopleandplaces",
         "orientation": "v",
         "showlegend": true,
         "textposition": "auto",
         "type": "bar",
         "x": [
          "video"
         ],
         "xaxis": "x",
         "y": [
          54
         ],
         "yaxis": "y"
        },
        {
         "alignmentgroup": "True",
         "hovertemplate": "Sub Category=lifestylehoroscope<br>Category=%{x}<br>Values=%{y}<extra></extra>",
         "legendgroup": "lifestylehoroscope",
         "marker": {
          "color": "#FF6692",
          "pattern": {
           "shape": ""
          }
         },
         "name": "lifestylehoroscope",
         "offsetgroup": "lifestylehoroscope",
         "orientation": "v",
         "showlegend": true,
         "textposition": "auto",
         "type": "bar",
         "x": [
          "lifestyle"
         ],
         "xaxis": "x",
         "y": [
          53
         ],
         "yaxis": "y"
        },
        {
         "alignmentgroup": "True",
         "hovertemplate": "Sub Category=music-gallery<br>Category=%{x}<br>Values=%{y}<extra></extra>",
         "legendgroup": "music-gallery",
         "marker": {
          "color": "#B6E880",
          "pattern": {
           "shape": ""
          }
         },
         "name": "music-gallery",
         "offsetgroup": "music-gallery",
         "orientation": "v",
         "showlegend": true,
         "textposition": "auto",
         "type": "bar",
         "x": [
          "music"
         ],
         "xaxis": "x",
         "y": [
          52
         ],
         "yaxis": "y"
        },
        {
         "alignmentgroup": "True",
         "hovertemplate": "Sub Category=lifestylecelebstyle<br>Category=%{x}<br>Values=%{y}<extra></extra>",
         "legendgroup": "lifestylecelebstyle",
         "marker": {
          "color": "#FF97FF",
          "pattern": {
           "shape": ""
          }
         },
         "name": "lifestylecelebstyle",
         "offsetgroup": "lifestylecelebstyle",
         "orientation": "v",
         "showlegend": true,
         "textposition": "auto",
         "type": "bar",
         "x": [
          "lifestyle"
         ],
         "xaxis": "x",
         "y": [
          50
         ],
         "yaxis": "y"
        },
        {
         "alignmentgroup": "True",
         "hovertemplate": "Sub Category=newsbusiness<br>Category=%{x}<br>Values=%{y}<extra></extra>",
         "legendgroup": "newsbusiness",
         "marker": {
          "color": "#FECB52",
          "pattern": {
           "shape": ""
          }
         },
         "name": "newsbusiness",
         "offsetgroup": "newsbusiness",
         "orientation": "v",
         "showlegend": true,
         "textposition": "auto",
         "type": "bar",
         "x": [
          "news"
         ],
         "xaxis": "x",
         "y": [
          49
         ],
         "yaxis": "y"
        },
        {
         "alignmentgroup": "True",
         "hovertemplate": "Sub Category=video<br>Category=%{x}<br>Values=%{y}<extra></extra>",
         "legendgroup": "video",
         "marker": {
          "color": "#636efa",
          "pattern": {
           "shape": ""
          }
         },
         "name": "video",
         "offsetgroup": "video",
         "orientation": "v",
         "showlegend": true,
         "textposition": "auto",
         "type": "bar",
         "x": [
          "travel",
          "entertainment",
          "health",
          "kids"
         ],
         "xaxis": "x",
         "y": [
          48,
          28,
          5,
          5
         ],
         "yaxis": "y"
        },
        {
         "alignmentgroup": "True",
         "hovertemplate": "Sub Category=lifestylesmartliving<br>Category=%{x}<br>Values=%{y}<extra></extra>",
         "legendgroup": "lifestylesmartliving",
         "marker": {
          "color": "#EF553B",
          "pattern": {
           "shape": ""
          }
         },
         "name": "lifestylesmartliving",
         "offsetgroup": "lifestylesmartliving",
         "orientation": "v",
         "showlegend": true,
         "textposition": "auto",
         "type": "bar",
         "x": [
          "lifestyle"
         ],
         "xaxis": "x",
         "y": [
          46
         ],
         "yaxis": "y"
        },
        {
         "alignmentgroup": "True",
         "hovertemplate": "Sub Category=factcheck<br>Category=%{x}<br>Values=%{y}<extra></extra>",
         "legendgroup": "factcheck",
         "marker": {
          "color": "#00cc96",
          "pattern": {
           "shape": ""
          }
         },
         "name": "factcheck",
         "offsetgroup": "factcheck",
         "orientation": "v",
         "showlegend": true,
         "textposition": "auto",
         "type": "bar",
         "x": [
          "news"
         ],
         "xaxis": "x",
         "y": [
          41
         ],
         "yaxis": "y"
        },
        {
         "alignmentgroup": "True",
         "hovertemplate": "Sub Category=tvvideos<br>Category=%{x}<br>Values=%{y}<extra></extra>",
         "legendgroup": "tvvideos",
         "marker": {
          "color": "#ab63fa",
          "pattern": {
           "shape": ""
          }
         },
         "name": "tvvideos",
         "offsetgroup": "tvvideos",
         "orientation": "v",
         "showlegend": true,
         "textposition": "auto",
         "type": "bar",
         "x": [
          "tv"
         ],
         "xaxis": "x",
         "y": [
          41
         ],
         "yaxis": "y"
        },
        {
         "alignmentgroup": "True",
         "hovertemplate": "Sub Category=quickandeasy<br>Category=%{x}<br>Values=%{y}<extra></extra>",
         "legendgroup": "quickandeasy",
         "marker": {
          "color": "#FFA15A",
          "pattern": {
           "shape": ""
          }
         },
         "name": "quickandeasy",
         "offsetgroup": "quickandeasy",
         "orientation": "v",
         "showlegend": true,
         "textposition": "auto",
         "type": "bar",
         "x": [
          "foodanddrink"
         ],
         "xaxis": "x",
         "y": [
          39
         ],
         "yaxis": "y"
        },
        {
         "alignmentgroup": "True",
         "hovertemplate": "Sub Category=baseball_mlb_videos<br>Category=%{x}<br>Values=%{y}<extra></extra>",
         "legendgroup": "baseball_mlb_videos",
         "marker": {
          "color": "#19d3f3",
          "pattern": {
           "shape": ""
          }
         },
         "name": "baseball_mlb_videos",
         "offsetgroup": "baseball_mlb_videos",
         "orientation": "v",
         "showlegend": true,
         "textposition": "auto",
         "type": "bar",
         "x": [
          "sports"
         ],
         "xaxis": "x",
         "y": [
          37
         ],
         "yaxis": "y"
        },
        {
         "alignmentgroup": "True",
         "hovertemplate": "Sub Category=finance-taxes<br>Category=%{x}<br>Values=%{y}<extra></extra>",
         "legendgroup": "finance-taxes",
         "marker": {
          "color": "#FF6692",
          "pattern": {
           "shape": ""
          }
         },
         "name": "finance-taxes",
         "offsetgroup": "finance-taxes",
         "orientation": "v",
         "showlegend": true,
         "textposition": "auto",
         "type": "bar",
         "x": [
          "finance"
         ],
         "xaxis": "x",
         "y": [
          35
         ],
         "yaxis": "y"
        },
        {
         "alignmentgroup": "True",
         "hovertemplate": "Sub Category=football_ncaa_videos<br>Category=%{x}<br>Values=%{y}<extra></extra>",
         "legendgroup": "football_ncaa_videos",
         "marker": {
          "color": "#B6E880",
          "pattern": {
           "shape": ""
          }
         },
         "name": "football_ncaa_videos",
         "offsetgroup": "football_ncaa_videos",
         "orientation": "v",
         "showlegend": true,
         "textposition": "auto",
         "type": "bar",
         "x": [
          "sports"
         ],
         "xaxis": "x",
         "y": [
          33
         ],
         "yaxis": "y"
        },
        {
         "alignmentgroup": "True",
         "hovertemplate": "Sub Category=autostrucks<br>Category=%{x}<br>Values=%{y}<extra></extra>",
         "legendgroup": "autostrucks",
         "marker": {
          "color": "#FF97FF",
          "pattern": {
           "shape": ""
          }
         },
         "name": "autostrucks",
         "offsetgroup": "autostrucks",
         "orientation": "v",
         "showlegend": true,
         "textposition": "auto",
         "type": "bar",
         "x": [
          "autos"
         ],
         "xaxis": "x",
         "y": [
          31
         ],
         "yaxis": "y"
        },
        {
         "alignmentgroup": "True",
         "hovertemplate": "Sub Category=healthnews<br>Category=%{x}<br>Values=%{y}<extra></extra>",
         "legendgroup": "healthnews",
         "marker": {
          "color": "#FECB52",
          "pattern": {
           "shape": ""
          }
         },
         "name": "healthnews",
         "offsetgroup": "healthnews",
         "orientation": "v",
         "showlegend": true,
         "textposition": "auto",
         "type": "bar",
         "x": [
          "health"
         ],
         "xaxis": "x",
         "y": [
          30
         ],
         "yaxis": "y"
        },
        {
         "alignmentgroup": "True",
         "hovertemplate": "Sub Category=lifestylerelationships<br>Category=%{x}<br>Values=%{y}<extra></extra>",
         "legendgroup": "lifestylerelationships",
         "marker": {
          "color": "#636efa",
          "pattern": {
           "shape": ""
          }
         },
         "name": "lifestylerelationships",
         "offsetgroup": "lifestylerelationships",
         "orientation": "v",
         "showlegend": true,
         "textposition": "auto",
         "type": "bar",
         "x": [
          "lifestyle"
         ],
         "xaxis": "x",
         "y": [
          30
         ],
         "yaxis": "y"
        },
        {
         "alignmentgroup": "True",
         "hovertemplate": "Sub Category=shop-all<br>Category=%{x}<br>Values=%{y}<extra></extra>",
         "legendgroup": "shop-all",
         "marker": {
          "color": "#EF553B",
          "pattern": {
           "shape": ""
          }
         },
         "name": "shop-all",
         "offsetgroup": "shop-all",
         "orientation": "v",
         "showlegend": true,
         "textposition": "auto",
         "type": "bar",
         "x": [
          "lifestyle"
         ],
         "xaxis": "x",
         "y": [
          29
         ],
         "yaxis": "y"
        },
        {
         "alignmentgroup": "True",
         "hovertemplate": "Sub Category=outdoors<br>Category=%{x}<br>Values=%{y}<extra></extra>",
         "legendgroup": "outdoors",
         "marker": {
          "color": "#00cc96",
          "pattern": {
           "shape": ""
          }
         },
         "name": "outdoors",
         "offsetgroup": "outdoors",
         "orientation": "v",
         "showlegend": true,
         "textposition": "auto",
         "type": "bar",
         "x": [
          "sports"
         ],
         "xaxis": "x",
         "y": [
          29
         ],
         "yaxis": "y"
        },
        {
         "alignmentgroup": "True",
         "hovertemplate": "Sub Category=lifestylefamilyandrelationships<br>Category=%{x}<br>Values=%{y}<extra></extra>",
         "legendgroup": "lifestylefamilyandrelationships",
         "marker": {
          "color": "#ab63fa",
          "pattern": {
           "shape": ""
          }
         },
         "name": "lifestylefamilyandrelationships",
         "offsetgroup": "lifestylefamilyandrelationships",
         "orientation": "v",
         "showlegend": true,
         "textposition": "auto",
         "type": "bar",
         "x": [
          "lifestyle"
         ],
         "xaxis": "x",
         "y": [
          29
         ],
         "yaxis": "y"
        },
        {
         "alignmentgroup": "True",
         "hovertemplate": "Sub Category=cma-awards<br>Category=%{x}<br>Values=%{y}<extra></extra>",
         "legendgroup": "cma-awards",
         "marker": {
          "color": "#FFA15A",
          "pattern": {
           "shape": ""
          }
         },
         "name": "cma-awards",
         "offsetgroup": "cma-awards",
         "orientation": "v",
         "showlegend": true,
         "textposition": "auto",
         "type": "bar",
         "x": [
          "music"
         ],
         "xaxis": "x",
         "y": [
          28
         ],
         "yaxis": "y"
        },
        {
         "alignmentgroup": "True",
         "hovertemplate": "Sub Category=lifestylecareer<br>Category=%{x}<br>Values=%{y}<extra></extra>",
         "legendgroup": "lifestylecareer",
         "marker": {
          "color": "#19d3f3",
          "pattern": {
           "shape": ""
          }
         },
         "name": "lifestylecareer",
         "offsetgroup": "lifestylecareer",
         "orientation": "v",
         "showlegend": true,
         "textposition": "auto",
         "type": "bar",
         "x": [
          "lifestyle"
         ],
         "xaxis": "x",
         "y": [
          28
         ],
         "yaxis": "y"
        },
        {
         "alignmentgroup": "True",
         "hovertemplate": "Sub Category=autosbuying<br>Category=%{x}<br>Values=%{y}<extra></extra>",
         "legendgroup": "autosbuying",
         "marker": {
          "color": "#FF6692",
          "pattern": {
           "shape": ""
          }
         },
         "name": "autosbuying",
         "offsetgroup": "autosbuying",
         "orientation": "v",
         "showlegend": true,
         "textposition": "auto",
         "type": "bar",
         "x": [
          "autos"
         ],
         "xaxis": "x",
         "y": [
          28
         ],
         "yaxis": "y"
        },
        {
         "alignmentgroup": "True",
         "hovertemplate": "Sub Category=lifestyleparenting<br>Category=%{x}<br>Values=%{y}<extra></extra>",
         "legendgroup": "lifestyleparenting",
         "marker": {
          "color": "#B6E880",
          "pattern": {
           "shape": ""
          }
         },
         "name": "lifestyleparenting",
         "offsetgroup": "lifestyleparenting",
         "orientation": "v",
         "showlegend": true,
         "textposition": "auto",
         "type": "bar",
         "x": [
          "lifestyle"
         ],
         "xaxis": "x",
         "y": [
          27
         ],
         "yaxis": "y"
        },
        {
         "alignmentgroup": "True",
         "hovertemplate": "Sub Category=lifestylemindandsoul<br>Category=%{x}<br>Values=%{y}<extra></extra>",
         "legendgroup": "lifestylemindandsoul",
         "marker": {
          "color": "#FF97FF",
          "pattern": {
           "shape": ""
          }
         },
         "name": "lifestylemindandsoul",
         "offsetgroup": "lifestylemindandsoul",
         "orientation": "v",
         "showlegend": true,
         "textposition": "auto",
         "type": "bar",
         "x": [
          "lifestyle"
         ],
         "xaxis": "x",
         "y": [
          27
         ],
         "yaxis": "y"
        },
        {
         "alignmentgroup": "True",
         "hovertemplate": "Sub Category=lifestylebeauty<br>Category=%{x}<br>Values=%{y}<extra></extra>",
         "legendgroup": "lifestylebeauty",
         "marker": {
          "color": "#FECB52",
          "pattern": {
           "shape": ""
          }
         },
         "name": "lifestylebeauty",
         "offsetgroup": "lifestylebeauty",
         "orientation": "v",
         "showlegend": true,
         "textposition": "auto",
         "type": "bar",
         "x": [
          "lifestyle"
         ],
         "xaxis": "x",
         "y": [
          27
         ],
         "yaxis": "y"
        },
        {
         "alignmentgroup": "True",
         "hovertemplate": "Sub Category=autosownership<br>Category=%{x}<br>Values=%{y}<extra></extra>",
         "legendgroup": "autosownership",
         "marker": {
          "color": "#636efa",
          "pattern": {
           "shape": ""
          }
         },
         "name": "autosownership",
         "offsetgroup": "autosownership",
         "orientation": "v",
         "showlegend": true,
         "textposition": "auto",
         "type": "bar",
         "x": [
          "autos"
         ],
         "xaxis": "x",
         "y": [
          26
         ],
         "yaxis": "y"
        },
        {
         "alignmentgroup": "True",
         "hovertemplate": "Sub Category=music-awards<br>Category=%{x}<br>Values=%{y}<extra></extra>",
         "legendgroup": "music-awards",
         "marker": {
          "color": "#EF553B",
          "pattern": {
           "shape": ""
          }
         },
         "name": "music-awards",
         "offsetgroup": "music-awards",
         "orientation": "v",
         "showlegend": true,
         "textposition": "auto",
         "type": "bar",
         "x": [
          "music"
         ],
         "xaxis": "x",
         "y": [
          25
         ],
         "yaxis": "y"
        },
        {
         "alignmentgroup": "True",
         "hovertemplate": "Sub Category=advice<br>Category=%{x}<br>Values=%{y}<extra></extra>",
         "legendgroup": "advice",
         "marker": {
          "color": "#00cc96",
          "pattern": {
           "shape": ""
          }
         },
         "name": "advice",
         "offsetgroup": "advice",
         "orientation": "v",
         "showlegend": true,
         "textposition": "auto",
         "type": "bar",
         "x": [
          "lifestyle"
         ],
         "xaxis": "x",
         "y": [
          23
         ],
         "yaxis": "y"
        },
        {
         "alignmentgroup": "True",
         "hovertemplate": "Sub Category=lifestylecleaningandorganizing<br>Category=%{x}<br>Values=%{y}<extra></extra>",
         "legendgroup": "lifestylecleaningandorganizing",
         "marker": {
          "color": "#ab63fa",
          "pattern": {
           "shape": ""
          }
         },
         "name": "lifestylecleaningandorganizing",
         "offsetgroup": "lifestylecleaningandorganizing",
         "orientation": "v",
         "showlegend": true,
         "textposition": "auto",
         "type": "bar",
         "x": [
          "lifestyle"
         ],
         "xaxis": "x",
         "y": [
          23
         ],
         "yaxis": "y"
        },
        {
         "alignmentgroup": "True",
         "hovertemplate": "Sub Category=autosluxury<br>Category=%{x}<br>Values=%{y}<extra></extra>",
         "legendgroup": "autosluxury",
         "marker": {
          "color": "#FFA15A",
          "pattern": {
           "shape": ""
          }
         },
         "name": "autosluxury",
         "offsetgroup": "autosluxury",
         "orientation": "v",
         "showlegend": true,
         "textposition": "auto",
         "type": "bar",
         "x": [
          "autos"
         ],
         "xaxis": "x",
         "y": [
          22
         ],
         "yaxis": "y"
        },
        {
         "alignmentgroup": "True",
         "hovertemplate": "Sub Category=newsphotos<br>Category=%{x}<br>Values=%{y}<extra></extra>",
         "legendgroup": "newsphotos",
         "marker": {
          "color": "#19d3f3",
          "pattern": {
           "shape": ""
          }
         },
         "name": "newsphotos",
         "offsetgroup": "newsphotos",
         "orientation": "v",
         "showlegend": true,
         "textposition": "auto",
         "type": "bar",
         "x": [
          "news"
         ],
         "xaxis": "x",
         "y": [
          20
         ],
         "yaxis": "y"
        },
        {
         "alignmentgroup": "True",
         "hovertemplate": "Sub Category=newsfactcheck<br>Category=%{x}<br>Values=%{y}<extra></extra>",
         "legendgroup": "newsfactcheck",
         "marker": {
          "color": "#FF6692",
          "pattern": {
           "shape": ""
          }
         },
         "name": "newsfactcheck",
         "offsetgroup": "newsfactcheck",
         "orientation": "v",
         "showlegend": true,
         "textposition": "auto",
         "type": "bar",
         "x": [
          "news"
         ],
         "xaxis": "x",
         "y": [
          18
         ],
         "yaxis": "y"
        },
        {
         "alignmentgroup": "True",
         "hovertemplate": "Sub Category=finance-credit<br>Category=%{x}<br>Values=%{y}<extra></extra>",
         "legendgroup": "finance-credit",
         "marker": {
          "color": "#B6E880",
          "pattern": {
           "shape": ""
          }
         },
         "name": "finance-credit",
         "offsetgroup": "finance-credit",
         "orientation": "v",
         "showlegend": true,
         "textposition": "auto",
         "type": "bar",
         "x": [
          "finance"
         ],
         "xaxis": "x",
         "y": [
          17
         ],
         "yaxis": "y"
        },
        {
         "alignmentgroup": "True",
         "hovertemplate": "Sub Category=musicvideos<br>Category=%{x}<br>Values=%{y}<extra></extra>",
         "legendgroup": "musicvideos",
         "marker": {
          "color": "#FF97FF",
          "pattern": {
           "shape": ""
          }
         },
         "name": "musicvideos",
         "offsetgroup": "musicvideos",
         "orientation": "v",
         "showlegend": true,
         "textposition": "auto",
         "type": "bar",
         "x": [
          "music"
         ],
         "xaxis": "x",
         "y": [
          17
         ],
         "yaxis": "y"
        },
        {
         "alignmentgroup": "True",
         "hovertemplate": "Sub Category=autossema<br>Category=%{x}<br>Values=%{y}<extra></extra>",
         "legendgroup": "autossema",
         "marker": {
          "color": "#FECB52",
          "pattern": {
           "shape": ""
          }
         },
         "name": "autossema",
         "offsetgroup": "autossema",
         "orientation": "v",
         "showlegend": true,
         "textposition": "auto",
         "type": "bar",
         "x": [
          "autos"
         ],
         "xaxis": "x",
         "y": [
          16
         ],
         "yaxis": "y"
        },
        {
         "alignmentgroup": "True",
         "hovertemplate": "Sub Category=autosresearch<br>Category=%{x}<br>Values=%{y}<extra></extra>",
         "legendgroup": "autosresearch",
         "marker": {
          "color": "#636efa",
          "pattern": {
           "shape": ""
          }
         },
         "name": "autosresearch",
         "offsetgroup": "autosresearch",
         "orientation": "v",
         "showlegend": true,
         "textposition": "auto",
         "type": "bar",
         "x": [
          "autos"
         ],
         "xaxis": "x",
         "y": [
          16
         ],
         "yaxis": "y"
        },
        {
         "alignmentgroup": "True",
         "hovertemplate": "Sub Category=lifestylevideo<br>Category=%{x}<br>Values=%{y}<extra></extra>",
         "legendgroup": "lifestylevideo",
         "marker": {
          "color": "#EF553B",
          "pattern": {
           "shape": ""
          }
         },
         "name": "lifestylevideo",
         "offsetgroup": "lifestylevideo",
         "orientation": "v",
         "showlegend": true,
         "textposition": "auto",
         "type": "bar",
         "x": [
          "lifestyle"
         ],
         "xaxis": "x",
         "y": [
          16
         ],
         "yaxis": "y"
        },
        {
         "alignmentgroup": "True",
         "hovertemplate": "Sub Category=humor<br>Category=%{x}<br>Values=%{y}<extra></extra>",
         "legendgroup": "humor",
         "marker": {
          "color": "#00cc96",
          "pattern": {
           "shape": ""
          }
         },
         "name": "humor",
         "offsetgroup": "humor",
         "orientation": "v",
         "showlegend": true,
         "textposition": "auto",
         "type": "bar",
         "x": [
          "tv",
          "entertainment",
          "music"
         ],
         "xaxis": "x",
         "y": [
          16,
          9,
          1
         ],
         "yaxis": "y"
        },
        {
         "alignmentgroup": "True",
         "hovertemplate": "Sub Category=finance-career<br>Category=%{x}<br>Values=%{y}<extra></extra>",
         "legendgroup": "finance-career",
         "marker": {
          "color": "#ab63fa",
          "pattern": {
           "shape": ""
          }
         },
         "name": "finance-career",
         "offsetgroup": "finance-career",
         "orientation": "v",
         "showlegend": true,
         "textposition": "auto",
         "type": "bar",
         "x": [
          "finance"
         ],
         "xaxis": "x",
         "y": [
          15
         ],
         "yaxis": "y"
        },
        {
         "alignmentgroup": "True",
         "hovertemplate": "Sub Category=lifestylediy<br>Category=%{x}<br>Values=%{y}<extra></extra>",
         "legendgroup": "lifestylediy",
         "marker": {
          "color": "#FFA15A",
          "pattern": {
           "shape": ""
          }
         },
         "name": "lifestylediy",
         "offsetgroup": "lifestylediy",
         "orientation": "v",
         "showlegend": true,
         "textposition": "auto",
         "type": "bar",
         "x": [
          "lifestyle"
         ],
         "xaxis": "x",
         "y": [
          14
         ],
         "yaxis": "y"
        },
        {
         "alignmentgroup": "True",
         "hovertemplate": "Sub Category=finance-technology<br>Category=%{x}<br>Values=%{y}<extra></extra>",
         "legendgroup": "finance-technology",
         "marker": {
          "color": "#19d3f3",
          "pattern": {
           "shape": ""
          }
         },
         "name": "finance-technology",
         "offsetgroup": "finance-technology",
         "orientation": "v",
         "showlegend": true,
         "textposition": "auto",
         "type": "bar",
         "x": [
          "finance"
         ],
         "xaxis": "x",
         "y": [
          14
         ],
         "yaxis": "y"
        },
        {
         "alignmentgroup": "True",
         "hovertemplate": "Sub Category=newsscience<br>Category=%{x}<br>Values=%{y}<extra></extra>",
         "legendgroup": "newsscience",
         "marker": {
          "color": "#FF6692",
          "pattern": {
           "shape": ""
          }
         },
         "name": "newsscience",
         "offsetgroup": "newsscience",
         "orientation": "v",
         "showlegend": true,
         "textposition": "auto",
         "type": "bar",
         "x": [
          "news"
         ],
         "xaxis": "x",
         "y": [
          14
         ],
         "yaxis": "y"
        },
        {
         "alignmentgroup": "True",
         "hovertemplate": "Sub Category=lifestylefashion<br>Category=%{x}<br>Values=%{y}<extra></extra>",
         "legendgroup": "lifestylefashion",
         "marker": {
          "color": "#B6E880",
          "pattern": {
           "shape": ""
          }
         },
         "name": "lifestylefashion",
         "offsetgroup": "lifestylefashion",
         "orientation": "v",
         "showlegend": true,
         "textposition": "auto",
         "type": "bar",
         "x": [
          "lifestyle"
         ],
         "xaxis": "x",
         "y": [
          14
         ],
         "yaxis": "y"
        },
        {
         "alignmentgroup": "True",
         "hovertemplate": "Sub Category=lifestylelovesex<br>Category=%{x}<br>Values=%{y}<extra></extra>",
         "legendgroup": "lifestylelovesex",
         "marker": {
          "color": "#FF97FF",
          "pattern": {
           "shape": ""
          }
         },
         "name": "lifestylelovesex",
         "offsetgroup": "lifestylelovesex",
         "orientation": "v",
         "showlegend": true,
         "textposition": "auto",
         "type": "bar",
         "x": [
          "lifestyle"
         ],
         "xaxis": "x",
         "y": [
          14
         ],
         "yaxis": "y"
        },
        {
         "alignmentgroup": "True",
         "hovertemplate": "Sub Category=tv-recaps<br>Category=%{x}<br>Values=%{y}<extra></extra>",
         "legendgroup": "tv-recaps",
         "marker": {
          "color": "#FECB52",
          "pattern": {
           "shape": ""
          }
         },
         "name": "tv-recaps",
         "offsetgroup": "tv-recaps",
         "orientation": "v",
         "showlegend": true,
         "textposition": "auto",
         "type": "bar",
         "x": [
          "tv"
         ],
         "xaxis": "x",
         "y": [
          14
         ],
         "yaxis": "y"
        },
        {
         "alignmentgroup": "True",
         "hovertemplate": "Sub Category=lifestyle-news-feature<br>Category=%{x}<br>Values=%{y}<extra></extra>",
         "legendgroup": "lifestyle-news-feature",
         "marker": {
          "color": "#636efa",
          "pattern": {
           "shape": ""
          }
         },
         "name": "lifestyle-news-feature",
         "offsetgroup": "lifestyle-news-feature",
         "orientation": "v",
         "showlegend": true,
         "textposition": "auto",
         "type": "bar",
         "x": [
          "lifestyle"
         ],
         "xaxis": "x",
         "y": [
          14
         ],
         "yaxis": "y"
        },
        {
         "alignmentgroup": "True",
         "hovertemplate": "Sub Category=finance-insurance<br>Category=%{x}<br>Values=%{y}<extra></extra>",
         "legendgroup": "finance-insurance",
         "marker": {
          "color": "#EF553B",
          "pattern": {
           "shape": ""
          }
         },
         "name": "finance-insurance",
         "offsetgroup": "finance-insurance",
         "orientation": "v",
         "showlegend": true,
         "textposition": "auto",
         "type": "bar",
         "x": [
          "finance"
         ],
         "xaxis": "x",
         "y": [
          14
         ],
         "yaxis": "y"
        },
        {
         "alignmentgroup": "True",
         "hovertemplate": "Sub Category=lifestyleweddings<br>Category=%{x}<br>Values=%{y}<extra></extra>",
         "legendgroup": "lifestyleweddings",
         "marker": {
          "color": "#00cc96",
          "pattern": {
           "shape": ""
          }
         },
         "name": "lifestyleweddings",
         "offsetgroup": "lifestyleweddings",
         "orientation": "v",
         "showlegend": true,
         "textposition": "auto",
         "type": "bar",
         "x": [
          "lifestyle"
         ],
         "xaxis": "x",
         "y": [
          14
         ],
         "yaxis": "y"
        },
        {
         "alignmentgroup": "True",
         "hovertemplate": "Sub Category=autosresearchguides<br>Category=%{x}<br>Values=%{y}<extra></extra>",
         "legendgroup": "autosresearchguides",
         "marker": {
          "color": "#ab63fa",
          "pattern": {
           "shape": ""
          }
         },
         "name": "autosresearchguides",
         "offsetgroup": "autosresearchguides",
         "orientation": "v",
         "showlegend": true,
         "textposition": "auto",
         "type": "bar",
         "x": [
          "autos"
         ],
         "xaxis": "x",
         "y": [
          14
         ],
         "yaxis": "y"
        },
        {
         "alignmentgroup": "True",
         "hovertemplate": "Sub Category=soccer_epl<br>Category=%{x}<br>Values=%{y}<extra></extra>",
         "legendgroup": "soccer_epl",
         "marker": {
          "color": "#FFA15A",
          "pattern": {
           "shape": ""
          }
         },
         "name": "soccer_epl",
         "offsetgroup": "soccer_epl",
         "orientation": "v",
         "showlegend": true,
         "textposition": "auto",
         "type": "bar",
         "x": [
          "sports"
         ],
         "xaxis": "x",
         "y": [
          13
         ],
         "yaxis": "y"
        },
        {
         "alignmentgroup": "True",
         "hovertemplate": "Sub Category=shop-apparel<br>Category=%{x}<br>Values=%{y}<extra></extra>",
         "legendgroup": "shop-apparel",
         "marker": {
          "color": "#19d3f3",
          "pattern": {
           "shape": ""
          }
         },
         "name": "shop-apparel",
         "offsetgroup": "shop-apparel",
         "orientation": "v",
         "showlegend": true,
         "textposition": "auto",
         "type": "bar",
         "x": [
          "lifestyle"
         ],
         "xaxis": "x",
         "y": [
          13
         ],
         "yaxis": "y"
        },
        {
         "alignmentgroup": "True",
         "hovertemplate": "Sub Category=finance-billstopay<br>Category=%{x}<br>Values=%{y}<extra></extra>",
         "legendgroup": "finance-billstopay",
         "marker": {
          "color": "#FF6692",
          "pattern": {
           "shape": ""
          }
         },
         "name": "finance-billstopay",
         "offsetgroup": "finance-billstopay",
         "orientation": "v",
         "showlegend": true,
         "textposition": "auto",
         "type": "bar",
         "x": [
          "finance"
         ],
         "xaxis": "x",
         "y": [
          12
         ],
         "yaxis": "y"
        },
        {
         "alignmentgroup": "True",
         "hovertemplate": "Sub Category=soccer_mls<br>Category=%{x}<br>Values=%{y}<extra></extra>",
         "legendgroup": "soccer_mls",
         "marker": {
          "color": "#B6E880",
          "pattern": {
           "shape": ""
          }
         },
         "name": "soccer_mls",
         "offsetgroup": "soccer_mls",
         "orientation": "v",
         "showlegend": true,
         "textposition": "auto",
         "type": "bar",
         "x": [
          "sports"
         ],
         "xaxis": "x",
         "y": [
          12
         ],
         "yaxis": "y"
        },
        {
         "alignmentgroup": "True",
         "hovertemplate": "Sub Category=finance-healthcare<br>Category=%{x}<br>Values=%{y}<extra></extra>",
         "legendgroup": "finance-healthcare",
         "marker": {
          "color": "#FF97FF",
          "pattern": {
           "shape": ""
          }
         },
         "name": "finance-healthcare",
         "offsetgroup": "finance-healthcare",
         "orientation": "v",
         "showlegend": true,
         "textposition": "auto",
         "type": "bar",
         "x": [
          "finance"
         ],
         "xaxis": "x",
         "y": [
          12
         ],
         "yaxis": "y"
        },
        {
         "alignmentgroup": "True",
         "hovertemplate": "Sub Category=finance-small-business<br>Category=%{x}<br>Values=%{y}<extra></extra>",
         "legendgroup": "finance-small-business",
         "marker": {
          "color": "#FECB52",
          "pattern": {
           "shape": ""
          }
         },
         "name": "finance-small-business",
         "offsetgroup": "finance-small-business",
         "orientation": "v",
         "showlegend": true,
         "textposition": "auto",
         "type": "bar",
         "x": [
          "finance"
         ],
         "xaxis": "x",
         "y": [
          12
         ],
         "yaxis": "y"
        },
        {
         "alignmentgroup": "True",
         "hovertemplate": "Sub Category=travel-points-rewards<br>Category=%{x}<br>Values=%{y}<extra></extra>",
         "legendgroup": "travel-points-rewards",
         "marker": {
          "color": "#636efa",
          "pattern": {
           "shape": ""
          }
         },
         "name": "travel-points-rewards",
         "offsetgroup": "travel-points-rewards",
         "orientation": "v",
         "showlegend": true,
         "textposition": "auto",
         "type": "bar",
         "x": [
          "travel"
         ],
         "xaxis": "x",
         "y": [
          11
         ],
         "yaxis": "y"
        },
        {
         "alignmentgroup": "True",
         "hovertemplate": "Sub Category=finance-education<br>Category=%{x}<br>Values=%{y}<extra></extra>",
         "legendgroup": "finance-education",
         "marker": {
          "color": "#EF553B",
          "pattern": {
           "shape": ""
          }
         },
         "name": "finance-education",
         "offsetgroup": "finance-education",
         "orientation": "v",
         "showlegend": true,
         "textposition": "auto",
         "type": "bar",
         "x": [
          "finance"
         ],
         "xaxis": "x",
         "y": [
          11
         ],
         "yaxis": "y"
        },
        {
         "alignmentgroup": "True",
         "hovertemplate": "Sub Category=lifestyledecor<br>Category=%{x}<br>Values=%{y}<extra></extra>",
         "legendgroup": "lifestyledecor",
         "marker": {
          "color": "#00cc96",
          "pattern": {
           "shape": ""
          }
         },
         "name": "lifestyledecor",
         "offsetgroup": "lifestyledecor",
         "orientation": "v",
         "showlegend": true,
         "textposition": "auto",
         "type": "bar",
         "x": [
          "lifestyle"
         ],
         "xaxis": "x",
         "y": [
          11
         ],
         "yaxis": "y"
        },
        {
         "alignmentgroup": "True",
         "hovertemplate": "Sub Category=movies-awards<br>Category=%{x}<br>Values=%{y}<extra></extra>",
         "legendgroup": "movies-awards",
         "marker": {
          "color": "#ab63fa",
          "pattern": {
           "shape": ""
          }
         },
         "name": "movies-awards",
         "offsetgroup": "movies-awards",
         "orientation": "v",
         "showlegend": true,
         "textposition": "auto",
         "type": "bar",
         "x": [
          "movies"
         ],
         "xaxis": "x",
         "y": [
          11
         ],
         "yaxis": "y"
        },
        {
         "alignmentgroup": "True",
         "hovertemplate": "Sub Category=boxing<br>Category=%{x}<br>Values=%{y}<extra></extra>",
         "legendgroup": "boxing",
         "marker": {
          "color": "#FFA15A",
          "pattern": {
           "shape": ""
          }
         },
         "name": "boxing",
         "offsetgroup": "boxing",
         "orientation": "v",
         "showlegend": true,
         "textposition": "auto",
         "type": "bar",
         "x": [
          "sports"
         ],
         "xaxis": "x",
         "y": [
          11
         ],
         "yaxis": "y"
        },
        {
         "alignmentgroup": "True",
         "hovertemplate": "Sub Category=lifestyleshopping<br>Category=%{x}<br>Values=%{y}<extra></extra>",
         "legendgroup": "lifestyleshopping",
         "marker": {
          "color": "#19d3f3",
          "pattern": {
           "shape": ""
          }
         },
         "name": "lifestyleshopping",
         "offsetgroup": "lifestyleshopping",
         "orientation": "v",
         "showlegend": true,
         "textposition": "auto",
         "type": "bar",
         "x": [
          "lifestyle"
         ],
         "xaxis": "x",
         "y": [
          11
         ],
         "yaxis": "y"
        },
        {
         "alignmentgroup": "True",
         "hovertemplate": "Sub Category=newsweather<br>Category=%{x}<br>Values=%{y}<extra></extra>",
         "legendgroup": "newsweather",
         "marker": {
          "color": "#FF6692",
          "pattern": {
           "shape": ""
          }
         },
         "name": "newsweather",
         "offsetgroup": "newsweather",
         "orientation": "v",
         "showlegend": true,
         "textposition": "auto",
         "type": "bar",
         "x": [
          "news"
         ],
         "xaxis": "x",
         "y": [
          10
         ],
         "yaxis": "y"
        },
        {
         "alignmentgroup": "True",
         "hovertemplate": "Sub Category=retirement<br>Category=%{x}<br>Values=%{y}<extra></extra>",
         "legendgroup": "retirement",
         "marker": {
          "color": "#B6E880",
          "pattern": {
           "shape": ""
          }
         },
         "name": "retirement",
         "offsetgroup": "retirement",
         "orientation": "v",
         "showlegend": true,
         "textposition": "auto",
         "type": "bar",
         "x": [
          "finance"
         ],
         "xaxis": "x",
         "y": [
          9
         ],
         "yaxis": "y"
        },
        {
         "alignmentgroup": "True",
         "hovertemplate": "Sub Category=basketball_ncaa_videos<br>Category=%{x}<br>Values=%{y}<extra></extra>",
         "legendgroup": "basketball_ncaa_videos",
         "marker": {
          "color": "#FF97FF",
          "pattern": {
           "shape": ""
          }
         },
         "name": "basketball_ncaa_videos",
         "offsetgroup": "basketball_ncaa_videos",
         "orientation": "v",
         "showlegend": true,
         "textposition": "auto",
         "type": "bar",
         "x": [
          "sports"
         ],
         "xaxis": "x",
         "y": [
          9
         ],
         "yaxis": "y"
        },
        {
         "alignmentgroup": "True",
         "hovertemplate": "Sub Category=awards<br>Category=%{x}<br>Values=%{y}<extra></extra>",
         "legendgroup": "awards",
         "marker": {
          "color": "#FECB52",
          "pattern": {
           "shape": ""
          }
         },
         "name": "awards",
         "offsetgroup": "awards",
         "orientation": "v",
         "showlegend": true,
         "textposition": "auto",
         "type": "bar",
         "x": [
          "entertainment"
         ],
         "xaxis": "x",
         "y": [
          9
         ],
         "yaxis": "y"
        },
        {
         "alignmentgroup": "True",
         "hovertemplate": "Sub Category=ads-latingrammys<br>Category=%{x}<br>Values=%{y}<extra></extra>",
         "legendgroup": "ads-latingrammys",
         "marker": {
          "color": "#636efa",
          "pattern": {
           "shape": ""
          }
         },
         "name": "ads-latingrammys",
         "offsetgroup": "ads-latingrammys",
         "orientation": "v",
         "showlegend": true,
         "textposition": "auto",
         "type": "bar",
         "x": [
          "music"
         ],
         "xaxis": "x",
         "y": [
          8
         ],
         "yaxis": "y"
        },
        {
         "alignmentgroup": "True",
         "hovertemplate": "Sub Category=causes<br>Category=%{x}<br>Values=%{y}<extra></extra>",
         "legendgroup": "causes",
         "marker": {
          "color": "#EF553B",
          "pattern": {
           "shape": ""
          }
         },
         "name": "causes",
         "offsetgroup": "causes",
         "orientation": "v",
         "showlegend": true,
         "textposition": "auto",
         "type": "bar",
         "x": [
          "health",
          "lifestyle",
          "news",
          "finance"
         ],
         "xaxis": "x",
         "y": [
          8,
          4,
          3,
          2
         ],
         "yaxis": "y"
        },
        {
         "alignmentgroup": "True",
         "hovertemplate": "Sub Category=basketball_nba_videos<br>Category=%{x}<br>Values=%{y}<extra></extra>",
         "legendgroup": "basketball_nba_videos",
         "marker": {
          "color": "#00cc96",
          "pattern": {
           "shape": ""
          }
         },
         "name": "basketball_nba_videos",
         "offsetgroup": "basketball_nba_videos",
         "orientation": "v",
         "showlegend": true,
         "textposition": "auto",
         "type": "bar",
         "x": [
          "sports"
         ],
         "xaxis": "x",
         "y": [
          8
         ],
         "yaxis": "y"
        },
        {
         "alignmentgroup": "True",
         "hovertemplate": "Sub Category=awardstyle<br>Category=%{x}<br>Values=%{y}<extra></extra>",
         "legendgroup": "awardstyle",
         "marker": {
          "color": "#ab63fa",
          "pattern": {
           "shape": ""
          }
         },
         "name": "awardstyle",
         "offsetgroup": "awardstyle",
         "orientation": "v",
         "showlegend": true,
         "textposition": "auto",
         "type": "bar",
         "x": [
          "lifestyle"
         ],
         "xaxis": "x",
         "y": [
          8
         ],
         "yaxis": "y"
        },
        {
         "alignmentgroup": "True",
         "hovertemplate": "Sub Category=causes-green-living<br>Category=%{x}<br>Values=%{y}<extra></extra>",
         "legendgroup": "causes-green-living",
         "marker": {
          "color": "#FFA15A",
          "pattern": {
           "shape": ""
          }
         },
         "name": "causes-green-living",
         "offsetgroup": "causes-green-living",
         "orientation": "v",
         "showlegend": true,
         "textposition": "auto",
         "type": "bar",
         "x": [
          "lifestyle"
         ],
         "xaxis": "x",
         "y": [
          8
         ],
         "yaxis": "y"
        },
        {
         "alignmentgroup": "True",
         "hovertemplate": "Sub Category=boxing-mma<br>Category=%{x}<br>Values=%{y}<extra></extra>",
         "legendgroup": "boxing-mma",
         "marker": {
          "color": "#19d3f3",
          "pattern": {
           "shape": ""
          }
         },
         "name": "boxing-mma",
         "offsetgroup": "boxing-mma",
         "orientation": "v",
         "showlegend": true,
         "textposition": "auto",
         "type": "bar",
         "x": [
          "sports"
         ],
         "xaxis": "x",
         "y": [
          7
         ],
         "yaxis": "y"
        },
        {
         "alignmentgroup": "True",
         "hovertemplate": "Sub Category=pregnancyparenting<br>Category=%{x}<br>Values=%{y}<extra></extra>",
         "legendgroup": "pregnancyparenting",
         "marker": {
          "color": "#FF6692",
          "pattern": {
           "shape": ""
          }
         },
         "name": "pregnancyparenting",
         "offsetgroup": "pregnancyparenting",
         "orientation": "v",
         "showlegend": true,
         "textposition": "auto",
         "type": "bar",
         "x": [
          "health",
          "lifestyle"
         ],
         "xaxis": "x",
         "y": [
          7,
          1
         ],
         "yaxis": "y"
        },
        {
         "alignmentgroup": "True",
         "hovertemplate": "Sub Category=causes-animals<br>Category=%{x}<br>Values=%{y}<extra></extra>",
         "legendgroup": "causes-animals",
         "marker": {
          "color": "#B6E880",
          "pattern": {
           "shape": ""
          }
         },
         "name": "causes-animals",
         "offsetgroup": "causes-animals",
         "orientation": "v",
         "showlegend": true,
         "textposition": "auto",
         "type": "bar",
         "x": [
          "lifestyle"
         ],
         "xaxis": "x",
         "y": [
          7
         ],
         "yaxis": "y"
        },
        {
         "alignmentgroup": "True",
         "hovertemplate": "Sub Category=ads-lung-health<br>Category=%{x}<br>Values=%{y}<extra></extra>",
         "legendgroup": "ads-lung-health",
         "marker": {
          "color": "#FF97FF",
          "pattern": {
           "shape": ""
          }
         },
         "name": "ads-lung-health",
         "offsetgroup": "ads-lung-health",
         "orientation": "v",
         "showlegend": true,
         "textposition": "auto",
         "type": "bar",
         "x": [
          "health"
         ],
         "xaxis": "x",
         "y": [
          7
         ],
         "yaxis": "y"
        },
        {
         "alignmentgroup": "True",
         "hovertemplate": "Sub Category=ustravel<br>Category=%{x}<br>Values=%{y}<extra></extra>",
         "legendgroup": "ustravel",
         "marker": {
          "color": "#FECB52",
          "pattern": {
           "shape": ""
          }
         },
         "name": "ustravel",
         "offsetgroup": "ustravel",
         "orientation": "v",
         "showlegend": true,
         "textposition": "auto",
         "type": "bar",
         "x": [
          "travel"
         ],
         "xaxis": "x",
         "y": [
          7
         ],
         "yaxis": "y"
        },
        {
         "alignmentgroup": "True",
         "hovertemplate": "Sub Category=wines<br>Category=%{x}<br>Values=%{y}<extra></extra>",
         "legendgroup": "wines",
         "marker": {
          "color": "#636efa",
          "pattern": {
           "shape": ""
          }
         },
         "name": "wines",
         "offsetgroup": "wines",
         "orientation": "v",
         "showlegend": true,
         "textposition": "auto",
         "type": "bar",
         "x": [
          "foodanddrink"
         ],
         "xaxis": "x",
         "y": [
          6
         ],
         "yaxis": "y"
        },
        {
         "alignmentgroup": "True",
         "hovertemplate": "Sub Category=weight-loss<br>Category=%{x}<br>Values=%{y}<extra></extra>",
         "legendgroup": "weight-loss",
         "marker": {
          "color": "#EF553B",
          "pattern": {
           "shape": ""
          }
         },
         "name": "weight-loss",
         "offsetgroup": "weight-loss",
         "orientation": "v",
         "showlegend": true,
         "textposition": "auto",
         "type": "bar",
         "x": [
          "health"
         ],
         "xaxis": "x",
         "y": [
          6
         ],
         "yaxis": "y"
        },
        {
         "alignmentgroup": "True",
         "hovertemplate": "Sub Category=internationaltravel<br>Category=%{x}<br>Values=%{y}<extra></extra>",
         "legendgroup": "internationaltravel",
         "marker": {
          "color": "#00cc96",
          "pattern": {
           "shape": ""
          }
         },
         "name": "internationaltravel",
         "offsetgroup": "internationaltravel",
         "orientation": "v",
         "showlegend": true,
         "textposition": "auto",
         "type": "bar",
         "x": [
          "travel"
         ],
         "xaxis": "x",
         "y": [
          6
         ],
         "yaxis": "y"
        },
        {
         "alignmentgroup": "True",
         "hovertemplate": "Sub Category=mentalhealth<br>Category=%{x}<br>Values=%{y}<extra></extra>",
         "legendgroup": "mentalhealth",
         "marker": {
          "color": "#ab63fa",
          "pattern": {
           "shape": ""
          }
         },
         "name": "mentalhealth",
         "offsetgroup": "mentalhealth",
         "orientation": "v",
         "showlegend": true,
         "textposition": "auto",
         "type": "bar",
         "x": [
          "health"
         ],
         "xaxis": "x",
         "y": [
          6
         ],
         "yaxis": "y"
        },
        {
         "alignmentgroup": "True",
         "hovertemplate": "Sub Category=autostokyo<br>Category=%{x}<br>Values=%{y}<extra></extra>",
         "legendgroup": "autostokyo",
         "marker": {
          "color": "#FFA15A",
          "pattern": {
           "shape": ""
          }
         },
         "name": "autostokyo",
         "offsetgroup": "autostokyo",
         "orientation": "v",
         "showlegend": true,
         "textposition": "auto",
         "type": "bar",
         "x": [
          "autos"
         ],
         "xaxis": "x",
         "y": [
          6
         ],
         "yaxis": "y"
        },
        {
         "alignmentgroup": "True",
         "hovertemplate": "Sub Category=autoshybrids<br>Category=%{x}<br>Values=%{y}<extra></extra>",
         "legendgroup": "autoshybrids",
         "marker": {
          "color": "#19d3f3",
          "pattern": {
           "shape": ""
          }
         },
         "name": "autoshybrids",
         "offsetgroup": "autoshybrids",
         "orientation": "v",
         "showlegend": true,
         "textposition": "auto",
         "type": "bar",
         "x": [
          "autos"
         ],
         "xaxis": "x",
         "y": [
          6
         ],
         "yaxis": "y"
        },
        {
         "alignmentgroup": "True",
         "hovertemplate": "Sub Category=autosvideonew<br>Category=%{x}<br>Values=%{y}<extra></extra>",
         "legendgroup": "autosvideonew",
         "marker": {
          "color": "#FF6692",
          "pattern": {
           "shape": ""
          }
         },
         "name": "autosvideonew",
         "offsetgroup": "autosvideonew",
         "orientation": "v",
         "showlegend": true,
         "textposition": "auto",
         "type": "bar",
         "x": [
          "autos"
         ],
         "xaxis": "x",
         "y": [
          5
         ],
         "yaxis": "y"
        },
        {
         "alignmentgroup": "True",
         "hovertemplate": "Sub Category=tunedin<br>Category=%{x}<br>Values=%{y}<extra></extra>",
         "legendgroup": "tunedin",
         "marker": {
          "color": "#B6E880",
          "pattern": {
           "shape": ""
          }
         },
         "name": "tunedin",
         "offsetgroup": "tunedin",
         "orientation": "v",
         "showlegend": true,
         "textposition": "auto",
         "type": "bar",
         "x": [
          "video"
         ],
         "xaxis": "x",
         "y": [
          5
         ],
         "yaxis": "y"
        },
        {
         "alignmentgroup": "True",
         "hovertemplate": "Sub Category=autospassenger<br>Category=%{x}<br>Values=%{y}<extra></extra>",
         "legendgroup": "autospassenger",
         "marker": {
          "color": "#FF97FF",
          "pattern": {
           "shape": ""
          }
         },
         "name": "autospassenger",
         "offsetgroup": "autospassenger",
         "orientation": "v",
         "showlegend": true,
         "textposition": "auto",
         "type": "bar",
         "x": [
          "autos"
         ],
         "xaxis": "x",
         "y": [
          5
         ],
         "yaxis": "y"
        },
        {
         "alignmentgroup": "True",
         "hovertemplate": "Sub Category=movies-oscars<br>Category=%{x}<br>Values=%{y}<extra></extra>",
         "legendgroup": "movies-oscars",
         "marker": {
          "color": "#FECB52",
          "pattern": {
           "shape": ""
          }
         },
         "name": "movies-oscars",
         "offsetgroup": "movies-oscars",
         "orientation": "v",
         "showlegend": true,
         "textposition": "auto",
         "type": "bar",
         "x": [
          "movies"
         ],
         "xaxis": "x",
         "y": [
          5
         ],
         "yaxis": "y"
        },
        {
         "alignmentgroup": "True",
         "hovertemplate": "Sub Category=causes-food-insecurity<br>Category=%{x}<br>Values=%{y}<extra></extra>",
         "legendgroup": "causes-food-insecurity",
         "marker": {
          "color": "#636efa",
          "pattern": {
           "shape": ""
          }
         },
         "name": "causes-food-insecurity",
         "offsetgroup": "causes-food-insecurity",
         "orientation": "v",
         "showlegend": true,
         "textposition": "auto",
         "type": "bar",
         "x": [
          "foodanddrink"
         ],
         "xaxis": "x",
         "y": [
          4
         ],
         "yaxis": "y"
        },
        {
         "alignmentgroup": "True",
         "hovertemplate": "Sub Category=basketball_wnba<br>Category=%{x}<br>Values=%{y}<extra></extra>",
         "legendgroup": "basketball_wnba",
         "marker": {
          "color": "#EF553B",
          "pattern": {
           "shape": ""
          }
         },
         "name": "basketball_wnba",
         "offsetgroup": "basketball_wnba",
         "orientation": "v",
         "showlegend": true,
         "textposition": "auto",
         "type": "bar",
         "x": [
          "sports"
         ],
         "xaxis": "x",
         "y": [
          4
         ],
         "yaxis": "y"
        },
        {
         "alignmentgroup": "True",
         "hovertemplate": "Sub Category=music-grammys<br>Category=%{x}<br>Values=%{y}<extra></extra>",
         "legendgroup": "music-grammys",
         "marker": {
          "color": "#00cc96",
          "pattern": {
           "shape": ""
          }
         },
         "name": "music-grammys",
         "offsetgroup": "music-grammys",
         "orientation": "v",
         "showlegend": true,
         "textposition": "auto",
         "type": "bar",
         "x": [
          "music"
         ],
         "xaxis": "x",
         "y": [
          4
         ],
         "yaxis": "y"
        },
        {
         "alignmentgroup": "True",
         "hovertemplate": "Sub Category=newsworldpolitics<br>Category=%{x}<br>Values=%{y}<extra></extra>",
         "legendgroup": "newsworldpolitics",
         "marker": {
          "color": "#ab63fa",
          "pattern": {
           "shape": ""
          }
         },
         "name": "newsworldpolitics",
         "offsetgroup": "newsworldpolitics",
         "orientation": "v",
         "showlegend": true,
         "textposition": "auto",
         "type": "bar",
         "x": [
          "news"
         ],
         "xaxis": "x",
         "y": [
          4
         ],
         "yaxis": "y"
        },
        {
         "alignmentgroup": "True",
         "hovertemplate": "Sub Category=shop-home-goods<br>Category=%{x}<br>Values=%{y}<extra></extra>",
         "legendgroup": "shop-home-goods",
         "marker": {
          "color": "#FFA15A",
          "pattern": {
           "shape": ""
          }
         },
         "name": "shop-home-goods",
         "offsetgroup": "shop-home-goods",
         "orientation": "v",
         "showlegend": true,
         "textposition": "auto",
         "type": "bar",
         "x": [
          "lifestyle"
         ],
         "xaxis": "x",
         "y": [
          3
         ],
         "yaxis": "y"
        },
        {
         "alignmentgroup": "True",
         "hovertemplate": "Sub Category=people-places<br>Category=%{x}<br>Values=%{y}<extra></extra>",
         "legendgroup": "people-places",
         "marker": {
          "color": "#19d3f3",
          "pattern": {
           "shape": ""
          }
         },
         "name": "people-places",
         "offsetgroup": "people-places",
         "orientation": "v",
         "showlegend": true,
         "textposition": "auto",
         "type": "bar",
         "x": [
          "kids"
         ],
         "xaxis": "x",
         "y": [
          3
         ],
         "yaxis": "y"
        },
        {
         "alignmentgroup": "True",
         "hovertemplate": "Sub Category=career-news<br>Category=%{x}<br>Values=%{y}<extra></extra>",
         "legendgroup": "career-news",
         "marker": {
          "color": "#FF6692",
          "pattern": {
           "shape": ""
          }
         },
         "name": "career-news",
         "offsetgroup": "career-news",
         "orientation": "v",
         "showlegend": true,
         "textposition": "auto",
         "type": "bar",
         "x": [
          "finance"
         ],
         "xaxis": "x",
         "y": [
          3
         ],
         "yaxis": "y"
        },
        {
         "alignmentgroup": "True",
         "hovertemplate": "Sub Category=finance-mutual-funds<br>Category=%{x}<br>Values=%{y}<extra></extra>",
         "legendgroup": "finance-mutual-funds",
         "marker": {
          "color": "#B6E880",
          "pattern": {
           "shape": ""
          }
         },
         "name": "finance-mutual-funds",
         "offsetgroup": "finance-mutual-funds",
         "orientation": "v",
         "showlegend": true,
         "textposition": "auto",
         "type": "bar",
         "x": [
          "finance"
         ],
         "xaxis": "x",
         "y": [
          3
         ],
         "yaxis": "y"
        },
        {
         "alignmentgroup": "True",
         "hovertemplate": "Sub Category=foodrecipes<br>Category=%{x}<br>Values=%{y}<extra></extra>",
         "legendgroup": "foodrecipes",
         "marker": {
          "color": "#FF97FF",
          "pattern": {
           "shape": ""
          }
         },
         "name": "foodrecipes",
         "offsetgroup": "foodrecipes",
         "orientation": "v",
         "showlegend": true,
         "textposition": "auto",
         "type": "bar",
         "x": [
          "foodanddrink"
         ],
         "xaxis": "x",
         "y": [
          3
         ],
         "yaxis": "y"
        },
        {
         "alignmentgroup": "True",
         "hovertemplate": "Sub Category=lifestylemarriage<br>Category=%{x}<br>Values=%{y}<extra></extra>",
         "legendgroup": "lifestylemarriage",
         "marker": {
          "color": "#FECB52",
          "pattern": {
           "shape": ""
          }
         },
         "name": "lifestylemarriage",
         "offsetgroup": "lifestylemarriage",
         "orientation": "v",
         "showlegend": true,
         "textposition": "auto",
         "type": "bar",
         "x": [
          "lifestyle"
         ],
         "xaxis": "x",
         "y": [
          3
         ],
         "yaxis": "y"
        },
        {
         "alignmentgroup": "True",
         "hovertemplate": "Sub Category=autosreview<br>Category=%{x}<br>Values=%{y}<extra></extra>",
         "legendgroup": "autosreview",
         "marker": {
          "color": "#636efa",
          "pattern": {
           "shape": ""
          }
         },
         "name": "autosreview",
         "offsetgroup": "autosreview",
         "orientation": "v",
         "showlegend": true,
         "textposition": "auto",
         "type": "bar",
         "x": [
          "autos"
         ],
         "xaxis": "x",
         "y": [
          3
         ],
         "yaxis": "y"
        },
        {
         "alignmentgroup": "True",
         "hovertemplate": "Sub Category=travel-adventure-travel<br>Category=%{x}<br>Values=%{y}<extra></extra>",
         "legendgroup": "travel-adventure-travel",
         "marker": {
          "color": "#EF553B",
          "pattern": {
           "shape": ""
          }
         },
         "name": "travel-adventure-travel",
         "offsetgroup": "travel-adventure-travel",
         "orientation": "v",
         "showlegend": true,
         "textposition": "auto",
         "type": "bar",
         "x": [
          "travel"
         ],
         "xaxis": "x",
         "y": [
          3
         ],
         "yaxis": "y"
        },
        {
         "alignmentgroup": "True",
         "hovertemplate": "Sub Category=autosvideos<br>Category=%{x}<br>Values=%{y}<extra></extra>",
         "legendgroup": "autosvideos",
         "marker": {
          "color": "#00cc96",
          "pattern": {
           "shape": ""
          }
         },
         "name": "autosvideos",
         "offsetgroup": "autosvideos",
         "orientation": "v",
         "showlegend": true,
         "textposition": "auto",
         "type": "bar",
         "x": [
          "autos"
         ],
         "xaxis": "x",
         "y": [
          3
         ],
         "yaxis": "y"
        },
        {
         "alignmentgroup": "True",
         "hovertemplate": "Sub Category=causes-disaster-relief<br>Category=%{x}<br>Values=%{y}<extra></extra>",
         "legendgroup": "causes-disaster-relief",
         "marker": {
          "color": "#ab63fa",
          "pattern": {
           "shape": ""
          }
         },
         "name": "causes-disaster-relief",
         "offsetgroup": "causes-disaster-relief",
         "orientation": "v",
         "showlegend": true,
         "textposition": "auto",
         "type": "bar",
         "x": [
          "news"
         ],
         "xaxis": "x",
         "y": [
          3
         ],
         "yaxis": "y"
        },
        {
         "alignmentgroup": "True",
         "hovertemplate": "Sub Category=cocktails<br>Category=%{x}<br>Values=%{y}<extra></extra>",
         "legendgroup": "cocktails",
         "marker": {
          "color": "#FFA15A",
          "pattern": {
           "shape": ""
          }
         },
         "name": "cocktails",
         "offsetgroup": "cocktails",
         "orientation": "v",
         "showlegend": true,
         "textposition": "auto",
         "type": "bar",
         "x": [
          "foodanddrink"
         ],
         "xaxis": "x",
         "y": [
          2
         ],
         "yaxis": "y"
        },
        {
         "alignmentgroup": "True",
         "hovertemplate": "Sub Category=autoscartech<br>Category=%{x}<br>Values=%{y}<extra></extra>",
         "legendgroup": "autoscartech",
         "marker": {
          "color": "#19d3f3",
          "pattern": {
           "shape": ""
          }
         },
         "name": "autoscartech",
         "offsetgroup": "autoscartech",
         "orientation": "v",
         "showlegend": true,
         "textposition": "auto",
         "type": "bar",
         "x": [
          "autos"
         ],
         "xaxis": "x",
         "y": [
          2
         ],
         "yaxis": "y"
        },
        {
         "alignmentgroup": "True",
         "hovertemplate": "Sub Category=yearinoffbeatgoodnews<br>Category=%{x}<br>Values=%{y}<extra></extra>",
         "legendgroup": "yearinoffbeatgoodnews",
         "marker": {
          "color": "#FF6692",
          "pattern": {
           "shape": ""
          }
         },
         "name": "yearinoffbeatgoodnews",
         "offsetgroup": "yearinoffbeatgoodnews",
         "orientation": "v",
         "showlegend": true,
         "textposition": "auto",
         "type": "bar",
         "x": [
          "news"
         ],
         "xaxis": "x",
         "y": [
          2
         ],
         "yaxis": "y"
        },
        {
         "alignmentgroup": "True",
         "hovertemplate": "Sub Category=holidays<br>Category=%{x}<br>Values=%{y}<extra></extra>",
         "legendgroup": "holidays",
         "marker": {
          "color": "#B6E880",
          "pattern": {
           "shape": ""
          }
         },
         "name": "holidays",
         "offsetgroup": "holidays",
         "orientation": "v",
         "showlegend": true,
         "textposition": "auto",
         "type": "bar",
         "x": [
          "travel",
          "lifestyle"
         ],
         "xaxis": "x",
         "y": [
          2,
          1
         ],
         "yaxis": "y"
        },
        {
         "alignmentgroup": "True",
         "hovertemplate": "Sub Category=technologyinvesting<br>Category=%{x}<br>Values=%{y}<extra></extra>",
         "legendgroup": "technologyinvesting",
         "marker": {
          "color": "#FF97FF",
          "pattern": {
           "shape": ""
          }
         },
         "name": "technologyinvesting",
         "offsetgroup": "technologyinvesting",
         "orientation": "v",
         "showlegend": true,
         "textposition": "auto",
         "type": "bar",
         "x": [
          "finance"
         ],
         "xaxis": "x",
         "y": [
          2
         ],
         "yaxis": "y"
        },
        {
         "alignmentgroup": "True",
         "hovertemplate": "Sub Category=sports_news<br>Category=%{x}<br>Values=%{y}<extra></extra>",
         "legendgroup": "sports_news",
         "marker": {
          "color": "#FECB52",
          "pattern": {
           "shape": ""
          }
         },
         "name": "sports_news",
         "offsetgroup": "sports_news",
         "orientation": "v",
         "showlegend": true,
         "textposition": "auto",
         "type": "bar",
         "x": [
          "sports"
         ],
         "xaxis": "x",
         "y": [
          2
         ],
         "yaxis": "y"
        },
        {
         "alignmentgroup": "True",
         "hovertemplate": "Sub Category=fun<br>Category=%{x}<br>Values=%{y}<extra></extra>",
         "legendgroup": "fun",
         "marker": {
          "color": "#636efa",
          "pattern": {
           "shape": ""
          }
         },
         "name": "fun",
         "offsetgroup": "fun",
         "orientation": "v",
         "showlegend": true,
         "textposition": "auto",
         "type": "bar",
         "x": [
          "kids"
         ],
         "xaxis": "x",
         "y": [
          2
         ],
         "yaxis": "y"
        },
        {
         "alignmentgroup": "True",
         "hovertemplate": "Sub Category=tv-golden-globes<br>Category=%{x}<br>Values=%{y}<extra></extra>",
         "legendgroup": "tv-golden-globes",
         "marker": {
          "color": "#EF553B",
          "pattern": {
           "shape": ""
          }
         },
         "name": "tv-golden-globes",
         "offsetgroup": "tv-golden-globes",
         "orientation": "v",
         "showlegend": true,
         "textposition": "auto",
         "type": "bar",
         "x": [
          "tv"
         ],
         "xaxis": "x",
         "y": [
          2
         ],
         "yaxis": "y"
        },
        {
         "alignmentgroup": "True",
         "hovertemplate": "Sub Category=tv-reviews<br>Category=%{x}<br>Values=%{y}<extra></extra>",
         "legendgroup": "tv-reviews",
         "marker": {
          "color": "#00cc96",
          "pattern": {
           "shape": ""
          }
         },
         "name": "tv-reviews",
         "offsetgroup": "tv-reviews",
         "orientation": "v",
         "showlegend": true,
         "textposition": "auto",
         "type": "bar",
         "x": [
          "tv"
         ],
         "xaxis": "x",
         "y": [
          2
         ],
         "yaxis": "y"
        },
        {
         "alignmentgroup": "True",
         "hovertemplate": "Sub Category=downtime<br>Category=%{x}<br>Values=%{y}<extra></extra>",
         "legendgroup": "downtime",
         "marker": {
          "color": "#ab63fa",
          "pattern": {
           "shape": ""
          }
         },
         "name": "downtime",
         "offsetgroup": "downtime",
         "orientation": "v",
         "showlegend": true,
         "textposition": "auto",
         "type": "bar",
         "x": [
          "video"
         ],
         "xaxis": "x",
         "y": [
          2
         ],
         "yaxis": "y"
        },
        {
         "alignmentgroup": "True",
         "hovertemplate": "Sub Category=middleeast-top-stories<br>Category=%{x}<br>Values=%{y}<extra></extra>",
         "legendgroup": "middleeast-top-stories",
         "marker": {
          "color": "#FFA15A",
          "pattern": {
           "shape": ""
          }
         },
         "name": "middleeast-top-stories",
         "offsetgroup": "middleeast-top-stories",
         "orientation": "v",
         "showlegend": true,
         "textposition": "auto",
         "type": "bar",
         "x": [
          "middleeast"
         ],
         "xaxis": "x",
         "y": [
          2
         ],
         "yaxis": "y"
        },
        {
         "alignmentgroup": "True",
         "hovertemplate": "Sub Category=causes-environment<br>Category=%{x}<br>Values=%{y}<extra></extra>",
         "legendgroup": "causes-environment",
         "marker": {
          "color": "#19d3f3",
          "pattern": {
           "shape": ""
          }
         },
         "name": "causes-environment",
         "offsetgroup": "causes-environment",
         "orientation": "v",
         "showlegend": true,
         "textposition": "auto",
         "type": "bar",
         "x": [
          "news"
         ],
         "xaxis": "x",
         "y": [
          2
         ],
         "yaxis": "y"
        },
        {
         "alignmentgroup": "True",
         "hovertemplate": "Sub Category=healthagingwell<br>Category=%{x}<br>Values=%{y}<extra></extra>",
         "legendgroup": "healthagingwell",
         "marker": {
          "color": "#FF6692",
          "pattern": {
           "shape": ""
          }
         },
         "name": "healthagingwell",
         "offsetgroup": "healthagingwell",
         "orientation": "v",
         "showlegend": true,
         "textposition": "auto",
         "type": "bar",
         "x": [
          "health"
         ],
         "xaxis": "x",
         "y": [
          2
         ],
         "yaxis": "y"
        },
        {
         "alignmentgroup": "True",
         "hovertemplate": "Sub Category=celebritynews<br>Category=%{x}<br>Values=%{y}<extra></extra>",
         "legendgroup": "celebritynews",
         "marker": {
          "color": "#B6E880",
          "pattern": {
           "shape": ""
          }
         },
         "name": "celebritynews",
         "offsetgroup": "celebritynews",
         "orientation": "v",
         "showlegend": true,
         "textposition": "auto",
         "type": "bar",
         "x": [
          "entertainment"
         ],
         "xaxis": "x",
         "y": [
          2
         ],
         "yaxis": "y"
        },
        {
         "alignmentgroup": "True",
         "hovertemplate": "Sub Category=newsvideo<br>Category=%{x}<br>Values=%{y}<extra></extra>",
         "legendgroup": "newsvideo",
         "marker": {
          "color": "#FF97FF",
          "pattern": {
           "shape": ""
          }
         },
         "name": "newsvideo",
         "offsetgroup": "newsvideo",
         "orientation": "v",
         "showlegend": true,
         "textposition": "auto",
         "type": "bar",
         "x": [
          "news"
         ],
         "xaxis": "x",
         "y": [
          2
         ],
         "yaxis": "y"
        },
        {
         "alignmentgroup": "True",
         "hovertemplate": "Sub Category=shop-books-movies-tv<br>Category=%{x}<br>Values=%{y}<extra></extra>",
         "legendgroup": "shop-books-movies-tv",
         "marker": {
          "color": "#FECB52",
          "pattern": {
           "shape": ""
          }
         },
         "name": "shop-books-movies-tv",
         "offsetgroup": "shop-books-movies-tv",
         "orientation": "v",
         "showlegend": true,
         "textposition": "auto",
         "type": "bar",
         "x": [
          "lifestyle"
         ],
         "xaxis": "x",
         "y": [
          2
         ],
         "yaxis": "y"
        },
        {
         "alignmentgroup": "True",
         "hovertemplate": "Sub Category=lifestylewhatshot<br>Category=%{x}<br>Values=%{y}<extra></extra>",
         "legendgroup": "lifestylewhatshot",
         "marker": {
          "color": "#636efa",
          "pattern": {
           "shape": ""
          }
         },
         "name": "lifestylewhatshot",
         "offsetgroup": "lifestylewhatshot",
         "orientation": "v",
         "showlegend": true,
         "textposition": "auto",
         "type": "bar",
         "x": [
          "lifestyle"
         ],
         "xaxis": "x",
         "y": [
          2
         ],
         "yaxis": "y"
        },
        {
         "alignmentgroup": "True",
         "hovertemplate": "Sub Category=reviews<br>Category=%{x}<br>Values=%{y}<extra></extra>",
         "legendgroup": "reviews",
         "marker": {
          "color": "#EF553B",
          "pattern": {
           "shape": ""
          }
         },
         "name": "reviews",
         "offsetgroup": "reviews",
         "orientation": "v",
         "showlegend": true,
         "textposition": "auto",
         "type": "bar",
         "x": [
          "movies"
         ],
         "xaxis": "x",
         "y": [
          2
         ],
         "yaxis": "y"
        },
        {
         "alignmentgroup": "True",
         "hovertemplate": "Sub Category=seasonal<br>Category=%{x}<br>Values=%{y}<extra></extra>",
         "legendgroup": "seasonal",
         "marker": {
          "color": "#00cc96",
          "pattern": {
           "shape": ""
          }
         },
         "name": "seasonal",
         "offsetgroup": "seasonal",
         "orientation": "v",
         "showlegend": true,
         "textposition": "auto",
         "type": "bar",
         "x": [
          "foodanddrink"
         ],
         "xaxis": "x",
         "y": [
          2
         ],
         "yaxis": "y"
        },
        {
         "alignmentgroup": "True",
         "hovertemplate": "Sub Category=autosvans<br>Category=%{x}<br>Values=%{y}<extra></extra>",
         "legendgroup": "autosvans",
         "marker": {
          "color": "#ab63fa",
          "pattern": {
           "shape": ""
          }
         },
         "name": "autosvans",
         "offsetgroup": "autosvans",
         "orientation": "v",
         "showlegend": true,
         "textposition": "auto",
         "type": "bar",
         "x": [
          "autos"
         ],
         "xaxis": "x",
         "y": [
          1
         ],
         "yaxis": "y"
        },
        {
         "alignmentgroup": "True",
         "hovertemplate": "Sub Category=autoslosangeles<br>Category=%{x}<br>Values=%{y}<extra></extra>",
         "legendgroup": "autoslosangeles",
         "marker": {
          "color": "#FFA15A",
          "pattern": {
           "shape": ""
          }
         },
         "name": "autoslosangeles",
         "offsetgroup": "autoslosangeles",
         "orientation": "v",
         "showlegend": true,
         "textposition": "auto",
         "type": "bar",
         "x": [
          "autos"
         ],
         "xaxis": "x",
         "y": [
          1
         ],
         "yaxis": "y"
        },
        {
         "alignmentgroup": "True",
         "hovertemplate": "Sub Category=tv-golden-globes-video<br>Category=%{x}<br>Values=%{y}<extra></extra>",
         "legendgroup": "tv-golden-globes-video",
         "marker": {
          "color": "#19d3f3",
          "pattern": {
           "shape": ""
          }
         },
         "name": "tv-golden-globes-video",
         "offsetgroup": "tv-golden-globes-video",
         "orientation": "v",
         "showlegend": true,
         "textposition": "auto",
         "type": "bar",
         "x": [
          "tv"
         ],
         "xaxis": "x",
         "y": [
          1
         ],
         "yaxis": "y"
        },
        {
         "alignmentgroup": "True",
         "hovertemplate": "Sub Category=shop-computers-electronics<br>Category=%{x}<br>Values=%{y}<extra></extra>",
         "legendgroup": "shop-computers-electronics",
         "marker": {
          "color": "#FF6692",
          "pattern": {
           "shape": ""
          }
         },
         "name": "shop-computers-electronics",
         "offsetgroup": "shop-computers-electronics",
         "orientation": "v",
         "showlegend": true,
         "textposition": "auto",
         "type": "bar",
         "x": [
          "lifestyle"
         ],
         "xaxis": "x",
         "y": [
          1
         ],
         "yaxis": "y"
        },
        {
         "alignmentgroup": "True",
         "hovertemplate": "Sub Category=lifestyleanimals<br>Category=%{x}<br>Values=%{y}<extra></extra>",
         "legendgroup": "lifestyleanimals",
         "marker": {
          "color": "#B6E880",
          "pattern": {
           "shape": ""
          }
         },
         "name": "lifestyleanimals",
         "offsetgroup": "lifestyleanimals",
         "orientation": "v",
         "showlegend": true,
         "textposition": "auto",
         "type": "bar",
         "x": [
          "lifestyle"
         ],
         "xaxis": "x",
         "y": [
          1
         ],
         "yaxis": "y"
        },
        {
         "alignmentgroup": "True",
         "hovertemplate": "Sub Category=topnews<br>Category=%{x}<br>Values=%{y}<extra></extra>",
         "legendgroup": "topnews",
         "marker": {
          "color": "#FF97FF",
          "pattern": {
           "shape": ""
          }
         },
         "name": "topnews",
         "offsetgroup": "topnews",
         "orientation": "v",
         "showlegend": true,
         "textposition": "auto",
         "type": "bar",
         "x": [
          "tv",
          "music"
         ],
         "xaxis": "x",
         "y": [
          1,
          1
         ],
         "yaxis": "y"
        },
        {
         "alignmentgroup": "True",
         "hovertemplate": "Sub Category=hollywood<br>Category=%{x}<br>Values=%{y}<extra></extra>",
         "legendgroup": "hollywood",
         "marker": {
          "color": "#FECB52",
          "pattern": {
           "shape": ""
          }
         },
         "name": "hollywood",
         "offsetgroup": "hollywood",
         "orientation": "v",
         "showlegend": true,
         "textposition": "auto",
         "type": "bar",
         "x": [
          "entertainment"
         ],
         "xaxis": "x",
         "y": [
          1
         ],
         "yaxis": "y"
        },
        {
         "alignmentgroup": "True",
         "hovertemplate": "Sub Category=company-news<br>Category=%{x}<br>Values=%{y}<extra></extra>",
         "legendgroup": "company-news",
         "marker": {
          "color": "#636efa",
          "pattern": {
           "shape": ""
          }
         },
         "name": "company-news",
         "offsetgroup": "company-news",
         "orientation": "v",
         "showlegend": true,
         "textposition": "auto",
         "type": "bar",
         "x": [
          "finance"
         ],
         "xaxis": "x",
         "y": [
          1
         ],
         "yaxis": "y"
        },
        {
         "alignmentgroup": "True",
         "hovertemplate": "Sub Category=traveltrivia<br>Category=%{x}<br>Values=%{y}<extra></extra>",
         "legendgroup": "traveltrivia",
         "marker": {
          "color": "#EF553B",
          "pattern": {
           "shape": ""
          }
         },
         "name": "traveltrivia",
         "offsetgroup": "traveltrivia",
         "orientation": "v",
         "showlegend": true,
         "textposition": "auto",
         "type": "bar",
         "x": [
          "travel"
         ],
         "xaxis": "x",
         "y": [
          1
         ],
         "yaxis": "y"
        },
        {
         "alignmentgroup": "True",
         "hovertemplate": "Sub Category=lifestyle-wedding<br>Category=%{x}<br>Values=%{y}<extra></extra>",
         "legendgroup": "lifestyle-wedding",
         "marker": {
          "color": "#00cc96",
          "pattern": {
           "shape": ""
          }
         },
         "name": "lifestyle-wedding",
         "offsetgroup": "lifestyle-wedding",
         "orientation": "v",
         "showlegend": true,
         "textposition": "auto",
         "type": "bar",
         "x": [
          "lifestyle"
         ],
         "xaxis": "x",
         "y": [
          1
         ],
         "yaxis": "y"
        },
        {
         "alignmentgroup": "True",
         "hovertemplate": "Sub Category=autosmidsize<br>Category=%{x}<br>Values=%{y}<extra></extra>",
         "legendgroup": "autosmidsize",
         "marker": {
          "color": "#ab63fa",
          "pattern": {
           "shape": ""
          }
         },
         "name": "autosmidsize",
         "offsetgroup": "autosmidsize",
         "orientation": "v",
         "showlegend": true,
         "textposition": "auto",
         "type": "bar",
         "x": [
          "autos"
         ],
         "xaxis": "x",
         "y": [
          1
         ],
         "yaxis": "y"
        },
        {
         "alignmentgroup": "True",
         "hovertemplate": "Sub Category=autoscompact<br>Category=%{x}<br>Values=%{y}<extra></extra>",
         "legendgroup": "autoscompact",
         "marker": {
          "color": "#FFA15A",
          "pattern": {
           "shape": ""
          }
         },
         "name": "autoscompact",
         "offsetgroup": "autoscompact",
         "orientation": "v",
         "showlegend": true,
         "textposition": "auto",
         "type": "bar",
         "x": [
          "autos"
         ],
         "xaxis": "x",
         "y": [
          1
         ],
         "yaxis": "y"
        },
        {
         "alignmentgroup": "True",
         "hovertemplate": "Sub Category=comedy<br>Category=%{x}<br>Values=%{y}<extra></extra>",
         "legendgroup": "comedy",
         "marker": {
          "color": "#19d3f3",
          "pattern": {
           "shape": ""
          }
         },
         "name": "comedy",
         "offsetgroup": "comedy",
         "orientation": "v",
         "showlegend": true,
         "textposition": "auto",
         "type": "bar",
         "x": [
          "video"
         ],
         "xaxis": "x",
         "y": [
          1
         ],
         "yaxis": "y"
        },
        {
         "alignmentgroup": "True",
         "hovertemplate": "Sub Category=games-news<br>Category=%{x}<br>Values=%{y}<extra></extra>",
         "legendgroup": "games-news",
         "marker": {
          "color": "#FF6692",
          "pattern": {
           "shape": ""
          }
         },
         "name": "games-news",
         "offsetgroup": "games-news",
         "orientation": "v",
         "showlegend": true,
         "textposition": "auto",
         "type": "bar",
         "x": [
          "games"
         ],
         "xaxis": "x",
         "y": [
          1
         ],
         "yaxis": "y"
        },
        {
         "alignmentgroup": "True",
         "hovertemplate": "Sub Category=finance-homesandpropertysection<br>Category=%{x}<br>Values=%{y}<extra></extra>",
         "legendgroup": "finance-homesandpropertysection",
         "marker": {
          "color": "#B6E880",
          "pattern": {
           "shape": ""
          }
         },
         "name": "finance-homesandpropertysection",
         "offsetgroup": "finance-homesandpropertysection",
         "orientation": "v",
         "showlegend": true,
         "textposition": "auto",
         "type": "bar",
         "x": [
          "finance"
         ],
         "xaxis": "x",
         "y": [
          1
         ],
         "yaxis": "y"
        },
        {
         "alignmentgroup": "True",
         "hovertemplate": "Sub Category=finance-home-loans<br>Category=%{x}<br>Values=%{y}<extra></extra>",
         "legendgroup": "finance-home-loans",
         "marker": {
          "color": "#FF97FF",
          "pattern": {
           "shape": ""
          }
         },
         "name": "finance-home-loans",
         "offsetgroup": "finance-home-loans",
         "orientation": "v",
         "showlegend": true,
         "textposition": "auto",
         "type": "bar",
         "x": [
          "finance"
         ],
         "xaxis": "x",
         "y": [
          1
         ],
         "yaxis": "y"
        },
        {
         "alignmentgroup": "True",
         "hovertemplate": "Sub Category=cardio<br>Category=%{x}<br>Values=%{y}<extra></extra>",
         "legendgroup": "cardio",
         "marker": {
          "color": "#FECB52",
          "pattern": {
           "shape": ""
          }
         },
         "name": "cardio",
         "offsetgroup": "cardio",
         "orientation": "v",
         "showlegend": true,
         "textposition": "auto",
         "type": "bar",
         "x": [
          "health"
         ],
         "xaxis": "x",
         "y": [
          1
         ],
         "yaxis": "y"
        },
        {
         "alignmentgroup": "True",
         "hovertemplate": "Sub Category=sports<br>Category=%{x}<br>Values=%{y}<extra></extra>",
         "legendgroup": "sports",
         "marker": {
          "color": "#636efa",
          "pattern": {
           "shape": ""
          }
         },
         "name": "sports",
         "offsetgroup": "sports",
         "orientation": "v",
         "showlegend": true,
         "textposition": "auto",
         "type": "bar",
         "x": [
          "video"
         ],
         "xaxis": "x",
         "y": [
          1
         ],
         "yaxis": "y"
        },
        {
         "alignmentgroup": "True",
         "hovertemplate": "Sub Category=travel<br>Category=%{x}<br>Values=%{y}<extra></extra>",
         "legendgroup": "travel",
         "marker": {
          "color": "#EF553B",
          "pattern": {
           "shape": ""
          }
         },
         "name": "travel",
         "offsetgroup": "travel",
         "orientation": "v",
         "showlegend": true,
         "textposition": "auto",
         "type": "bar",
         "x": [
          "lifestyle"
         ],
         "xaxis": "x",
         "y": [
          1
         ],
         "yaxis": "y"
        },
        {
         "alignmentgroup": "True",
         "hovertemplate": "Sub Category=finance-auto-insurance<br>Category=%{x}<br>Values=%{y}<extra></extra>",
         "legendgroup": "finance-auto-insurance",
         "marker": {
          "color": "#00cc96",
          "pattern": {
           "shape": ""
          }
         },
         "name": "finance-auto-insurance",
         "offsetgroup": "finance-auto-insurance",
         "orientation": "v",
         "showlegend": true,
         "textposition": "auto",
         "type": "bar",
         "x": [
          "finance"
         ],
         "xaxis": "x",
         "y": [
          1
         ],
         "yaxis": "y"
        },
        {
         "alignmentgroup": "True",
         "hovertemplate": "Sub Category=wonder<br>Category=%{x}<br>Values=%{y}<extra></extra>",
         "legendgroup": "wonder",
         "marker": {
          "color": "#ab63fa",
          "pattern": {
           "shape": ""
          }
         },
         "name": "wonder",
         "offsetgroup": "wonder",
         "orientation": "v",
         "showlegend": true,
         "textposition": "auto",
         "type": "bar",
         "x": [
          "video"
         ],
         "xaxis": "x",
         "y": [
          1
         ],
         "yaxis": "y"
        },
        {
         "alignmentgroup": "True",
         "hovertemplate": "Sub Category=photos<br>Category=%{x}<br>Values=%{y}<extra></extra>",
         "legendgroup": "photos",
         "marker": {
          "color": "#FFA15A",
          "pattern": {
           "shape": ""
          }
         },
         "name": "photos",
         "offsetgroup": "photos",
         "orientation": "v",
         "showlegend": true,
         "textposition": "auto",
         "type": "bar",
         "x": [
          "weather"
         ],
         "xaxis": "x",
         "y": [
          1
         ],
         "yaxis": "y"
        },
        {
         "alignmentgroup": "True",
         "hovertemplate": "Sub Category=weatherfullscreenmaps<br>Category=%{x}<br>Values=%{y}<extra></extra>",
         "legendgroup": "weatherfullscreenmaps",
         "marker": {
          "color": "#19d3f3",
          "pattern": {
           "shape": ""
          }
         },
         "name": "weatherfullscreenmaps",
         "offsetgroup": "weatherfullscreenmaps",
         "orientation": "v",
         "showlegend": true,
         "textposition": "auto",
         "type": "bar",
         "x": [
          "weather"
         ],
         "xaxis": "x",
         "y": [
          1
         ],
         "yaxis": "y"
        },
        {
         "alignmentgroup": "True",
         "hovertemplate": "Sub Category=causes-military-appreciation<br>Category=%{x}<br>Values=%{y}<extra></extra>",
         "legendgroup": "causes-military-appreciation",
         "marker": {
          "color": "#FF6692",
          "pattern": {
           "shape": ""
          }
         },
         "name": "causes-military-appreciation",
         "offsetgroup": "causes-military-appreciation",
         "orientation": "v",
         "showlegend": true,
         "textposition": "auto",
         "type": "bar",
         "x": [
          "news"
         ],
         "xaxis": "x",
         "y": [
          1
         ],
         "yaxis": "y"
        },
        {
         "alignmentgroup": "True",
         "hovertemplate": "Sub Category=causes-poverty<br>Category=%{x}<br>Values=%{y}<extra></extra>",
         "legendgroup": "causes-poverty",
         "marker": {
          "color": "#B6E880",
          "pattern": {
           "shape": ""
          }
         },
         "name": "causes-poverty",
         "offsetgroup": "causes-poverty",
         "orientation": "v",
         "showlegend": true,
         "textposition": "auto",
         "type": "bar",
         "x": [
          "news"
         ],
         "xaxis": "x",
         "y": [
          1
         ],
         "yaxis": "y"
        },
        {
         "alignmentgroup": "True",
         "hovertemplate": "Sub Category=finance-startinvesting<br>Category=%{x}<br>Values=%{y}<extra></extra>",
         "legendgroup": "finance-startinvesting",
         "marker": {
          "color": "#FF97FF",
          "pattern": {
           "shape": ""
          }
         },
         "name": "finance-startinvesting",
         "offsetgroup": "finance-startinvesting",
         "orientation": "v",
         "showlegend": true,
         "textposition": "auto",
         "type": "bar",
         "x": [
          "finance"
         ],
         "xaxis": "x",
         "y": [
          1
         ],
         "yaxis": "y"
        },
        {
         "alignmentgroup": "True",
         "hovertemplate": "Sub Category=travel-videos<br>Category=%{x}<br>Values=%{y}<extra></extra>",
         "legendgroup": "travel-videos",
         "marker": {
          "color": "#FECB52",
          "pattern": {
           "shape": ""
          }
         },
         "name": "travel-videos",
         "offsetgroup": "travel-videos",
         "orientation": "v",
         "showlegend": true,
         "textposition": "auto",
         "type": "bar",
         "x": [
          "travel"
         ],
         "xaxis": "x",
         "y": [
          1
         ],
         "yaxis": "y"
        },
        {
         "alignmentgroup": "True",
         "hovertemplate": "Sub Category=baseball<br>Category=%{x}<br>Values=%{y}<extra></extra>",
         "legendgroup": "baseball",
         "marker": {
          "color": "#636efa",
          "pattern": {
           "shape": ""
          }
         },
         "name": "baseball",
         "offsetgroup": "baseball",
         "orientation": "v",
         "showlegend": true,
         "textposition": "auto",
         "type": "bar",
         "x": [
          "sports"
         ],
         "xaxis": "x",
         "y": [
          1
         ],
         "yaxis": "y"
        },
        {
         "alignmentgroup": "True",
         "hovertemplate": "Sub Category=cookingschool<br>Category=%{x}<br>Values=%{y}<extra></extra>",
         "legendgroup": "cookingschool",
         "marker": {
          "color": "#EF553B",
          "pattern": {
           "shape": ""
          }
         },
         "name": "cookingschool",
         "offsetgroup": "cookingschool",
         "orientation": "v",
         "showlegend": true,
         "textposition": "auto",
         "type": "bar",
         "x": [
          "foodanddrink"
         ],
         "xaxis": "x",
         "y": [
          1
         ],
         "yaxis": "y"
        },
        {
         "alignmentgroup": "True",
         "hovertemplate": "Sub Category=cooking<br>Category=%{x}<br>Values=%{y}<extra></extra>",
         "legendgroup": "cooking",
         "marker": {
          "color": "#00cc96",
          "pattern": {
           "shape": ""
          }
         },
         "name": "cooking",
         "offsetgroup": "cooking",
         "orientation": "v",
         "showlegend": true,
         "textposition": "auto",
         "type": "bar",
         "x": [
          "foodanddrink"
         ],
         "xaxis": "x",
         "y": [
          1
         ],
         "yaxis": "y"
        },
        {
         "alignmentgroup": "True",
         "hovertemplate": "Sub Category=newsvideos<br>Category=%{x}<br>Values=%{y}<extra></extra>",
         "legendgroup": "newsvideos",
         "marker": {
          "color": "#ab63fa",
          "pattern": {
           "shape": ""
          }
         },
         "name": "newsvideos",
         "offsetgroup": "newsvideos",
         "orientation": "v",
         "showlegend": true,
         "textposition": "auto",
         "type": "bar",
         "x": [
          "news"
         ],
         "xaxis": "x",
         "y": [
          1
         ],
         "yaxis": "y"
        },
        {
         "alignmentgroup": "True",
         "hovertemplate": "Sub Category=lifestyleshoppinghomegarden<br>Category=%{x}<br>Values=%{y}<extra></extra>",
         "legendgroup": "lifestyleshoppinghomegarden",
         "marker": {
          "color": "#FFA15A",
          "pattern": {
           "shape": ""
          }
         },
         "name": "lifestyleshoppinghomegarden",
         "offsetgroup": "lifestyleshoppinghomegarden",
         "orientation": "v",
         "showlegend": true,
         "textposition": "auto",
         "type": "bar",
         "x": [
          "lifestyle"
         ],
         "xaxis": "x",
         "y": [
          1
         ],
         "yaxis": "y"
        },
        {
         "alignmentgroup": "True",
         "hovertemplate": "Sub Category=newstvmedia<br>Category=%{x}<br>Values=%{y}<extra></extra>",
         "legendgroup": "newstvmedia",
         "marker": {
          "color": "#19d3f3",
          "pattern": {
           "shape": ""
          }
         },
         "name": "newstvmedia",
         "offsetgroup": "newstvmedia",
         "orientation": "v",
         "showlegend": true,
         "textposition": "auto",
         "type": "bar",
         "x": [
          "news"
         ],
         "xaxis": "x",
         "y": [
          1
         ],
         "yaxis": "y"
        },
        {
         "alignmentgroup": "True",
         "hovertemplate": "Sub Category=newstechnology<br>Category=%{x}<br>Values=%{y}<extra></extra>",
         "legendgroup": "newstechnology",
         "marker": {
          "color": "#FF6692",
          "pattern": {
           "shape": ""
          }
         },
         "name": "newstechnology",
         "offsetgroup": "newstechnology",
         "orientation": "v",
         "showlegend": true,
         "textposition": "auto",
         "type": "bar",
         "x": [
          "news"
         ],
         "xaxis": "x",
         "y": [
          1
         ],
         "yaxis": "y"
        },
        {
         "alignmentgroup": "True",
         "hovertemplate": "Sub Category=health-cancer<br>Category=%{x}<br>Values=%{y}<extra></extra>",
         "legendgroup": "health-cancer",
         "marker": {
          "color": "#B6E880",
          "pattern": {
           "shape": ""
          }
         },
         "name": "health-cancer",
         "offsetgroup": "health-cancer",
         "orientation": "v",
         "showlegend": true,
         "textposition": "auto",
         "type": "bar",
         "x": [
          "health"
         ],
         "xaxis": "x",
         "y": [
          1
         ],
         "yaxis": "y"
        },
        {
         "alignmentgroup": "True",
         "hovertemplate": "Sub Category=lifestylestyle<br>Category=%{x}<br>Values=%{y}<extra></extra>",
         "legendgroup": "lifestylestyle",
         "marker": {
          "color": "#FF97FF",
          "pattern": {
           "shape": ""
          }
         },
         "name": "lifestylestyle",
         "offsetgroup": "lifestylestyle",
         "orientation": "v",
         "showlegend": true,
         "textposition": "auto",
         "type": "bar",
         "x": [
          "lifestyle"
         ],
         "xaxis": "x",
         "y": [
          1
         ],
         "yaxis": "y"
        },
        {
         "alignmentgroup": "True",
         "hovertemplate": "Sub Category=newsrealestate<br>Category=%{x}<br>Values=%{y}<extra></extra>",
         "legendgroup": "newsrealestate",
         "marker": {
          "color": "#FECB52",
          "pattern": {
           "shape": ""
          }
         },
         "name": "newsrealestate",
         "offsetgroup": "newsrealestate",
         "orientation": "v",
         "showlegend": true,
         "textposition": "auto",
         "type": "bar",
         "x": [
          "news"
         ],
         "xaxis": "x",
         "y": [
          1
         ],
         "yaxis": "y"
        },
        {
         "alignmentgroup": "True",
         "hovertemplate": "Sub Category=lifestyletravel<br>Category=%{x}<br>Values=%{y}<extra></extra>",
         "legendgroup": "lifestyletravel",
         "marker": {
          "color": "#636efa",
          "pattern": {
           "shape": ""
          }
         },
         "name": "lifestyletravel",
         "offsetgroup": "lifestyletravel",
         "orientation": "v",
         "showlegend": true,
         "textposition": "auto",
         "type": "bar",
         "x": [
          "lifestyle"
         ],
         "xaxis": "x",
         "y": [
          1
         ],
         "yaxis": "y"
        },
        {
         "alignmentgroup": "True",
         "hovertemplate": "Sub Category=newsother<br>Category=%{x}<br>Values=%{y}<extra></extra>",
         "legendgroup": "newsother",
         "marker": {
          "color": "#EF553B",
          "pattern": {
           "shape": ""
          }
         },
         "name": "newsother",
         "offsetgroup": "newsother",
         "orientation": "v",
         "showlegend": true,
         "textposition": "auto",
         "type": "bar",
         "x": [
          "news"
         ],
         "xaxis": "x",
         "y": [
          1
         ],
         "yaxis": "y"
        },
        {
         "alignmentgroup": "True",
         "hovertemplate": "Sub Category=golfvideos<br>Category=%{x}<br>Values=%{y}<extra></extra>",
         "legendgroup": "golfvideos",
         "marker": {
          "color": "#00cc96",
          "pattern": {
           "shape": ""
          }
         },
         "name": "golfvideos",
         "offsetgroup": "golfvideos",
         "orientation": "v",
         "showlegend": true,
         "textposition": "auto",
         "type": "bar",
         "x": [
          "sports"
         ],
         "xaxis": "x",
         "y": [
          1
         ],
         "yaxis": "y"
        },
        {
         "alignmentgroup": "True",
         "hovertemplate": "Sub Category=newsnational<br>Category=%{x}<br>Values=%{y}<extra></extra>",
         "legendgroup": "newsnational",
         "marker": {
          "color": "#ab63fa",
          "pattern": {
           "shape": ""
          }
         },
         "name": "newsnational",
         "offsetgroup": "newsnational",
         "orientation": "v",
         "showlegend": true,
         "textposition": "auto",
         "type": "bar",
         "x": [
          "news"
         ],
         "xaxis": "x",
         "y": [
          1
         ],
         "yaxis": "y"
        },
        {
         "alignmentgroup": "True",
         "hovertemplate": "Sub Category=lifestylehoroscopefish<br>Category=%{x}<br>Values=%{y}<extra></extra>",
         "legendgroup": "lifestylehoroscopefish",
         "marker": {
          "color": "#FFA15A",
          "pattern": {
           "shape": ""
          }
         },
         "name": "lifestylehoroscopefish",
         "offsetgroup": "lifestylehoroscopefish",
         "orientation": "v",
         "showlegend": true,
         "textposition": "auto",
         "type": "bar",
         "x": [
          "lifestyle"
         ],
         "xaxis": "x",
         "y": [
          1
         ],
         "yaxis": "y"
        },
        {
         "alignmentgroup": "True",
         "hovertemplate": "Sub Category=mmaufc<br>Category=%{x}<br>Values=%{y}<extra></extra>",
         "legendgroup": "mmaufc",
         "marker": {
          "color": "#19d3f3",
          "pattern": {
           "shape": ""
          }
         },
         "name": "mmaufc",
         "offsetgroup": "mmaufc",
         "orientation": "v",
         "showlegend": true,
         "textposition": "auto",
         "type": "bar",
         "x": [
          "sports"
         ],
         "xaxis": "x",
         "y": [
          1
         ],
         "yaxis": "y"
        },
        {
         "alignmentgroup": "True",
         "hovertemplate": "Sub Category=relationships<br>Category=%{x}<br>Values=%{y}<extra></extra>",
         "legendgroup": "relationships",
         "marker": {
          "color": "#FF6692",
          "pattern": {
           "shape": ""
          }
         },
         "name": "relationships",
         "offsetgroup": "relationships",
         "orientation": "v",
         "showlegend": true,
         "textposition": "auto",
         "type": "bar",
         "x": [
          "lifestyle"
         ],
         "xaxis": "x",
         "y": [
          1
         ],
         "yaxis": "y"
        },
        {
         "alignmentgroup": "True",
         "hovertemplate": "Sub Category=othersports<br>Category=%{x}<br>Values=%{y}<extra></extra>",
         "legendgroup": "othersports",
         "marker": {
          "color": "#B6E880",
          "pattern": {
           "shape": ""
          }
         },
         "name": "othersports",
         "offsetgroup": "othersports",
         "orientation": "v",
         "showlegend": true,
         "textposition": "auto",
         "type": "bar",
         "x": [
          "sports"
         ],
         "xaxis": "x",
         "y": [
          1
         ],
         "yaxis": "y"
        },
        {
         "alignmentgroup": "True",
         "hovertemplate": "Sub Category=newselection2020<br>Category=%{x}<br>Values=%{y}<extra></extra>",
         "legendgroup": "newselection2020",
         "marker": {
          "color": "#FF97FF",
          "pattern": {
           "shape": ""
          }
         },
         "name": "newselection2020",
         "offsetgroup": "newselection2020",
         "orientation": "v",
         "showlegend": true,
         "textposition": "auto",
         "type": "bar",
         "x": [
          "news"
         ],
         "xaxis": "x",
         "y": [
          1
         ],
         "yaxis": "y"
        },
        {
         "alignmentgroup": "True",
         "hovertemplate": "Sub Category=foodtips<br>Category=%{x}<br>Values=%{y}<extra></extra>",
         "legendgroup": "foodtips",
         "marker": {
          "color": "#FECB52",
          "pattern": {
           "shape": ""
          }
         },
         "name": "foodtips",
         "offsetgroup": "foodtips",
         "orientation": "v",
         "showlegend": true,
         "textposition": "auto",
         "type": "bar",
         "x": [
          "foodanddrink"
         ],
         "xaxis": "x",
         "y": [
          1
         ],
         "yaxis": "y"
        },
        {
         "alignmentgroup": "True",
         "hovertemplate": "Sub Category=narendramodi_opinion<br>Category=%{x}<br>Values=%{y}<extra></extra>",
         "legendgroup": "narendramodi_opinion",
         "marker": {
          "color": "#636efa",
          "pattern": {
           "shape": ""
          }
         },
         "name": "narendramodi_opinion",
         "offsetgroup": "narendramodi_opinion",
         "orientation": "v",
         "showlegend": true,
         "textposition": "auto",
         "type": "bar",
         "x": [
          "news"
         ],
         "xaxis": "x",
         "y": [
          1
         ],
         "yaxis": "y"
        },
        {
         "alignmentgroup": "True",
         "hovertemplate": "Sub Category=games<br>Category=%{x}<br>Values=%{y}<extra></extra>",
         "legendgroup": "games",
         "marker": {
          "color": "#EF553B",
          "pattern": {
           "shape": ""
          }
         },
         "name": "games",
         "offsetgroup": "games",
         "orientation": "v",
         "showlegend": true,
         "textposition": "auto",
         "type": "bar",
         "x": [
          "entertainment"
         ],
         "xaxis": "x",
         "y": [
          1
         ],
         "yaxis": "y"
        },
        {
         "alignmentgroup": "True",
         "hovertemplate": "Sub Category=indepth<br>Category=%{x}<br>Values=%{y}<extra></extra>",
         "legendgroup": "indepth",
         "marker": {
          "color": "#00cc96",
          "pattern": {
           "shape": ""
          }
         },
         "name": "indepth",
         "offsetgroup": "indepth",
         "orientation": "v",
         "showlegend": true,
         "textposition": "auto",
         "type": "bar",
         "x": [
          "news"
         ],
         "xaxis": "x",
         "y": [
          1
         ],
         "yaxis": "y"
        },
        {
         "alignmentgroup": "True",
         "hovertemplate": "Sub Category=tv<br>Category=%{x}<br>Values=%{y}<extra></extra>",
         "legendgroup": "tv",
         "marker": {
          "color": "#ab63fa",
          "pattern": {
           "shape": ""
          }
         },
         "name": "tv",
         "offsetgroup": "tv",
         "orientation": "v",
         "showlegend": true,
         "textposition": "auto",
         "type": "bar",
         "x": [
          "entertainment"
         ],
         "xaxis": "x",
         "y": [
          1
         ],
         "yaxis": "y"
        },
        {
         "alignmentgroup": "True",
         "hovertemplate": "Sub Category=empowering-the-planet<br>Category=%{x}<br>Values=%{y}<extra></extra>",
         "legendgroup": "empowering-the-planet",
         "marker": {
          "color": "#FFA15A",
          "pattern": {
           "shape": ""
          }
         },
         "name": "empowering-the-planet",
         "offsetgroup": "empowering-the-planet",
         "orientation": "v",
         "showlegend": true,
         "textposition": "auto",
         "type": "bar",
         "x": [
          "news"
         ],
         "xaxis": "x",
         "y": [
          1
         ],
         "yaxis": "y"
        },
        {
         "alignmentgroup": "True",
         "hovertemplate": "Sub Category=healthyliving<br>Category=%{x}<br>Values=%{y}<extra></extra>",
         "legendgroup": "healthyliving",
         "marker": {
          "color": "#19d3f3",
          "pattern": {
           "shape": ""
          }
         },
         "name": "healthyliving",
         "offsetgroup": "healthyliving",
         "orientation": "v",
         "showlegend": true,
         "textposition": "auto",
         "type": "bar",
         "x": [
          "health"
         ],
         "xaxis": "x",
         "y": [
          1
         ],
         "yaxis": "y"
        },
        {
         "alignmentgroup": "True",
         "hovertemplate": "Sub Category=celebhub<br>Category=%{x}<br>Values=%{y}<extra></extra>",
         "legendgroup": "celebhub",
         "marker": {
          "color": "#FF6692",
          "pattern": {
           "shape": ""
          }
         },
         "name": "celebhub",
         "offsetgroup": "celebhub",
         "orientation": "v",
         "showlegend": true,
         "textposition": "auto",
         "type": "bar",
         "x": [
          "entertainment"
         ],
         "xaxis": "x",
         "y": [
          1
         ],
         "yaxis": "y"
        }
       ],
       "layout": {
        "barmode": "relative",
        "legend": {
         "title": {
          "text": "Sub Category"
         },
         "tracegroupgap": 0
        },
        "margin": {
         "t": 60
        },
        "template": {
         "data": {
          "bar": [
           {
            "error_x": {
             "color": "#2a3f5f"
            },
            "error_y": {
             "color": "#2a3f5f"
            },
            "marker": {
             "line": {
              "color": "#E5ECF6",
              "width": 0.5
             },
             "pattern": {
              "fillmode": "overlay",
              "size": 10,
              "solidity": 0.2
             }
            },
            "type": "bar"
           }
          ],
          "barpolar": [
           {
            "marker": {
             "line": {
              "color": "#E5ECF6",
              "width": 0.5
             },
             "pattern": {
              "fillmode": "overlay",
              "size": 10,
              "solidity": 0.2
             }
            },
            "type": "barpolar"
           }
          ],
          "carpet": [
           {
            "aaxis": {
             "endlinecolor": "#2a3f5f",
             "gridcolor": "white",
             "linecolor": "white",
             "minorgridcolor": "white",
             "startlinecolor": "#2a3f5f"
            },
            "baxis": {
             "endlinecolor": "#2a3f5f",
             "gridcolor": "white",
             "linecolor": "white",
             "minorgridcolor": "white",
             "startlinecolor": "#2a3f5f"
            },
            "type": "carpet"
           }
          ],
          "choropleth": [
           {
            "colorbar": {
             "outlinewidth": 0,
             "ticks": ""
            },
            "type": "choropleth"
           }
          ],
          "contour": [
           {
            "colorbar": {
             "outlinewidth": 0,
             "ticks": ""
            },
            "colorscale": [
             [
              0,
              "#0d0887"
             ],
             [
              0.1111111111111111,
              "#46039f"
             ],
             [
              0.2222222222222222,
              "#7201a8"
             ],
             [
              0.3333333333333333,
              "#9c179e"
             ],
             [
              0.4444444444444444,
              "#bd3786"
             ],
             [
              0.5555555555555556,
              "#d8576b"
             ],
             [
              0.6666666666666666,
              "#ed7953"
             ],
             [
              0.7777777777777778,
              "#fb9f3a"
             ],
             [
              0.8888888888888888,
              "#fdca26"
             ],
             [
              1,
              "#f0f921"
             ]
            ],
            "type": "contour"
           }
          ],
          "contourcarpet": [
           {
            "colorbar": {
             "outlinewidth": 0,
             "ticks": ""
            },
            "type": "contourcarpet"
           }
          ],
          "heatmap": [
           {
            "colorbar": {
             "outlinewidth": 0,
             "ticks": ""
            },
            "colorscale": [
             [
              0,
              "#0d0887"
             ],
             [
              0.1111111111111111,
              "#46039f"
             ],
             [
              0.2222222222222222,
              "#7201a8"
             ],
             [
              0.3333333333333333,
              "#9c179e"
             ],
             [
              0.4444444444444444,
              "#bd3786"
             ],
             [
              0.5555555555555556,
              "#d8576b"
             ],
             [
              0.6666666666666666,
              "#ed7953"
             ],
             [
              0.7777777777777778,
              "#fb9f3a"
             ],
             [
              0.8888888888888888,
              "#fdca26"
             ],
             [
              1,
              "#f0f921"
             ]
            ],
            "type": "heatmap"
           }
          ],
          "heatmapgl": [
           {
            "colorbar": {
             "outlinewidth": 0,
             "ticks": ""
            },
            "colorscale": [
             [
              0,
              "#0d0887"
             ],
             [
              0.1111111111111111,
              "#46039f"
             ],
             [
              0.2222222222222222,
              "#7201a8"
             ],
             [
              0.3333333333333333,
              "#9c179e"
             ],
             [
              0.4444444444444444,
              "#bd3786"
             ],
             [
              0.5555555555555556,
              "#d8576b"
             ],
             [
              0.6666666666666666,
              "#ed7953"
             ],
             [
              0.7777777777777778,
              "#fb9f3a"
             ],
             [
              0.8888888888888888,
              "#fdca26"
             ],
             [
              1,
              "#f0f921"
             ]
            ],
            "type": "heatmapgl"
           }
          ],
          "histogram": [
           {
            "marker": {
             "pattern": {
              "fillmode": "overlay",
              "size": 10,
              "solidity": 0.2
             }
            },
            "type": "histogram"
           }
          ],
          "histogram2d": [
           {
            "colorbar": {
             "outlinewidth": 0,
             "ticks": ""
            },
            "colorscale": [
             [
              0,
              "#0d0887"
             ],
             [
              0.1111111111111111,
              "#46039f"
             ],
             [
              0.2222222222222222,
              "#7201a8"
             ],
             [
              0.3333333333333333,
              "#9c179e"
             ],
             [
              0.4444444444444444,
              "#bd3786"
             ],
             [
              0.5555555555555556,
              "#d8576b"
             ],
             [
              0.6666666666666666,
              "#ed7953"
             ],
             [
              0.7777777777777778,
              "#fb9f3a"
             ],
             [
              0.8888888888888888,
              "#fdca26"
             ],
             [
              1,
              "#f0f921"
             ]
            ],
            "type": "histogram2d"
           }
          ],
          "histogram2dcontour": [
           {
            "colorbar": {
             "outlinewidth": 0,
             "ticks": ""
            },
            "colorscale": [
             [
              0,
              "#0d0887"
             ],
             [
              0.1111111111111111,
              "#46039f"
             ],
             [
              0.2222222222222222,
              "#7201a8"
             ],
             [
              0.3333333333333333,
              "#9c179e"
             ],
             [
              0.4444444444444444,
              "#bd3786"
             ],
             [
              0.5555555555555556,
              "#d8576b"
             ],
             [
              0.6666666666666666,
              "#ed7953"
             ],
             [
              0.7777777777777778,
              "#fb9f3a"
             ],
             [
              0.8888888888888888,
              "#fdca26"
             ],
             [
              1,
              "#f0f921"
             ]
            ],
            "type": "histogram2dcontour"
           }
          ],
          "mesh3d": [
           {
            "colorbar": {
             "outlinewidth": 0,
             "ticks": ""
            },
            "type": "mesh3d"
           }
          ],
          "parcoords": [
           {
            "line": {
             "colorbar": {
              "outlinewidth": 0,
              "ticks": ""
             }
            },
            "type": "parcoords"
           }
          ],
          "pie": [
           {
            "automargin": true,
            "type": "pie"
           }
          ],
          "scatter": [
           {
            "fillpattern": {
             "fillmode": "overlay",
             "size": 10,
             "solidity": 0.2
            },
            "type": "scatter"
           }
          ],
          "scatter3d": [
           {
            "line": {
             "colorbar": {
              "outlinewidth": 0,
              "ticks": ""
             }
            },
            "marker": {
             "colorbar": {
              "outlinewidth": 0,
              "ticks": ""
             }
            },
            "type": "scatter3d"
           }
          ],
          "scattercarpet": [
           {
            "marker": {
             "colorbar": {
              "outlinewidth": 0,
              "ticks": ""
             }
            },
            "type": "scattercarpet"
           }
          ],
          "scattergeo": [
           {
            "marker": {
             "colorbar": {
              "outlinewidth": 0,
              "ticks": ""
             }
            },
            "type": "scattergeo"
           }
          ],
          "scattergl": [
           {
            "marker": {
             "colorbar": {
              "outlinewidth": 0,
              "ticks": ""
             }
            },
            "type": "scattergl"
           }
          ],
          "scattermapbox": [
           {
            "marker": {
             "colorbar": {
              "outlinewidth": 0,
              "ticks": ""
             }
            },
            "type": "scattermapbox"
           }
          ],
          "scatterpolar": [
           {
            "marker": {
             "colorbar": {
              "outlinewidth": 0,
              "ticks": ""
             }
            },
            "type": "scatterpolar"
           }
          ],
          "scatterpolargl": [
           {
            "marker": {
             "colorbar": {
              "outlinewidth": 0,
              "ticks": ""
             }
            },
            "type": "scatterpolargl"
           }
          ],
          "scatterternary": [
           {
            "marker": {
             "colorbar": {
              "outlinewidth": 0,
              "ticks": ""
             }
            },
            "type": "scatterternary"
           }
          ],
          "surface": [
           {
            "colorbar": {
             "outlinewidth": 0,
             "ticks": ""
            },
            "colorscale": [
             [
              0,
              "#0d0887"
             ],
             [
              0.1111111111111111,
              "#46039f"
             ],
             [
              0.2222222222222222,
              "#7201a8"
             ],
             [
              0.3333333333333333,
              "#9c179e"
             ],
             [
              0.4444444444444444,
              "#bd3786"
             ],
             [
              0.5555555555555556,
              "#d8576b"
             ],
             [
              0.6666666666666666,
              "#ed7953"
             ],
             [
              0.7777777777777778,
              "#fb9f3a"
             ],
             [
              0.8888888888888888,
              "#fdca26"
             ],
             [
              1,
              "#f0f921"
             ]
            ],
            "type": "surface"
           }
          ],
          "table": [
           {
            "cells": {
             "fill": {
              "color": "#EBF0F8"
             },
             "line": {
              "color": "white"
             }
            },
            "header": {
             "fill": {
              "color": "#C8D4E3"
             },
             "line": {
              "color": "white"
             }
            },
            "type": "table"
           }
          ]
         },
         "layout": {
          "annotationdefaults": {
           "arrowcolor": "#2a3f5f",
           "arrowhead": 0,
           "arrowwidth": 1
          },
          "autotypenumbers": "strict",
          "coloraxis": {
           "colorbar": {
            "outlinewidth": 0,
            "ticks": ""
           }
          },
          "colorscale": {
           "diverging": [
            [
             0,
             "#8e0152"
            ],
            [
             0.1,
             "#c51b7d"
            ],
            [
             0.2,
             "#de77ae"
            ],
            [
             0.3,
             "#f1b6da"
            ],
            [
             0.4,
             "#fde0ef"
            ],
            [
             0.5,
             "#f7f7f7"
            ],
            [
             0.6,
             "#e6f5d0"
            ],
            [
             0.7,
             "#b8e186"
            ],
            [
             0.8,
             "#7fbc41"
            ],
            [
             0.9,
             "#4d9221"
            ],
            [
             1,
             "#276419"
            ]
           ],
           "sequential": [
            [
             0,
             "#0d0887"
            ],
            [
             0.1111111111111111,
             "#46039f"
            ],
            [
             0.2222222222222222,
             "#7201a8"
            ],
            [
             0.3333333333333333,
             "#9c179e"
            ],
            [
             0.4444444444444444,
             "#bd3786"
            ],
            [
             0.5555555555555556,
             "#d8576b"
            ],
            [
             0.6666666666666666,
             "#ed7953"
            ],
            [
             0.7777777777777778,
             "#fb9f3a"
            ],
            [
             0.8888888888888888,
             "#fdca26"
            ],
            [
             1,
             "#f0f921"
            ]
           ],
           "sequentialminus": [
            [
             0,
             "#0d0887"
            ],
            [
             0.1111111111111111,
             "#46039f"
            ],
            [
             0.2222222222222222,
             "#7201a8"
            ],
            [
             0.3333333333333333,
             "#9c179e"
            ],
            [
             0.4444444444444444,
             "#bd3786"
            ],
            [
             0.5555555555555556,
             "#d8576b"
            ],
            [
             0.6666666666666666,
             "#ed7953"
            ],
            [
             0.7777777777777778,
             "#fb9f3a"
            ],
            [
             0.8888888888888888,
             "#fdca26"
            ],
            [
             1,
             "#f0f921"
            ]
           ]
          },
          "colorway": [
           "#636efa",
           "#EF553B",
           "#00cc96",
           "#ab63fa",
           "#FFA15A",
           "#19d3f3",
           "#FF6692",
           "#B6E880",
           "#FF97FF",
           "#FECB52"
          ],
          "font": {
           "color": "#2a3f5f"
          },
          "geo": {
           "bgcolor": "white",
           "lakecolor": "white",
           "landcolor": "#E5ECF6",
           "showlakes": true,
           "showland": true,
           "subunitcolor": "white"
          },
          "hoverlabel": {
           "align": "left"
          },
          "hovermode": "closest",
          "mapbox": {
           "style": "light"
          },
          "paper_bgcolor": "white",
          "plot_bgcolor": "#E5ECF6",
          "polar": {
           "angularaxis": {
            "gridcolor": "white",
            "linecolor": "white",
            "ticks": ""
           },
           "bgcolor": "#E5ECF6",
           "radialaxis": {
            "gridcolor": "white",
            "linecolor": "white",
            "ticks": ""
           }
          },
          "scene": {
           "xaxis": {
            "backgroundcolor": "#E5ECF6",
            "gridcolor": "white",
            "gridwidth": 2,
            "linecolor": "white",
            "showbackground": true,
            "ticks": "",
            "zerolinecolor": "white"
           },
           "yaxis": {
            "backgroundcolor": "#E5ECF6",
            "gridcolor": "white",
            "gridwidth": 2,
            "linecolor": "white",
            "showbackground": true,
            "ticks": "",
            "zerolinecolor": "white"
           },
           "zaxis": {
            "backgroundcolor": "#E5ECF6",
            "gridcolor": "white",
            "gridwidth": 2,
            "linecolor": "white",
            "showbackground": true,
            "ticks": "",
            "zerolinecolor": "white"
           }
          },
          "shapedefaults": {
           "line": {
            "color": "#2a3f5f"
           }
          },
          "ternary": {
           "aaxis": {
            "gridcolor": "white",
            "linecolor": "white",
            "ticks": ""
           },
           "baxis": {
            "gridcolor": "white",
            "linecolor": "white",
            "ticks": ""
           },
           "bgcolor": "#E5ECF6",
           "caxis": {
            "gridcolor": "white",
            "linecolor": "white",
            "ticks": ""
           }
          },
          "title": {
           "x": 0.05
          },
          "xaxis": {
           "automargin": true,
           "gridcolor": "white",
           "linecolor": "white",
           "ticks": "",
           "title": {
            "standoff": 15
           },
           "zerolinecolor": "white",
           "zerolinewidth": 2
          },
          "yaxis": {
           "automargin": true,
           "gridcolor": "white",
           "linecolor": "white",
           "ticks": "",
           "title": {
            "standoff": 15
           },
           "zerolinecolor": "white",
           "zerolinewidth": 2
          }
         }
        },
        "xaxis": {
         "anchor": "y",
         "domain": [
          0,
          1
         ],
         "title": {
          "text": "Category"
         }
        },
        "yaxis": {
         "anchor": "x",
         "domain": [
          0,
          1
         ],
         "title": {
          "text": "Values"
         }
        }
       }
      }
     },
     "metadata": {},
     "output_type": "display_data"
    }
   ],
   "source": [
    "px.bar(data_frame=news_df,x='Category',y='Values',color='Sub Category')"
   ]
  },
  {
   "cell_type": "code",
   "execution_count": 9,
   "metadata": {
    "colab": {
     "base_uri": "https://localhost:8080/",
     "height": 493
    },
    "id": "PudpnYQ-_R5a",
    "outputId": "df3a062f-206c-404e-ba79-21f609d6b7ce"
   },
   "outputs": [
    {
     "name": "stderr",
     "output_type": "stream",
     "text": [
      "[nltk_data] Downloading package punkt to\n",
      "[nltk_data]     C:\\Users\\fabia\\AppData\\Roaming\\nltk_data...\n",
      "[nltk_data]   Package punkt is already up-to-date!\n",
      "[nltk_data] Downloading package stopwords to\n",
      "[nltk_data]     C:\\Users\\fabia\\AppData\\Roaming\\nltk_data...\n",
      "[nltk_data]   Package stopwords is already up-to-date!\n"
     ]
    },
    {
     "data": {
      "image/png": "[encoded data removed]",
      "text/plain": [
       "<Figure size 1000x600 with 1 Axes>"
      ]
     },
     "metadata": {},
     "output_type": "display_data"
    }
   ],
   "source": [
    "text=' '\n",
    "for i in news[news['Category']=='news']['Title']:\n",
    "    text += i + ' '\n",
    "\n",
    "# Make the figure\n",
    "nltk.download('punkt')\n",
    "nltk.download('stopwords')\n",
    "\n",
    "\n",
    "words = nltk.word_tokenize(text)\n",
    "stop_words = set(stopwords.words('english'))\n",
    "words = [word for word in words if word.lower() not in stop_words]\n",
    "\n",
    "text = ' '.join(words)\n",
    "\n",
    "wordcloud = WordCloud(width=800, height=400, background_color='white').generate(text)\n",
    "plt.figure(figsize=(10, 6))\n",
    "plt.imshow(wordcloud, interpolation=\"bilinear\")\n",
    "plt.axis(\"off\")\n",
    "\n",
    "plt.show()"
   ]
  },
  {
   "cell_type": "code",
   "execution_count": 10,
   "metadata": {
    "id": "LoV8959WAK4F"
   },
   "outputs": [],
   "source": [
    "# Load data\n",
    "behaviors = pd.read_csv('small_test_data/behaviors.tsv', delimiter='\\t', header=None)\n",
    "news = pd.read_csv('small_test_data/news.tsv', delimiter='\\t', header=None)\n",
    "\n",
    "# Naming columns\n",
    "behaviors.columns = [\"impression_id\", \"user_id\", \"time\", \"history\", \"impressions\"]\n",
    "news.columns = [\"news_id\", \"category\", \"subcategory\", \"title\", \"abstract\", \"url\", \"title_entities\", \"abstract_entities\"]\n",
    "\n",
    "# Extracting clicked news from behaviors, this is a column of lists of the clicked news (tagget with 1) for each impression\n",
    "behaviors['clicked_news'] = behaviors['impressions'].apply(lambda x: [imp.split('-')[0] for imp in x.split() if imp.split('-')[1] == '1'])\n",
    "\n",
    "# Flattening the clicked news and associating with user_id, that means we divide the lists into one row for each clicked news\n",
    "clicked_news = behaviors.explode('clicked_news')[['user_id', 'clicked_news']].dropna()\n",
    "\n",
    "# Encoding user_id and news_id as categorical variables for memory and computation efficiency\n",
    "clicked_news['user_id'] = clicked_news['user_id'].astype(\"category\")\n",
    "clicked_news['clicked_news'] = clicked_news['clicked_news'].astype(\"category\")\n"
   ]
  },
  {
   "cell_type": "code",
   "execution_count": 11,
   "metadata": {
    "colab": {
     "base_uri": "https://localhost:8080/"
    },
    "id": "n1zW3g8-uXWH",
    "outputId": "2f614c1a-7890-4ea9-8446-be127a2f8461"
   },
   "outputs": [
    {
     "name": "stdout",
     "output_type": "stream",
     "text": [
      "0    [{\"Label\": \"Prince Philip, Duke of Edinburgh\",...\n",
      "1    [{\"Label\": \"Drug Enforcement Administration\", ...\n",
      "2                                                   []\n",
      "3                                                   []\n",
      "4    [{\"Label\": \"Skin tag\", \"Type\": \"C\", \"WikidataI...\n",
      "Name: title_entities, dtype: object\n"
     ]
    }
   ],
   "source": [
    "# Print out the \"title_entities\" and \"abstract_entities\" columns\n",
    "print(news[\"title_entities\"].head())  # Print first 5 rows of \"title_entities\"\n"
   ]
  },
  {
   "cell_type": "code",
   "execution_count": 12,
   "metadata": {
    "colab": {
     "base_uri": "https://localhost:8080/"
    },
    "id": "1Mbc7AV2wztj",
    "outputId": "0786a5a3-022c-4fa6-df8c-5887dea437ec"
   },
   "outputs": [
    {
     "name": "stdout",
     "output_type": "stream",
     "text": [
      "0                                                   []\n",
      "1                                                   []\n",
      "2    [{\"Label\": \"Ukraine\", \"Type\": \"G\", \"WikidataId...\n",
      "3    [{\"Label\": \"National Basketball Association\", ...\n",
      "4    [{\"Label\": \"Skin tag\", \"Type\": \"C\", \"WikidataI...\n",
      "Name: abstract_entities, dtype: object\n"
     ]
    }
   ],
   "source": [
    "print(news[\"abstract_entities\"].head())  # Print first 5 rows of \"abstract_entities\""
   ]
  },
  {
   "cell_type": "code",
   "execution_count": 13,
   "metadata": {
    "id": "OqK_9y6mxHTN"
   },
   "outputs": [],
   "source": [
    "#Here we make a user-item interaction matrix\n",
    "# Creating a sparse matrix, this is only composed by positive interactions (all ones) since we'll use KNN and it's way faster\n",
    "#(i, j) i is the item index in rows, j is the user index in columns\n",
    "interaction_matrix = csr_matrix(\n",
    "    (\n",
    "        np.ones(clicked_news.shape[0]),\n",
    "        (\n",
    "            clicked_news['clicked_news'].cat.codes.copy(),\n",
    "            clicked_news['user_id'].cat.codes.copy()\n",
    "        )\n",
    "    )\n",
    ")"
   ]
  },
  {
   "cell_type": "code",
   "execution_count": 14,
   "metadata": {
    "id": "M4XZrg3Ky1gN"
   },
   "outputs": [],
   "source": [
    "# Ensure we're working with unique user and item IDs\n",
    "unique_users = clicked_news['user_id'].drop_duplicates().reset_index(drop=True)\n",
    "unique_items = clicked_news['clicked_news'].drop_duplicates().reset_index(drop=True)\n",
    "\n",
    "# Create mappings from IDs to indices\n",
    "user_to_idx = pd.Series(data=np.arange(len(unique_users)), index=unique_users)\n",
    "item_to_idx = pd.Series(data=np.arange(len(unique_items)), index=unique_items)\n",
    "\n",
    "# Create mappings from indices to IDs\n",
    "idx_to_user = pd.Series(data=unique_users, index=np.arange(len(unique_users)))\n",
    "idx_to_item = pd.Series(data=unique_items, index=np.arange(len(unique_items)))"
   ]
  },
  {
   "cell_type": "code",
   "execution_count": 15,
   "metadata": {
    "colab": {
     "base_uri": "https://localhost:8080/",
     "height": 75
    },
    "id": "D8AC0OiczZJs",
    "outputId": "f9adc2e0-1b14-4da7-a2df-e4cd6e084653"
   },
   "outputs": [
    {
     "data": {
      "text/html": [
       "<style>#sk-container-id-1 {color: black;background-color: white;}#sk-container-id-1 pre{padding: 0;}#sk-container-id-1 div.sk-toggleable {background-color: white;}#sk-container-id-1 label.sk-toggleable__label {cursor: pointer;display: block;width: 100%;margin-bottom: 0;padding: 0.3em;box-sizing: border-box;text-align: center;}#sk-container-id-1 label.sk-toggleable__label-arrow:before {content: \"▸\";float: left;margin-right: 0.25em;color: #696969;}#sk-container-id-1 label.sk-toggleable__label-arrow:hover:before {color: black;}#sk-container-id-1 div.sk-estimator:hover label.sk-toggleable__label-arrow:before {color: black;}#sk-container-id-1 div.sk-toggleable__content {max-height: 0;max-width: 0;overflow: hidden;text-align: left;background-color: #f0f8ff;}#sk-container-id-1 div.sk-toggleable__content pre {margin: 0.2em;color: black;border-radius: 0.25em;background-color: #f0f8ff;}#sk-container-id-1 input.sk-toggleable__control:checked~div.sk-toggleable__content {max-height: 200px;max-width: 100%;overflow: auto;}#sk-container-id-1 input.sk-toggleable__control:checked~label.sk-toggleable__label-arrow:before {content: \"▾\";}#sk-container-id-1 div.sk-estimator input.sk-toggleable__control:checked~label.sk-toggleable__label {background-color: #d4ebff;}#sk-container-id-1 div.sk-label input.sk-toggleable__control:checked~label.sk-toggleable__label {background-color: #d4ebff;}#sk-container-id-1 input.sk-hidden--visually {border: 0;clip: rect(1px 1px 1px 1px);clip: rect(1px, 1px, 1px, 1px);height: 1px;margin: -1px;overflow: hidden;padding: 0;position: absolute;width: 1px;}#sk-container-id-1 div.sk-estimator {font-family: monospace;background-color: #f0f8ff;border: 1px dotted black;border-radius: 0.25em;box-sizing: border-box;margin-bottom: 0.5em;}#sk-container-id-1 div.sk-estimator:hover {background-color: #d4ebff;}#sk-container-id-1 div.sk-parallel-item::after {content: \"\";width: 100%;border-bottom: 1px solid gray;flex-grow: 1;}#sk-container-id-1 div.sk-label:hover label.sk-toggleable__label {background-color: #d4ebff;}#sk-container-id-1 div.sk-serial::before {content: \"\";position: absolute;border-left: 1px solid gray;box-sizing: border-box;top: 0;bottom: 0;left: 50%;z-index: 0;}#sk-container-id-1 div.sk-serial {display: flex;flex-direction: column;align-items: center;background-color: white;padding-right: 0.2em;padding-left: 0.2em;position: relative;}#sk-container-id-1 div.sk-item {position: relative;z-index: 1;}#sk-container-id-1 div.sk-parallel {display: flex;align-items: stretch;justify-content: center;background-color: white;position: relative;}#sk-container-id-1 div.sk-item::before, #sk-container-id-1 div.sk-parallel-item::before {content: \"\";position: absolute;border-left: 1px solid gray;box-sizing: border-box;top: 0;bottom: 0;left: 50%;z-index: -1;}#sk-container-id-1 div.sk-parallel-item {display: flex;flex-direction: column;z-index: 1;position: relative;background-color: white;}#sk-container-id-1 div.sk-parallel-item:first-child::after {align-self: flex-end;width: 50%;}#sk-container-id-1 div.sk-parallel-item:last-child::after {align-self: flex-start;width: 50%;}#sk-container-id-1 div.sk-parallel-item:only-child::after {width: 0;}#sk-container-id-1 div.sk-dashed-wrapped {border: 1px dashed gray;margin: 0 0.4em 0.5em 0.4em;box-sizing: border-box;padding-bottom: 0.4em;background-color: white;}#sk-container-id-1 div.sk-label label {font-family: monospace;font-weight: bold;display: inline-block;line-height: 1.2em;}#sk-container-id-1 div.sk-label-container {text-align: center;}#sk-container-id-1 div.sk-container {/* jupyter's `normalize.less` sets `[hidden] { display: none; }` but bootstrap.min.css set `[hidden] { display: none !important; }` so we also need the `!important` here to be able to override the default hidden behavior on the sphinx rendered scikit-learn.org. See: https://github.com/scikit-learn/scikit-learn/issues/21755 */display: inline-block !important;position: relative;}#sk-container-id-1 div.sk-text-repr-fallback {display: none;}</style><div id=\"sk-container-id-1\" class=\"sk-top-container\"><div class=\"sk-text-repr-fallback\"><pre>NearestNeighbors(algorithm=&#x27;brute&#x27;, metric=&#x27;cosine&#x27;, n_jobs=-1, n_neighbors=20)</pre><b>In a Jupyter environment, please rerun this cell to show the HTML representation or trust the notebook. <br />On GitHub, the HTML representation is unable to render, please try loading this page with nbviewer.org.</b></div><div class=\"sk-container\" hidden><div class=\"sk-item\"><div class=\"sk-estimator sk-toggleable\"><input class=\"sk-toggleable__control sk-hidden--visually\" id=\"sk-estimator-id-1\" type=\"checkbox\" checked><label for=\"sk-estimator-id-1\" class=\"sk-toggleable__label sk-toggleable__label-arrow\">NearestNeighbors</label><div class=\"sk-toggleable__content\"><pre>NearestNeighbors(algorithm=&#x27;brute&#x27;, metric=&#x27;cosine&#x27;, n_jobs=-1, n_neighbors=20)</pre></div></div></div></div></div>"
      ],
      "text/plain": [
       "NearestNeighbors(algorithm='brute', metric='cosine', n_jobs=-1, n_neighbors=20)"
      ]
     },
     "execution_count": 15,
     "metadata": {},
     "output_type": "execute_result"
    }
   ],
   "source": [
    "# Compute Item Similarity using k-Nearest Neighbors\n",
    "# Initialize the model, we choose cosine similarity due to the high dimensionality and sparsity of user interactions\n",
    "# tipically a user interacts only with a small fraction of the news\n",
    "\n",
    "model_knn = NearestNeighbors(metric='cosine', algorithm='brute', n_neighbors=20, n_jobs=-1)\n",
    "\n",
    "# Fit the model\n",
    "model_knn.fit(interaction_matrix) "
   ]
  },
  {
   "cell_type": "code",
   "execution_count": 16,
   "metadata": {
    "colab": {
     "base_uri": "https://localhost:8080/"
    },
    "id": "27uXucPHEH_B",
    "outputId": "d2348f86-f1f7-41d5-95f1-71919febba12"
   },
   "outputs": [
    {
     "name": "stdout",
     "output_type": "stream",
     "text": [
      "  (0, 17144)\t1.0\n",
      "  (1, 44093)\t1.0\n",
      "  (2, 286)\t1.0\n",
      "  (2, 1891)\t1.0\n",
      "  (2, 2424)\t1.0\n",
      "  (2, 2658)\t1.0\n",
      "  (2, 4989)\t1.0\n",
      "  (2, 5575)\t1.0\n",
      "  (2, 7067)\t1.0\n",
      "  (2, 7806)\t1.0\n",
      "  (2, 8414)\t1.0\n",
      "  (2, 9473)\t1.0\n",
      "  (2, 11723)\t1.0\n",
      "  (2, 17581)\t1.0\n",
      "  (2, 19578)\t1.0\n",
      "  (2, 21093)\t1.0\n",
      "  (2, 25839)\t1.0\n",
      "  (2, 25922)\t1.0\n",
      "  (2, 27310)\t1.0\n",
      "  (2, 27321)\t1.0\n",
      "  (2, 30589)\t1.0\n",
      "  (2, 30655)\t1.0\n",
      "  (2, 31073)\t1.0\n",
      "  (2, 31670)\t1.0\n",
      "  (2, 32390)\t1.0\n",
      "  :\t:\n",
      "  (2206, 14853)\t1.0\n",
      "  (2206, 22614)\t1.0\n",
      "  (2206, 34916)\t1.0\n",
      "  (2207, 18824)\t1.0\n",
      "  (2207, 31504)\t1.0\n",
      "  (2208, 23131)\t1.0\n",
      "  (2208, 36600)\t1.0\n",
      "  (2209, 196)\t1.0\n",
      "  (2209, 1170)\t1.0\n",
      "  (2209, 6683)\t1.0\n",
      "  (2209, 12568)\t1.0\n",
      "  (2209, 15456)\t1.0\n",
      "  (2209, 15956)\t1.0\n",
      "  (2209, 18372)\t1.0\n",
      "  (2209, 18736)\t1.0\n",
      "  (2209, 33549)\t1.0\n",
      "  (2209, 48102)\t1.0\n",
      "  (2210, 38801)\t1.0\n",
      "  (2211, 3941)\t1.0\n",
      "  (2211, 9550)\t1.0\n",
      "  (2211, 16910)\t1.0\n",
      "  (2211, 18661)\t1.0\n",
      "  (2211, 27577)\t1.0\n",
      "  (2211, 27630)\t1.0\n",
      "  (2211, 46956)\t1.0\n"
     ]
    }
   ],
   "source": [
    "print(interaction_matrix)"
   ]
  },
  {
   "cell_type": "code",
   "execution_count": 17,
   "metadata": {
    "id": "gRjWHAaO0-kW"
   },
   "outputs": [],
   "source": [
    "def recommend(user_id, interaction_matrix, model_knn, k=5):\n",
    "    \"\"\"\n",
    "      Recommends k news articles for a given user.\n",
    "\n",
    "      Parameters:\n",
    "          user_id (str): The ID of the user.\n",
    "          interaction_matrix (csr_matrix): The user-item interaction matrix.\n",
    "          model_knn (NearestNeighbors): The k-NN model.\n",
    "          k (int): The number of recommendations to generate.\n",
    "\n",
    "      Returns:\n",
    "          list: k recommended news article IDs.\n",
    "    \"\"\"\n",
    "\n",
    "    if user_id not in user_to_idx:\n",
    "        print(f\"User ID {user_id} not found.\")\n",
    "        return []\n",
    "\n",
    "    # Find the indices of items the user has interacted with\n",
    "    interacted_indices = interaction_matrix[:, user_to_idx[user_id]].nonzero()[0]\n",
    "\n",
    "    # Find similar items for each item the user has interacted with\n",
    "    similar_items = set()\n",
    "\n",
    "    for item_idx in interacted_indices:\n",
    "        # Ensure the input to kneighbors is 2D: (1, n_users)\n",
    "        item_vector = interaction_matrix[item_idx].reshape(1, -1)\n",
    "        # Find similar items\n",
    "        _, similar_item_indices = model_knn.kneighbors(item_vector, n_neighbors=k+1)\n",
    "        #print(similar_item_indices)\n",
    "\n",
    "        # Add the similar items to the set, excluding items the user has interacted with\n",
    "        similar_items.update(idx for idx in similar_item_indices.flatten() if idx not in interacted_indices)\n",
    "\n",
    "    # Recommend top-k items\n",
    "    recommended_item_ids = [idx_to_item.get(idx, \"Unknown\") for idx in similar_items][:k]\n",
    "\n",
    "    return recommended_item_ids"
   ]
  },
  {
   "cell_type": "code",
   "execution_count": 18,
   "metadata": {
    "colab": {
     "base_uri": "https://localhost:8080/"
    },
    "id": "2KxSDkBc3aYM",
    "outputId": "6d4f3c41-0dbb-4d3b-eb51-fa82994356ff"
   },
   "outputs": [
    {
     "name": "stdout",
     "output_type": "stream",
     "text": [
      "user_id\n",
      "U38741    18\n",
      "U67841    15\n",
      "U86264    12\n",
      "U82600    12\n",
      "U32122    12\n",
      "U33620    11\n",
      "U79684    11\n",
      "U9210     11\n",
      "U67330    11\n",
      "U18874    11\n",
      "Name: count, dtype: int64\n"
     ]
    }
   ],
   "source": [
    "top_users = behaviors['user_id'].value_counts().head(n=10)  # n is the number of top users you want to retrieve\n",
    "\n",
    "print(top_users)"
   ]
  },
  {
   "cell_type": "code",
   "execution_count": 19,
   "metadata": {
    "id": "XJmJs1hG1LED"
   },
   "outputs": [],
   "source": [
    "recommended_articles = recommend('U44201', interaction_matrix, model_knn, k=5)"
   ]
  },
  {
   "cell_type": "code",
   "execution_count": 20,
   "metadata": {
    "colab": {
     "base_uri": "https://localhost:8080/"
    },
    "id": "7YZjghCU9CZ-",
    "outputId": "ca792aac-6d0f-4446-c19e-aa8380e1566a"
   },
   "outputs": [
    {
     "name": "stdout",
     "output_type": "stream",
     "text": [
      "(1, 50000)\n"
     ]
    }
   ],
   "source": [
    "interacted_indices = interaction_matrix[:, user_to_idx['U44201']].nonzero()[0]\n",
    "print(interaction_matrix[interacted_indices[0]].shape)"
   ]
  },
  {
   "cell_type": "code",
   "execution_count": 21,
   "metadata": {
    "colab": {
     "base_uri": "https://localhost:8080/"
    },
    "id": "0CIqUdNi_Z7L",
    "outputId": "1245e87d-9e81-4f57-f201-010048276c93"
   },
   "outputs": [
    {
     "name": "stdout",
     "output_type": "stream",
     "text": [
      "['N2761', 'N44146', 'N3745', 'N8114', 'N5874']\n"
     ]
    }
   ],
   "source": [
    "print(recommended_articles)"
   ]
  }
 ],
 "metadata": {
  "colab": {
   "provenance": []
  },
  "kernelspec": {
   "display_name": "Python 3 (ipykernel)",
   "language": "python",
   "name": "python3"
  },
  "language_info": {
   "codemirror_mode": {
    "name": "ipython",
    "version": 3
   },
   "file_extension": ".py",
   "mimetype": "text/x-python",
   "name": "python",
   "nbconvert_exporter": "python",
   "pygments_lexer": "ipython3",
   "version": "3.8.16"
  }
 },
 "nbformat": 4,
 "nbformat_minor": 1
}

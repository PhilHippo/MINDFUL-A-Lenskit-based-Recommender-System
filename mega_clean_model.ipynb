{
 "cells": [
  {
   "cell_type": "code",
   "execution_count": 1,
   "id": "b2350fd8",
   "metadata": {
    "ExecuteTime": {
     "end_time": "2023-10-15T12:25:00.101260200Z",
     "start_time": "2023-10-15T12:24:58.841696700Z"
    }
   },
   "outputs": [],
   "source": [
    "import pandas as pd\n",
    "import numpy as np\n",
    "import matplotlib.pyplot as plt\n",
    "import seaborn as sns\n",
    "import random\n",
    "import math\n",
    "import json\n",
    "\n",
    "from sklearn.feature_extraction.text import TfidfVectorizer\n",
    "from sklearn.metrics.pairwise import cosine_similarity\n",
    "from scipy.sparse import coo_matrix\n",
    "from sklearn.metrics.pairwise import cosine_similarity"
   ]
  },
  {
   "cell_type": "markdown",
   "id": "37307b34",
   "metadata": {},
   "source": [
    " # Data preprocessing"
   ]
  },
  {
   "cell_type": "code",
   "execution_count": 2,
   "id": "b6c971fb",
   "metadata": {
    "ExecuteTime": {
     "end_time": "2023-10-15T12:25:19.169615400Z",
     "start_time": "2023-10-15T12:25:14.679279100Z"
    }
   },
   "outputs": [],
   "source": [
    "# Load data\n",
    "behaviors = pd.read_csv('./small_training_data/behaviors.tsv', delimiter='\\t', header=None)\n",
    "news = pd.read_csv('./small_training_data/news.tsv', delimiter='\\t', header=None)\n",
    "\n",
    "# Naming columns\n",
    "behaviors.columns = [\"impression_id\", \"user_id\", \"time\", \"history\", \"impressions\"]\n",
    "news.columns = [\"news_id\", \"category\", \"subcategory\", \"title\", \"abstract\", \"url\", \"title_entities\", \"abstract_entities\"]"
   ]
  },
  {
   "cell_type": "code",
   "execution_count": 3,
   "id": "5931b2bf",
   "metadata": {
    "ExecuteTime": {
     "end_time": "2023-10-15T12:25:19.972788700Z",
     "start_time": "2023-10-15T12:25:19.892783100Z"
    }
   },
   "outputs": [],
   "source": [
    "# Remove NaN values in the 'abstract' column\n",
    "news = news.dropna(subset=['abstract'])\n",
    "\n",
    "# list of valid news (with some abstract)\n",
    "valid_news_ids = set(news['news_id'])"
   ]
  },
  {
   "cell_type": "code",
   "execution_count": 4,
   "id": "03927cb7",
   "metadata": {
    "ExecuteTime": {
     "end_time": "2023-10-15T12:25:24.180604700Z",
     "start_time": "2023-10-15T12:25:20.943585800Z"
    }
   },
   "outputs": [],
   "source": [
    "# Extracting clicked news from behaviors, this is a column of lists of the clicked news (tagget with 1) for each impression\n",
    "behaviors['clicked_news'] = behaviors['impressions'].apply(lambda x: [imp.split('-')[0] for imp in x.split() if imp.split('-')[1] == '1'])"
   ]
  },
  {
   "cell_type": "code",
   "execution_count": 5,
   "id": "7cb35b74",
   "metadata": {
    "ExecuteTime": {
     "end_time": "2023-10-15T12:25:25.402729Z",
     "start_time": "2023-10-15T12:25:25.257117900Z"
    }
   },
   "outputs": [],
   "source": [
    "#removing unused columns\n",
    "behaviors = behaviors[[\"impression_id\", \"user_id\", \"clicked_news\"]]"
   ]
  },
  {
   "cell_type": "code",
   "execution_count": 6,
   "id": "6382eae2",
   "metadata": {
    "ExecuteTime": {
     "end_time": "2023-10-15T12:25:26.615855800Z",
     "start_time": "2023-10-15T12:25:26.360979500Z"
    }
   },
   "outputs": [],
   "source": [
    "# Flattening the clicked news and associating with user_id, that means we divide the lists into one row for each clicked news\n",
    "clicked_news = behaviors.explode('clicked_news')[['user_id', 'clicked_news']]"
   ]
  },
  {
   "cell_type": "code",
   "execution_count": 7,
   "id": "3c005d34",
   "metadata": {
    "ExecuteTime": {
     "end_time": "2023-10-15T12:25:27.480461800Z",
     "start_time": "2023-10-15T12:25:27.302937100Z"
    }
   },
   "outputs": [],
   "source": [
    "#remove non valid news from interactions\n",
    "clicked_news = clicked_news[clicked_news['clicked_news'].isin(valid_news_ids)]"
   ]
  },
  {
   "cell_type": "code",
   "execution_count": 8,
   "id": "4212f68e",
   "metadata": {
    "ExecuteTime": {
     "end_time": "2023-10-15T12:25:30.368290100Z",
     "start_time": "2023-10-15T12:25:28.065521Z"
    }
   },
   "outputs": [],
   "source": [
    "# Filtering users with more than 4 news clicked since the distribution is 'ultra-skewed'\n",
    "clicked_news = clicked_news.groupby('user_id').filter(lambda x: len(x) > 4)"
   ]
  },
  {
   "cell_type": "code",
   "execution_count": 9,
   "id": "ba6e56aa",
   "metadata": {
    "ExecuteTime": {
     "end_time": "2023-10-15T12:25:31.055661100Z",
     "start_time": "2023-10-15T12:25:31.036673100Z"
    }
   },
   "outputs": [],
   "source": [
    "# Rename 'clicked_news' column to 'news_id'\n",
    "clicked_news = clicked_news.rename(columns={'clicked_news': 'news_id'})"
   ]
  },
  {
   "cell_type": "code",
   "execution_count": 10,
   "id": "f9b9765c",
   "metadata": {
    "ExecuteTime": {
     "end_time": "2023-10-15T12:25:32.510631400Z",
     "start_time": "2023-10-15T12:25:32.415884500Z"
    }
   },
   "outputs": [
    {
     "name": "stdout",
     "output_type": "stream",
     "text": [
      "Number of unique clicked news: 6522\n",
      "Number of unique users:        15418 \n",
      "\n"
     ]
    }
   ],
   "source": [
    "print(f\"Number of unique clicked news: {clicked_news['news_id'].nunique()}\")\n",
    "print(f\"Number of unique users:        {clicked_news['user_id'].nunique()} \\n\")"
   ]
  },
  {
   "cell_type": "code",
   "execution_count": 11,
   "id": "e983ce59",
   "metadata": {
    "ExecuteTime": {
     "end_time": "2023-10-15T12:25:33.987361500Z",
     "start_time": "2023-10-15T12:25:33.902078700Z"
    }
   },
   "outputs": [],
   "source": [
    "news = news.reset_index()"
   ]
  },
  {
   "cell_type": "markdown",
   "id": "9261f15b",
   "metadata": {},
   "source": [
    "## in the cell below we create mappings from real id's to indexes, and create clicked_news_encoded"
   ]
  },
  {
   "cell_type": "code",
   "execution_count": 12,
   "id": "a66c0c07",
   "metadata": {
    "ExecuteTime": {
     "end_time": "2023-10-15T12:25:38.254141400Z",
     "start_time": "2023-10-15T12:25:38.207265200Z"
    }
   },
   "outputs": [],
   "source": [
    "# Create categorical types without encoding them yet\n",
    "clicked_news['user_id_cat'] = clicked_news['user_id'].astype(\"category\")\n",
    "clicked_news['news_id_cat'] = clicked_news['news_id'].astype(\"category\")\n",
    "\n",
    "# Creating mappings from original IDs to encoded IDs\n",
    "id_to_user = dict(enumerate(clicked_news['user_id_cat'].cat.categories))\n",
    "id_to_news = dict(enumerate(clicked_news['news_id_cat'].cat.categories))\n",
    "\n",
    "# Convert categories to codes (integer encoding)\n",
    "clicked_news_encoded = pd.DataFrame(columns=['user', 'item'])\n",
    "clicked_news_encoded['user'] = clicked_news['user_id_cat'].cat.codes\n",
    "clicked_news_encoded['item'] = clicked_news['news_id_cat'].cat.codes\n",
    "\n",
    "# Drop the additional categorical columns if they are not needed\n",
    "clicked_news = clicked_news.drop(columns=['user_id_cat', 'news_id_cat'])\n",
    "\n",
    "# Creating reverse mappings from original IDs to encoded IDs\n",
    "user_to_id = {v: k for k, v in id_to_user.items()}\n",
    "news_to_id = {v: k for k, v in id_to_news.items()}"
   ]
  },
  {
   "cell_type": "code",
   "execution_count": 13,
   "id": "7d4d0e63",
   "metadata": {
    "ExecuteTime": {
     "end_time": "2023-10-15T12:25:39.522700Z",
     "start_time": "2023-10-15T12:25:39.493473600Z"
    }
   },
   "outputs": [
    {
     "name": "stdout",
     "output_type": "stream",
     "text": [
      "users: 15418 \n",
      "items: 6522\n"
     ]
    }
   ],
   "source": [
    "# Create a sparse user-item interaction matrix\n",
    "interaction_matrix = coo_matrix((np.ones(clicked_news_encoded.shape[0]),\n",
    "                                 (clicked_news_encoded['user'], clicked_news_encoded['item'])))\n",
    "\n",
    "print(f\"users: {interaction_matrix.shape[0]} \\nitems: {interaction_matrix.shape[1]}\")"
   ]
  },
  {
   "cell_type": "code",
   "execution_count": 14,
   "id": "dbeb967c",
   "metadata": {
    "ExecuteTime": {
     "end_time": "2023-10-15T12:25:40.539794Z",
     "start_time": "2023-10-15T12:25:40.489096200Z"
    }
   },
   "outputs": [],
   "source": [
    "#transform into compressed sparse row\n",
    "interaction_matrix_csr = interaction_matrix.tocsr()"
   ]
  },
  {
   "cell_type": "code",
   "execution_count": 15,
   "id": "173c8f04",
   "metadata": {
    "ExecuteTime": {
     "end_time": "2023-10-15T12:25:42.208078200Z",
     "start_time": "2023-10-15T12:25:42.185885600Z"
    }
   },
   "outputs": [],
   "source": [
    "clicked_news_encoded['rating'] = np.ones(len(clicked_news_encoded))"
   ]
  },
  {
   "cell_type": "code",
   "execution_count": 16,
   "id": "5396cae1",
   "metadata": {
    "ExecuteTime": {
     "end_time": "2023-10-15T12:25:43.055241600Z",
     "start_time": "2023-10-15T12:25:43.013354100Z"
    }
   },
   "outputs": [
    {
     "name": "stdout",
     "output_type": "stream",
     "text": [
      "         user  item  rating\n",
      "1       14889   756     1.0\n",
      "5        1803  1190     1.0\n",
      "5        1803  2565     1.0\n",
      "9        7888  4810     1.0\n",
      "10      14512  5700     1.0\n",
      "...       ...   ...     ...\n",
      "156963   6291  1261     1.0\n",
      "156963   6291  4396     1.0\n",
      "156963   6291  2904     1.0\n",
      "156963   6291   915     1.0\n",
      "156963   6291  1137     1.0\n",
      "\n",
      "[155443 rows x 3 columns]\n"
     ]
    }
   ],
   "source": [
    "print(clicked_news_encoded)"
   ]
  },
  {
   "cell_type": "code",
   "execution_count": 17,
   "id": "b2c158a9",
   "metadata": {
    "scrolled": true,
    "ExecuteTime": {
     "end_time": "2023-10-15T12:25:44.263012500Z",
     "start_time": "2023-10-15T12:25:44.207163400Z"
    }
   },
   "outputs": [
    {
     "name": "stdout",
     "output_type": "stream",
     "text": [
      "      user_id  num_of_clicks\n",
      "0      U53220            125\n",
      "1      U70550            118\n",
      "2      U63482            109\n",
      "3      U20833             95\n",
      "4      U32322             94\n",
      "...       ...            ...\n",
      "13230  U91963              5\n",
      "13231  U65567              5\n",
      "13232    U417              5\n",
      "13233  U63788              5\n",
      "15417   U5480              5\n",
      "\n",
      "[15418 rows x 2 columns]\n"
     ]
    }
   ],
   "source": [
    "user_click_counts = clicked_news['user_id'].value_counts().reset_index()\n",
    "user_click_counts.columns = ['user_id', 'num_of_clicks']\n",
    "user_click_counts_sorted = user_click_counts.sort_values(by='num_of_clicks', ascending=False)\n",
    "print(user_click_counts_sorted)"
   ]
  },
  {
   "cell_type": "markdown",
   "id": "2118b690",
   "metadata": {},
   "source": [
    "# Content based recommendations"
   ]
  },
  {
   "cell_type": "code",
   "execution_count": 18,
   "id": "fbaeefbf",
   "metadata": {
    "ExecuteTime": {
     "end_time": "2023-10-15T12:25:48.981649700Z",
     "start_time": "2023-10-15T12:25:46.850305300Z"
    }
   },
   "outputs": [],
   "source": [
    "# Vectorizing the 'abstract' column of news\n",
    "vectorizer = TfidfVectorizer(stop_words='english', max_features=5000)\n",
    "news_profiles = vectorizer.fit_transform(news['abstract'])"
   ]
  },
  {
   "cell_type": "code",
   "execution_count": 19,
   "id": "79e09e72",
   "metadata": {
    "ExecuteTime": {
     "end_time": "2023-10-15T12:25:53.033908Z",
     "start_time": "2023-10-15T12:25:52.996797900Z"
    }
   },
   "outputs": [
    {
     "name": "stdout",
     "output_type": "stream",
     "text": [
      "royals\n"
     ]
    }
   ],
   "source": [
    "# Reversing the vocabulary dictionary\n",
    "reverse_vocab = {v: k for k, v in vectorizer.vocabulary_.items()}\n",
    "\n",
    "print(reverse_vocab.get(3845))"
   ]
  },
  {
   "cell_type": "markdown",
   "id": "92cb48ec",
   "metadata": {},
   "source": [
    "This is a matrix that holds the similarity scores between all pairs of news items. It's a  square matrix where each row and column corresponds to a news item, and the entry [i, j] gives the similarity between news item i and news item j. the diagonal is full of ones for obvious reasons"
   ]
  },
  {
   "cell_type": "code",
   "execution_count": 20,
   "id": "9c3112e8",
   "metadata": {
    "ExecuteTime": {
     "end_time": "2023-10-15T12:26:40.882999600Z",
     "start_time": "2023-10-15T12:26:01.244613800Z"
    }
   },
   "outputs": [],
   "source": [
    "# Compute the cosine similarity matrix\n",
    "news_similarity = cosine_similarity(news_profiles, dense_output=False)"
   ]
  },
  {
   "cell_type": "code",
   "execution_count": 21,
   "id": "b64f0172",
   "metadata": {
    "ExecuteTime": {
     "end_time": "2023-10-15T12:27:12.356020400Z",
     "start_time": "2023-10-15T12:27:09.637895Z"
    }
   },
   "outputs": [],
   "source": [
    "all_id_to_news = news['news_id'].to_dict()\n",
    "all_news_to_id = {v: k for k, v in all_id_to_news.items()}"
   ]
  },
  {
   "cell_type": "code",
   "execution_count": 76,
   "id": "f1e6e9c3",
   "metadata": {
    "ExecuteTime": {
     "end_time": "2023-10-15T13:46:17.338842600Z",
     "start_time": "2023-10-15T13:46:17.324879900Z"
    }
   },
   "outputs": [],
   "source": [
    "def recommend_news(user_id, interaction_matrix, news_similarity, user_to_id = user_to_id, top_n=5):\n",
    "    \"\"\"\n",
    "    Recommend top N news items for a given user.\n",
    "    \n",
    "    Parameters:\n",
    "        user_id (str): The user for whom to make recommendations.\n",
    "        interaction_matrix (csr_matrix): User-item interaction matrix.\n",
    "        news_similarity (csr_matrix): Item-item similarity matrix.\n",
    "        top_n (int): Number of items to recommend.\n",
    "        \n",
    "    Returns:\n",
    "        list: List of recommended item indices.\n",
    "    \"\"\"\n",
    "    user_id = user_to_id[user_id]\n",
    "    \n",
    "    # Get the user's past interactions (list of news ids that the user has interacted with)\n",
    "    user_interactions = interaction_matrix[user_id, :].nonzero()[1]\n",
    "    \n",
    "    # Sum the similarities of the interacted items \n",
    "    similarity_sum = np.sum(news_similarity[user_interactions, :], axis=0) #shape = (n_interactions, all_news)\n",
    "    \n",
    "    # Remove already interacted items\n",
    "    similarity_sum[0, user_interactions] = 0\n",
    "    \n",
    "    # Get top N item indices\n",
    "    recommended_news_ids = np.argsort(similarity_sum)[0, -top_n:][::-1]\n",
    "\n",
    "    #get similarity scores of top N items\n",
    "    similarity_scores = [similarity_sum[0, idx] for idx in recommended_news_ids.tolist()[0][::-1]]\n",
    "\n",
    "    # Convert indices to original news IDs\n",
    "    recommended_news = [all_id_to_news[idx] for idx in recommended_news_ids.tolist()[0]]\n",
    "    \n",
    "    return recommended_news, similarity_scores"
   ]
  },
  {
   "cell_type": "code",
   "execution_count": 167,
   "outputs": [],
   "source": [
    "def explain_individual(user_id, recommended_items, similarity_scores):\n",
    "\n",
    "    explanation = f\"{user_id}: Based off of your click history and similar content, we recommend these articles:\\n{recommended_items}.\\nThese are their respective similarity scores:\\n{similarity_scores}\"\n",
    "\n",
    "    return explanation"
   ],
   "metadata": {
    "collapsed": false,
    "ExecuteTime": {
     "end_time": "2023-10-15T14:22:19.780584400Z",
     "start_time": "2023-10-15T14:22:19.744681100Z"
    }
   }
  },
  {
   "cell_type": "code",
   "execution_count": 168,
   "id": "c09405c7",
   "metadata": {
    "ExecuteTime": {
     "end_time": "2023-10-15T14:22:20.749060Z",
     "start_time": "2023-10-15T14:22:20.479737400Z"
    }
   },
   "outputs": [
    {
     "name": "stdout",
     "output_type": "stream",
     "text": [
      "U53220: Based off of your click history and similar content, we recommend these articles:\n",
      "['N52294', 'N31748', 'N38488', 'N26767', 'N60470', 'N560', 'N19994', 'N21041', 'N43291', 'N31626'].\n",
      "These are their respective similarity scores:\n",
      "[1.0, 1.0, 1.0, 1.0, 1.0, 1.0, 1.0, 1.0, 1.0, 1.0]\n"
     ]
    }
   ],
   "source": [
    "# Recommend for a user\n",
    "user_id = 'U53220'\n",
    "recommended_news_indices, similarities = recommend_news(user_id, interaction_matrix_csr, news_similarity, top_n=10)\n",
    "\n",
    "print(explain_individual(user_id, recommended_news_indices, similarities))"
   ]
  },
  {
   "cell_type": "markdown",
   "id": "0cf88419",
   "metadata": {},
   "source": [
    "## Test set"
   ]
  },
  {
   "cell_type": "code",
   "execution_count": 98,
   "id": "6ad33950",
   "metadata": {
    "ExecuteTime": {
     "end_time": "2023-10-15T13:52:01.351924600Z",
     "start_time": "2023-10-15T13:51:59.512842300Z"
    }
   },
   "outputs": [],
   "source": [
    "# Load data\n",
    "test_behaviors = pd.read_csv('./small_test_data/behaviors.tsv', delimiter='\\t', header=None)\n",
    "test_news = pd.read_csv('./small_test_data/news.tsv', delimiter='\\t', header=None)\n",
    "\n",
    "# Naming columns\n",
    "test_behaviors.columns = [\"impression_id\", \"user_id\", \"time\", \"history\", \"impressions\"]\n",
    "test_news.columns = [\"news_id\", \"category\", \"subcategory\", \"title\", \"abstract\", \"url\", \"title_entities\", \"abstract_entities\"]"
   ]
  },
  {
   "cell_type": "code",
   "execution_count": 99,
   "id": "8899f871",
   "metadata": {
    "ExecuteTime": {
     "end_time": "2023-10-15T13:52:02.152946100Z",
     "start_time": "2023-10-15T13:52:02.091300500Z"
    }
   },
   "outputs": [],
   "source": [
    "# Remove NaN values in the 'abstract' column\n",
    "test_news = test_news.dropna(subset=['abstract'])\n",
    "\n",
    "# list of valid news (with some abstract)\n",
    "test_valid_news_ids = set(test_news['news_id'])"
   ]
  },
  {
   "cell_type": "code",
   "execution_count": 100,
   "id": "a85f05d5",
   "metadata": {
    "ExecuteTime": {
     "end_time": "2023-10-15T13:52:05.349462Z",
     "start_time": "2023-10-15T13:52:03.666960100Z"
    }
   },
   "outputs": [],
   "source": [
    "# Extracting clicked news from behaviors, this is a column of lists of the clicked news (tagget with 1) for each impression\n",
    "test_behaviors['clicked_news'] = test_behaviors['impressions'].apply(lambda x: [imp.split('-')[0] for imp in x.split() if imp.split('-')[1] == '1'])\n",
    "\n",
    "#removing unused columns\n",
    "test_behaviors = test_behaviors[[\"impression_id\", \"user_id\", \"clicked_news\"]]\n",
    "\n",
    "# Flattening the clicked news and associating with user_id, that means we divide the lists into one row for each clicked news\n",
    "test_clicked_news = test_behaviors.explode('clicked_news')[['user_id', 'clicked_news']]\n",
    "\n",
    "#remove non valid news from interactions\n",
    "test_clicked_news = test_clicked_news[test_clicked_news['clicked_news'].isin(test_valid_news_ids)]\n",
    "\n",
    "# Rename 'clicked_news' column to 'news_id'\n",
    "test_data = test_clicked_news.rename(columns={'clicked_news': 'news_id'})"
   ]
  },
  {
   "cell_type": "code",
   "execution_count": 101,
   "id": "701cb1ef",
   "metadata": {
    "ExecuteTime": {
     "end_time": "2023-10-15T13:52:06.088580700Z",
     "start_time": "2023-10-15T13:52:06.009602200Z"
    }
   },
   "outputs": [
    {
     "name": "stdout",
     "output_type": "stream",
     "text": [
      "Number of unique clicked news: 2115\n",
      "Number of unique users:        48139 \n",
      "\n"
     ]
    }
   ],
   "source": [
    "print(f\"Number of unique clicked news: {test_data['news_id'].nunique()}\")\n",
    "print(f\"Number of unique users:        {test_data['user_id'].nunique()} \\n\")"
   ]
  },
  {
   "cell_type": "markdown",
   "id": "ab015439",
   "metadata": {},
   "source": [
    "### Since it's a content-based recommender system we ran into the cold start problem from users present in the test data but not in the training data, so we just recommend them items from the most popular news "
   ]
  },
  {
   "cell_type": "code",
   "execution_count": 102,
   "id": "21adffa5",
   "metadata": {
    "ExecuteTime": {
     "end_time": "2023-10-15T13:52:09.279291100Z",
     "start_time": "2023-10-15T13:52:09.216163700Z"
    }
   },
   "outputs": [],
   "source": [
    "news_popularity = clicked_news['news_id'].value_counts()\n",
    "\n",
    "# Calculate the click threshold for the top percentile\n",
    "threshold = np.percentile(news_popularity, 98)\n",
    "\n",
    "# Get the most popular news items\n",
    "popular_news = news_popularity[news_popularity >= threshold].index.tolist()"
   ]
  },
  {
   "cell_type": "markdown",
   "id": "bb21a19a",
   "metadata": {},
   "source": [
    "## Model evaluation - Precision@k and Recall@k and nCDG@k"
   ]
  },
  {
   "cell_type": "code",
   "execution_count": 103,
   "id": "39ddf2d3",
   "metadata": {
    "ExecuteTime": {
     "end_time": "2023-10-15T13:52:12.780444600Z",
     "start_time": "2023-10-15T13:52:12.763463Z"
    }
   },
   "outputs": [],
   "source": [
    "recommendations = {} #{'user_id': [list of recommended news_ids]}"
   ]
  },
  {
   "cell_type": "code",
   "execution_count": 104,
   "id": "4f33f644",
   "metadata": {
    "ExecuteTime": {
     "end_time": "2023-10-15T13:52:14.117691800Z",
     "start_time": "2023-10-15T13:52:14.054832700Z"
    }
   },
   "outputs": [],
   "source": [
    "# Set of user_ids from test_data and training data\n",
    "test_data_user_ids = set(test_data['user_id'].unique())\n",
    "\n",
    "train_data_user_ids = set(clicked_news['user_id'].unique())"
   ]
  },
  {
   "cell_type": "code",
   "execution_count": 105,
   "id": "48dfd296",
   "metadata": {
    "scrolled": true,
    "ExecuteTime": {
     "end_time": "2023-10-15T13:52:25.678074200Z",
     "start_time": "2023-10-15T13:52:15.099659100Z"
    }
   },
   "outputs": [],
   "source": [
    "for user_id in test_data_user_ids:\n",
    "    if user_id not in train_data_user_ids:\n",
    "        # New user or user not in test data\n",
    "        recommendations[user_id] = random.sample(popular_news, 5)  # Recommend random news from popular news items\n",
    "    else:\n",
    "        recommended_news_indices = recommend_news(user_id, interaction_matrix_csr, news_similarity, top_n=10)\n",
    "        recommendations[user_id] = [idx for idx in recommended_news_indices]"
   ]
  },
  {
   "cell_type": "code",
   "execution_count": 106,
   "id": "ec05261b",
   "metadata": {
    "ExecuteTime": {
     "end_time": "2023-10-15T13:52:26.487629300Z",
     "start_time": "2023-10-15T13:52:26.444578500Z"
    }
   },
   "outputs": [],
   "source": [
    "def precision_at_k(recommended_list, relevant_list, k):\n",
    "    \"\"\"\n",
    "    Compute Precision at K.\n",
    "    \n",
    "    Parameters:\n",
    "        recommended_list (list): List of recommended items.\n",
    "        relevant_list (list): List of relevant items.\n",
    "        k (int): Number of recommendations to consider.\n",
    "        \n",
    "    Returns:\n",
    "        float: Precision at K score.\n",
    "    \"\"\"\n",
    "    return len(set(recommended_list[:k]) & set(relevant_list)) / k"
   ]
  },
  {
   "cell_type": "code",
   "execution_count": 107,
   "id": "7f320af9",
   "metadata": {
    "ExecuteTime": {
     "end_time": "2023-10-15T13:52:27.862222Z",
     "start_time": "2023-10-15T13:52:27.816345Z"
    }
   },
   "outputs": [],
   "source": [
    "def recall_at_k(recommended_list, relevant_set, k):\n",
    "    \"\"\"Return the recall at k.\"\"\"\n",
    "    return len(set(recommended_list[:k]) & set(relevant_set)) / len(relevant_set)"
   ]
  },
  {
   "cell_type": "code",
   "execution_count": 108,
   "id": "03ad74f0",
   "metadata": {
    "ExecuteTime": {
     "end_time": "2023-10-15T13:52:29.112089300Z",
     "start_time": "2023-10-15T13:52:29.069177900Z"
    }
   },
   "outputs": [],
   "source": [
    "def ndcg_at_k(recommended_list, relevant_set, k):\n",
    "    \"\"\"Return the NDCG at k.\"\"\"\n",
    "    dcg = 0\n",
    "    idcg = sum([1 / math.log(i + 2, 2) for i in range(min(k, len(relevant_set)))])\n",
    "    for i, item in enumerate(recommended_list[:k]):\n",
    "        if item in relevant_set:\n",
    "            dcg += 1 / math.log(i + 2, 2)\n",
    "    return dcg / idcg"
   ]
  },
  {
   "cell_type": "code",
   "execution_count": 149,
   "id": "e1dae9c6",
   "metadata": {
    "ExecuteTime": {
     "end_time": "2023-10-15T13:55:36.055102900Z",
     "start_time": "2023-10-15T13:55:35.833551700Z"
    }
   },
   "outputs": [
    {
     "name": "stdout",
     "output_type": "stream",
     "text": [
      "Mean Precision@5: nan\n",
      "Mean Recall@5: nan\n"
     ]
    },
    {
     "name": "stderr",
     "output_type": "stream",
     "text": [
      "C:\\Users\\bcroe\\anaconda3\\lib\\site-packages\\numpy\\core\\fromnumeric.py:3432: RuntimeWarning: Mean of empty slice.\n",
      "  return _methods._mean(a, axis=axis, dtype=dtype,\n",
      "C:\\Users\\bcroe\\anaconda3\\lib\\site-packages\\numpy\\core\\_methods.py:190: RuntimeWarning: invalid value encountered in double_scalars\n",
      "  ret = ret.dtype.type(ret / rcount)\n"
     ]
    }
   ],
   "source": [
    "k = 5 # or any value you choose\n",
    "\n",
    "precision_values = []\n",
    "recall_values = []\n",
    "ndcg_values = []\n",
    "\n",
    "for user_id, recommended_items in recommendations.items():\n",
    "    relevant_items = tuple(test_data[test_data['user_id'] == user_id]['news_id'].tolist())\n",
    "\n",
    "    \n",
    "    if relevant_items:  # if the user has any relevant items\n",
    "        \n",
    "        precision = precision_at_k(recommended_items, relevant_items, k)\n",
    "        recall = recall_at_k(recommended_items, relevant_items, k)\n",
    "        #ndcg = ndcg_at_k(recommended_items, relevant_items, k)\n",
    "        \n",
    "        precision_values.append(precision)\n",
    "        recall_values.append(recall)\n",
    "        #ndcg_values.append(ndcg)\n",
    "\n",
    "# Averaging across all users to get the final metric value\n",
    "mean_precision = np.mean(precision_values)\n",
    "mean_recall = np.mean(recall_values)\n",
    "#mean_ndcg = np.mean(ndcg_values)\n",
    "\n",
    "print(f\"Mean Precision@{k}: {mean_precision:.4f}\")\n",
    "print(f\"Mean Recall@{k}: {mean_recall:.4f}\")\n",
    "#print(f\"Mean NDCG@{k}: {mean_ndcg:.4f}\")"
   ]
  },
  {
   "cell_type": "markdown",
   "id": "74d79a91",
   "metadata": {},
   "source": [
    "I think it's due to the sparsity and cold start problem, we have many users without interactions"
   ]
  },
  {
   "cell_type": "code",
   "execution_count": 150,
   "id": "082109a9",
   "metadata": {
    "ExecuteTime": {
     "end_time": "2023-10-15T13:55:43.162592300Z",
     "start_time": "2023-10-15T13:55:41.984177500Z"
    }
   },
   "outputs": [],
   "source": [
    "filtered_test_data = test_data.groupby('user_id').filter(lambda x: len(x) > 10)"
   ]
  },
  {
   "cell_type": "code",
   "execution_count": 151,
   "id": "515d9fc3",
   "metadata": {
    "ExecuteTime": {
     "end_time": "2023-10-15T13:55:44.194258800Z",
     "start_time": "2023-10-15T13:55:44.131004300Z"
    }
   },
   "outputs": [
    {
     "data": {
      "text/plain": "{'U10103',\n 'U10271',\n 'U1030',\n 'U10601',\n 'U10605',\n 'U10642',\n 'U10677',\n 'U1098',\n 'U11160',\n 'U11221',\n 'U11469',\n 'U11680',\n 'U11713',\n 'U11885',\n 'U12170',\n 'U1226',\n 'U12835',\n 'U13024',\n 'U13314',\n 'U13717',\n 'U14088',\n 'U14271',\n 'U15005',\n 'U15187',\n 'U15377',\n 'U15384',\n 'U15699',\n 'U16167',\n 'U16217',\n 'U16218',\n 'U16283',\n 'U1634',\n 'U16748',\n 'U16825',\n 'U16888',\n 'U17206',\n 'U17318',\n 'U17516',\n 'U17797',\n 'U17970',\n 'U18277',\n 'U18465',\n 'U18498',\n 'U18677',\n 'U18785',\n 'U1886',\n 'U18874',\n 'U18895',\n 'U19378',\n 'U19593',\n 'U19653',\n 'U19774',\n 'U19858',\n 'U19913',\n 'U1994',\n 'U2006',\n 'U20605',\n 'U20689',\n 'U21026',\n 'U21106',\n 'U21533',\n 'U21544',\n 'U21921',\n 'U22324',\n 'U22530',\n 'U22637',\n 'U23121',\n 'U23206',\n 'U23276',\n 'U23446',\n 'U23541',\n 'U23568',\n 'U23633',\n 'U23738',\n 'U23857',\n 'U23931',\n 'U23966',\n 'U24000',\n 'U24172',\n 'U24311',\n 'U25152',\n 'U25358',\n 'U25458',\n 'U25472',\n 'U25541',\n 'U25918',\n 'U26004',\n 'U26286',\n 'U26364',\n 'U2638',\n 'U2665',\n 'U26755',\n 'U26880',\n 'U26891',\n 'U27211',\n 'U27248',\n 'U27366',\n 'U27600',\n 'U28362',\n 'U2846',\n 'U28680',\n 'U29451',\n 'U29756',\n 'U2986',\n 'U30458',\n 'U30557',\n 'U30571',\n 'U30720',\n 'U30886',\n 'U31151',\n 'U31164',\n 'U31413',\n 'U31433',\n 'U3204',\n 'U3210',\n 'U32122',\n 'U32432',\n 'U32764',\n 'U32840',\n 'U32958',\n 'U33398',\n 'U33555',\n 'U33647',\n 'U34216',\n 'U34429',\n 'U34517',\n 'U34846',\n 'U34871',\n 'U3516',\n 'U35270',\n 'U35424',\n 'U35605',\n 'U35649',\n 'U35700',\n 'U35782',\n 'U35846',\n 'U35957',\n 'U36071',\n 'U36111',\n 'U36238',\n 'U3630',\n 'U36404',\n 'U36547',\n 'U3660',\n 'U36649',\n 'U36716',\n 'U3678',\n 'U37115',\n 'U37185',\n 'U37347',\n 'U37477',\n 'U37656',\n 'U37840',\n 'U37906',\n 'U383',\n 'U38456',\n 'U38566',\n 'U38636',\n 'U38655',\n 'U38741',\n 'U38911',\n 'U39178',\n 'U39189',\n 'U39460',\n 'U39525',\n 'U39585',\n 'U39757',\n 'U39828',\n 'U39872',\n 'U40470',\n 'U40656',\n 'U40666',\n 'U40855',\n 'U40922',\n 'U40996',\n 'U4102',\n 'U41335',\n 'U41404',\n 'U41508',\n 'U41524',\n 'U41564',\n 'U4177',\n 'U4184',\n 'U41939',\n 'U42295',\n 'U42319',\n 'U4294',\n 'U42943',\n 'U4297',\n 'U43745',\n 'U43988',\n 'U44005',\n 'U44061',\n 'U44108',\n 'U44160',\n 'U44184',\n 'U44201',\n 'U44684',\n 'U4486',\n 'U44907',\n 'U44915',\n 'U44977',\n 'U45111',\n 'U452',\n 'U45234',\n 'U45343',\n 'U4549',\n 'U45494',\n 'U45878',\n 'U46041',\n 'U4610',\n 'U46157',\n 'U46191',\n 'U46199',\n 'U46225',\n 'U46387',\n 'U46464',\n 'U46594',\n 'U46994',\n 'U47196',\n 'U47261',\n 'U47377',\n 'U47767',\n 'U47926',\n 'U47946',\n 'U48180',\n 'U48307',\n 'U49468',\n 'U49481',\n 'U49597',\n 'U49731',\n 'U49990',\n 'U50016',\n 'U50029',\n 'U50166',\n 'U50227',\n 'U50612',\n 'U50696',\n 'U50931',\n 'U51019',\n 'U51260',\n 'U51369',\n 'U52012',\n 'U52169',\n 'U522',\n 'U52903',\n 'U53220',\n 'U53970',\n 'U5428',\n 'U54454',\n 'U545',\n 'U54667',\n 'U54826',\n 'U54829',\n 'U55664',\n 'U55873',\n 'U55969',\n 'U56197',\n 'U56268',\n 'U56452',\n 'U56663',\n 'U56725',\n 'U57244',\n 'U57287',\n 'U57407',\n 'U57449',\n 'U57497',\n 'U57847',\n 'U58101',\n 'U58747',\n 'U5878',\n 'U58811',\n 'U58851',\n 'U58888',\n 'U58906',\n 'U59379',\n 'U59679',\n 'U60172',\n 'U60178',\n 'U60425',\n 'U60614',\n 'U60791',\n 'U61191',\n 'U61661',\n 'U61779',\n 'U6211',\n 'U62637',\n 'U62678',\n 'U62908',\n 'U62965',\n 'U63159',\n 'U63420',\n 'U63612',\n 'U63891',\n 'U63895',\n 'U6428',\n 'U64317',\n 'U64576',\n 'U64668',\n 'U65069',\n 'U65110',\n 'U65318',\n 'U65382',\n 'U65633',\n 'U65745',\n 'U65764',\n 'U65769',\n 'U65969',\n 'U66037',\n 'U66082',\n 'U66234',\n 'U66240',\n 'U66333',\n 'U66568',\n 'U66576',\n 'U66617',\n 'U66620',\n 'U66763',\n 'U66960',\n 'U67220',\n 'U67330',\n 'U67507',\n 'U67698',\n 'U67841',\n 'U67864',\n 'U68176',\n 'U68304',\n 'U68325',\n 'U68479',\n 'U68487',\n 'U68749',\n 'U68763',\n 'U68789',\n 'U68809',\n 'U68847',\n 'U68948',\n 'U69021',\n 'U69143',\n 'U69366',\n 'U69661',\n 'U7015',\n 'U70194',\n 'U70393',\n 'U70423',\n 'U70690',\n 'U70744',\n 'U70866',\n 'U7108',\n 'U71215',\n 'U7124',\n 'U71858',\n 'U71921',\n 'U72371',\n 'U72402',\n 'U73118',\n 'U7317',\n 'U73250',\n 'U73392',\n 'U73940',\n 'U74156',\n 'U74261',\n 'U74728',\n 'U74761',\n 'U74929',\n 'U75003',\n 'U75151',\n 'U75336',\n 'U7550',\n 'U75560',\n 'U76055',\n 'U76083',\n 'U76147',\n 'U76851',\n 'U76876',\n 'U76987',\n 'U77299',\n 'U77320',\n 'U7736',\n 'U7744',\n 'U78180',\n 'U78417',\n 'U78476',\n 'U78554',\n 'U7900',\n 'U7929',\n 'U79431',\n 'U79582',\n 'U79672',\n 'U79684',\n 'U79787',\n 'U79976',\n 'U80385',\n 'U80719',\n 'U80797',\n 'U80828',\n 'U80981',\n 'U81042',\n 'U81169',\n 'U81208',\n 'U81297',\n 'U81456',\n 'U81514',\n 'U81524',\n 'U81609',\n 'U82027',\n 'U82136',\n 'U8214',\n 'U82343',\n 'U82600',\n 'U83205',\n 'U83415',\n 'U83646',\n 'U83851',\n 'U84332',\n 'U8434',\n 'U84498',\n 'U8462',\n 'U84983',\n 'U8515',\n 'U85553',\n 'U85623',\n 'U85653',\n 'U85808',\n 'U8596',\n 'U86121',\n 'U86169',\n 'U86177',\n 'U86264',\n 'U86478',\n 'U86816',\n 'U86931',\n 'U86968',\n 'U87055',\n 'U87472',\n 'U87491',\n 'U88416',\n 'U88447',\n 'U88497',\n 'U88675',\n 'U89519',\n 'U89681',\n 'U8974',\n 'U89965',\n 'U89982',\n 'U90018',\n 'U90023',\n 'U90235',\n 'U90272',\n 'U90320',\n 'U90348',\n 'U91069',\n 'U91203',\n 'U91426',\n 'U9146',\n 'U91730',\n 'U91731',\n 'U9210',\n 'U92365',\n 'U92525',\n 'U92634',\n 'U92657',\n 'U93115',\n 'U93315',\n 'U93642',\n 'U93678',\n 'U93804',\n 'U9420',\n 'U9703',\n 'U9842',\n 'U9929'}"
     },
     "execution_count": 151,
     "metadata": {},
     "output_type": "execute_result"
    }
   ],
   "source": [
    "test_data_user_ids"
   ]
  },
  {
   "cell_type": "code",
   "execution_count": 158,
   "id": "a2b1fe19",
   "metadata": {
    "ExecuteTime": {
     "end_time": "2023-10-15T14:04:05.334441300Z",
     "start_time": "2023-10-15T14:04:05.233710800Z"
    }
   },
   "outputs": [
    {
     "ename": "KeyError",
     "evalue": "'user_id'",
     "output_type": "error",
     "traceback": [
      "\u001B[1;31m---------------------------------------------------------------------------\u001B[0m",
      "\u001B[1;31mKeyError\u001B[0m                                  Traceback (most recent call last)",
      "File \u001B[1;32m~\\anaconda3\\lib\\site-packages\\pandas\\core\\indexes\\base.py:3802\u001B[0m, in \u001B[0;36mIndex.get_loc\u001B[1;34m(self, key, method, tolerance)\u001B[0m\n\u001B[0;32m   3801\u001B[0m \u001B[38;5;28;01mtry\u001B[39;00m:\n\u001B[1;32m-> 3802\u001B[0m     \u001B[38;5;28;01mreturn\u001B[39;00m \u001B[38;5;28;43mself\u001B[39;49m\u001B[38;5;241;43m.\u001B[39;49m\u001B[43m_engine\u001B[49m\u001B[38;5;241;43m.\u001B[39;49m\u001B[43mget_loc\u001B[49m\u001B[43m(\u001B[49m\u001B[43mcasted_key\u001B[49m\u001B[43m)\u001B[49m\n\u001B[0;32m   3803\u001B[0m \u001B[38;5;28;01mexcept\u001B[39;00m \u001B[38;5;167;01mKeyError\u001B[39;00m \u001B[38;5;28;01mas\u001B[39;00m err:\n",
      "File \u001B[1;32m~\\anaconda3\\lib\\site-packages\\pandas\\_libs\\index.pyx:138\u001B[0m, in \u001B[0;36mpandas._libs.index.IndexEngine.get_loc\u001B[1;34m()\u001B[0m\n",
      "File \u001B[1;32m~\\anaconda3\\lib\\site-packages\\pandas\\_libs\\index.pyx:165\u001B[0m, in \u001B[0;36mpandas._libs.index.IndexEngine.get_loc\u001B[1;34m()\u001B[0m\n",
      "File \u001B[1;32mpandas\\_libs\\hashtable_class_helper.pxi:5745\u001B[0m, in \u001B[0;36mpandas._libs.hashtable.PyObjectHashTable.get_item\u001B[1;34m()\u001B[0m\n",
      "File \u001B[1;32mpandas\\_libs\\hashtable_class_helper.pxi:5753\u001B[0m, in \u001B[0;36mpandas._libs.hashtable.PyObjectHashTable.get_item\u001B[1;34m()\u001B[0m\n",
      "\u001B[1;31mKeyError\u001B[0m: 'user_id'",
      "\nThe above exception was the direct cause of the following exception:\n",
      "\u001B[1;31mKeyError\u001B[0m                                  Traceback (most recent call last)",
      "Cell \u001B[1;32mIn[158], line 6\u001B[0m\n\u001B[0;32m      3\u001B[0m \u001B[38;5;66;03m# Set of user_ids from test_data and training data\u001B[39;00m\n\u001B[0;32m      4\u001B[0m test_data_user_ids \u001B[38;5;241m=\u001B[39m \u001B[38;5;28mset\u001B[39m(filtered_test_data[\u001B[38;5;124m'\u001B[39m\u001B[38;5;124muser_id\u001B[39m\u001B[38;5;124m'\u001B[39m]\u001B[38;5;241m.\u001B[39munique())\n\u001B[1;32m----> 6\u001B[0m train_data_user_ids \u001B[38;5;241m=\u001B[39m \u001B[38;5;28mset\u001B[39m(\u001B[43mclicked_news\u001B[49m\u001B[43m[\u001B[49m\u001B[38;5;124;43m'\u001B[39;49m\u001B[38;5;124;43muser_id\u001B[39;49m\u001B[38;5;124;43m'\u001B[39;49m\u001B[43m]\u001B[49m\u001B[38;5;241m.\u001B[39munique())\n\u001B[0;32m      8\u001B[0m \u001B[38;5;28;01mfor\u001B[39;00m user_id \u001B[38;5;129;01min\u001B[39;00m test_data_user_ids:\n\u001B[0;32m      9\u001B[0m     \u001B[38;5;28;01mif\u001B[39;00m user_id \u001B[38;5;129;01mnot\u001B[39;00m \u001B[38;5;129;01min\u001B[39;00m train_data_user_ids:\n\u001B[0;32m     10\u001B[0m         \u001B[38;5;66;03m# New user or user not in test data\u001B[39;00m\n",
      "File \u001B[1;32m~\\anaconda3\\lib\\site-packages\\pandas\\core\\frame.py:3807\u001B[0m, in \u001B[0;36mDataFrame.__getitem__\u001B[1;34m(self, key)\u001B[0m\n\u001B[0;32m   3805\u001B[0m \u001B[38;5;28;01mif\u001B[39;00m \u001B[38;5;28mself\u001B[39m\u001B[38;5;241m.\u001B[39mcolumns\u001B[38;5;241m.\u001B[39mnlevels \u001B[38;5;241m>\u001B[39m \u001B[38;5;241m1\u001B[39m:\n\u001B[0;32m   3806\u001B[0m     \u001B[38;5;28;01mreturn\u001B[39;00m \u001B[38;5;28mself\u001B[39m\u001B[38;5;241m.\u001B[39m_getitem_multilevel(key)\n\u001B[1;32m-> 3807\u001B[0m indexer \u001B[38;5;241m=\u001B[39m \u001B[38;5;28;43mself\u001B[39;49m\u001B[38;5;241;43m.\u001B[39;49m\u001B[43mcolumns\u001B[49m\u001B[38;5;241;43m.\u001B[39;49m\u001B[43mget_loc\u001B[49m\u001B[43m(\u001B[49m\u001B[43mkey\u001B[49m\u001B[43m)\u001B[49m\n\u001B[0;32m   3808\u001B[0m \u001B[38;5;28;01mif\u001B[39;00m is_integer(indexer):\n\u001B[0;32m   3809\u001B[0m     indexer \u001B[38;5;241m=\u001B[39m [indexer]\n",
      "File \u001B[1;32m~\\anaconda3\\lib\\site-packages\\pandas\\core\\indexes\\base.py:3804\u001B[0m, in \u001B[0;36mIndex.get_loc\u001B[1;34m(self, key, method, tolerance)\u001B[0m\n\u001B[0;32m   3802\u001B[0m     \u001B[38;5;28;01mreturn\u001B[39;00m \u001B[38;5;28mself\u001B[39m\u001B[38;5;241m.\u001B[39m_engine\u001B[38;5;241m.\u001B[39mget_loc(casted_key)\n\u001B[0;32m   3803\u001B[0m \u001B[38;5;28;01mexcept\u001B[39;00m \u001B[38;5;167;01mKeyError\u001B[39;00m \u001B[38;5;28;01mas\u001B[39;00m err:\n\u001B[1;32m-> 3804\u001B[0m     \u001B[38;5;28;01mraise\u001B[39;00m \u001B[38;5;167;01mKeyError\u001B[39;00m(key) \u001B[38;5;28;01mfrom\u001B[39;00m \u001B[38;5;21;01merr\u001B[39;00m\n\u001B[0;32m   3805\u001B[0m \u001B[38;5;28;01mexcept\u001B[39;00m \u001B[38;5;167;01mTypeError\u001B[39;00m:\n\u001B[0;32m   3806\u001B[0m     \u001B[38;5;66;03m# If we have a listlike key, _check_indexing_error will raise\u001B[39;00m\n\u001B[0;32m   3807\u001B[0m     \u001B[38;5;66;03m#  InvalidIndexError. Otherwise we fall through and re-raise\u001B[39;00m\n\u001B[0;32m   3808\u001B[0m     \u001B[38;5;66;03m#  the TypeError.\u001B[39;00m\n\u001B[0;32m   3809\u001B[0m     \u001B[38;5;28mself\u001B[39m\u001B[38;5;241m.\u001B[39m_check_indexing_error(key)\n",
      "\u001B[1;31mKeyError\u001B[0m: 'user_id'"
     ]
    }
   ],
   "source": [
    "recommendations = {} #{'user_id': [list of recommended news_ids]}\n",
    "\n",
    "# Set of user_ids from test_data and training data\n",
    "test_data_user_ids = set(filtered_test_data['user_id'].unique())\n",
    "\n",
    "train_data_user_ids = set(clicked_news['user_id'].unique())\n",
    "\n",
    "for user_id in test_data_user_ids:\n",
    "    if user_id not in train_data_user_ids:\n",
    "        # New user or user not in test data\n",
    "        recommendations[user_id] = random.sample(popular_news, 5)  # Recommend random news from popular news items\n",
    "    else:\n",
    "        recommended_news_indices = recommend_news(user_id, interaction_matrix_csr, news_similarity, top_n=10)\n",
    "        recommendations[user_id] = [idx for idx in recommended_news_indices]"
   ]
  },
  {
   "cell_type": "code",
   "execution_count": 159,
   "id": "5fda5dbc",
   "metadata": {
    "ExecuteTime": {
     "end_time": "2023-10-15T14:04:07.563123400Z",
     "start_time": "2023-10-15T14:04:07.533167900Z"
    }
   },
   "outputs": [
    {
     "name": "stdout",
     "output_type": "stream",
     "text": [
      "Mean Precision@5: nan\n",
      "Mean Recall@5: nan\n"
     ]
    },
    {
     "name": "stderr",
     "output_type": "stream",
     "text": [
      "C:\\Users\\bcroe\\anaconda3\\lib\\site-packages\\numpy\\core\\fromnumeric.py:3432: RuntimeWarning: Mean of empty slice.\n",
      "  return _methods._mean(a, axis=axis, dtype=dtype,\n",
      "C:\\Users\\bcroe\\anaconda3\\lib\\site-packages\\numpy\\core\\_methods.py:190: RuntimeWarning: invalid value encountered in double_scalars\n",
      "  ret = ret.dtype.type(ret / rcount)\n"
     ]
    }
   ],
   "source": [
    "k = 5  # or any value you choose\n",
    "\n",
    "precision_values = []\n",
    "recall_values = []\n",
    "ndcg_values = []\n",
    "\n",
    "for user_id, recommended_items in recommendations.items():\n",
    "    relevant_items = test_data[test_data['user_id'] == user_id]['news_id'].tolist()\n",
    "    \n",
    "    if relevant_items:  # if the user has any relevant items\n",
    "        \n",
    "        precision = precision_at_k(recommended_items, relevant_items, k)\n",
    "        recall = recall_at_k(recommended_items, relevant_items, k)\n",
    "        #ndcg = ndcg_at_k(recommended_items, relevant_items, k)\n",
    "        \n",
    "        precision_values.append(precision)\n",
    "        recall_values.append(recall)\n",
    "        #ndcg_values.append(ndcg)\n",
    "\n",
    "# Averaging across all users to get the final metric value\n",
    "mean_precision = np.mean(precision_values)\n",
    "mean_recall = np.mean(recall_values)\n",
    "#mean_ndcg = np.mean(ndcg_values)\n",
    "\n",
    "print(f\"Mean Precision@{k}: {mean_precision:.4f}\")\n",
    "print(f\"Mean Recall@{k}: {mean_recall:.4f}\")\n",
    "#print(f\"Mean NDCG@{k}: {mean_ndcg:.4f}\")"
   ]
  },
  {
   "cell_type": "markdown",
   "id": "6299b60d",
   "metadata": {},
   "source": [
    "### In fact we can see that is precision increases if we consider users with more than n = 10 interactions"
   ]
  },
  {
   "cell_type": "markdown",
   "id": "4d517852",
   "metadata": {},
   "source": [
    "# Group recommendations"
   ]
  },
  {
   "cell_type": "code",
   "execution_count": 160,
   "id": "727a47ac",
   "metadata": {
    "ExecuteTime": {
     "end_time": "2023-10-15T14:04:11.514413Z",
     "start_time": "2023-10-15T14:04:11.496462800Z"
    }
   },
   "outputs": [],
   "source": [
    "from lenskit.algorithms.als import ImplicitMF"
   ]
  },
  {
   "cell_type": "code",
   "execution_count": 161,
   "id": "1fe8d11c",
   "metadata": {
    "ExecuteTime": {
     "end_time": "2023-10-15T14:04:12.101735300Z",
     "start_time": "2023-10-15T14:04:12.069821500Z"
    }
   },
   "outputs": [],
   "source": [
    "# Load JSON string from a file\n",
    "with open(\"grouped_dict.json\", \"r\") as f:\n",
    "    grouped_dict_json = f.read()\n",
    "\n",
    "# Convert the JSON string back to a dictionary\n",
    "groups_dict = json.loads(grouped_dict_json)"
   ]
  },
  {
   "cell_type": "code",
   "execution_count": 162,
   "id": "b4c5879b",
   "metadata": {
    "scrolled": true,
    "ExecuteTime": {
     "end_time": "2023-10-15T14:04:12.568554800Z",
     "start_time": "2023-10-15T14:04:12.545617600Z"
    }
   },
   "outputs": [],
   "source": [
    "all_clicks = clicked_news_encoded.reset_index()\n",
    "all_clicks = all_clicks[['user', 'item', 'rating']]"
   ]
  },
  {
   "cell_type": "code",
   "execution_count": 163,
   "id": "219cba4f",
   "metadata": {
    "ExecuteTime": {
     "end_time": "2023-10-15T14:04:16.708328Z",
     "start_time": "2023-10-15T14:04:12.881560500Z"
    }
   },
   "outputs": [
    {
     "data": {
      "text/plain": "<lenskit.algorithms.als.ImplicitMF at 0x2105a6a4bb0>"
     },
     "execution_count": 163,
     "metadata": {},
     "output_type": "execute_result"
    }
   ],
   "source": [
    "# Create an implicit feedback model with 50 features and 20 iterations\n",
    "model = ImplicitMF(features=50, iterations=20, reg=0.1)\n",
    "\n",
    "# Train the model\n",
    "model.fit(all_clicks)"
   ]
  },
  {
   "cell_type": "code",
   "execution_count": 164,
   "id": "b00776fd",
   "metadata": {
    "ExecuteTime": {
     "end_time": "2023-10-15T14:04:16.711320100Z",
     "start_time": "2023-10-15T14:04:16.658462200Z"
    }
   },
   "outputs": [],
   "source": [
    "def group_recommendations(user_group, model, all_items, user_item_data):\n",
    "    #getting user_idexes\n",
    "    user_group = [user_to_id[user] for user in user_group if user in user_to_id]\n",
    "    \n",
    "    # A dictionary to aggregate scores\n",
    "    aggregated_scores = {}\n",
    "\n",
    "    # A set to collect items already read by any user in the group\n",
    "    read_by_group = set()\n",
    "\n",
    "    for user in user_group:\n",
    "        # Get individual user recommendations\n",
    "        recs_user = model.predict_for_user(user, all_items)\n",
    "        \n",
    "        # Exclude items already read by the user\n",
    "        read_items = user_item_data[user_item_data['user'] == user]['item'].tolist()\n",
    "        recs_user = recs_user.drop(read_items, errors='ignore')\n",
    "\n",
    "        # Add these read items to the group set\n",
    "        read_by_group.update(read_items)\n",
    "\n",
    "        # Aggregate scores\n",
    "        for item, score in recs_user.items():\n",
    "            if item in aggregated_scores:\n",
    "                aggregated_scores[item] += score\n",
    "            else:\n",
    "                aggregated_scores[item] = score\n",
    "\n",
    "    # Convert to pandas series for easier manipulation\n",
    "    aggregated_scores = pd.Series(aggregated_scores)\n",
    "\n",
    "    # Remove items read by any user in the group\n",
    "    aggregated_scores = aggregated_scores.drop(list(read_by_group), errors='ignore')\n",
    "\n",
    "    # Sort and get the top items\n",
    "    top_items = aggregated_scores.sort_values(ascending=False).head(10)\n",
    "\n",
    "    # Convert the index to news ids using the dictionary\n",
    "    top_items.index = top_items.index.map(id_to_news)\n",
    "    \n",
    "    return top_items"
   ]
  },
  {
   "cell_type": "code",
   "execution_count": 119,
   "id": "dfafd881",
   "metadata": {
    "ExecuteTime": {
     "end_time": "2023-10-15T13:52:58.799316900Z",
     "start_time": "2023-10-15T13:52:58.758053400Z"
    }
   },
   "outputs": [],
   "source": [
    "def explain_group_recs(group_users, news, top_items):\n",
    "    explanations = {}\n",
    "    \n",
    "    for item in top_items:\n",
    "        # Check for topic\n",
    "        filtered_news = news.loc[news['news_id'] == item, 'subcategory']\n",
    "        if not filtered_news.empty:\n",
    "            topic = filtered_news.values[0]\n",
    "        else:\n",
    "            topic = \"Unknown\"  \n",
    "        \n",
    "        user_group = [user for user in group_users if user in id_to_user]\n",
    "        \n",
    "        # Generate explanation string\n",
    "        explanations[item] = f\"Recommended because users {group_users} showed a high average preference score for {topic}.\"\n",
    "\n",
    "    return explanations"
   ]
  },
  {
   "cell_type": "code",
   "execution_count": 120,
   "id": "1d7accbb",
   "metadata": {
    "ExecuteTime": {
     "end_time": "2023-10-15T13:53:00.333138500Z",
     "start_time": "2023-10-15T13:53:00.189215500Z"
    }
   },
   "outputs": [
    {
     "data": {
      "text/plain": "['U69084', 'U31631', 'U57214', 'U21331', 'U1331', 'U64554', 'U42643', 'U80596']"
     },
     "execution_count": 120,
     "metadata": {},
     "output_type": "execute_result"
    }
   ],
   "source": [
    "all_items = clicked_news_encoded.item.unique().tolist()\n",
    "\n",
    "group = groups_dict['Group 6']\n",
    "group"
   ]
  },
  {
   "cell_type": "code",
   "execution_count": 121,
   "id": "b1b7322d",
   "metadata": {
    "scrolled": true,
    "ExecuteTime": {
     "end_time": "2023-10-15T13:53:01.775594600Z",
     "start_time": "2023-10-15T13:53:01.546208400Z"
    }
   },
   "outputs": [
    {
     "name": "stdout",
     "output_type": "stream",
     "text": [
      "Top 10 recommended items for the group:\n",
      "N7821     4.451115\n",
      "N49685    4.123510\n",
      "N39317    3.916860\n",
      "N64916    3.542837\n",
      "N59252    3.521523\n",
      "N33885    3.288971\n",
      "N36261    3.244612\n",
      "N12029    3.075880\n",
      "N35305    3.009481\n",
      "N62366    2.955866\n",
      "dtype: float64\n"
     ]
    }
   ],
   "source": [
    "top_10_group_recs = group_recommendations(group, model, all_items, all_clicks)\n",
    "\n",
    "print(\"Top 10 recommended items for the group:\")\n",
    "print(top_10_group_recs)"
   ]
  },
  {
   "cell_type": "code",
   "execution_count": 122,
   "id": "7e6c70b8",
   "metadata": {
    "ExecuteTime": {
     "end_time": "2023-10-15T13:53:03.008240900Z",
     "start_time": "2023-10-15T13:53:02.942389900Z"
    }
   },
   "outputs": [],
   "source": [
    "explanations = explain_group_recs(group, news, top_10_group_recs.index)"
   ]
  },
  {
   "cell_type": "code",
   "execution_count": 123,
   "id": "28ec9255",
   "metadata": {
    "ExecuteTime": {
     "end_time": "2023-10-15T13:53:05.120591700Z",
     "start_time": "2023-10-15T13:53:05.083546700Z"
    }
   },
   "outputs": [
    {
     "data": {
      "text/plain": "{'N7821': \"Recommended because users ['U69084', 'U31631', 'U57214', 'U21331', 'U1331', 'U64554', 'U42643', 'U80596'] showed a high average preference score for football_nfl.\",\n 'N49685': \"Recommended because users ['U69084', 'U31631', 'U57214', 'U21331', 'U1331', 'U64554', 'U42643', 'U80596'] showed a high average preference score for music-celebrity.\",\n 'N39317': \"Recommended because users ['U69084', 'U31631', 'U57214', 'U21331', 'U1331', 'U64554', 'U42643', 'U80596'] showed a high average preference score for newspolitics.\",\n 'N64916': \"Recommended because users ['U69084', 'U31631', 'U57214', 'U21331', 'U1331', 'U64554', 'U42643', 'U80596'] showed a high average preference score for newscrime.\",\n 'N59252': \"Recommended because users ['U69084', 'U31631', 'U57214', 'U21331', 'U1331', 'U64554', 'U42643', 'U80596'] showed a high average preference score for newspolitics.\",\n 'N33885': \"Recommended because users ['U69084', 'U31631', 'U57214', 'U21331', 'U1331', 'U64554', 'U42643', 'U80596'] showed a high average preference score for finance-companies.\",\n 'N36261': \"Recommended because users ['U69084', 'U31631', 'U57214', 'U21331', 'U1331', 'U64554', 'U42643', 'U80596'] showed a high average preference score for elections-2020-us.\",\n 'N12029': \"Recommended because users ['U69084', 'U31631', 'U57214', 'U21331', 'U1331', 'U64554', 'U42643', 'U80596'] showed a high average preference score for music-celebrity.\",\n 'N35305': \"Recommended because users ['U69084', 'U31631', 'U57214', 'U21331', 'U1331', 'U64554', 'U42643', 'U80596'] showed a high average preference score for newsopinion.\",\n 'N62366': \"Recommended because users ['U69084', 'U31631', 'U57214', 'U21331', 'U1331', 'U64554', 'U42643', 'U80596'] showed a high average preference score for newspolitics.\"}"
     },
     "execution_count": 123,
     "metadata": {},
     "output_type": "execute_result"
    }
   ],
   "source": [
    "explanations"
   ]
  },
  {
   "cell_type": "markdown",
   "id": "93251d71",
   "metadata": {},
   "source": [
    "# Survey recommendations"
   ]
  },
  {
   "cell_type": "code",
   "execution_count": 124,
   "id": "e55aa698",
   "metadata": {
    "ExecuteTime": {
     "end_time": "2023-10-15T13:53:07.658446800Z",
     "start_time": "2023-10-15T13:53:07.596612600Z"
    }
   },
   "outputs": [],
   "source": [
    "survey_news = [\"N55468\", \"N8091\", \"N61914\", \"N7857\", \"N32907\", \"N33584\", \"N50566\", \"N47845\", \"N20212\", \"N37038\", \"N39173\", \"N54950\", \"N63975\", \"N28867\", \"N62996\",\n",
    "               \"N35703\", \"N9680\", \"N50299\", \"N61837\", \"N59295\", \"N13113\", \"N57018\", \"N48320\", \"N49981\", \"N11200\", \"N10470\", \"N46481\", \"N27435\", \"N39125\", \"N24808\",\n",
    "               \"N1587\", \"N22605\", \"N10886\", \"N52386\", \"N52620\", \"N30867\", \"N47140\", \"N29552\", \"N55528\", \"N55610\"]"
   ]
  },
  {
   "cell_type": "code",
   "execution_count": 125,
   "id": "9ace07c0",
   "metadata": {
    "ExecuteTime": {
     "end_time": "2023-10-15T13:53:08.709686700Z",
     "start_time": "2023-10-15T13:53:08.689703500Z"
    }
   },
   "outputs": [],
   "source": [
    "#news for which we don't have the mapping for\n",
    "invalid_list = [item for item in survey_news if item not in all_news_to_id]"
   ]
  },
  {
   "cell_type": "code",
   "execution_count": 126,
   "id": "ae1fe5c2",
   "metadata": {
    "ExecuteTime": {
     "end_time": "2023-10-15T13:53:09.431402100Z",
     "start_time": "2023-10-15T13:53:09.392505900Z"
    }
   },
   "outputs": [
    {
     "name": "stdout",
     "output_type": "stream",
     "text": [
      "['N63975', 'N28867', 'N57018', 'N46481', 'N22605']\n"
     ]
    }
   ],
   "source": [
    "print(invalid_list)"
   ]
  },
  {
   "cell_type": "code",
   "execution_count": 128,
   "id": "13ae1506",
   "metadata": {
    "ExecuteTime": {
     "end_time": "2023-10-15T13:53:23.228034900Z",
     "start_time": "2023-10-15T13:53:23.199115100Z"
    }
   },
   "outputs": [],
   "source": [
    "survey_news_ids = [all_news_to_id[item] for item in survey_news if item in all_news_to_id]"
   ]
  },
  {
   "cell_type": "code",
   "execution_count": 129,
   "id": "67c9715c",
   "metadata": {
    "ExecuteTime": {
     "end_time": "2023-10-15T13:53:24.035953900Z",
     "start_time": "2023-10-15T13:53:24.010843200Z"
    }
   },
   "outputs": [],
   "source": [
    "# Create a list of letters A to O\n",
    "users = [chr(i) for i in range(ord('A'), ord('O')+1)]\n",
    "\n",
    "# Create a DataFrame with 'user' column filled with letters A to O and 'clicked_news' with empty lists\n",
    "survey_interactions = pd.DataFrame({\n",
    "    'user': users,\n",
    "    'item': [[] for _ in users]  # Create an empty list for each user\n",
    "})\n"
   ]
  },
  {
   "cell_type": "code",
   "execution_count": 130,
   "id": "4fe3d638",
   "metadata": {
    "ExecuteTime": {
     "end_time": "2023-10-15T13:53:25.634376300Z",
     "start_time": "2023-10-15T13:53:25.615051200Z"
    }
   },
   "outputs": [],
   "source": [
    "survey_interactions.at[0, 'item'].extend([\"N7857\", \"N33584\", \"N50566\", \"N47845\", \"N39173\", \"N54950\", \"N11200\", \"N22605\", \"N52620\"])\n",
    "survey_interactions.at[1, 'item'].extend([\"N55468\", \"N61914\", \"N50566\", \"N20212\", \"N37038\", \"N39173\", \"N54950\", \"N35703\", \"N50299\", \"N61837\", \"N11200\", \"N10470\", \"N46481\", \"N27435\", \"N1587\", \"N22605\", \"N10886\", \"N52386\", \"N30867\", \"N55528\"])\n",
    "survey_interactions.at[2, 'item'].extend([\"N55468\", \"N8091\", \"N7857\", \"N32907\", \"N33584\", \"N50566\", \"N47845\", \"N20212\", \"N37038\", \"N39173\", \"N54950\", \"N22605\", \"N10886\"])\n",
    "survey_interactions.at[3, 'item'].extend([\"N8091\",\"N7857\",\"N50566\",\"N47845\",\"N20212\",\"N37038\",\"N39173\",\"N54950\",\"N28867\",\"N62996\",\"N35703\",\"N9680\",\"N50299\",\"N61837\",\"N59295\",\"N48320\",\"N46481\",\"N39125\",\"N24808\",\"N22605\",\"N10886\",\"N52386\",\"N52620\",\"N29552\",\"N55528\",\"N55610\"])\n",
    "survey_interactions.at[4, 'item'].extend([\"N61914\",\"N47845\",\"N20212\",\"N39173\",\"N28867\",\"N62996\",\"N35703\",\"N61837\",\"N13113\",\"N48320\",\"N11200\",\"N46481\",\"N39125\",\"N24808\",\"N10886\",\"N52386\",\"N47140\",\"N29552\",\"N55528\"])\n",
    "survey_interactions.at[5, 'item'].extend([\"N55468\",\"N8091\",\"N7857\",\"N47845\",\"N20212\",\"N35703\",\"N9680\",\"N59295\",\"N48320\",\"N49981\",\"N10470\",\"N24808\",\"N1587\",\"N22605\",\"N10886\",\"N30867\"])\n",
    "survey_interactions.at[6, 'item'].extend([\"N55468\",\"N7857\",\"N47845\",\"N62996\",\"N9680\",\"N11200\",\"N10886\",\"N47140\",\"N29552\"])\n",
    "survey_interactions.at[7, 'item'].extend([\"N55468\",\"N8091\",\"N7857\",\"N33584\",\"N50566\",\"N47845\",\"N39173\",\"N59295\",\"N11200\",\"N39125\",\"N22605\",\"N10886\",\"N30867\",\"N29552\"])\n",
    "survey_interactions.at[8, 'item'].extend([\"N55468\",\"N61914\",\"N50566\",\"N47845\",\"N20212\",\"N37038\",\"N39173\",\"N54950\",\"N62996\",\"N35703\",\"N61837\",\"N59295\",\"N57018\",\"N39125\",\"N24808\",\"N1587\",\"N52620\",\"N29552\"])\n",
    "survey_interactions.at[9, 'item'].extend([\"N8091\",\"N7857\",\"N33584\",\"N61837\",\"N57018\",\"N10470\",\"N1587\",\"N10886\",\"N52620\",\"N55528\",\"N55610\"])\n",
    "survey_interactions.at[10, 'item'].extend([\"N8091\",\"N61914\",\"N7857\",\"N33584\",\"N47845\",\"N37038\",\"N24808\",\"N10886\",\"N52620\",\"N30867\"])\n",
    "survey_interactions.at[11, 'item'].extend([\"N61914\",\"N33584\",\"N20212\",\"N37038\",\"N28867\",\"N57018\",\"N49981\",\"N11200\",\"N10470\",\"N27435\",\"N39125\",\"N24808\",\"N10886\",\"N52386\",\"N52620\",\"N30867\",\"N47140\",\"N29552\"])\n",
    "survey_interactions.at[12, 'item'].extend([\"N7857\",\"N32907\",\"N50566\",\"N47845\",\"N62996\",\"N35703\",\"N39125\",\"N24808\"])\n",
    "survey_interactions.at[13, 'item'].extend([\"N55468\",\"N8091\",\"N50566\",\"N20212\",\"N62996\",\"N35703\",\"N59295\",\"N57018\",\"N10470\",\"N39125\",\"N22605\",\"N10886\",\"N52620\",\"N30867\"])\n",
    "survey_interactions.at[14, 'item'].extend([\"N39173\",\"N54950\",\"N59295\",\"N13113\",\"N10886\"])"
   ]
  },
  {
   "cell_type": "code",
   "execution_count": 131,
   "id": "1d5acd36",
   "metadata": {
    "ExecuteTime": {
     "end_time": "2023-10-15T13:53:26.729739Z",
     "start_time": "2023-10-15T13:53:26.695829600Z"
    }
   },
   "outputs": [],
   "source": [
    "survey_interactions['item'] = survey_interactions['item'].apply(lambda x: [item for item in x if item not in invalid_list])"
   ]
  },
  {
   "cell_type": "code",
   "execution_count": 132,
   "id": "78895a2e",
   "metadata": {
    "ExecuteTime": {
     "end_time": "2023-10-15T13:53:27.890850400Z",
     "start_time": "2023-10-15T13:53:27.663162Z"
    }
   },
   "outputs": [
    {
     "data": {
      "text/plain": "   user                                               item\n0     A  [N7857, N33584, N50566, N47845, N39173, N54950...\n1     B  [N55468, N61914, N50566, N20212, N37038, N3917...\n2     C  [N55468, N8091, N7857, N32907, N33584, N50566,...\n3     D  [N8091, N7857, N50566, N47845, N20212, N37038,...\n4     E  [N61914, N47845, N20212, N39173, N62996, N3570...\n5     F  [N55468, N8091, N7857, N47845, N20212, N35703,...\n6     G  [N55468, N7857, N47845, N62996, N9680, N11200,...\n7     H  [N55468, N8091, N7857, N33584, N50566, N47845,...\n8     I  [N55468, N61914, N50566, N47845, N20212, N3703...\n9     J  [N8091, N7857, N33584, N61837, N10470, N1587, ...\n10    K  [N8091, N61914, N7857, N33584, N47845, N37038,...\n11    L  [N61914, N33584, N20212, N37038, N49981, N1120...\n12    M  [N7857, N32907, N50566, N47845, N62996, N35703...\n13    N  [N55468, N8091, N50566, N20212, N62996, N35703...\n14    O           [N39173, N54950, N59295, N13113, N10886]",
      "text/html": "<div>\n<style scoped>\n    .dataframe tbody tr th:only-of-type {\n        vertical-align: middle;\n    }\n\n    .dataframe tbody tr th {\n        vertical-align: top;\n    }\n\n    .dataframe thead th {\n        text-align: right;\n    }\n</style>\n<table border=\"1\" class=\"dataframe\">\n  <thead>\n    <tr style=\"text-align: right;\">\n      <th></th>\n      <th>user</th>\n      <th>item</th>\n    </tr>\n  </thead>\n  <tbody>\n    <tr>\n      <th>0</th>\n      <td>A</td>\n      <td>[N7857, N33584, N50566, N47845, N39173, N54950...</td>\n    </tr>\n    <tr>\n      <th>1</th>\n      <td>B</td>\n      <td>[N55468, N61914, N50566, N20212, N37038, N3917...</td>\n    </tr>\n    <tr>\n      <th>2</th>\n      <td>C</td>\n      <td>[N55468, N8091, N7857, N32907, N33584, N50566,...</td>\n    </tr>\n    <tr>\n      <th>3</th>\n      <td>D</td>\n      <td>[N8091, N7857, N50566, N47845, N20212, N37038,...</td>\n    </tr>\n    <tr>\n      <th>4</th>\n      <td>E</td>\n      <td>[N61914, N47845, N20212, N39173, N62996, N3570...</td>\n    </tr>\n    <tr>\n      <th>5</th>\n      <td>F</td>\n      <td>[N55468, N8091, N7857, N47845, N20212, N35703,...</td>\n    </tr>\n    <tr>\n      <th>6</th>\n      <td>G</td>\n      <td>[N55468, N7857, N47845, N62996, N9680, N11200,...</td>\n    </tr>\n    <tr>\n      <th>7</th>\n      <td>H</td>\n      <td>[N55468, N8091, N7857, N33584, N50566, N47845,...</td>\n    </tr>\n    <tr>\n      <th>8</th>\n      <td>I</td>\n      <td>[N55468, N61914, N50566, N47845, N20212, N3703...</td>\n    </tr>\n    <tr>\n      <th>9</th>\n      <td>J</td>\n      <td>[N8091, N7857, N33584, N61837, N10470, N1587, ...</td>\n    </tr>\n    <tr>\n      <th>10</th>\n      <td>K</td>\n      <td>[N8091, N61914, N7857, N33584, N47845, N37038,...</td>\n    </tr>\n    <tr>\n      <th>11</th>\n      <td>L</td>\n      <td>[N61914, N33584, N20212, N37038, N49981, N1120...</td>\n    </tr>\n    <tr>\n      <th>12</th>\n      <td>M</td>\n      <td>[N7857, N32907, N50566, N47845, N62996, N35703...</td>\n    </tr>\n    <tr>\n      <th>13</th>\n      <td>N</td>\n      <td>[N55468, N8091, N50566, N20212, N62996, N35703...</td>\n    </tr>\n    <tr>\n      <th>14</th>\n      <td>O</td>\n      <td>[N39173, N54950, N59295, N13113, N10886]</td>\n    </tr>\n  </tbody>\n</table>\n</div>"
     },
     "execution_count": 132,
     "metadata": {},
     "output_type": "execute_result"
    }
   ],
   "source": [
    "survey_interactions"
   ]
  },
  {
   "cell_type": "code",
   "execution_count": 133,
   "id": "6df420be",
   "metadata": {
    "ExecuteTime": {
     "end_time": "2023-10-15T13:53:30.080355200Z",
     "start_time": "2023-10-15T13:53:30.045414600Z"
    }
   },
   "outputs": [],
   "source": [
    "# Flattening the clicked news and associating with user_id, that means we divide the lists into one row for each clicked news\n",
    "survey_interactions = survey_interactions.explode('item')[['user', 'item']]"
   ]
  },
  {
   "cell_type": "code",
   "execution_count": 134,
   "id": "a1159848",
   "metadata": {
    "scrolled": true,
    "ExecuteTime": {
     "end_time": "2023-10-15T13:53:31.178397500Z",
     "start_time": "2023-10-15T13:53:31.024823Z"
    }
   },
   "outputs": [
    {
     "data": {
      "text/plain": "   user    item\n0     A   N7857\n0     A  N33584\n0     A  N50566\n0     A  N47845\n0     A  N39173\n..  ...     ...\n14    O  N39173\n14    O  N54950\n14    O  N59295\n14    O  N13113\n14    O  N10886\n\n[193 rows x 2 columns]",
      "text/html": "<div>\n<style scoped>\n    .dataframe tbody tr th:only-of-type {\n        vertical-align: middle;\n    }\n\n    .dataframe tbody tr th {\n        vertical-align: top;\n    }\n\n    .dataframe thead th {\n        text-align: right;\n    }\n</style>\n<table border=\"1\" class=\"dataframe\">\n  <thead>\n    <tr style=\"text-align: right;\">\n      <th></th>\n      <th>user</th>\n      <th>item</th>\n    </tr>\n  </thead>\n  <tbody>\n    <tr>\n      <th>0</th>\n      <td>A</td>\n      <td>N7857</td>\n    </tr>\n    <tr>\n      <th>0</th>\n      <td>A</td>\n      <td>N33584</td>\n    </tr>\n    <tr>\n      <th>0</th>\n      <td>A</td>\n      <td>N50566</td>\n    </tr>\n    <tr>\n      <th>0</th>\n      <td>A</td>\n      <td>N47845</td>\n    </tr>\n    <tr>\n      <th>0</th>\n      <td>A</td>\n      <td>N39173</td>\n    </tr>\n    <tr>\n      <th>...</th>\n      <td>...</td>\n      <td>...</td>\n    </tr>\n    <tr>\n      <th>14</th>\n      <td>O</td>\n      <td>N39173</td>\n    </tr>\n    <tr>\n      <th>14</th>\n      <td>O</td>\n      <td>N54950</td>\n    </tr>\n    <tr>\n      <th>14</th>\n      <td>O</td>\n      <td>N59295</td>\n    </tr>\n    <tr>\n      <th>14</th>\n      <td>O</td>\n      <td>N13113</td>\n    </tr>\n    <tr>\n      <th>14</th>\n      <td>O</td>\n      <td>N10886</td>\n    </tr>\n  </tbody>\n</table>\n<p>193 rows × 2 columns</p>\n</div>"
     },
     "execution_count": 134,
     "metadata": {},
     "output_type": "execute_result"
    }
   ],
   "source": [
    "survey_interactions"
   ]
  },
  {
   "cell_type": "code",
   "execution_count": 135,
   "id": "6d50c88d",
   "metadata": {
    "ExecuteTime": {
     "end_time": "2023-10-15T13:53:32.620980500Z",
     "start_time": "2023-10-15T13:53:32.603526900Z"
    }
   },
   "outputs": [
    {
     "name": "stdout",
     "output_type": "stream",
     "text": [
      "Number of unique users:        15 \n",
      "\n",
      "Number of unique clicked news: 35\n"
     ]
    }
   ],
   "source": [
    "print(f\"Number of unique users:        {survey_interactions['user'].nunique()} \\n\")\n",
    "print(f\"Number of unique clicked news: {survey_interactions['item'].nunique()}\")"
   ]
  },
  {
   "cell_type": "code",
   "execution_count": 136,
   "id": "61023401",
   "metadata": {
    "ExecuteTime": {
     "end_time": "2023-10-15T13:53:34.344904500Z",
     "start_time": "2023-10-15T13:53:34.111778700Z"
    }
   },
   "outputs": [
    {
     "name": "stdout",
     "output_type": "stream",
     "text": [
      "users: 15433 \n",
      "items: 6556\n",
      "         user  item  rating\n",
      "0       14904   760     1.0\n",
      "1        1818  1195     1.0\n",
      "2        1818  2576     1.0\n",
      "3        7903  4833     1.0\n",
      "4       14527  5728     1.0\n",
      "...       ...   ...     ...\n",
      "155631     14  3230     1.0\n",
      "155632     14  4978     1.0\n",
      "155633     14  5454     1.0\n",
      "155634     14   355     1.0\n",
      "155635     14    98     1.0\n",
      "\n",
      "[155636 rows x 3 columns]\n"
     ]
    }
   ],
   "source": [
    "#concat new user data\n",
    "clicked_news.columns = ['user', 'item']\n",
    "survey_interactions = pd.concat([clicked_news, survey_interactions], ignore_index=True, axis = 0)\n",
    "# Create categorical types without encoding them yet\n",
    "survey_interactions['user_id_cat'] = survey_interactions['user'].astype(\"category\")\n",
    "survey_interactions['news_id_cat'] = survey_interactions['item'].astype(\"category\")\n",
    "\n",
    "# Creating mappings from original IDs to encoded IDs\n",
    "id_to_user = dict(enumerate(survey_interactions['user_id_cat'].cat.categories))\n",
    "id_to_news = dict(enumerate(survey_interactions['news_id_cat'].cat.categories))\n",
    "\n",
    "# Convert categories to codes (integer encoding)\n",
    "survey_interactions_encoded = pd.DataFrame(columns=['user', 'item'])\n",
    "survey_interactions_encoded['user'] = survey_interactions['user_id_cat'].cat.codes\n",
    "survey_interactions_encoded['item'] = survey_interactions['news_id_cat'].cat.codes\n",
    "\n",
    "# Drop the additional categorical columns if they are not needed\n",
    "survey_interactions = survey_interactions.drop(columns=['user_id_cat', 'news_id_cat'])\n",
    "\n",
    "# Creating reverse mappings from original IDs to encoded IDs\n",
    "user_to_id = {v: k for k, v in id_to_user.items()}\n",
    "news_to_id = {v: k for k, v in id_to_news.items()}\n",
    "\n",
    "# Create a sparse user-item interaction matrix\n",
    "interaction_matrix = coo_matrix((np.ones(survey_interactions_encoded.shape[0]),\n",
    "                                 (survey_interactions_encoded['user'], survey_interactions_encoded['item'])))\n",
    "\n",
    "print(f\"users: {interaction_matrix.shape[0]} \\nitems: {interaction_matrix.shape[1]}\")\n",
    "\n",
    "#transform into compressed sparse row\n",
    "interaction_matrix_csr = interaction_matrix.tocsr()\n",
    "\n",
    "survey_interactions_encoded['rating'] = np.ones(len(survey_interactions_encoded))\n",
    "\n",
    "print(survey_interactions_encoded)"
   ]
  },
  {
   "cell_type": "code",
   "execution_count": 137,
   "id": "32c76519",
   "metadata": {
    "ExecuteTime": {
     "end_time": "2023-10-15T13:53:35.255221800Z",
     "start_time": "2023-10-15T13:53:35.097641800Z"
    }
   },
   "outputs": [],
   "source": [
    "user_id = 'B'\n",
    "recommended_news_indices = recommend_news('A', interaction_matrix_csr, news_similarity, user_to_id, top_n=10)"
   ]
  },
  {
   "cell_type": "code",
   "execution_count": 138,
   "id": "bce375e9",
   "metadata": {
    "ExecuteTime": {
     "end_time": "2023-10-15T13:53:36.019177300Z",
     "start_time": "2023-10-15T13:53:35.995242Z"
    }
   },
   "outputs": [],
   "source": [
    "users = list('ABCDEFGHIJKLMNO')"
   ]
  },
  {
   "cell_type": "code",
   "execution_count": 170,
   "id": "593654e9",
   "metadata": {
    "ExecuteTime": {
     "end_time": "2023-10-15T14:23:13.844970Z",
     "start_time": "2023-10-15T14:23:13.746236100Z"
    }
   },
   "outputs": [
    {
     "name": "stdout",
     "output_type": "stream",
     "text": [
      "A: Based off of your click history and similar content, we recommend these articles:\n",
      "['N51923', 'N35778', 'N62171', 'N63004', 'N13589'].\n",
      "These are their respective similarity scores:\n",
      "[0.5798973804199299, 0.5538830162498715, 0.525525562409543, 0.5217986832414446, 0.5129110803151521]\n",
      "B: Based off of your click history and similar content, we recommend these articles:\n",
      "['N10617', 'N732', 'N64778', 'N723', 'N20167'].\n",
      "These are their respective similarity scores:\n",
      "[0.9901153258164977, 0.8059423130067741, 0.7685992367111084, 0.7581549423846585, 0.7543851863944394]\n",
      "C: Based off of your click history and similar content, we recommend these articles:\n",
      "['N14598', 'N55628', 'N37062', 'N9470', 'N58055'].\n",
      "These are their respective similarity scores:\n",
      "[0.7922353633086818, 0.7434540610570919, 0.7038559853711308, 0.6949625903500387, 0.6857294433946879]\n",
      "D: Based off of your click history and similar content, we recommend these articles:\n",
      "['N57715', 'N37062', 'N21212', 'N40099', 'N22556'].\n",
      "These are their respective similarity scores:\n",
      "[1.084696778710408, 1.013835934679487, 0.9726325005189844, 0.9511169939285952, 0.9496680535818504]\n",
      "E: Based off of your click history and similar content, we recommend these articles:\n",
      "['N39961', 'N36954', 'N57715', 'N53891', 'N22556'].\n",
      "These are their respective similarity scores:\n",
      "[0.994948332944306, 0.9461104884615255, 0.9322978856597641, 0.9108699229834263, 0.8598052987573525]\n",
      "F: Based off of your click history and similar content, we recommend these articles:\n",
      "['N9800', 'N9261', 'N20536', 'N57796', 'N37062'].\n",
      "These are their respective similarity scores:\n",
      "[0.8740958261609132, 0.7449040884935969, 0.7449040884935969, 0.6765072600653678, 0.6718092689621613]\n",
      "G: Based off of your click history and similar content, we recommend these articles:\n",
      "['N63406', 'N48316', 'N40683', 'N13589', 'N9470'].\n",
      "These are their respective similarity scores:\n",
      "[0.5924841002370524, 0.5798973804199299, 0.5718083187455812, 0.5668458448239335, 0.5636017526115858]\n",
      "H: Based off of your click history and similar content, we recommend these articles:\n",
      "['N26457', 'N22556', 'N55628', 'N39961', 'N57715'].\n",
      "These are their respective similarity scores:\n",
      "[1.018700477826489, 0.9772576252285645, 0.8616844523267124, 0.8490268371404909, 0.8418421861937438]\n",
      "I: Based off of your click history and similar content, we recommend these articles:\n",
      "['N3081', 'N39961', 'N57715', 'N22556', 'N40099'].\n",
      "These are their respective similarity scores:\n",
      "[0.9973721456321968, 0.9871227724839782, 0.9035822357081554, 0.8919999238221517, 0.8901034664104022]\n",
      "J: Based off of your click history and similar content, we recommend these articles:\n",
      "['N12352', 'N4244', 'N732', 'N56687', 'N20306'].\n",
      "These are their respective similarity scores:\n",
      "[0.6567977168684938, 0.6567977168684938, 0.6376282198830201, 0.6144418398684237, 0.6121545652959777]\n",
      "K: Based off of your click history and similar content, we recommend these articles:\n",
      "['N43036', 'N36781', 'N19085', 'N3081', 'N21212'].\n",
      "These are their respective similarity scores:\n",
      "[0.8043573770877939, 0.8035157340642572, 0.7805250585291504, 0.7643838040080876, 0.7404961911851131]\n",
      "L: Based off of your click history and similar content, we recommend these articles:\n",
      "['N40099', 'N3081', 'N22556', 'N57715', 'N21212'].\n",
      "These are their respective similarity scores:\n",
      "[0.9741947623029467, 0.9501346915604043, 0.9023106241917627, 0.8936304276478568, 0.8615006109887674]\n",
      "M: Based off of your click history and similar content, we recommend these articles:\n",
      "['N17788', 'N26457', 'N39961', 'N57715', 'N22556'].\n",
      "These are their respective similarity scores:\n",
      "[0.8852907209218386, 0.8430996643083174, 0.8284648594147224, 0.7917652965588009, 0.790424400383833]\n",
      "N: Based off of your click history and similar content, we recommend these articles:\n",
      "['N37062', 'N55628', 'N39961', 'N57715', 'N22556'].\n",
      "These are their respective similarity scores:\n",
      "[1.0543808435569553, 0.9847437968208009, 0.9772576252285645, 0.8616844523267124, 0.8519874875160148]\n",
      "O: Based off of your click history and similar content, we recommend these articles:\n",
      "['N63004', 'N58055', 'N723', 'N36954', 'N40198'].\n",
      "These are their respective similarity scores:\n",
      "[0.6173854841383837, 0.609763658038805, 0.5544722536907291, 0.537790240427074, 0.5115506709932076]\n"
     ]
    }
   ],
   "source": [
    "recommendations = {}\n",
    "\n",
    "\n",
    "# Iterate through all users and print individual explanations\n",
    "for user in users:\n",
    "    recommended_news_indices, similarity_scores = recommend_news(user, interaction_matrix_csr, news_similarity, user_to_id, top_n=5)\n",
    "    print(explain_individual(user, recommended_news_indices, similarity_scores))\n",
    "    recommendations[user] = recommended_news_indices"
   ]
  },
  {
   "cell_type": "code",
   "execution_count": 140,
   "id": "0fb67b36",
   "metadata": {
    "ExecuteTime": {
     "end_time": "2023-10-15T13:53:37.490196900Z",
     "start_time": "2023-10-15T13:53:37.447312400Z"
    }
   },
   "outputs": [
    {
     "data": {
      "text/plain": "                                          0  \\\nA  [N51923, N35778, N62171, N63004, N13589]   \nB      [N10617, N732, N64778, N723, N20167]   \nC   [N14598, N55628, N37062, N9470, N58055]   \nD  [N57715, N37062, N21212, N40099, N22556]   \nE  [N39961, N36954, N57715, N53891, N22556]   \nF    [N9800, N9261, N20536, N57796, N37062]   \nG   [N63406, N48316, N40683, N13589, N9470]   \nH  [N26457, N22556, N55628, N39961, N57715]   \nI   [N3081, N39961, N57715, N22556, N40099]   \nJ     [N12352, N4244, N732, N56687, N20306]   \nK   [N43036, N36781, N19085, N3081, N21212]   \nL   [N40099, N3081, N22556, N57715, N21212]   \nM  [N17788, N26457, N39961, N57715, N22556]   \nN  [N37062, N55628, N39961, N57715, N22556]   \nO    [N63004, N58055, N723, N36954, N40198]   \n\n                                                   1  \nA  [0.5798973804199299, 0.5538830162498715, 0.525...  \nB  [0.9901153258164977, 0.8059423130067741, 0.768...  \nC  [0.7922353633086818, 0.7434540610570919, 0.703...  \nD  [1.084696778710408, 1.013835934679487, 0.97263...  \nE  [0.994948332944306, 0.9461104884615255, 0.9322...  \nF  [0.8740958261609132, 0.7449040884935969, 0.744...  \nG  [0.5924841002370524, 0.5798973804199299, 0.571...  \nH  [1.018700477826489, 0.9772576252285645, 0.8616...  \nI  [0.9973721456321968, 0.9871227724839782, 0.903...  \nJ  [0.6567977168684938, 0.6567977168684938, 0.637...  \nK  [0.8043573770877939, 0.8035157340642572, 0.780...  \nL  [0.9741947623029467, 0.9501346915604043, 0.902...  \nM  [0.8852907209218386, 0.8430996643083174, 0.828...  \nN  [1.0543808435569553, 0.9847437968208009, 0.977...  \nO  [0.6173854841383837, 0.609763658038805, 0.5544...  ",
      "text/html": "<div>\n<style scoped>\n    .dataframe tbody tr th:only-of-type {\n        vertical-align: middle;\n    }\n\n    .dataframe tbody tr th {\n        vertical-align: top;\n    }\n\n    .dataframe thead th {\n        text-align: right;\n    }\n</style>\n<table border=\"1\" class=\"dataframe\">\n  <thead>\n    <tr style=\"text-align: right;\">\n      <th></th>\n      <th>0</th>\n      <th>1</th>\n    </tr>\n  </thead>\n  <tbody>\n    <tr>\n      <th>A</th>\n      <td>[N51923, N35778, N62171, N63004, N13589]</td>\n      <td>[0.5798973804199299, 0.5538830162498715, 0.525...</td>\n    </tr>\n    <tr>\n      <th>B</th>\n      <td>[N10617, N732, N64778, N723, N20167]</td>\n      <td>[0.9901153258164977, 0.8059423130067741, 0.768...</td>\n    </tr>\n    <tr>\n      <th>C</th>\n      <td>[N14598, N55628, N37062, N9470, N58055]</td>\n      <td>[0.7922353633086818, 0.7434540610570919, 0.703...</td>\n    </tr>\n    <tr>\n      <th>D</th>\n      <td>[N57715, N37062, N21212, N40099, N22556]</td>\n      <td>[1.084696778710408, 1.013835934679487, 0.97263...</td>\n    </tr>\n    <tr>\n      <th>E</th>\n      <td>[N39961, N36954, N57715, N53891, N22556]</td>\n      <td>[0.994948332944306, 0.9461104884615255, 0.9322...</td>\n    </tr>\n    <tr>\n      <th>F</th>\n      <td>[N9800, N9261, N20536, N57796, N37062]</td>\n      <td>[0.8740958261609132, 0.7449040884935969, 0.744...</td>\n    </tr>\n    <tr>\n      <th>G</th>\n      <td>[N63406, N48316, N40683, N13589, N9470]</td>\n      <td>[0.5924841002370524, 0.5798973804199299, 0.571...</td>\n    </tr>\n    <tr>\n      <th>H</th>\n      <td>[N26457, N22556, N55628, N39961, N57715]</td>\n      <td>[1.018700477826489, 0.9772576252285645, 0.8616...</td>\n    </tr>\n    <tr>\n      <th>I</th>\n      <td>[N3081, N39961, N57715, N22556, N40099]</td>\n      <td>[0.9973721456321968, 0.9871227724839782, 0.903...</td>\n    </tr>\n    <tr>\n      <th>J</th>\n      <td>[N12352, N4244, N732, N56687, N20306]</td>\n      <td>[0.6567977168684938, 0.6567977168684938, 0.637...</td>\n    </tr>\n    <tr>\n      <th>K</th>\n      <td>[N43036, N36781, N19085, N3081, N21212]</td>\n      <td>[0.8043573770877939, 0.8035157340642572, 0.780...</td>\n    </tr>\n    <tr>\n      <th>L</th>\n      <td>[N40099, N3081, N22556, N57715, N21212]</td>\n      <td>[0.9741947623029467, 0.9501346915604043, 0.902...</td>\n    </tr>\n    <tr>\n      <th>M</th>\n      <td>[N17788, N26457, N39961, N57715, N22556]</td>\n      <td>[0.8852907209218386, 0.8430996643083174, 0.828...</td>\n    </tr>\n    <tr>\n      <th>N</th>\n      <td>[N37062, N55628, N39961, N57715, N22556]</td>\n      <td>[1.0543808435569553, 0.9847437968208009, 0.977...</td>\n    </tr>\n    <tr>\n      <th>O</th>\n      <td>[N63004, N58055, N723, N36954, N40198]</td>\n      <td>[0.6173854841383837, 0.609763658038805, 0.5544...</td>\n    </tr>\n  </tbody>\n</table>\n</div>"
     },
     "execution_count": 140,
     "metadata": {},
     "output_type": "execute_result"
    }
   ],
   "source": [
    "recommendations_df = pd.DataFrame.from_dict(recommendations, orient='index')\n",
    "recommendations_df"
   ]
  },
  {
   "cell_type": "code",
   "execution_count": 189,
   "outputs": [
    {
     "data": {
      "text/plain": "       index news_id      category    subcategory  \\\n6659    6946  N51923  foodanddrink     newstrends   \n1255    1310  N35778        travel     travelnews   \n14048  14707  N62171        travel     travelnews   \n37777  39694  N63004        travel  travelarticle   \n29934  31402  N13589  foodanddrink        recipes   \n...      ...     ...           ...            ...   \n37777  39694  N63004        travel  travelarticle   \n2690    2809  N58055          news    newsopinion   \n2998    3127    N723            tv     tv-gallery   \n4657    4865  N36954  foodanddrink        recipes   \n4522    4725  N40198         video        animals   \n\n                                                   title  \\\n6659   Founders Tells CBS Beer Release Ticket Holders...   \n1255   China's largest airport hotel, Aerotel Hotel, ...   \n14048  New Passenger Drop-Off Scheme Instituted At Ai...   \n37777  Orlando International Airport's fast-growing h...   \n29934  69 Vegetarian Meals to Make Meatless Monday Su...   \n...                                                  ...   \n37777  Orlando International Airport's fast-growing h...   \n2690                           We Are Running Out of Air   \n2998   31 TV reboots, remakes, and spin-offs that are...   \n4657             25+ Ways To Go Gluten-Free This Holiday   \n4522   Fossils Reveal 372-Million-Year-Old Crocodile-...   \n\n                                                abstract  \\\n6659   Taproom staff are organizing a peaceful protes...   \n1255   Aerotel Beijing has opened, and it's China's l...   \n14048  There are new traffic rules for dropping off p...   \n37777  Authorities at Orlando International Airport a...   \n29934                                      Chicken, who?   \n...                                                  ...   \n37777  Authorities at Orlando International Airport a...   \n2690   One suffocating city is a harbinger of health ...   \n2998   From classics like \"Grease\" to newer shows lik...   \n4657          There's no bland health food on this list.   \n4522   Fossils reveal a 372-million-year-old crocodil...   \n\n                                                 url  \\\n6659   https://assets.msn.com/labs/mind/AAJl06q.html   \n1255   https://assets.msn.com/labs/mind/AAIfSly.html   \n14048  https://assets.msn.com/labs/mind/AAJXXgI.html   \n37777  https://assets.msn.com/labs/mind/BBWKrkx.html   \n29934  https://assets.msn.com/labs/mind/BBPq6e3.html   \n...                                              ...   \n37777  https://assets.msn.com/labs/mind/BBWKrkx.html   \n2690   https://assets.msn.com/labs/mind/AAJWQGS.html   \n2998   https://assets.msn.com/labs/mind/AAGsVHx.html   \n4657   https://assets.msn.com/labs/mind/AAItUdd.html   \n4522   https://assets.msn.com/labs/mind/AAJgh4p.html   \n\n                                          title_entities  \\\n6659   [{\"Label\": \"Founders Brewing Company\", \"Type\":...   \n1255   [{\"Label\": \"Beijing\", \"Type\": \"G\", \"WikidataId...   \n14048  [{\"Label\": \"St. Louis Lambert International Ai...   \n37777  [{\"Label\": \"Orlando International Airport\", \"T...   \n29934  [{\"Label\": \"Vegetarianism\", \"Type\": \"C\", \"Wiki...   \n...                                                  ...   \n37777  [{\"Label\": \"Orlando International Airport\", \"T...   \n2690                                                  []   \n2998                                                  []   \n4657   [{\"Label\": \"Gluten-free diet\", \"Type\": \"C\", \"W...   \n4522   [{\"Label\": \"Reveal (R.E.M. album)\", \"Type\": \"W...   \n\n                                       abstract_entities  \n6659   [{\"Label\": \"Cass Corridor\", \"Type\": \"G\", \"Wiki...  \n1255   [{\"Label\": \"Beijing\", \"Type\": \"G\", \"WikidataId...  \n14048  [{\"Label\": \"St. Louis Lambert International Ai...  \n37777  [{\"Label\": \"Orlando International Airport\", \"T...  \n29934                                                 []  \n...                                                  ...  \n37777  [{\"Label\": \"Orlando International Airport\", \"T...  \n2690                                                  []  \n2998   [{\"Label\": \"Gossip Girl\", \"Type\": \"W\", \"Wikida...  \n4657                                                  []  \n4522                                                  []  \n\n[75 rows x 9 columns]",
      "text/html": "<div>\n<style scoped>\n    .dataframe tbody tr th:only-of-type {\n        vertical-align: middle;\n    }\n\n    .dataframe tbody tr th {\n        vertical-align: top;\n    }\n\n    .dataframe thead th {\n        text-align: right;\n    }\n</style>\n<table border=\"1\" class=\"dataframe\">\n  <thead>\n    <tr style=\"text-align: right;\">\n      <th></th>\n      <th>index</th>\n      <th>news_id</th>\n      <th>category</th>\n      <th>subcategory</th>\n      <th>title</th>\n      <th>abstract</th>\n      <th>url</th>\n      <th>title_entities</th>\n      <th>abstract_entities</th>\n    </tr>\n  </thead>\n  <tbody>\n    <tr>\n      <th>6659</th>\n      <td>6946</td>\n      <td>N51923</td>\n      <td>foodanddrink</td>\n      <td>newstrends</td>\n      <td>Founders Tells CBS Beer Release Ticket Holders...</td>\n      <td>Taproom staff are organizing a peaceful protes...</td>\n      <td>https://assets.msn.com/labs/mind/AAJl06q.html</td>\n      <td>[{\"Label\": \"Founders Brewing Company\", \"Type\":...</td>\n      <td>[{\"Label\": \"Cass Corridor\", \"Type\": \"G\", \"Wiki...</td>\n    </tr>\n    <tr>\n      <th>1255</th>\n      <td>1310</td>\n      <td>N35778</td>\n      <td>travel</td>\n      <td>travelnews</td>\n      <td>China's largest airport hotel, Aerotel Hotel, ...</td>\n      <td>Aerotel Beijing has opened, and it's China's l...</td>\n      <td>https://assets.msn.com/labs/mind/AAIfSly.html</td>\n      <td>[{\"Label\": \"Beijing\", \"Type\": \"G\", \"WikidataId...</td>\n      <td>[{\"Label\": \"Beijing\", \"Type\": \"G\", \"WikidataId...</td>\n    </tr>\n    <tr>\n      <th>14048</th>\n      <td>14707</td>\n      <td>N62171</td>\n      <td>travel</td>\n      <td>travelnews</td>\n      <td>New Passenger Drop-Off Scheme Instituted At Ai...</td>\n      <td>There are new traffic rules for dropping off p...</td>\n      <td>https://assets.msn.com/labs/mind/AAJXXgI.html</td>\n      <td>[{\"Label\": \"St. Louis Lambert International Ai...</td>\n      <td>[{\"Label\": \"St. Louis Lambert International Ai...</td>\n    </tr>\n    <tr>\n      <th>37777</th>\n      <td>39694</td>\n      <td>N63004</td>\n      <td>travel</td>\n      <td>travelarticle</td>\n      <td>Orlando International Airport's fast-growing h...</td>\n      <td>Authorities at Orlando International Airport a...</td>\n      <td>https://assets.msn.com/labs/mind/BBWKrkx.html</td>\n      <td>[{\"Label\": \"Orlando International Airport\", \"T...</td>\n      <td>[{\"Label\": \"Orlando International Airport\", \"T...</td>\n    </tr>\n    <tr>\n      <th>29934</th>\n      <td>31402</td>\n      <td>N13589</td>\n      <td>foodanddrink</td>\n      <td>recipes</td>\n      <td>69 Vegetarian Meals to Make Meatless Monday Su...</td>\n      <td>Chicken, who?</td>\n      <td>https://assets.msn.com/labs/mind/BBPq6e3.html</td>\n      <td>[{\"Label\": \"Vegetarianism\", \"Type\": \"C\", \"Wiki...</td>\n      <td>[]</td>\n    </tr>\n    <tr>\n      <th>...</th>\n      <td>...</td>\n      <td>...</td>\n      <td>...</td>\n      <td>...</td>\n      <td>...</td>\n      <td>...</td>\n      <td>...</td>\n      <td>...</td>\n      <td>...</td>\n    </tr>\n    <tr>\n      <th>37777</th>\n      <td>39694</td>\n      <td>N63004</td>\n      <td>travel</td>\n      <td>travelarticle</td>\n      <td>Orlando International Airport's fast-growing h...</td>\n      <td>Authorities at Orlando International Airport a...</td>\n      <td>https://assets.msn.com/labs/mind/BBWKrkx.html</td>\n      <td>[{\"Label\": \"Orlando International Airport\", \"T...</td>\n      <td>[{\"Label\": \"Orlando International Airport\", \"T...</td>\n    </tr>\n    <tr>\n      <th>2690</th>\n      <td>2809</td>\n      <td>N58055</td>\n      <td>news</td>\n      <td>newsopinion</td>\n      <td>We Are Running Out of Air</td>\n      <td>One suffocating city is a harbinger of health ...</td>\n      <td>https://assets.msn.com/labs/mind/AAJWQGS.html</td>\n      <td>[]</td>\n      <td>[]</td>\n    </tr>\n    <tr>\n      <th>2998</th>\n      <td>3127</td>\n      <td>N723</td>\n      <td>tv</td>\n      <td>tv-gallery</td>\n      <td>31 TV reboots, remakes, and spin-offs that are...</td>\n      <td>From classics like \"Grease\" to newer shows lik...</td>\n      <td>https://assets.msn.com/labs/mind/AAGsVHx.html</td>\n      <td>[]</td>\n      <td>[{\"Label\": \"Gossip Girl\", \"Type\": \"W\", \"Wikida...</td>\n    </tr>\n    <tr>\n      <th>4657</th>\n      <td>4865</td>\n      <td>N36954</td>\n      <td>foodanddrink</td>\n      <td>recipes</td>\n      <td>25+ Ways To Go Gluten-Free This Holiday</td>\n      <td>There's no bland health food on this list.</td>\n      <td>https://assets.msn.com/labs/mind/AAItUdd.html</td>\n      <td>[{\"Label\": \"Gluten-free diet\", \"Type\": \"C\", \"W...</td>\n      <td>[]</td>\n    </tr>\n    <tr>\n      <th>4522</th>\n      <td>4725</td>\n      <td>N40198</td>\n      <td>video</td>\n      <td>animals</td>\n      <td>Fossils Reveal 372-Million-Year-Old Crocodile-...</td>\n      <td>Fossils reveal a 372-million-year-old crocodil...</td>\n      <td>https://assets.msn.com/labs/mind/AAJgh4p.html</td>\n      <td>[{\"Label\": \"Reveal (R.E.M. album)\", \"Type\": \"W...</td>\n      <td>[]</td>\n    </tr>\n  </tbody>\n</table>\n<p>75 rows × 9 columns</p>\n</div>"
     },
     "execution_count": 189,
     "metadata": {},
     "output_type": "execute_result"
    }
   ],
   "source": [
    "filtered_news = pd.DataFrame(columns=news.columns)\n",
    "for recommended_indices_arr in recommendations_df[0]:\n",
    "    for recommended_index in recommended_indices_arr:\n",
    "        recommended_item_row = news.loc[news['news_id'] == recommended_index]\n",
    "        filtered_news = pd.concat([filtered_news, recommended_item_row])\n",
    "filtered_news"
   ],
   "metadata": {
    "collapsed": false,
    "ExecuteTime": {
     "end_time": "2023-10-15T15:16:28.697265500Z",
     "start_time": "2023-10-15T15:16:28.353991600Z"
    }
   }
  },
  {
   "cell_type": "markdown",
   "id": "2e38faaa",
   "metadata": {},
   "source": [
    "## Grouping"
   ]
  },
  {
   "cell_type": "code",
   "execution_count": 141,
   "id": "9a24d20d",
   "metadata": {
    "ExecuteTime": {
     "end_time": "2023-10-15T13:53:39.805392300Z",
     "start_time": "2023-10-15T13:53:39.743530800Z"
    }
   },
   "outputs": [],
   "source": [
    "survey_groups = {\n",
    "    'Group 1': ['A', 'C', 'E', 'G', 'I'],\n",
    "    'Group 2': ['B', 'D', 'F', 'H', 'J'],\n",
    "    'Group 3': ['K', 'L', 'O', 'A', 'B'],\n",
    "    'Group 4': ['M', 'N', 'K', 'F', 'I']\n",
    "}"
   ]
  },
  {
   "cell_type": "code",
   "execution_count": 142,
   "id": "cac8f5cf",
   "metadata": {
    "ExecuteTime": {
     "end_time": "2023-10-15T13:53:40.480028200Z",
     "start_time": "2023-10-15T13:53:40.429191700Z"
    }
   },
   "outputs": [],
   "source": [
    "all_clicks = survey_interactions_encoded.reset_index()"
   ]
  },
  {
   "cell_type": "code",
   "execution_count": 143,
   "id": "4e656e30",
   "metadata": {
    "ExecuteTime": {
     "end_time": "2023-10-15T13:53:41.033115200Z",
     "start_time": "2023-10-15T13:53:41.001200500Z"
    }
   },
   "outputs": [
    {
     "data": {
      "text/plain": "         index   user  item  rating\n0            0  14904   760     1.0\n1            1   1818  1195     1.0\n2            2   1818  2576     1.0\n3            3   7903  4833     1.0\n4            4  14527  5728     1.0\n...        ...    ...   ...     ...\n155631  155631     14  3230     1.0\n155632  155632     14  4978     1.0\n155633  155633     14  5454     1.0\n155634  155634     14   355     1.0\n155635  155635     14    98     1.0\n\n[155636 rows x 4 columns]",
      "text/html": "<div>\n<style scoped>\n    .dataframe tbody tr th:only-of-type {\n        vertical-align: middle;\n    }\n\n    .dataframe tbody tr th {\n        vertical-align: top;\n    }\n\n    .dataframe thead th {\n        text-align: right;\n    }\n</style>\n<table border=\"1\" class=\"dataframe\">\n  <thead>\n    <tr style=\"text-align: right;\">\n      <th></th>\n      <th>index</th>\n      <th>user</th>\n      <th>item</th>\n      <th>rating</th>\n    </tr>\n  </thead>\n  <tbody>\n    <tr>\n      <th>0</th>\n      <td>0</td>\n      <td>14904</td>\n      <td>760</td>\n      <td>1.0</td>\n    </tr>\n    <tr>\n      <th>1</th>\n      <td>1</td>\n      <td>1818</td>\n      <td>1195</td>\n      <td>1.0</td>\n    </tr>\n    <tr>\n      <th>2</th>\n      <td>2</td>\n      <td>1818</td>\n      <td>2576</td>\n      <td>1.0</td>\n    </tr>\n    <tr>\n      <th>3</th>\n      <td>3</td>\n      <td>7903</td>\n      <td>4833</td>\n      <td>1.0</td>\n    </tr>\n    <tr>\n      <th>4</th>\n      <td>4</td>\n      <td>14527</td>\n      <td>5728</td>\n      <td>1.0</td>\n    </tr>\n    <tr>\n      <th>...</th>\n      <td>...</td>\n      <td>...</td>\n      <td>...</td>\n      <td>...</td>\n    </tr>\n    <tr>\n      <th>155631</th>\n      <td>155631</td>\n      <td>14</td>\n      <td>3230</td>\n      <td>1.0</td>\n    </tr>\n    <tr>\n      <th>155632</th>\n      <td>155632</td>\n      <td>14</td>\n      <td>4978</td>\n      <td>1.0</td>\n    </tr>\n    <tr>\n      <th>155633</th>\n      <td>155633</td>\n      <td>14</td>\n      <td>5454</td>\n      <td>1.0</td>\n    </tr>\n    <tr>\n      <th>155634</th>\n      <td>155634</td>\n      <td>14</td>\n      <td>355</td>\n      <td>1.0</td>\n    </tr>\n    <tr>\n      <th>155635</th>\n      <td>155635</td>\n      <td>14</td>\n      <td>98</td>\n      <td>1.0</td>\n    </tr>\n  </tbody>\n</table>\n<p>155636 rows × 4 columns</p>\n</div>"
     },
     "execution_count": 143,
     "metadata": {},
     "output_type": "execute_result"
    }
   ],
   "source": [
    "all_clicks"
   ]
  },
  {
   "cell_type": "code",
   "execution_count": 144,
   "id": "ccbbc21f",
   "metadata": {
    "ExecuteTime": {
     "end_time": "2023-10-15T13:53:45.491623400Z",
     "start_time": "2023-10-15T13:53:41.995971800Z"
    }
   },
   "outputs": [
    {
     "data": {
      "text/plain": "<lenskit.algorithms.als.ImplicitMF at 0x21056d733d0>"
     },
     "execution_count": 144,
     "metadata": {},
     "output_type": "execute_result"
    }
   ],
   "source": [
    "# Create an implicit feedback model with 50 features and 20 iterations\n",
    "model = ImplicitMF(features=50, iterations=20, reg=0.1)\n",
    "\n",
    "# Train the model\n",
    "model.fit(all_clicks)"
   ]
  },
  {
   "cell_type": "code",
   "execution_count": 145,
   "id": "875030da",
   "metadata": {
    "ExecuteTime": {
     "end_time": "2023-10-15T13:53:46.145069800Z",
     "start_time": "2023-10-15T13:53:46.099165700Z"
    }
   },
   "outputs": [],
   "source": [
    "all_items = survey_interactions_encoded.item.unique().tolist()\n",
    "survey_groups_recommendations = {}\n",
    "explanations = []"
   ]
  },
  {
   "cell_type": "code",
   "execution_count": 146,
   "id": "2d157e66",
   "metadata": {
    "ExecuteTime": {
     "end_time": "2023-10-15T13:53:47.130005300Z",
     "start_time": "2023-10-15T13:53:46.793905Z"
    }
   },
   "outputs": [],
   "source": [
    "for group_name, group in survey_groups.items():\n",
    "    top_10_group_recs = group_recommendations(group, model, all_items, all_clicks)\n",
    "    explanations.append(explain_group_recs(group, news, top_10_group_recs.index))\n",
    "    survey_groups_recommendations[group_name] = top_10_group_recs"
   ]
  },
  {
   "cell_type": "code",
   "execution_count": 147,
   "id": "3ab5439e",
   "metadata": {
    "ExecuteTime": {
     "end_time": "2023-10-15T13:53:47.691865600Z",
     "start_time": "2023-10-15T13:53:47.662942700Z"
    }
   },
   "outputs": [
    {
     "name": "stdout",
     "output_type": "stream",
     "text": [
      "Group 1\n",
      "N59981    4.067606\n",
      "N9720     3.986287\n",
      "N36545    3.544328\n",
      "N45509    3.498678\n",
      "N60872    3.400545\n",
      "N45270    3.339858\n",
      "N30867    3.198268\n",
      "N10470    3.174837\n",
      "N13259    3.102246\n",
      "N26025    3.078655\n",
      "dtype: float64\n",
      "Group 2\n",
      "N59981    4.426622\n",
      "N9720     4.315308\n",
      "N45509    3.911443\n",
      "N36545    3.846512\n",
      "N60872    3.718481\n",
      "N45270    3.645488\n",
      "N13259    3.372795\n",
      "N26025    3.329758\n",
      "N3344     3.303623\n",
      "N14780    3.228338\n",
      "dtype: float64\n",
      "Group 3\n",
      "N59981    3.841956\n",
      "N9720     3.748571\n",
      "N45509    3.351378\n",
      "N36545    3.337310\n",
      "N60872    3.216385\n",
      "N45270    3.157890\n",
      "N62996    3.007842\n",
      "N13259    2.924668\n",
      "N26025    2.896792\n",
      "N3344     2.860540\n",
      "dtype: float64\n",
      "Group 4\n",
      "N59981    4.064218\n",
      "N9720     3.956735\n",
      "N45509    3.546237\n",
      "N36545    3.524302\n",
      "N60872    3.397343\n",
      "N45270    3.335863\n",
      "N11200    3.193473\n",
      "N13259    3.088447\n",
      "N26025    3.063222\n",
      "N3344     3.019015\n",
      "dtype: float64\n"
     ]
    }
   ],
   "source": [
    "for group_name, recommendations in survey_groups_recommendations.items():\n",
    "    print(group_name)\n",
    "    print(recommendations)"
   ]
  },
  {
   "cell_type": "code",
   "execution_count": 148,
   "id": "61d8507c",
   "metadata": {
    "ExecuteTime": {
     "end_time": "2023-10-15T13:53:48.636813200Z",
     "start_time": "2023-10-15T13:53:48.598915100Z"
    }
   },
   "outputs": [
    {
     "name": "stdout",
     "output_type": "stream",
     "text": [
      "{\n",
      "\"N59981\": \"Recommended because users ['A', 'C', 'E', 'G', 'I'] showed a high average preference score for tvnews.\",\n",
      "\"N9720\": \"Recommended because users ['A', 'C', 'E', 'G', 'I'] showed a high average preference score for lifestylecelebstyle.\",\n",
      "\"N36545\": \"Recommended because users ['A', 'C', 'E', 'G', 'I'] showed a high average preference score for tv-celebrity.\",\n",
      "\"N45509\": \"Recommended because users ['A', 'C', 'E', 'G', 'I'] showed a high average preference score for foodnews.\",\n",
      "\"N60872\": \"Recommended because users ['A', 'C', 'E', 'G', 'I'] showed a high average preference score for newsus.\",\n",
      "\"N45270\": \"Recommended because users ['A', 'C', 'E', 'G', 'I'] showed a high average preference score for newsworld.\",\n",
      "\"N30867\": \"Recommended because users ['A', 'C', 'E', 'G', 'I'] showed a high average preference score for causes-environment.\",\n",
      "\"N10470\": \"Recommended because users ['A', 'C', 'E', 'G', 'I'] showed a high average preference score for tv-reviews.\",\n",
      "\"N13259\": \"Recommended because users ['A', 'C', 'E', 'G', 'I'] showed a high average preference score for lifestyleroyals.\",\n",
      "\"N26025\": \"Recommended because users ['A', 'C', 'E', 'G', 'I'] showed a high average preference score for newspolitics.\"\n",
      "}\n",
      "\n",
      "\n",
      "{\n",
      "\"N59981\": \"Recommended because users ['B', 'D', 'F', 'H', 'J'] showed a high average preference score for tvnews.\",\n",
      "\"N9720\": \"Recommended because users ['B', 'D', 'F', 'H', 'J'] showed a high average preference score for lifestylecelebstyle.\",\n",
      "\"N45509\": \"Recommended because users ['B', 'D', 'F', 'H', 'J'] showed a high average preference score for foodnews.\",\n",
      "\"N36545\": \"Recommended because users ['B', 'D', 'F', 'H', 'J'] showed a high average preference score for tv-celebrity.\",\n",
      "\"N60872\": \"Recommended because users ['B', 'D', 'F', 'H', 'J'] showed a high average preference score for newsus.\",\n",
      "\"N45270\": \"Recommended because users ['B', 'D', 'F', 'H', 'J'] showed a high average preference score for newsworld.\",\n",
      "\"N13259\": \"Recommended because users ['B', 'D', 'F', 'H', 'J'] showed a high average preference score for lifestyleroyals.\",\n",
      "\"N26025\": \"Recommended because users ['B', 'D', 'F', 'H', 'J'] showed a high average preference score for newspolitics.\",\n",
      "\"N3344\": \"Recommended because users ['B', 'D', 'F', 'H', 'J'] showed a high average preference score for cma-awards.\",\n",
      "\"N14780\": \"Recommended because users ['B', 'D', 'F', 'H', 'J'] showed a high average preference score for tv-celebrity.\"\n",
      "}\n",
      "\n",
      "\n",
      "{\n",
      "\"N59981\": \"Recommended because users ['K', 'L', 'O', 'A', 'B'] showed a high average preference score for tvnews.\",\n",
      "\"N9720\": \"Recommended because users ['K', 'L', 'O', 'A', 'B'] showed a high average preference score for lifestylecelebstyle.\",\n",
      "\"N45509\": \"Recommended because users ['K', 'L', 'O', 'A', 'B'] showed a high average preference score for foodnews.\",\n",
      "\"N36545\": \"Recommended because users ['K', 'L', 'O', 'A', 'B'] showed a high average preference score for tv-celebrity.\",\n",
      "\"N60872\": \"Recommended because users ['K', 'L', 'O', 'A', 'B'] showed a high average preference score for newsus.\",\n",
      "\"N45270\": \"Recommended because users ['K', 'L', 'O', 'A', 'B'] showed a high average preference score for newsworld.\",\n",
      "\"N62996\": \"Recommended because users ['K', 'L', 'O', 'A', 'B'] showed a high average preference score for healthnews.\",\n",
      "\"N13259\": \"Recommended because users ['K', 'L', 'O', 'A', 'B'] showed a high average preference score for lifestyleroyals.\",\n",
      "\"N26025\": \"Recommended because users ['K', 'L', 'O', 'A', 'B'] showed a high average preference score for newspolitics.\",\n",
      "\"N3344\": \"Recommended because users ['K', 'L', 'O', 'A', 'B'] showed a high average preference score for cma-awards.\"\n",
      "}\n",
      "\n",
      "\n",
      "{\n",
      "\"N59981\": \"Recommended because users ['M', 'N', 'K', 'F', 'I'] showed a high average preference score for tvnews.\",\n",
      "\"N9720\": \"Recommended because users ['M', 'N', 'K', 'F', 'I'] showed a high average preference score for lifestylecelebstyle.\",\n",
      "\"N45509\": \"Recommended because users ['M', 'N', 'K', 'F', 'I'] showed a high average preference score for foodnews.\",\n",
      "\"N36545\": \"Recommended because users ['M', 'N', 'K', 'F', 'I'] showed a high average preference score for tv-celebrity.\",\n",
      "\"N60872\": \"Recommended because users ['M', 'N', 'K', 'F', 'I'] showed a high average preference score for newsus.\",\n",
      "\"N45270\": \"Recommended because users ['M', 'N', 'K', 'F', 'I'] showed a high average preference score for newsworld.\",\n",
      "\"N11200\": \"Recommended because users ['M', 'N', 'K', 'F', 'I'] showed a high average preference score for tv-reviews.\",\n",
      "\"N13259\": \"Recommended because users ['M', 'N', 'K', 'F', 'I'] showed a high average preference score for lifestyleroyals.\",\n",
      "\"N26025\": \"Recommended because users ['M', 'N', 'K', 'F', 'I'] showed a high average preference score for newspolitics.\",\n",
      "\"N3344\": \"Recommended because users ['M', 'N', 'K', 'F', 'I'] showed a high average preference score for cma-awards.\"\n",
      "}\n",
      "\n",
      "\n"
     ]
    }
   ],
   "source": [
    "for explanation in explanations:\n",
    "    pretty_string = json.dumps(explanation, indent=0)\n",
    "    print(f\"{pretty_string}\\n\\n\")"
   ]
  },
  {
   "cell_type": "code",
   "execution_count": null,
   "id": "3353a28e",
   "metadata": {},
   "outputs": [],
   "source": []
  }
 ],
 "metadata": {
  "kernelspec": {
   "display_name": "Python 3 (ipykernel)",
   "language": "python",
   "name": "python3"
  },
  "language_info": {
   "codemirror_mode": {
    "name": "ipython",
    "version": 3
   },
   "file_extension": ".py",
   "mimetype": "text/x-python",
   "name": "python",
   "nbconvert_exporter": "python",
   "pygments_lexer": "ipython3",
   "version": "3.8.16"
  }
 },
 "nbformat": 4,
 "nbformat_minor": 5
}

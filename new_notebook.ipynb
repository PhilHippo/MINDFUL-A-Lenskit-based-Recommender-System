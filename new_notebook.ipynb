{
  "cells": [
    {
      "cell_type": "code",
      "execution_count": 1,
      "id": "5d800cf5",
      "metadata": {
        "id": "5d800cf5"
      },
      "outputs": [],
      "source": [
        "import pandas as pd\n",
        "import numpy as np\n",
        "from scipy.sparse import coo_matrix\n",
        "from sklearn.feature_extraction.text import TfidfVectorizer\n",
        "from lenskit.algorithms.user_knn import UserUser\n",
        "from lenskit import batch\n",
        "from annoy import AnnoyIndex"
      ]
    },
    {
      "cell_type": "code",
      "execution_count": 2,
      "id": "4d712341",
      "metadata": {
        "colab": {
          "base_uri": "https://localhost:8080/"
        },
        "id": "4d712341",
        "outputId": "2a0470d8-5030-4945-e64e-1bf7b65ab567"
      },
      "outputs": [
        {
          "output_type": "stream",
          "name": "stdout",
          "text": [
            "Total number of news items: 48616\n",
            "Number of unique clicked news: 7307\n",
            "Number of unique users: 49445\n"
          ]
        }
      ],
      "source": [
        "# Load data\n",
        "behaviors = pd.read_csv('./small_training_data/behaviors.tsv', delimiter='\\t', header=None)\n",
        "news = pd.read_csv('./small_training_data/news.tsv', delimiter='\\t', header=None)\n",
        "\n",
        "# Naming columns\n",
        "behaviors.columns = [\"impression_id\", \"user_id\", \"time\", \"history\", \"impressions\"]\n",
        "news.columns = [\"news_id\", \"category\", \"subcategory\", \"title\", \"abstract\", \"url\", \"title_entities\", \"abstract_entities\"]\n",
        "\n",
        "# Remove NaN values in the 'abstract' column\n",
        "news = news.dropna(subset=['abstract'])\n",
        "\n",
        "# Extracting clicked news from behaviors, this is a column of lists of the clicked news (tagget with 1) for each impression\n",
        "behaviors['clicked_news'] = behaviors['impressions'].apply(lambda x: [imp.split('-')[0] for imp in x.split() if imp.split('-')[1] == '1'])\n",
        "\n",
        "# Flattening the clicked news and associating with user_id, that means we divide the lists into one row for each clicked news\n",
        "clicked_news = behaviors.explode('clicked_news')[['user_id', 'clicked_news']].dropna()\n",
        "\n",
        "# Remove clicked news that were removed from the news DataFrame\n",
        "valid_news_ids = set(news['news_id'])\n",
        "# Remove clicked news that were removed from the news DataFrame\n",
        "valid_news_ids = set(news['news_id'])\n",
        "clicked_news = clicked_news[clicked_news['clicked_news'].isin(valid_news_ids)].copy()\n",
        "\n",
        "# Encoding user_id and news_id as categorical variables for memory and computation efficiency\n",
        "clicked_news['user_id'] = clicked_news['user_id'].astype(\"category\")\n",
        "clicked_news['clicked_news'] = clicked_news['clicked_news'].astype(\"category\")\n",
        "\n",
        "print(f\"Total number of news items: {news.shape[0]}\") #48616 unique news\n",
        "print(f\"Number of unique clicked news: {clicked_news['clicked_news'].nunique()}\") #7307 unique news have been clicked\n",
        "print(f\"Number of unique users: {clicked_news['user_id'].nunique()}\")"
      ]
    },
    {
      "cell_type": "code",
      "execution_count": 3,
      "id": "721d0b41",
      "metadata": {
        "id": "721d0b41"
      },
      "outputs": [],
      "source": [
        "# Ensure 'user_id' and 'news_id' are strings\n",
        "clicked_news['user_id'] = clicked_news['user_id'].astype(str)\n",
        "clicked_news['clicked_news'] = clicked_news['clicked_news'].astype(str)\n",
        "\n",
        "# Rename 'clicked_news' column to 'news_id'\n",
        "clicked_news = clicked_news.rename(columns={'clicked_news': 'news_id'})"
      ]
    },
    {
      "cell_type": "code",
      "execution_count": 4,
      "id": "2ddcbb81",
      "metadata": {
        "id": "2ddcbb81"
      },
      "outputs": [],
      "source": [
        "# Ensure 'user_id' and 'news_id' are categorical and encode them as integer codes\n",
        "clicked_news['user_id'] = clicked_news['user_id'].astype(\"category\").cat.codes\n",
        "clicked_news['news_id'] = clicked_news['news_id'].astype(\"category\").cat.codes"
      ]
    },
    {
      "cell_type": "code",
      "execution_count": 5,
      "id": "dfb559b9",
      "metadata": {
        "id": "dfb559b9"
      },
      "outputs": [],
      "source": [
        "# Creating mappings from encoded IDs to original IDs\n",
        "id_to_user = dict(enumerate(clicked_news['user_id'].astype(\"category\").cat.categories))\n",
        "id_to_news = dict(enumerate(clicked_news['news_id'].astype(\"category\").cat.categories))\n",
        "\n",
        "# Creating reverse mappings from original IDs to encoded IDs\n",
        "user_to_id = {v: k for k, v in id_to_user.items()}\n",
        "news_to_id = {v: k for k, v in id_to_news.items()}"
      ]
    },
    {
      "cell_type": "code",
      "execution_count": 6,
      "id": "5f3a2188",
      "metadata": {
        "colab": {
          "base_uri": "https://localhost:8080/"
        },
        "id": "5f3a2188",
        "outputId": "1ad98875-9d95-4740-f3f7-ca979e305469"
      },
      "outputs": [
        {
          "output_type": "stream",
          "name": "stdout",
          "text": [
            "users: 49445 \n",
            "items: 7307\n"
          ]
        }
      ],
      "source": [
        "# Create a sparse user-item interaction matrix\n",
        "interaction_matrix = coo_matrix((np.ones(clicked_news.shape[0]),\n",
        "                                 (clicked_news['user_id'], clicked_news['news_id'])))\n",
        "\n",
        "print(f\"users: {interaction_matrix.shape[0]} \\nitems: {interaction_matrix.shape[1]}\")"
      ]
    },
    {
      "cell_type": "code",
      "source": [
        "interaction_matrix_csr = interaction_matrix.tocsr()"
      ],
      "metadata": {
        "id": "-GmRETVNBh-g"
      },
      "id": "-GmRETVNBh-g",
      "execution_count": 7,
      "outputs": []
    },
    {
      "cell_type": "code",
      "source": [
        "clicked_news_lenskit = clicked_news.rename(columns={'user_id': 'user', 'news_id': 'item'})\n",
        "\n",
        "clicked_news_lenskit['user'] = clicked_news_lenskit['user'].astype(int)\n",
        "clicked_news_lenskit['item'] = clicked_news_lenskit['item'].astype(int)"
      ],
      "metadata": {
        "id": "bRWPvWPvDPjZ"
      },
      "id": "bRWPvWPvDPjZ",
      "execution_count": 8,
      "outputs": []
    },
    {
      "cell_type": "code",
      "source": [
        "duplicates = clicked_news_lenskit.duplicated(subset=['user', 'item'])\n",
        "print(f\"Number of duplicate entries: {duplicates.sum()}\")"
      ],
      "metadata": {
        "id": "iAJX8ErsTOpj"
      },
      "id": "iAJX8ErsTOpj",
      "execution_count": 11,
      "outputs": []
    },
    {
      "cell_type": "code",
      "source": [
        "# Step 1: Train User-User Collaborative Filtering Model\n",
        "user_user = UserUser(15, min_nbrs=3)  # 15 neighbors, minimum 3 neighbors for prediction\n",
        "user_user.fit(clicked_news_lenskit)"
      ],
      "metadata": {
        "colab": {
          "base_uri": "https://localhost:8080/",
          "height": 355
        },
        "id": "F75HqpP2CMyA",
        "outputId": "49249d73-4c9e-45a1-e8f7-9df408d18966"
      },
      "id": "F75HqpP2CMyA",
      "execution_count": 13,
      "outputs": [
        {
          "output_type": "error",
          "ename": "AttributeError",
          "evalue": "ignored",
          "traceback": [
            "\u001b[0;31m---------------------------------------------------------------------------\u001b[0m",
            "\u001b[0;31mAttributeError\u001b[0m                            Traceback (most recent call last)",
            "\u001b[0;32m<ipython-input-13-c81eb8da4ca1>\u001b[0m in \u001b[0;36m<cell line: 3>\u001b[0;34m()\u001b[0m\n\u001b[1;32m      1\u001b[0m \u001b[0;31m# Step 1: Train User-User Collaborative Filtering Model\u001b[0m\u001b[0;34m\u001b[0m\u001b[0;34m\u001b[0m\u001b[0m\n\u001b[1;32m      2\u001b[0m \u001b[0muser_user\u001b[0m \u001b[0;34m=\u001b[0m \u001b[0mUserUser\u001b[0m\u001b[0;34m(\u001b[0m\u001b[0;36m15\u001b[0m\u001b[0;34m,\u001b[0m \u001b[0mmin_nbrs\u001b[0m\u001b[0;34m=\u001b[0m\u001b[0;36m3\u001b[0m\u001b[0;34m)\u001b[0m  \u001b[0;31m# 15 neighbors, minimum 3 neighbors for prediction\u001b[0m\u001b[0;34m\u001b[0m\u001b[0;34m\u001b[0m\u001b[0m\n\u001b[0;32m----> 3\u001b[0;31m \u001b[0muser_user\u001b[0m\u001b[0;34m.\u001b[0m\u001b[0mfit\u001b[0m\u001b[0;34m(\u001b[0m\u001b[0mclicked_news_no_duplicates\u001b[0m\u001b[0;34m)\u001b[0m\u001b[0;34m\u001b[0m\u001b[0;34m\u001b[0m\u001b[0m\n\u001b[0m",
            "\u001b[0;32m/usr/local/lib/python3.10/dist-packages/lenskit/algorithms/user_knn.py\u001b[0m in \u001b[0;36mfit\u001b[0;34m(self, ratings, **kwargs)\u001b[0m\n\u001b[1;32m    171\u001b[0m         \"\"\"\n\u001b[1;32m    172\u001b[0m         \u001b[0mutil\u001b[0m\u001b[0;34m.\u001b[0m\u001b[0mcheck_env\u001b[0m\u001b[0;34m(\u001b[0m\u001b[0;34m)\u001b[0m\u001b[0;34m\u001b[0m\u001b[0;34m\u001b[0m\u001b[0m\n\u001b[0;32m--> 173\u001b[0;31m         \u001b[0muir\u001b[0m\u001b[0;34m,\u001b[0m \u001b[0musers\u001b[0m\u001b[0;34m,\u001b[0m \u001b[0mitems\u001b[0m \u001b[0;34m=\u001b[0m \u001b[0msparse_ratings\u001b[0m\u001b[0;34m(\u001b[0m\u001b[0mratings\u001b[0m\u001b[0;34m)\u001b[0m\u001b[0;34m\u001b[0m\u001b[0;34m\u001b[0m\u001b[0m\n\u001b[0m\u001b[1;32m    174\u001b[0m \u001b[0;34m\u001b[0m\u001b[0m\n\u001b[1;32m    175\u001b[0m         \u001b[0;31m# mean-center ratings\u001b[0m\u001b[0;34m\u001b[0m\u001b[0;34m\u001b[0m\u001b[0m\n",
            "\u001b[0;32m/usr/local/lib/python3.10/dist-packages/lenskit/data/matrix.py\u001b[0m in \u001b[0;36msparse_ratings\u001b[0;34m(ratings, scipy, users, items)\u001b[0m\n\u001b[1;32m     42\u001b[0m     \"\"\"\n\u001b[1;32m     43\u001b[0m     \u001b[0;32mif\u001b[0m \u001b[0musers\u001b[0m \u001b[0;32mis\u001b[0m \u001b[0;32mNone\u001b[0m\u001b[0;34m:\u001b[0m\u001b[0;34m\u001b[0m\u001b[0;34m\u001b[0m\u001b[0m\n\u001b[0;32m---> 44\u001b[0;31m         \u001b[0musers\u001b[0m \u001b[0;34m=\u001b[0m \u001b[0mpd\u001b[0m\u001b[0;34m.\u001b[0m\u001b[0mIndex\u001b[0m\u001b[0;34m(\u001b[0m\u001b[0mnp\u001b[0m\u001b[0;34m.\u001b[0m\u001b[0munique\u001b[0m\u001b[0;34m(\u001b[0m\u001b[0mratings\u001b[0m\u001b[0;34m.\u001b[0m\u001b[0muser\u001b[0m\u001b[0;34m)\u001b[0m\u001b[0;34m,\u001b[0m \u001b[0mname\u001b[0m\u001b[0;34m=\u001b[0m\u001b[0;34m'user'\u001b[0m\u001b[0;34m)\u001b[0m\u001b[0;34m\u001b[0m\u001b[0;34m\u001b[0m\u001b[0m\n\u001b[0m\u001b[1;32m     45\u001b[0m \u001b[0;34m\u001b[0m\u001b[0m\n\u001b[1;32m     46\u001b[0m     \u001b[0;32mif\u001b[0m \u001b[0mitems\u001b[0m \u001b[0;32mis\u001b[0m \u001b[0;32mNone\u001b[0m\u001b[0;34m:\u001b[0m\u001b[0;34m\u001b[0m\u001b[0;34m\u001b[0m\u001b[0m\n",
            "\u001b[0;32m/usr/local/lib/python3.10/dist-packages/pandas/core/generic.py\u001b[0m in \u001b[0;36m__getattr__\u001b[0;34m(self, name)\u001b[0m\n\u001b[1;32m   5900\u001b[0m         ):\n\u001b[1;32m   5901\u001b[0m             \u001b[0;32mreturn\u001b[0m \u001b[0mself\u001b[0m\u001b[0;34m[\u001b[0m\u001b[0mname\u001b[0m\u001b[0;34m]\u001b[0m\u001b[0;34m\u001b[0m\u001b[0;34m\u001b[0m\u001b[0m\n\u001b[0;32m-> 5902\u001b[0;31m         \u001b[0;32mreturn\u001b[0m \u001b[0mobject\u001b[0m\u001b[0;34m.\u001b[0m\u001b[0m__getattribute__\u001b[0m\u001b[0;34m(\u001b[0m\u001b[0mself\u001b[0m\u001b[0;34m,\u001b[0m \u001b[0mname\u001b[0m\u001b[0;34m)\u001b[0m\u001b[0;34m\u001b[0m\u001b[0;34m\u001b[0m\u001b[0m\n\u001b[0m\u001b[1;32m   5903\u001b[0m \u001b[0;34m\u001b[0m\u001b[0m\n\u001b[1;32m   5904\u001b[0m     \u001b[0;32mdef\u001b[0m \u001b[0m__setattr__\u001b[0m\u001b[0;34m(\u001b[0m\u001b[0mself\u001b[0m\u001b[0;34m,\u001b[0m \u001b[0mname\u001b[0m\u001b[0;34m:\u001b[0m \u001b[0mstr\u001b[0m\u001b[0;34m,\u001b[0m \u001b[0mvalue\u001b[0m\u001b[0;34m)\u001b[0m \u001b[0;34m->\u001b[0m \u001b[0;32mNone\u001b[0m\u001b[0;34m:\u001b[0m\u001b[0;34m\u001b[0m\u001b[0;34m\u001b[0m\u001b[0m\n",
            "\u001b[0;31mAttributeError\u001b[0m: 'DataFrame' object has no attribute 'user'"
          ]
        }
      ]
    },
    {
      "cell_type": "code",
      "source": [
        "# Step 2: Train Item-Item Collaborative Filtering Model\n",
        "item_item = ItemItem(15, min_nbrs=3)  # 15 neighbors, minimum 3 neighbors for prediction\n",
        "item_item.fit(clicked_news.rename(columns={'user_id': 'user', 'news_id': 'item'}))"
      ],
      "metadata": {
        "id": "_lSan5o_C4LH"
      },
      "id": "_lSan5o_C4LH",
      "execution_count": null,
      "outputs": []
    }
  ],
  "metadata": {
    "kernelspec": {
      "display_name": "myenv",
      "language": "python",
      "name": "myenv"
    },
    "language_info": {
      "codemirror_mode": {
        "name": "ipython",
        "version": 3
      },
      "file_extension": ".py",
      "mimetype": "text/x-python",
      "name": "python",
      "nbconvert_exporter": "python",
      "pygments_lexer": "ipython3",
      "version": "3.8.18"
    },
    "colab": {
      "provenance": []
    }
  },
  "nbformat": 4,
  "nbformat_minor": 5
}
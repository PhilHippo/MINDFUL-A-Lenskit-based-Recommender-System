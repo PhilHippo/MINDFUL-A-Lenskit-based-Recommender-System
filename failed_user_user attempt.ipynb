{
 "cells": [
  {
   "cell_type": "code",
   "execution_count": 1,
   "id": "0ac1d083",
   "metadata": {},
   "outputs": [],
   "source": [
    "import pandas as pd\n",
    "import numpy as np\n",
    "import matplotlib.pyplot as plt\n",
    "from scipy.sparse import coo_matrix\n",
    "from sklearn.feature_extraction.text import TfidfVectorizer\n",
    "from lenskit.algorithms.user_knn import UserUser\n",
    "\n",
    "from lenskit.batch import predict\n",
    "from lenskit import batch, topn, util\n",
    "from lenskit import crossfold as xf\n",
    "from lenskit.algorithms import Recommender, Predictor\n",
    "from lenskit.algorithms.item_knn import ItemItem\n",
    "from lenskit.algorithms.basic import Bias\n",
    "from lenskit.metrics.predict import rmse\n",
    "from sklearn.metrics.pairwise import cosine_similarity"
   ]
  },
  {
   "cell_type": "code",
   "execution_count": 2,
   "id": "54fa9c23",
   "metadata": {},
   "outputs": [],
   "source": [
    "# Load data\n",
    "behaviors = pd.read_csv('./small_training_data/behaviors.tsv', delimiter='\\t', header=None)\n",
    "news = pd.read_csv('./small_training_data/news.tsv', delimiter='\\t', header=None)\n",
    "\n",
    "# Naming columns\n",
    "behaviors.columns = [\"impression_id\", \"user_id\", \"time\", \"history\", \"impressions\"]\n",
    "news.columns = [\"news_id\", \"category\", \"subcategory\", \"title\", \"abstract\", \"url\", \"title_entities\", \"abstract_entities\"]"
   ]
  },
  {
   "cell_type": "code",
   "execution_count": 3,
   "id": "59d882b0",
   "metadata": {},
   "outputs": [],
   "source": [
    "# Remove NaN values in the 'abstract' column\n",
    "news = news.dropna(subset=['abstract'])\n",
    "\n",
    "# list of valid news (with some abstract)\n",
    "valid_news_ids = set(news['news_id'])"
   ]
  },
  {
   "cell_type": "code",
   "execution_count": 4,
   "id": "b0e14eaa",
   "metadata": {},
   "outputs": [],
   "source": [
    "# Extracting clicked news from behaviors, this is a column of lists of the clicked news (tagget with 1) for each impression\n",
    "behaviors['clicked_news'] = behaviors['impressions'].apply(lambda x: [imp.split('-')[0] for imp in x.split() if imp.split('-')[1] == '1'])"
   ]
  },
  {
   "cell_type": "code",
   "execution_count": 5,
   "id": "bf29927e",
   "metadata": {},
   "outputs": [],
   "source": [
    "#removing unused columns\n",
    "behaviors = behaviors[[\"impression_id\", \"user_id\", \"clicked_news\"]]"
   ]
  },
  {
   "cell_type": "code",
   "execution_count": 6,
   "id": "b7502179",
   "metadata": {},
   "outputs": [],
   "source": [
    "# Flattening the clicked news and associating with user_id, that means we divide the lists into one row for each clicked news\n",
    "clicked_news = behaviors.explode('clicked_news')[['user_id', 'clicked_news']]"
   ]
  },
  {
   "cell_type": "code",
   "execution_count": 7,
   "id": "00457674",
   "metadata": {},
   "outputs": [],
   "source": [
    "#remove non valid news from interactions\n",
    "clicked_news = clicked_news[clicked_news['clicked_news'].isin(valid_news_ids)]"
   ]
  },
  {
   "cell_type": "code",
   "execution_count": 8,
   "id": "a6944ad7",
   "metadata": {},
   "outputs": [],
   "source": [
    "# Filtering users with more than 4 news clicked\n",
    "clicked_news = clicked_news.groupby('user_id').filter(lambda x: len(x) > 10)"
   ]
  },
  {
   "cell_type": "code",
   "execution_count": 9,
   "id": "c58ef845",
   "metadata": {},
   "outputs": [],
   "source": [
    "# Rename 'clicked_news' column to 'news_id'\n",
    "clicked_news = clicked_news.rename(columns={'clicked_news': 'news_id'})"
   ]
  },
  {
   "cell_type": "code",
   "execution_count": 10,
   "id": "f7a4cd94",
   "metadata": {},
   "outputs": [
    {
     "name": "stdout",
     "output_type": "stream",
     "text": [
      "Number of unique clicked news: 5213\n",
      "Number of unique users:        4615 \n",
      "\n"
     ]
    }
   ],
   "source": [
    "print(f\"Number of unique clicked news: {clicked_news['news_id'].nunique()}\")\n",
    "print(f\"Number of unique users:        {clicked_news['user_id'].nunique()} \\n\")"
   ]
  },
  {
   "cell_type": "markdown",
   "id": "a142f1ee",
   "metadata": {},
   "source": [
    "## in the cell below we create mappings from real id's to indexes, and create clicked_news_encoded"
   ]
  },
  {
   "cell_type": "code",
   "execution_count": 11,
   "id": "2e6be410",
   "metadata": {},
   "outputs": [],
   "source": [
    "# Create categorical types without encoding them yet\n",
    "clicked_news['user_id_cat'] = clicked_news['user_id'].astype(\"category\")\n",
    "clicked_news['news_id_cat'] = clicked_news['news_id'].astype(\"category\")\n",
    "\n",
    "# Creating mappings from original IDs to encoded IDs\n",
    "id_to_user = dict(enumerate(clicked_news['user_id_cat'].cat.categories))\n",
    "id_to_news = dict(enumerate(clicked_news['news_id_cat'].cat.categories))\n",
    "\n",
    "# Convert categories to codes (integer encoding)\n",
    "clicked_news_encoded = pd.DataFrame(columns=['user', 'item'])\n",
    "clicked_news_encoded['user'] = clicked_news['user_id_cat'].cat.codes\n",
    "clicked_news_encoded['item'] = clicked_news['news_id_cat'].cat.codes\n",
    "\n",
    "# Drop the additional categorical columns if they are not needed\n",
    "clicked_news = clicked_news.drop(columns=['user_id_cat', 'news_id_cat'])\n",
    "\n",
    "# Creating reverse mappings from original IDs to encoded IDs\n",
    "user_to_id = {v: k for k, v in id_to_user.items()}\n",
    "news_to_id = {v: k for k, v in id_to_news.items()}"
   ]
  },
  {
   "cell_type": "code",
   "execution_count": 12,
   "id": "fb36abdf",
   "metadata": {},
   "outputs": [
    {
     "name": "stdout",
     "output_type": "stream",
     "text": [
      "users: 4615 \n",
      "items: 5213\n"
     ]
    }
   ],
   "source": [
    "# Create a sparse user-item interaction matrix\n",
    "interaction_matrix = coo_matrix((np.ones(clicked_news.shape[0]),\n",
    "                                 (clicked_news_encoded['user'], clicked_news_encoded['item'])))\n",
    "\n",
    "print(f\"users: {interaction_matrix.shape[0]} \\nitems: {interaction_matrix.shape[1]}\")"
   ]
  },
  {
   "cell_type": "code",
   "execution_count": 13,
   "id": "76c3cf3c",
   "metadata": {},
   "outputs": [],
   "source": [
    "#transform into compressed sparse row\n",
    "interaction_matrix_csr = interaction_matrix.tocsr()"
   ]
  },
  {
   "cell_type": "code",
   "execution_count": 14,
   "id": "946ce888",
   "metadata": {},
   "outputs": [],
   "source": [
    "clicked_news_encoded['rating'] = np.ones(len(clicked_news_encoded))"
   ]
  },
  {
   "cell_type": "code",
   "execution_count": 15,
   "id": "31f07cc1",
   "metadata": {},
   "outputs": [
    {
     "name": "stdout",
     "output_type": "stream",
     "text": [
      "        user  item  rating\n",
      "1       4459   589     1.0\n",
      "5        516   942     1.0\n",
      "5        516  2041     1.0\n",
      "10      4340  4557     1.0\n",
      "10      4340  1172     1.0\n",
      "...      ...   ...     ...\n",
      "156963  1854   997     1.0\n",
      "156963  1854  3515     1.0\n",
      "156963  1854  2314     1.0\n",
      "156963  1854   715     1.0\n",
      "156963  1854   893     1.0\n",
      "\n",
      "[82698 rows x 3 columns]\n"
     ]
    }
   ],
   "source": [
    "print(clicked_news_encoded)"
   ]
  },
  {
   "cell_type": "code",
   "execution_count": 16,
   "id": "bb7e77e3",
   "metadata": {},
   "outputs": [
    {
     "name": "stderr",
     "output_type": "stream",
     "text": [
      "could not load LIBBLAS: Could not find module 'libblas' (or one of its dependencies). Try using the full path with constructor syntax.\n"
     ]
    },
    {
     "data": {
      "text/plain": [
       "<lenskit.algorithms.user_knn.UserUser at 0x15c3b841b80>"
      ]
     },
     "execution_count": 16,
     "metadata": {},
     "output_type": "execute_result"
    }
   ],
   "source": [
    "# Train User-User Collaborative Filtering Model\n",
    "user_user = UserUser(15, min_nbrs= 3)  # 15 neighbors, minimum 3 neighbors for prediction\n",
    "user_user.fit(clicked_news_encoded)"
   ]
  },
  {
   "cell_type": "code",
   "execution_count": 17,
   "id": "a2e77a1c",
   "metadata": {},
   "outputs": [],
   "source": [
    "def recommend_user_user (user_id, user_user = user_user, clicked_news = clicked_news_encoded, n=10):\n",
    "    \"\"\"\n",
    "    Recommend top-N items for a user using the UserUser collaborative filtering model.\n",
    "    \n",
    "    Parameters:\n",
    "    - user_user: Trained UserUser collaborative filtering model.\n",
    "    - user_id: The internal ID of the user for whom to generate recommendations.\n",
    "    - all_item_ids: List of all possible item IDs to consider for recommendation.\n",
    "    - n: Number of recommendations to generate.\n",
    "    \n",
    "    Returns:\n",
    "    A DataFrame containing the top-N recommended items and their predicted ratings.\n",
    "    \"\"\"\n",
    "    \n",
    "    all_item_ids = clicked_news['item'].unique()\n",
    "    \n",
    "    user_item_df = pd.DataFrame({\n",
    "    'user': [user_id] * len(all_item_ids),\n",
    "    'item': all_item_ids\n",
    "    })\n",
    "    \n",
    "    # Predict ratings for all user-item pairs\n",
    "    all_predictions = predict(user_user, user_item_df)\n",
    "    \n",
    "    # Select top-N items\n",
    "    top_items = all_predictions.nlargest(10, 'prediction')\n",
    "    \n",
    "    return top_items"
   ]
  },
  {
   "cell_type": "code",
   "execution_count": 18,
   "id": "b454c5d5",
   "metadata": {},
   "outputs": [
    {
     "name": "stdout",
     "output_type": "stream",
     "text": [
      "useruser recommendations\n",
      "     user  item  prediction\n",
      "0  U53220   589         NaN\n",
      "1  U53220   942         NaN\n",
      "2  U53220  2041         NaN\n",
      "3  U53220  4557         NaN\n",
      "4  U53220  1172         NaN\n",
      "5  U53220  4039         NaN\n",
      "6  U53220  5075         NaN\n",
      "7  U53220   793         NaN\n",
      "8  U53220  2248         NaN\n",
      "9  U53220  3983         NaN\n"
     ]
    }
   ],
   "source": [
    "recommended_items_user_user = recommend_user_user('U53220', n = 100)  # requesting more to ensure we have enough after merging\n",
    "\n",
    "print(f\"useruser recommendations\\n{recommended_items_user_user}\")"
   ]
  },
  {
   "cell_type": "code",
   "execution_count": null,
   "id": "3741179f",
   "metadata": {},
   "outputs": [],
   "source": []
  }
 ],
 "metadata": {
  "kernelspec": {
   "display_name": "Python 3 (ipykernel)",
   "language": "python",
   "name": "python3"
  },
  "language_info": {
   "codemirror_mode": {
    "name": "ipython",
    "version": 3
   },
   "file_extension": ".py",
   "mimetype": "text/x-python",
   "name": "python",
   "nbconvert_exporter": "python",
   "pygments_lexer": "ipython3",
   "version": "3.8.16"
  }
 },
 "nbformat": 4,
 "nbformat_minor": 5
}
